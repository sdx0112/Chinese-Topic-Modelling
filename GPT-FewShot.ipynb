{
 "cells": [
  {
   "cell_type": "markdown",
   "id": "95690757",
   "metadata": {},
   "source": [
    "# Use small manually-labeled set as examples and try few-shot of GPT model."
   ]
  },
  {
   "cell_type": "code",
   "execution_count": 36,
   "id": "48766f42",
   "metadata": {},
   "outputs": [],
   "source": [
    "from langchain.prompts.few_shot import FewShotPromptTemplate\n",
    "from langchain.prompts.prompt import PromptTemplate\n",
    "import pandas as pd\n",
    "from langchain import PromptTemplate, OpenAI, LLMChain"
   ]
  },
  {
   "cell_type": "code",
   "execution_count": 53,
   "id": "c993ce3e",
   "metadata": {},
   "outputs": [],
   "source": [
    "import re"
   ]
  },
  {
   "cell_type": "code",
   "execution_count": 10,
   "id": "a4155760",
   "metadata": {},
   "outputs": [
    {
     "data": {
      "text/plain": [
       "True"
      ]
     },
     "execution_count": 10,
     "metadata": {},
     "output_type": "execute_result"
    }
   ],
   "source": [
    "from config import *\n",
    "from dotenv import load_dotenv\n",
    "load_dotenv()"
   ]
  },
  {
   "cell_type": "code",
   "execution_count": 2,
   "id": "708d5ee6",
   "metadata": {},
   "outputs": [],
   "source": [
    "sample_label_path = 'data/labelled_sample.csv'"
   ]
  },
  {
   "cell_type": "code",
   "execution_count": 7,
   "id": "78efcf05",
   "metadata": {},
   "outputs": [],
   "source": [
    "df_sample = pd.read_csv(sample_label_path, encoding=\"GBK\")"
   ]
  },
  {
   "cell_type": "code",
   "execution_count": 8,
   "id": "9a0b170e",
   "metadata": {},
   "outputs": [
    {
     "data": {
      "text/html": [
       "<div>\n",
       "<style scoped>\n",
       "    .dataframe tbody tr th:only-of-type {\n",
       "        vertical-align: middle;\n",
       "    }\n",
       "\n",
       "    .dataframe tbody tr th {\n",
       "        vertical-align: top;\n",
       "    }\n",
       "\n",
       "    .dataframe thead th {\n",
       "        text-align: right;\n",
       "    }\n",
       "</style>\n",
       "<table border=\"1\" class=\"dataframe\">\n",
       "  <thead>\n",
       "    <tr style=\"text-align: right;\">\n",
       "      <th></th>\n",
       "      <th>CONTENT</th>\n",
       "      <th>TOPIC</th>\n",
       "    </tr>\n",
       "  </thead>\n",
       "  <tbody>\n",
       "    <tr>\n",
       "      <th>0</th>\n",
       "      <td>推进基础设施建设和区域协调发展。京津冀协同发展、长江经济带建设取得重要进展。新建铁路投产里程...</td>\n",
       "      <td>基建</td>\n",
       "    </tr>\n",
       "    <tr>\n",
       "      <th>1</th>\n",
       "      <td>七是加快建立多主体供应、多渠道保障、租购并举的住房制度。要发展住房租赁市场特别是长期租赁，保...</td>\n",
       "      <td>房地产</td>\n",
       "    </tr>\n",
       "    <tr>\n",
       "      <th>2</th>\n",
       "      <td>会议认为，坚持标准引领，建设制造强国，是结构性改革尤其是供给侧结构性改革的重要内容，有利于改...</td>\n",
       "      <td>制造业</td>\n",
       "    </tr>\n",
       "    <tr>\n",
       "      <th>3</th>\n",
       "      <td>会议指出，党的十八大以来，党中央部署推进科技评价体系改革，聚焦“四个面向”的科技成果评价导向...</td>\n",
       "      <td>科技</td>\n",
       "    </tr>\n",
       "    <tr>\n",
       "      <th>4</th>\n",
       "      <td>会议强调，完善促进消费体制机制，要顺应居民消费新趋势，从供需两端发力，积极培育重点消费领域细...</td>\n",
       "      <td>零售消费</td>\n",
       "    </tr>\n",
       "  </tbody>\n",
       "</table>\n",
       "</div>"
      ],
      "text/plain": [
       "                                             CONTENT TOPIC\n",
       "0  推进基础设施建设和区域协调发展。京津冀协同发展、长江经济带建设取得重要进展。新建铁路投产里程...    基建\n",
       "1  七是加快建立多主体供应、多渠道保障、租购并举的住房制度。要发展住房租赁市场特别是长期租赁，保...   房地产\n",
       "2  会议认为，坚持标准引领，建设制造强国，是结构性改革尤其是供给侧结构性改革的重要内容，有利于改...   制造业\n",
       "3  会议指出，党的十八大以来，党中央部署推进科技评价体系改革，聚焦“四个面向”的科技成果评价导向...    科技\n",
       "4  会议强调，完善促进消费体制机制，要顺应居民消费新趋势，从供需两端发力，积极培育重点消费领域细...  零售消费"
      ]
     },
     "execution_count": 8,
     "metadata": {},
     "output_type": "execute_result"
    }
   ],
   "source": [
    "df_sample.head()"
   ]
  },
  {
   "cell_type": "code",
   "execution_count": 41,
   "id": "18dfb003",
   "metadata": {},
   "outputs": [
    {
     "data": {
      "text/plain": [
       "(24, 2)"
      ]
     },
     "execution_count": 41,
     "metadata": {},
     "output_type": "execute_result"
    }
   ],
   "source": [
    "df_sample.shape"
   ]
  },
  {
   "cell_type": "code",
   "execution_count": 27,
   "id": "9f6aa7b8",
   "metadata": {},
   "outputs": [],
   "source": [
    "examples = [{'content':row['CONTENT'],'topic':row['TOPIC']} for index, row in df_sample.iterrows()]"
   ]
  },
  {
   "cell_type": "code",
   "execution_count": 28,
   "id": "c3089007",
   "metadata": {},
   "outputs": [
    {
     "data": {
      "text/plain": [
       "[{'content': '推进基础设施建设和区域协调发展。京津冀协同发展、长江经济带建设取得重要进展。新建铁路投产里程8427公里，高速铁路运营里程达1.6万公里，占世界的60%以上。高速公路通车里程达11.2万公里，水路、民航、管道建设进一步加强。农网改造稳步进行。宽带用户超过7.8亿户。经过多年努力，南水北调中线一期工程正式通水，惠及沿线亿万群众。',\n",
       "  'topic': '基建'},\n",
       " {'content': '七是加快建立多主体供应、多渠道保障、租购并举的住房制度。要发展住房租赁市场特别是长期租赁，保护租赁利益相关方合法权益，支持专业化、机构化住房租赁企业发展。完善促进房地产市场平稳健康发展的长效机制，保持房地产市场调控政策连续性和稳定性，分清中央和地方事权，实行差别化调控。',\n",
       "  'topic': '房地产'},\n",
       " {'content': '会议认为，坚持标准引领，建设制造强国，是结构性改革尤其是供给侧结构性改革的重要内容，有利于改善供给、扩大需求，促进产品产业迈向中高端。会议通过了《装备制造业标准化和质量提升规划》，要求对接《中国制造2025》，瞄准国际先进水平，实施工业基础和智能制造、绿色制造标准化和质量提升工程，加快关键技术标准研制，推动在机器人、先进轨道交通装备、农业机械、高性能医疗器械等重点领域标准化实现新突破，并适应创新进展和市场需求及时更新标准，力争到2020年使重点领域国际标准转化率从目前的70%以上提高到90%以上。要弘扬工匠精神，追求精益求精，生产更多有创意、品质优、受群众欢迎的产品，坚决淘汰不达标产品，提振消费者对“中国制造”的信心，支撑制造业提质增效、提升国际竞争力。',\n",
       "  'topic': '制造业'}]"
      ]
     },
     "execution_count": 28,
     "metadata": {},
     "output_type": "execute_result"
    }
   ],
   "source": [
    "examples[:3]"
   ]
  },
  {
   "cell_type": "code",
   "execution_count": 42,
   "id": "1e2af7c5",
   "metadata": {},
   "outputs": [],
   "source": [
    "pre_fix_template=\"\"\"你需要给一段文字打上话题标签。我会给你话题列表和文字内容。话题必须从给定的话题列表里选出，而且只能给一个话题。\n",
    "话题列表是：{topic_list}。\n",
    "你的回答的格式必须是：回答-话题\n",
    "请给出这段文字的话题。你的回答仅包括话题。你给出的话题必须是话题列表里面的一个，而且只能给一个话题。\"\"\".format(topic_list = ','.join(topics_pdf))"
   ]
  },
  {
   "cell_type": "code",
   "execution_count": 43,
   "id": "dd99d2dc",
   "metadata": {},
   "outputs": [
    {
     "name": "stdout",
     "output_type": "stream",
     "text": [
      "你需要给一段文字打上话题标签。我会给你话题列表和文字内容。话题必须从给定的话题列表里选出。\n",
      "话题列表是：基建,房地产,制造业,科技,零售消费,绿色发展,医药健康,教育,交通运输,出口贸易,农业农村,文化旅游,就业,民生扶贫,能源,物资储备,宏观,区域发展,企业发展,新冠疫情,地方财政,税务,国际关系,金融。\n",
      "你的回答的格式必须是：回答-话题\n",
      "请给出这段文字的话题。你的回答仅包括话题。你给出的话题必须是话题列表里面的一个。\n"
     ]
    }
   ],
   "source": [
    "print(pre_fix_template)"
   ]
  },
  {
   "cell_type": "code",
   "execution_count": 44,
   "id": "bca775cb",
   "metadata": {},
   "outputs": [],
   "source": [
    "example_prompt = PromptTemplate(input_variables=[\"content\", \"topic\"], template=\"文字内容： {content}\\n回答-话题：{topic}\")"
   ]
  },
  {
   "cell_type": "code",
   "execution_count": 35,
   "id": "3693d8c0",
   "metadata": {},
   "outputs": [
    {
     "name": "stdout",
     "output_type": "stream",
     "text": [
      "\n",
      "你需要给一段文字打上话题标签。我会给你话题列表和文字内容。话题必须从给定的话题列表里选出。\n",
      "话题列表是：基建,房地产,制造业,科技,零售消费,绿色发展,医药健康,教育,交通运输,出口贸易,农业农村,文化旅游,就业,民生扶贫,能源,物资储备,宏观,区域发展,企业发展,新冠疫情,地方财政,税务,国际关系,金融。\n",
      "你的回答的格式必须是：回答-话题\n",
      "请给出这段文字的话题。你的回答仅包括话题。你给出的话题必须是话题列表里面的一个。\n",
      "\n",
      "\n",
      "文字内容： 推进基础设施建设和区域协调发展。京津冀协同发展、长江经济带建设取得重要进展。新建铁路投产里程8427公里，高速铁路运营里程达1.6万公里，占世界的60%以上。高速公路通车里程达11.2万公里，水路、民航、管道建设进一步加强。农网改造稳步进行。宽带用户超过7.8亿户。经过多年努力，南水北调中线一期工程正式通水，惠及沿线亿万群众。\n",
      "回答-话题：基建\n",
      "\n",
      "文字内容： 七是加快建立多主体供应、多渠道保障、租购并举的住房制度。要发展住房租赁市场特别是长期租赁，保护租赁利益相关方合法权益，支持专业化、机构化住房租赁企业发展。完善促进房地产市场平稳健康发展的长效机制，保持房地产市场调控政策连续性和稳定性，分清中央和地方事权，实行差别化调控。\n",
      "回答-话题：房地产\n",
      "\n",
      "文字内容： 会议认为，坚持标准引领，建设制造强国，是结构性改革尤其是供给侧结构性改革的重要内容，有利于改善供给、扩大需求，促进产品产业迈向中高端。会议通过了《装备制造业标准化和质量提升规划》，要求对接《中国制造2025》，瞄准国际先进水平，实施工业基础和智能制造、绿色制造标准化和质量提升工程，加快关键技术标准研制，推动在机器人、先进轨道交通装备、农业机械、高性能医疗器械等重点领域标准化实现新突破，并适应创新进展和市场需求及时更新标准，力争到2020年使重点领域国际标准转化率从目前的70%以上提高到90%以上。要弘扬工匠精神，追求精益求精，生产更多有创意、品质优、受群众欢迎的产品，坚决淘汰不达标产品，提振消费者对“中国制造”的信心，支撑制造业提质增效、提升国际竞争力。\n",
      "回答-话题：制造业\n",
      "\n",
      "文字内容： 会议指出，党的十八大以来，党中央部署推进科技评价体系改革，聚焦“四个面向”的科技成果评价导向逐步确立，激励创新的环境正在形成，带动我国科技创新能力明显提升。同时，分类的科技成果评价体系尚未建立，指标单一化、标准定量化、结果功利化问题还不同程度存在。\n",
      "回答-话题：科技\n",
      "\n",
      "文字内容： 会议强调，完善促进消费体制机制，要顺应居民消费新趋势，从供需两端发力，积极培育重点消费领域细分市场，营造安全放心消费环境，提升居民消费能力，引导形成合理消费预期，切实增强消费对经济发展的基础性作用。\n",
      "回答-话题：零售消费\n",
      "\n",
      "文字内容： 丰富人民群众精神文化生活。培育和践行社会主义核心价值观。深化群众性精神文明创建。发展新闻出版、广播影视、文学艺术、哲学社会科学和档案等事业，加强智库建设。扎实推进媒体深度融合。提升国际传播效能。加强和创新互联网内容建设。弘扬中华优秀传统文化，加强文物和文化遗产保护传承。实施文化惠民工程，公共图书馆、博物馆、美术馆、文化馆站向社会免费开放。深入推进全民阅读。支持文化产业发展。加强国家科普能力建设。体育健儿勇创佳绩，全民健身广泛开展。\n"
     ]
    }
   ],
   "source": [
    "prompt = FewShotPromptTemplate(\n",
    "    examples=examples[:5], \n",
    "    example_prompt=example_prompt, \n",
    "    prefix=pre_fix_template,\n",
    "    suffix=\"文字内容： {content}\", \n",
    "    input_variables=['content']\n",
    ")\n",
    "\n",
    "print(prompt.format(content=examples[11]['content']))"
   ]
  },
  {
   "cell_type": "code",
   "execution_count": 32,
   "id": "58b3a4dc",
   "metadata": {},
   "outputs": [
    {
     "data": {
      "text/plain": [
       "{'content': '丰富人民群众精神文化生活。培育和践行社会主义核心价值观。深化群众性精神文明创建。发展新闻出版、广播影视、文学艺术、哲学社会科学和档案等事业，加强智库建设。扎实推进媒体深度融合。提升国际传播效能。加强和创新互联网内容建设。弘扬中华优秀传统文化，加强文物和文化遗产保护传承。实施文化惠民工程，公共图书馆、博物馆、美术馆、文化馆站向社会免费开放。深入推进全民阅读。支持文化产业发展。加强国家科普能力建设。体育健儿勇创佳绩，全民健身广泛开展。',\n",
       " 'topic': '文化旅游'}"
      ]
     },
     "execution_count": 32,
     "metadata": {},
     "output_type": "execute_result"
    }
   ],
   "source": [
    "examples[11]"
   ]
  },
  {
   "cell_type": "code",
   "execution_count": 38,
   "id": "5f42bc91",
   "metadata": {},
   "outputs": [
    {
     "name": "stderr",
     "output_type": "stream",
     "text": [
      "F:\\anaconda3\\lib\\site-packages\\langchain\\llms\\openai.py:769: UserWarning: You are trying to use a chat model. This way of initializing it is no longer supported. Instead, please use: `from langchain.chat_models import ChatOpenAI`\n",
      "  warnings.warn(\n"
     ]
    }
   ],
   "source": [
    "llm = OpenAI(temperature = 0, openai_api_key = OPENAI_API_KEY, model_name = 'gpt-4')"
   ]
  },
  {
   "cell_type": "code",
   "execution_count": 39,
   "id": "07d8ae0f",
   "metadata": {},
   "outputs": [],
   "source": [
    "llm_chain = LLMChain(\n",
    "    llm = llm,\n",
    "    prompt = prompt\n",
    ")"
   ]
  },
  {
   "cell_type": "code",
   "execution_count": 40,
   "id": "22869185",
   "metadata": {},
   "outputs": [
    {
     "data": {
      "text/plain": [
       "'回答-话题：文化旅游'"
      ]
     },
     "execution_count": 40,
     "metadata": {},
     "output_type": "execute_result"
    }
   ],
   "source": [
    "llm_chain.predict(content=examples[11]['content'])"
   ]
  },
  {
   "cell_type": "code",
   "execution_count": 50,
   "id": "f643d63f",
   "metadata": {},
   "outputs": [],
   "source": [
    "df_sample_para = pd.read_csv('data/sample.csv', encoding=\"utf_8_sig\")"
   ]
  },
  {
   "cell_type": "code",
   "execution_count": 51,
   "id": "b9eb01b3",
   "metadata": {},
   "outputs": [
    {
     "data": {
      "text/html": [
       "<div>\n",
       "<style scoped>\n",
       "    .dataframe tbody tr th:only-of-type {\n",
       "        vertical-align: middle;\n",
       "    }\n",
       "\n",
       "    .dataframe tbody tr th {\n",
       "        vertical-align: top;\n",
       "    }\n",
       "\n",
       "    .dataframe thead th {\n",
       "        text-align: right;\n",
       "    }\n",
       "</style>\n",
       "<table border=\"1\" class=\"dataframe\">\n",
       "  <thead>\n",
       "    <tr style=\"text-align: right;\">\n",
       "      <th></th>\n",
       "      <th>ID</th>\n",
       "      <th>RAW_CONTENT</th>\n",
       "      <th>MEETING_NAME</th>\n",
       "      <th>TITLE</th>\n",
       "      <th>PUBLISH_DATE</th>\n",
       "    </tr>\n",
       "  </thead>\n",
       "  <tbody>\n",
       "    <tr>\n",
       "      <th>0</th>\n",
       "      <td>m-941334512-1560944340</td>\n",
       "      <td>李克强主持召开国务院常务会议\\r\\n部署推进城镇老旧小区改造 顺应群众期盼改善居住条件\\r\\...</td>\n",
       "      <td>国务院常委会</td>\n",
       "      <td>李克强主持召开国务院常务会议部署推进城镇老旧小区改造 顺应群众期盼改善居住条件确定提前完成农...</td>\n",
       "      <td>2019-06-19T19:39:00Z</td>\n",
       "    </tr>\n",
       "    <tr>\n",
       "      <th>1</th>\n",
       "      <td>m-221628530-1512033180</td>\n",
       "      <td>\\r\\n　　中共中央政治局11月30日召开会议，审议通过《中国共产党党务公开条例（试行）》。...</td>\n",
       "      <td>政治局会议</td>\n",
       "      <td>审议通过中国共产党党务公开条例试行</td>\n",
       "      <td>2017-11-30T17:13:00Z</td>\n",
       "    </tr>\n",
       "    <tr>\n",
       "      <th>2</th>\n",
       "      <td>m-2186953670-1504012260</td>\n",
       "      <td>中共中央总书记、国家主席、中央军委主席、中央全面深化改革领导小组组长习近平8月29日下午...</td>\n",
       "      <td>中央全面深化改革会议</td>\n",
       "      <td>会议审议通过了关于完善主体功能区战略和制度的若干意见关于探索建立涉农资金统筹整合长效机制的意...</td>\n",
       "      <td>2017-08-29T21:11:00Z</td>\n",
       "    </tr>\n",
       "    <tr>\n",
       "      <th>3</th>\n",
       "      <td>m-1244349627-1621601580</td>\n",
       "      <td>中共中央总书记、国家主席、中央军委主席、中央全面深化改革委员会主任习近平5月21日下午主...</td>\n",
       "      <td>中央全面深化改革会议</td>\n",
       "      <td>审议通过了关于完善科技成果评价机制的指导意见关于进一步减轻义务教育阶段学生作业负担和校外培训...</td>\n",
       "      <td>2021-05-21T20:53:00Z</td>\n",
       "    </tr>\n",
       "    <tr>\n",
       "      <th>4</th>\n",
       "      <td>m-465612500-1661856840</td>\n",
       "      <td>中共中央政治局8月30日召开会议，研究中国共产党第十九届中央委员会第七次全体会议和中国共...</td>\n",
       "      <td>政治局会议</td>\n",
       "      <td>研究中国共产党第十九届中央委员会第七次全体会议和中国共产党第二十次全国代表大会筹备工作</td>\n",
       "      <td>2022-08-30T18:54:00Z</td>\n",
       "    </tr>\n",
       "  </tbody>\n",
       "</table>\n",
       "</div>"
      ],
      "text/plain": [
       "                        ID                                        RAW_CONTENT  \\\n",
       "0   m-941334512-1560944340  李克强主持召开国务院常务会议\\r\\n部署推进城镇老旧小区改造 顺应群众期盼改善居住条件\\r\\...   \n",
       "1   m-221628530-1512033180  \\r\\n　　中共中央政治局11月30日召开会议，审议通过《中国共产党党务公开条例（试行）》。...   \n",
       "2  m-2186953670-1504012260  　　中共中央总书记、国家主席、中央军委主席、中央全面深化改革领导小组组长习近平8月29日下午...   \n",
       "3  m-1244349627-1621601580  　　中共中央总书记、国家主席、中央军委主席、中央全面深化改革委员会主任习近平5月21日下午主...   \n",
       "4   m-465612500-1661856840  　　中共中央政治局8月30日召开会议，研究中国共产党第十九届中央委员会第七次全体会议和中国共...   \n",
       "\n",
       "  MEETING_NAME                                              TITLE  \\\n",
       "0       国务院常委会  李克强主持召开国务院常务会议部署推进城镇老旧小区改造 顺应群众期盼改善居住条件确定提前完成农...   \n",
       "1        政治局会议                                  审议通过中国共产党党务公开条例试行   \n",
       "2   中央全面深化改革会议  会议审议通过了关于完善主体功能区战略和制度的若干意见关于探索建立涉农资金统筹整合长效机制的意...   \n",
       "3   中央全面深化改革会议  审议通过了关于完善科技成果评价机制的指导意见关于进一步减轻义务教育阶段学生作业负担和校外培训...   \n",
       "4        政治局会议        研究中国共产党第十九届中央委员会第七次全体会议和中国共产党第二十次全国代表大会筹备工作   \n",
       "\n",
       "           PUBLISH_DATE  \n",
       "0  2019-06-19T19:39:00Z  \n",
       "1  2017-11-30T17:13:00Z  \n",
       "2  2017-08-29T21:11:00Z  \n",
       "3  2021-05-21T20:53:00Z  \n",
       "4  2022-08-30T18:54:00Z  "
      ]
     },
     "execution_count": 51,
     "metadata": {},
     "output_type": "execute_result"
    }
   ],
   "source": [
    "df_sample_para.head()"
   ]
  },
  {
   "cell_type": "code",
   "execution_count": 52,
   "id": "3ebe0110",
   "metadata": {},
   "outputs": [
    {
     "data": {
      "text/plain": [
       "(53, 5)"
      ]
     },
     "execution_count": 52,
     "metadata": {},
     "output_type": "execute_result"
    }
   ],
   "source": [
    "df_sample_para.shape"
   ]
  },
  {
   "cell_type": "code",
   "execution_count": 54,
   "id": "b2f1e61c",
   "metadata": {},
   "outputs": [],
   "source": [
    "id_list = []\n",
    "title_list = []\n",
    "content_list = []\n",
    "topic_list = []\n",
    "ln_min = 50  \n",
    "cnt = 0"
   ]
  },
  {
   "cell_type": "code",
   "execution_count": 57,
   "id": "e8df610e",
   "metadata": {},
   "outputs": [
    {
     "name": "stdout",
     "output_type": "stream",
     "text": [
      "100 paragraphs have been processed...\n",
      "200 paragraphs have been processed...\n",
      "300 paragraphs have been processed...\n",
      "400 paragraphs have been processed...\n"
     ]
    }
   ],
   "source": [
    "for index, row in df_sample_para.iterrows():\n",
    "    txt = re.split('\\u3000\\u3000|\\r\\n', row['RAW_CONTENT'])\n",
    "    txt = [x.strip() for x in txt]\n",
    "    for x in txt:\n",
    "        if len(x) >= ln_min:\n",
    "            id_list.append(row['ID'])\n",
    "            title_list.append(row['TITLE'])\n",
    "            content_list.append(x)\n",
    "            topic_list.append(llm_chain.predict(content=x).split('话题：')[-1])\n",
    "            cnt += 1\n",
    "            if cnt % 100 == 0:\n",
    "                print(str(cnt) + ' paragraphs have been processed...')"
   ]
  },
  {
   "cell_type": "code",
   "execution_count": 58,
   "id": "43c88e7e",
   "metadata": {},
   "outputs": [],
   "source": [
    "df_sample_para_few = pd.DataFrame({'ID': id_list, \n",
    "                               'TITLE': title_list,\n",
    "                               'CONTENT': content_list,\n",
    "                              'TOPIC': topic_list})"
   ]
  },
  {
   "cell_type": "code",
   "execution_count": 59,
   "id": "0e79c009",
   "metadata": {},
   "outputs": [
    {
     "data": {
      "text/html": [
       "<div>\n",
       "<style scoped>\n",
       "    .dataframe tbody tr th:only-of-type {\n",
       "        vertical-align: middle;\n",
       "    }\n",
       "\n",
       "    .dataframe tbody tr th {\n",
       "        vertical-align: top;\n",
       "    }\n",
       "\n",
       "    .dataframe thead th {\n",
       "        text-align: right;\n",
       "    }\n",
       "</style>\n",
       "<table border=\"1\" class=\"dataframe\">\n",
       "  <thead>\n",
       "    <tr style=\"text-align: right;\">\n",
       "      <th></th>\n",
       "      <th>ID</th>\n",
       "      <th>TITLE</th>\n",
       "      <th>CONTENT</th>\n",
       "      <th>TOPIC</th>\n",
       "    </tr>\n",
       "  </thead>\n",
       "  <tbody>\n",
       "    <tr>\n",
       "      <th>0</th>\n",
       "      <td>m-941334512-1560944340</td>\n",
       "      <td>李克强主持召开国务院常务会议部署推进城镇老旧小区改造 顺应群众期盼改善居住条件确定提前完成农...</td>\n",
       "      <td>国务院总理李克强6月19日主持召开国务院常务会议，部署推进城镇老旧小区改造，顺应群众期盼改善...</td>\n",
       "      <td>民生扶贫</td>\n",
       "    </tr>\n",
       "    <tr>\n",
       "      <th>1</th>\n",
       "      <td>m-941334512-1560944340</td>\n",
       "      <td>李克强主持召开国务院常务会议部署推进城镇老旧小区改造 顺应群众期盼改善居住条件确定提前完成农...</td>\n",
       "      <td>会议指出，按照中央经济工作会议和《政府工作报告》部署，积极做好“六稳”工作，稳投资是重要方面...</td>\n",
       "      <td>基建</td>\n",
       "    </tr>\n",
       "    <tr>\n",
       "      <th>2</th>\n",
       "      <td>m-941334512-1560944340</td>\n",
       "      <td>李克强主持召开国务院常务会议部署推进城镇老旧小区改造 顺应群众期盼改善居住条件确定提前完成农...</td>\n",
       "      <td>会议认为，加快改造城镇老旧小区，群众愿望强烈，是重大民生工程和发展工程。据各地初步摸查，目前...</td>\n",
       "      <td>民生扶贫</td>\n",
       "    </tr>\n",
       "    <tr>\n",
       "      <th>3</th>\n",
       "      <td>m-941334512-1560944340</td>\n",
       "      <td>李克强主持召开国务院常务会议部署推进城镇老旧小区改造 顺应群众期盼改善居住条件确定提前完成农...</td>\n",
       "      <td>会议指出，新一轮农村电网改造升级工程自2016年实施以来，完成了农村机井通电、贫困村通动力电...</td>\n",
       "      <td>农业农村</td>\n",
       "    </tr>\n",
       "    <tr>\n",
       "      <th>4</th>\n",
       "      <td>m-941334512-1560944340</td>\n",
       "      <td>李克强主持召开国务院常务会议部署推进城镇老旧小区改造 顺应群众期盼改善居住条件确定提前完成农...</td>\n",
       "      <td>会议指出，通过实施农村供水工程，农村居民饮水已提前实现联合国千年发展目标，农村集中供水率、自...</td>\n",
       "      <td>农业农村</td>\n",
       "    </tr>\n",
       "  </tbody>\n",
       "</table>\n",
       "</div>"
      ],
      "text/plain": [
       "                       ID                                              TITLE  \\\n",
       "0  m-941334512-1560944340  李克强主持召开国务院常务会议部署推进城镇老旧小区改造 顺应群众期盼改善居住条件确定提前完成农...   \n",
       "1  m-941334512-1560944340  李克强主持召开国务院常务会议部署推进城镇老旧小区改造 顺应群众期盼改善居住条件确定提前完成农...   \n",
       "2  m-941334512-1560944340  李克强主持召开国务院常务会议部署推进城镇老旧小区改造 顺应群众期盼改善居住条件确定提前完成农...   \n",
       "3  m-941334512-1560944340  李克强主持召开国务院常务会议部署推进城镇老旧小区改造 顺应群众期盼改善居住条件确定提前完成农...   \n",
       "4  m-941334512-1560944340  李克强主持召开国务院常务会议部署推进城镇老旧小区改造 顺应群众期盼改善居住条件确定提前完成农...   \n",
       "\n",
       "                                             CONTENT TOPIC  \n",
       "0  国务院总理李克强6月19日主持召开国务院常务会议，部署推进城镇老旧小区改造，顺应群众期盼改善...  民生扶贫  \n",
       "1  会议指出，按照中央经济工作会议和《政府工作报告》部署，积极做好“六稳”工作，稳投资是重要方面...    基建  \n",
       "2  会议认为，加快改造城镇老旧小区，群众愿望强烈，是重大民生工程和发展工程。据各地初步摸查，目前...  民生扶贫  \n",
       "3  会议指出，新一轮农村电网改造升级工程自2016年实施以来，完成了农村机井通电、贫困村通动力电...  农业农村  \n",
       "4  会议指出，通过实施农村供水工程，农村居民饮水已提前实现联合国千年发展目标，农村集中供水率、自...  农业农村  "
      ]
     },
     "execution_count": 59,
     "metadata": {},
     "output_type": "execute_result"
    }
   ],
   "source": [
    "df_sample_para_few.head()"
   ]
  },
  {
   "cell_type": "code",
   "execution_count": 60,
   "id": "6fad1ccc",
   "metadata": {},
   "outputs": [
    {
     "data": {
      "text/plain": [
       "宏观                      92\n",
       "民生扶贫                    51\n",
       "企业发展                    49\n",
       "教育                      45\n",
       "绿色发展                    29\n",
       "出口贸易                    29\n",
       "农业农村                    26\n",
       "医药健康                    22\n",
       "国际关系                    21\n",
       "区域发展                    14\n",
       "金融                      14\n",
       "新冠疫情                    13\n",
       "基建                      13\n",
       "地方财政                    12\n",
       "税务                       9\n",
       "科技                       9\n",
       "政治                       7\n",
       "就业                       7\n",
       "文化旅游                     6\n",
       "零售消费                     5\n",
       "制造业                      3\n",
       "安全生产                     2\n",
       "国防                       2\n",
       "物资储备                     2\n",
       "政府工作                     2\n",
       "军事                       2\n",
       "政府管理                     1\n",
       "政策                       1\n",
       "安全监管                     1\n",
       "房地产                      1\n",
       "科技,教育,医药健康,绿色发展,文化旅游     1\n",
       "能源                       1\n",
       "法律                       1\n",
       "政府职能                     1\n",
       "企业发展,税务                  1\n",
       "教育,医药健康,绿色发展,文化旅游,科技     1\n",
       "政府决策                     1\n",
       "Name: TOPIC, dtype: int64"
      ]
     },
     "execution_count": 60,
     "metadata": {},
     "output_type": "execute_result"
    }
   ],
   "source": [
    "df_sample_para_few['TOPIC'].value_counts()"
   ]
  },
  {
   "cell_type": "code",
   "execution_count": 61,
   "id": "961bd8e6",
   "metadata": {},
   "outputs": [],
   "source": [
    "df_sample_para_few.to_csv('data/sample_para_few.csv', index = False, encoding='utf_8_sig')"
   ]
  },
  {
   "cell_type": "code",
   "execution_count": 62,
   "id": "2cded163",
   "metadata": {},
   "outputs": [
    {
     "data": {
      "text/plain": [
       "(497, 4)"
      ]
     },
     "execution_count": 62,
     "metadata": {},
     "output_type": "execute_result"
    }
   ],
   "source": [
    "df_sample_para_few.shape"
   ]
  },
  {
   "cell_type": "code",
   "execution_count": null,
   "id": "db7a0f76",
   "metadata": {},
   "outputs": [],
   "source": []
  }
 ],
 "metadata": {
  "kernelspec": {
   "display_name": "Python 3 (ipykernel)",
   "language": "python",
   "name": "python3"
  },
  "language_info": {
   "codemirror_mode": {
    "name": "ipython",
    "version": 3
   },
   "file_extension": ".py",
   "mimetype": "text/x-python",
   "name": "python",
   "nbconvert_exporter": "python",
   "pygments_lexer": "ipython3",
   "version": "3.10.9"
  }
 },
 "nbformat": 4,
 "nbformat_minor": 5
}
