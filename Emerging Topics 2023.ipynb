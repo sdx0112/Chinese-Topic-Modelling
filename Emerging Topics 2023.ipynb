{
 "cells": [
  {
   "cell_type": "markdown",
   "id": "c810f439",
   "metadata": {},
   "source": [
    "# Find emerging topics for Year 2023"
   ]
  },
  {
   "cell_type": "code",
   "execution_count": 6,
   "id": "b64dc28f",
   "metadata": {},
   "outputs": [],
   "source": [
    "import pandas as pd\n",
    "from collections import Counter"
   ]
  },
  {
   "cell_type": "code",
   "execution_count": 2,
   "id": "75949308",
   "metadata": {},
   "outputs": [],
   "source": [
    "df = pd.read_csv('data/id_topics_all.csv', encoding='utf_8_sig')"
   ]
  },
  {
   "cell_type": "code",
   "execution_count": 3,
   "id": "6867bbce",
   "metadata": {},
   "outputs": [
    {
     "data": {
      "text/html": [
       "<div>\n",
       "<style scoped>\n",
       "    .dataframe tbody tr th:only-of-type {\n",
       "        vertical-align: middle;\n",
       "    }\n",
       "\n",
       "    .dataframe tbody tr th {\n",
       "        vertical-align: top;\n",
       "    }\n",
       "\n",
       "    .dataframe thead th {\n",
       "        text-align: right;\n",
       "    }\n",
       "</style>\n",
       "<table border=\"1\" class=\"dataframe\">\n",
       "  <thead>\n",
       "    <tr style=\"text-align: right;\">\n",
       "      <th></th>\n",
       "      <th>ID</th>\n",
       "      <th>RAW_CONTENT</th>\n",
       "      <th>MEETING_NAME</th>\n",
       "      <th>TITLE</th>\n",
       "      <th>PUBLISH_DATE</th>\n",
       "      <th>TOPICS_ALL</th>\n",
       "    </tr>\n",
       "  </thead>\n",
       "  <tbody>\n",
       "    <tr>\n",
       "      <th>0</th>\n",
       "      <td>m-1608357555-1682084460</td>\n",
       "      <td>中共中央总书记、国家主席、中央军委主席、中央全面深化改革委员会主任习近平4月21日下午主...</td>\n",
       "      <td>中央全面深化改革会议</td>\n",
       "      <td>会议审议通过了关于强化企业科技创新主体地位的意见关于加强和改进国有经济管理有力支持中国式现代...</td>\n",
       "      <td>2023-04-21T21:41:00Z</td>\n",
       "      <td>宏观 企业发展</td>\n",
       "    </tr>\n",
       "    <tr>\n",
       "      <th>1</th>\n",
       "      <td>m-158629831-1682664300</td>\n",
       "      <td>中共中央政治局4月28日召开会议，分析研究当前经济形势和经济工作。中共中央总书记习近平主...</td>\n",
       "      <td>政治局会议</td>\n",
       "      <td>分析研究当前经济形势和经济工作</td>\n",
       "      <td>2023-04-28T14:45:00Z</td>\n",
       "      <td>企业发展 就业</td>\n",
       "    </tr>\n",
       "    <tr>\n",
       "      <th>2</th>\n",
       "      <td>m-704972677-1680162720</td>\n",
       "      <td>中共中央政治局3月30日召开会议，决定从今年4月开始，在全党自上而下分两批开展学习贯彻习...</td>\n",
       "      <td>政治局会议</td>\n",
       "      <td>决定从2023年4月开始在全党自上而下分两批开展学习贯彻习近平新时代中国特色社会主义思想主题...</td>\n",
       "      <td>2023-03-30T15:52:00Z</td>\n",
       "      <td>宏观 企业发展 教育</td>\n",
       "    </tr>\n",
       "    <tr>\n",
       "      <th>3</th>\n",
       "      <td>m-248496144-1366366560</td>\n",
       "      <td>中共中央政治局4月19日召开会议，决定从今年下半年开始，用一年左右时间，在全党自上而下分...</td>\n",
       "      <td>政治局会议</td>\n",
       "      <td>研究部署在全党深入开展党的群众路线教育实践活动</td>\n",
       "      <td>2013-04-19T18:16:00Z</td>\n",
       "      <td>教育 民生扶贫</td>\n",
       "    </tr>\n",
       "    <tr>\n",
       "      <th>4</th>\n",
       "      <td>m-1020277137-1469618520</td>\n",
       "      <td>李克强主持召开国务院常务会议\\n听取关于地方和部门推进重大项目落地审计情况汇报 完善奖惩机制...</td>\n",
       "      <td>国务院常委会</td>\n",
       "      <td>李克强主持召开国务院常务会议通过十三五国家科技创新专项规划 以创新型国家建设引领和支撑升级发...</td>\n",
       "      <td>2016-07-27T19:22:00Z</td>\n",
       "      <td>能源 宏观 科技</td>\n",
       "    </tr>\n",
       "  </tbody>\n",
       "</table>\n",
       "</div>"
      ],
      "text/plain": [
       "                        ID                                        RAW_CONTENT  \\\n",
       "0  m-1608357555-1682084460  　　中共中央总书记、国家主席、中央军委主席、中央全面深化改革委员会主任习近平4月21日下午主...   \n",
       "1   m-158629831-1682664300  　　中共中央政治局4月28日召开会议，分析研究当前经济形势和经济工作。中共中央总书记习近平主...   \n",
       "2   m-704972677-1680162720  　　中共中央政治局3月30日召开会议，决定从今年4月开始，在全党自上而下分两批开展学习贯彻习...   \n",
       "3   m-248496144-1366366560  　　中共中央政治局4月19日召开会议，决定从今年下半年开始，用一年左右时间，在全党自上而下分...   \n",
       "4  m-1020277137-1469618520  李克强主持召开国务院常务会议\\n听取关于地方和部门推进重大项目落地审计情况汇报 完善奖惩机制...   \n",
       "\n",
       "  MEETING_NAME                                              TITLE  \\\n",
       "0   中央全面深化改革会议  会议审议通过了关于强化企业科技创新主体地位的意见关于加强和改进国有经济管理有力支持中国式现代...   \n",
       "1        政治局会议                                    分析研究当前经济形势和经济工作   \n",
       "2        政治局会议  决定从2023年4月开始在全党自上而下分两批开展学习贯彻习近平新时代中国特色社会主义思想主题...   \n",
       "3        政治局会议                            研究部署在全党深入开展党的群众路线教育实践活动   \n",
       "4       国务院常委会  李克强主持召开国务院常务会议通过十三五国家科技创新专项规划 以创新型国家建设引领和支撑升级发...   \n",
       "\n",
       "           PUBLISH_DATE  TOPICS_ALL  \n",
       "0  2023-04-21T21:41:00Z     宏观 企业发展  \n",
       "1  2023-04-28T14:45:00Z     企业发展 就业  \n",
       "2  2023-03-30T15:52:00Z  宏观 企业发展 教育  \n",
       "3  2013-04-19T18:16:00Z     教育 民生扶贫  \n",
       "4  2016-07-27T19:22:00Z    能源 宏观 科技  "
      ]
     },
     "execution_count": 3,
     "metadata": {},
     "output_type": "execute_result"
    }
   ],
   "source": [
    "df.head()"
   ]
  },
  {
   "cell_type": "code",
   "execution_count": 4,
   "id": "bfa9d4a6",
   "metadata": {},
   "outputs": [],
   "source": [
    "df['Year'] = df.apply({lambda row: row['PUBLISH_DATE'][:4]}, axis = 1)"
   ]
  },
  {
   "cell_type": "code",
   "execution_count": 17,
   "id": "cc3fc961",
   "metadata": {},
   "outputs": [
    {
     "data": {
      "text/plain": [
       "2016    69\n",
       "2020    65\n",
       "2019    63\n",
       "2018    60\n",
       "2021    59\n",
       "2017    58\n",
       "2022    50\n",
       "2015    32\n",
       "2014    21\n",
       "2013    15\n",
       "2023     9\n",
       "2012     5\n",
       "2011     3\n",
       "2010     3\n",
       "2009     3\n",
       "2008     3\n",
       "2006     3\n",
       "2003     3\n",
       "2007     2\n",
       "2005     2\n",
       "2004     2\n",
       "2002     1\n",
       "Name: Year, dtype: int64"
      ]
     },
     "execution_count": 17,
     "metadata": {},
     "output_type": "execute_result"
    }
   ],
   "source": [
    "df['Year'].value_counts()"
   ]
  },
  {
   "cell_type": "code",
   "execution_count": 45,
   "id": "479d0aa3",
   "metadata": {},
   "outputs": [],
   "source": [
    "df_title = pd.read_csv('data/title_topic.csv', encoding='utf_8_sig')"
   ]
  },
  {
   "cell_type": "code",
   "execution_count": 46,
   "id": "763ac9b9",
   "metadata": {},
   "outputs": [
    {
     "data": {
      "text/html": [
       "<div>\n",
       "<style scoped>\n",
       "    .dataframe tbody tr th:only-of-type {\n",
       "        vertical-align: middle;\n",
       "    }\n",
       "\n",
       "    .dataframe tbody tr th {\n",
       "        vertical-align: top;\n",
       "    }\n",
       "\n",
       "    .dataframe thead th {\n",
       "        text-align: right;\n",
       "    }\n",
       "</style>\n",
       "<table border=\"1\" class=\"dataframe\">\n",
       "  <thead>\n",
       "    <tr style=\"text-align: right;\">\n",
       "      <th></th>\n",
       "      <th>TITLE</th>\n",
       "      <th>TITLE_TOPIC</th>\n",
       "    </tr>\n",
       "  </thead>\n",
       "  <tbody>\n",
       "    <tr>\n",
       "      <th>0</th>\n",
       "      <td>会议审议通过了关于强化企业科技创新主体地位的意见关于加强和改进国有经济管理有力支持中国式现代...</td>\n",
       "      <td>企业发展</td>\n",
       "    </tr>\n",
       "    <tr>\n",
       "      <th>1</th>\n",
       "      <td>分析研究当前经济形势和经济工作</td>\n",
       "      <td>经济</td>\n",
       "    </tr>\n",
       "    <tr>\n",
       "      <th>2</th>\n",
       "      <td>决定从2023年4月开始在全党自上而下分两批开展学习贯彻习近平新时代中国特色社会主义思想主题...</td>\n",
       "      <td>政治</td>\n",
       "    </tr>\n",
       "    <tr>\n",
       "      <th>3</th>\n",
       "      <td>研究部署在全党深入开展党的群众路线教育实践活动</td>\n",
       "      <td>教育</td>\n",
       "    </tr>\n",
       "    <tr>\n",
       "      <th>4</th>\n",
       "      <td>李克强主持召开国务院常务会议通过十三五国家科技创新专项规划 以创新型国家建设引领和支撑升级发...</td>\n",
       "      <td>科技</td>\n",
       "    </tr>\n",
       "  </tbody>\n",
       "</table>\n",
       "</div>"
      ],
      "text/plain": [
       "                                               TITLE TITLE_TOPIC\n",
       "0  会议审议通过了关于强化企业科技创新主体地位的意见关于加强和改进国有经济管理有力支持中国式现代...        企业发展\n",
       "1                                    分析研究当前经济形势和经济工作          经济\n",
       "2  决定从2023年4月开始在全党自上而下分两批开展学习贯彻习近平新时代中国特色社会主义思想主题...          政治\n",
       "3                            研究部署在全党深入开展党的群众路线教育实践活动          教育\n",
       "4  李克强主持召开国务院常务会议通过十三五国家科技创新专项规划 以创新型国家建设引领和支撑升级发...          科技"
      ]
     },
     "execution_count": 46,
     "metadata": {},
     "output_type": "execute_result"
    }
   ],
   "source": [
    "df_title.head()"
   ]
  },
  {
   "cell_type": "code",
   "execution_count": 47,
   "id": "3da699f6",
   "metadata": {},
   "outputs": [
    {
     "data": {
      "text/plain": [
       "(496, 2)"
      ]
     },
     "execution_count": 47,
     "metadata": {},
     "output_type": "execute_result"
    }
   ],
   "source": [
    "df_title.shape"
   ]
  },
  {
   "cell_type": "code",
   "execution_count": 48,
   "id": "591c6919",
   "metadata": {},
   "outputs": [
    {
     "data": {
      "text/plain": [
       "宏观        132\n",
       "企业发展       40\n",
       "区域发展       29\n",
       "民生扶贫       29\n",
       "基建         26\n",
       "就业         22\n",
       "制造业        20\n",
       "教育         20\n",
       "绿色发展       19\n",
       "农业农村       18\n",
       "科技         15\n",
       "医药健康       14\n",
       "交通运输       14\n",
       "税务         11\n",
       "新冠疫情        8\n",
       "政府工作报告      8\n",
       "党建          6\n",
       "贸易          6\n",
       "农业          5\n",
       "经济          5\n",
       "能源          5\n",
       "政治          5\n",
       "全面从严治       4\n",
       "金融          4\n",
       "零售消费        4\n",
       "卫生健康        4\n",
       "经济发展        3\n",
       "财政          3\n",
       "法治          2\n",
       "物资储备        2\n",
       "国际关系        2\n",
       "战略          1\n",
       "安全生产        1\n",
       "学习          1\n",
       "人口老龄化       1\n",
       "反腐倡廉        1\n",
       "环保          1\n",
       "健康          1\n",
       "国家安全        1\n",
       "宪法          1\n",
       "反腐          1\n",
       "十八届         1\n",
       "Name: TITLE_TOPIC, dtype: int64"
      ]
     },
     "execution_count": 48,
     "metadata": {},
     "output_type": "execute_result"
    }
   ],
   "source": [
    "df_title['TITLE_TOPIC'].value_counts()"
   ]
  },
  {
   "cell_type": "code",
   "execution_count": 49,
   "id": "8b957af9",
   "metadata": {},
   "outputs": [],
   "source": [
    "map_title = {'企业发展': '企业发展',\n",
    " '经济': '就业',\n",
    " '政治': '教育',\n",
    " '教育': '教育',\n",
    " '科技': '科技',\n",
    " '交通运输': '交通运输',\n",
    " '宏观': '宏观',\n",
    " '税务': '税务',\n",
    " '基建': '基建',\n",
    " '物资储备': '物资储备',\n",
    " '区域发展': '区域发展',\n",
    " '民生扶贫': '民生扶贫',\n",
    " '绿色发展': '绿色发展',\n",
    " '贸易': '就业',\n",
    " '制造业': '制造业',\n",
    " '农业农村': '农业农村',\n",
    " '环保': '科技',\n",
    " '反腐': '科技',\n",
    " '战略': '宏观',\n",
    " '人口老龄化': '能源',\n",
    " '党建': '税务',\n",
    " '新冠疫情': '新冠疫情',\n",
    " '法治': '科技',\n",
    " '全面从严治': '宏观',\n",
    " '宪法': '宏观',\n",
    " '经济发展': '企业发展',\n",
    " '国家安全': '就业',\n",
    " '健康': '能源',\n",
    " '十八届': '税务',\n",
    " '反腐倡廉': '民生扶贫',\n",
    " '学习': '教育',\n",
    " '就业': '就业',\n",
    " '国际关系': '国际关系',\n",
    " '农业': '交通运输',\n",
    " '医药健康': '医药健康',\n",
    " '能源': '能源',\n",
    " '卫生健康': '交通运输',\n",
    " '零售消费': '零售消费',\n",
    " '财政': '税务',\n",
    " '金融': '金融',\n",
    " '安全生产': '交通运输',\n",
    " '政府工作报告': '就业'}"
   ]
  },
  {
   "cell_type": "code",
   "execution_count": 51,
   "id": "6b576d6d",
   "metadata": {},
   "outputs": [],
   "source": [
    "df_title['TOPIC_'] = df_title['TITLE_TOPIC'].map(map_title)"
   ]
  },
  {
   "cell_type": "code",
   "execution_count": 52,
   "id": "9a4b774a",
   "metadata": {},
   "outputs": [
    {
     "data": {
      "text/plain": [
       "宏观      138\n",
       "企业发展     43\n",
       "就业       42\n",
       "民生扶贫     30\n",
       "区域发展     29\n",
       "基建       26\n",
       "教育       26\n",
       "交通运输     24\n",
       "税务       21\n",
       "制造业      20\n",
       "科技       19\n",
       "绿色发展     19\n",
       "农业农村     18\n",
       "医药健康     14\n",
       "新冠疫情      8\n",
       "能源        7\n",
       "零售消费      4\n",
       "金融        4\n",
       "物资储备      2\n",
       "国际关系      2\n",
       "Name: TOPIC_, dtype: int64"
      ]
     },
     "execution_count": 52,
     "metadata": {},
     "output_type": "execute_result"
    }
   ],
   "source": [
    "df_title['TOPIC_'].value_counts()"
   ]
  },
  {
   "cell_type": "code",
   "execution_count": 9,
   "id": "fbb705d8",
   "metadata": {},
   "outputs": [],
   "source": [
    "def count_topics(df, year):\n",
    "    topics = df[df['Year'] == str(year)]['TOPICS_ALL'].tolist()\n",
    "    topic_list = []\n",
    "    for x in topics:\n",
    "        topic_list.extend(x.split(' '))\n",
    "    return Counter(topic_list)"
   ]
  },
  {
   "cell_type": "code",
   "execution_count": 10,
   "id": "6498e468",
   "metadata": {},
   "outputs": [],
   "source": [
    "topics_2023 = count_topics(df, 2023)\n",
    "topics_2022 = count_topics(df, 2022)"
   ]
  },
  {
   "cell_type": "code",
   "execution_count": 32,
   "id": "7de82184",
   "metadata": {},
   "outputs": [],
   "source": [
    "emerging_topics = {topic for topic, freq in topics_2023.items() if freq > topics_2022.get(topic, 0)}"
   ]
  },
  {
   "cell_type": "code",
   "execution_count": 33,
   "id": "1dec9a71",
   "metadata": {},
   "outputs": [
    {
     "data": {
      "text/plain": [
       "{'企业发展', '出口贸易'}"
      ]
     },
     "execution_count": 33,
     "metadata": {},
     "output_type": "execute_result"
    }
   ],
   "source": [
    "emerging_topics"
   ]
  },
  {
   "cell_type": "code",
   "execution_count": 18,
   "id": "bf565fd3",
   "metadata": {},
   "outputs": [],
   "source": [
    "notes_2023 = df[df['Year'] == '2023'].shape[0]"
   ]
  },
  {
   "cell_type": "code",
   "execution_count": 21,
   "id": "3bb7dea2",
   "metadata": {},
   "outputs": [],
   "source": [
    "notes_2022 = df[df['Year'] == '2022'].shape[0]"
   ]
  },
  {
   "cell_type": "code",
   "execution_count": 22,
   "id": "46378c92",
   "metadata": {},
   "outputs": [
    {
     "data": {
      "text/plain": [
       "(50, 9)"
      ]
     },
     "execution_count": 22,
     "metadata": {},
     "output_type": "execute_result"
    }
   ],
   "source": [
    "notes_2022, notes_2023"
   ]
  },
  {
   "cell_type": "code",
   "execution_count": 26,
   "id": "792c06fb",
   "metadata": {},
   "outputs": [],
   "source": [
    "emerging_topics_rate = {topic:freq/notes_2023 / (topics_2022.get(topic, 0)/notes_2022 + 0.01) for topic, freq in topics_2023.items() if freq/notes_2023 > topics_2022.get(topic, 0)/notes_2022}"
   ]
  },
  {
   "cell_type": "code",
   "execution_count": 34,
   "id": "f7a00011",
   "metadata": {},
   "outputs": [],
   "source": [
    "emerging_topics_sorted = dict(sorted(emerging_topics_rate.items(), key=lambda item: item[1], reverse=True))"
   ]
  },
  {
   "cell_type": "code",
   "execution_count": 37,
   "id": "4f855f48",
   "metadata": {},
   "outputs": [
    {
     "data": {
      "text/plain": [
       "{'出口贸易': 11.11111111111111,\n",
       " '企业发展': 6.17283950617284,\n",
       " '教育': 2.222222222222222,\n",
       " '就业': 1.7543859649122806,\n",
       " '区域发展': 1.4492753623188404}"
      ]
     },
     "execution_count": 37,
     "metadata": {},
     "output_type": "execute_result"
    }
   ],
   "source": [
    "emerging_topics_sorted"
   ]
  },
  {
   "cell_type": "code",
   "execution_count": 38,
   "id": "e9972956",
   "metadata": {},
   "outputs": [
    {
     "data": {
      "text/plain": [
       "['出口贸易', '企业发展', '教育']"
      ]
     },
     "execution_count": 38,
     "metadata": {},
     "output_type": "execute_result"
    }
   ],
   "source": [
    "sorted(emerging_topics_sorted, key=lambda k: emerging_topics_sorted[k], reverse=True)[:3]"
   ]
  },
  {
   "cell_type": "code",
   "execution_count": 40,
   "id": "656de6e5",
   "metadata": {},
   "outputs": [
    {
     "data": {
      "text/plain": [
       "(22, 7)"
      ]
     },
     "execution_count": 40,
     "metadata": {},
     "output_type": "execute_result"
    }
   ],
   "source": [
    "df_t1 = df[df['TOPICS_ALL'].str.contains('出口贸易')]\n",
    "df_t1.shape"
   ]
  },
  {
   "cell_type": "code",
   "execution_count": 41,
   "id": "1aa22ee1",
   "metadata": {},
   "outputs": [
    {
     "data": {
      "text/plain": [
       "(107, 7)"
      ]
     },
     "execution_count": 41,
     "metadata": {},
     "output_type": "execute_result"
    }
   ],
   "source": [
    "df_t2 = df[df['TOPICS_ALL'].str.contains('企业发展')]\n",
    "df_t2.shape"
   ]
  },
  {
   "cell_type": "code",
   "execution_count": 42,
   "id": "6002e94d",
   "metadata": {},
   "outputs": [
    {
     "data": {
      "text/plain": [
       "(41, 7)"
      ]
     },
     "execution_count": 42,
     "metadata": {},
     "output_type": "execute_result"
    }
   ],
   "source": [
    "df_t3 = df[df['TOPICS_ALL'].str.contains('教育')]\n",
    "df_t3.shape"
   ]
  },
  {
   "cell_type": "code",
   "execution_count": 43,
   "id": "d480b877",
   "metadata": {},
   "outputs": [
    {
     "data": {
      "text/html": [
       "<div>\n",
       "<style scoped>\n",
       "    .dataframe tbody tr th:only-of-type {\n",
       "        vertical-align: middle;\n",
       "    }\n",
       "\n",
       "    .dataframe tbody tr th {\n",
       "        vertical-align: top;\n",
       "    }\n",
       "\n",
       "    .dataframe thead th {\n",
       "        text-align: right;\n",
       "    }\n",
       "</style>\n",
       "<table border=\"1\" class=\"dataframe\">\n",
       "  <thead>\n",
       "    <tr style=\"text-align: right;\">\n",
       "      <th></th>\n",
       "      <th>ID</th>\n",
       "      <th>RAW_CONTENT</th>\n",
       "      <th>MEETING_NAME</th>\n",
       "      <th>TITLE</th>\n",
       "      <th>PUBLISH_DATE</th>\n",
       "      <th>TOPICS_ALL</th>\n",
       "      <th>Year</th>\n",
       "    </tr>\n",
       "  </thead>\n",
       "  <tbody>\n",
       "    <tr>\n",
       "      <th>0</th>\n",
       "      <td>m-1608357555-1682084460</td>\n",
       "      <td>中共中央总书记、国家主席、中央军委主席、中央全面深化改革委员会主任习近平4月21日下午主...</td>\n",
       "      <td>中央全面深化改革会议</td>\n",
       "      <td>会议审议通过了关于强化企业科技创新主体地位的意见关于加强和改进国有经济管理有力支持中国式现代...</td>\n",
       "      <td>2023-04-21T21:41:00Z</td>\n",
       "      <td>宏观 企业发展</td>\n",
       "      <td>2023</td>\n",
       "    </tr>\n",
       "    <tr>\n",
       "      <th>1</th>\n",
       "      <td>m-158629831-1682664300</td>\n",
       "      <td>中共中央政治局4月28日召开会议，分析研究当前经济形势和经济工作。中共中央总书记习近平主...</td>\n",
       "      <td>政治局会议</td>\n",
       "      <td>分析研究当前经济形势和经济工作</td>\n",
       "      <td>2023-04-28T14:45:00Z</td>\n",
       "      <td>企业发展 就业</td>\n",
       "      <td>2023</td>\n",
       "    </tr>\n",
       "    <tr>\n",
       "      <th>2</th>\n",
       "      <td>m-704972677-1680162720</td>\n",
       "      <td>中共中央政治局3月30日召开会议，决定从今年4月开始，在全党自上而下分两批开展学习贯彻习...</td>\n",
       "      <td>政治局会议</td>\n",
       "      <td>决定从2023年4月开始在全党自上而下分两批开展学习贯彻习近平新时代中国特色社会主义思想主题...</td>\n",
       "      <td>2023-03-30T15:52:00Z</td>\n",
       "      <td>宏观 企业发展 教育</td>\n",
       "      <td>2023</td>\n",
       "    </tr>\n",
       "    <tr>\n",
       "      <th>8</th>\n",
       "      <td>m-1390296674-1662469440</td>\n",
       "      <td>中共中央总书记、国家主席、中央军委主席、中央全面深化改革委员会主任习近平9月6日下午主持...</td>\n",
       "      <td>中央全面深化改革会议</td>\n",
       "      <td>审议通过了关于健全社会主义市场经济条件下关键核心技术攻关新型举国体制的意见关于深化院士制度改...</td>\n",
       "      <td>2022-09-06T21:04:00Z</td>\n",
       "      <td>科技 农业农村 企业发展</td>\n",
       "      <td>2022</td>\n",
       "    </tr>\n",
       "    <tr>\n",
       "      <th>11</th>\n",
       "      <td>m-1374331905-1646049000</td>\n",
       "      <td>中共中央总书记、国家主席、中央军委主席、中央全面深化改革委员会主任习近平2月28日下午主...</td>\n",
       "      <td>中央全面深化改革会议</td>\n",
       "      <td>审议通过了关于加快建设世界一流企业的指导意见推进普惠金融高质量发展的实施意见关于加强基础学科...</td>\n",
       "      <td>2022-02-28T19:50:00Z</td>\n",
       "      <td>宏观 企业发展</td>\n",
       "      <td>2022</td>\n",
       "    </tr>\n",
       "  </tbody>\n",
       "</table>\n",
       "</div>"
      ],
      "text/plain": [
       "                         ID  \\\n",
       "0   m-1608357555-1682084460   \n",
       "1    m-158629831-1682664300   \n",
       "2    m-704972677-1680162720   \n",
       "8   m-1390296674-1662469440   \n",
       "11  m-1374331905-1646049000   \n",
       "\n",
       "                                          RAW_CONTENT MEETING_NAME  \\\n",
       "0   　　中共中央总书记、国家主席、中央军委主席、中央全面深化改革委员会主任习近平4月21日下午主...   中央全面深化改革会议   \n",
       "1   　　中共中央政治局4月28日召开会议，分析研究当前经济形势和经济工作。中共中央总书记习近平主...        政治局会议   \n",
       "2   　　中共中央政治局3月30日召开会议，决定从今年4月开始，在全党自上而下分两批开展学习贯彻习...        政治局会议   \n",
       "8   　　中共中央总书记、国家主席、中央军委主席、中央全面深化改革委员会主任习近平9月6日下午主持...   中央全面深化改革会议   \n",
       "11  　　中共中央总书记、国家主席、中央军委主席、中央全面深化改革委员会主任习近平2月28日下午主...   中央全面深化改革会议   \n",
       "\n",
       "                                                TITLE          PUBLISH_DATE  \\\n",
       "0   会议审议通过了关于强化企业科技创新主体地位的意见关于加强和改进国有经济管理有力支持中国式现代...  2023-04-21T21:41:00Z   \n",
       "1                                     分析研究当前经济形势和经济工作  2023-04-28T14:45:00Z   \n",
       "2   决定从2023年4月开始在全党自上而下分两批开展学习贯彻习近平新时代中国特色社会主义思想主题...  2023-03-30T15:52:00Z   \n",
       "8   审议通过了关于健全社会主义市场经济条件下关键核心技术攻关新型举国体制的意见关于深化院士制度改...  2022-09-06T21:04:00Z   \n",
       "11  审议通过了关于加快建设世界一流企业的指导意见推进普惠金融高质量发展的实施意见关于加强基础学科...  2022-02-28T19:50:00Z   \n",
       "\n",
       "      TOPICS_ALL  Year  \n",
       "0        宏观 企业发展  2023  \n",
       "1        企业发展 就业  2023  \n",
       "2     宏观 企业发展 教育  2023  \n",
       "8   科技 农业农村 企业发展  2022  \n",
       "11       宏观 企业发展  2022  "
      ]
     },
     "execution_count": 43,
     "metadata": {},
     "output_type": "execute_result"
    }
   ],
   "source": [
    "df_t2.head()"
   ]
  },
  {
   "cell_type": "code",
   "execution_count": 53,
   "id": "21d67fe9",
   "metadata": {},
   "outputs": [
    {
     "data": {
      "text/plain": [
       "Counter({'宏观': 4,\n",
       "         '企业发展': 5,\n",
       "         '就业': 3,\n",
       "         '教育': 1,\n",
       "         '地方财政': 1,\n",
       "         '金融': 1,\n",
       "         '民生扶贫': 1,\n",
       "         '区域发展': 3,\n",
       "         '出口贸易': 1})"
      ]
     },
     "execution_count": 53,
     "metadata": {},
     "output_type": "execute_result"
    }
   ],
   "source": [
    "topics_2023"
   ]
  },
  {
   "cell_type": "code",
   "execution_count": null,
   "id": "b17c2668",
   "metadata": {},
   "outputs": [],
   "source": []
  }
 ],
 "metadata": {
  "kernelspec": {
   "display_name": "Python 3 (ipykernel)",
   "language": "python",
   "name": "python3"
  },
  "language_info": {
   "codemirror_mode": {
    "name": "ipython",
    "version": 3
   },
   "file_extension": ".py",
   "mimetype": "text/x-python",
   "name": "python",
   "nbconvert_exporter": "python",
   "pygments_lexer": "ipython3",
   "version": "3.10.9"
  }
 },
 "nbformat": 4,
 "nbformat_minor": 5
}
