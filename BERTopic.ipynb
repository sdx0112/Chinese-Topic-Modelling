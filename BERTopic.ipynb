{
 "cells": [
  {
   "cell_type": "code",
   "execution_count": 1,
   "id": "1a555051",
   "metadata": {},
   "outputs": [],
   "source": [
    "from bertopic import BERTopic\n",
    "import pandas as pd\n",
    "from config import *\n",
    "import jieba"
   ]
  },
  {
   "cell_type": "code",
   "execution_count": 2,
   "id": "df49f3e6",
   "metadata": {},
   "outputs": [],
   "source": [
    "# Text preprocessing\n",
    "def clean(doc, stopwords):\n",
    "    words = [word for word in jieba.cut(doc) if word not in stopwords]\n",
    "    return \" \".join(words)"
   ]
  },
  {
   "cell_type": "code",
   "execution_count": 3,
   "id": "021dbf59",
   "metadata": {},
   "outputs": [],
   "source": [
    "df = pd.read_csv(data_path)\n",
    "docs = df['RAW_CONTENT'].tolist()"
   ]
  },
  {
   "cell_type": "code",
   "execution_count": 4,
   "id": "f09fc1dd",
   "metadata": {},
   "outputs": [],
   "source": [
    "# Read Chinese stopwords\n",
    "fp = open(stopwords_cn, \"r\", encoding=\"utf-8\")\n",
    "stp_cn = fp.readlines()\n",
    "fp.close()\n",
    "for i in range(len(stp_cn)):\n",
    "    stp_cn[i] = stp_cn[i].rstrip(\"\\n\")"
   ]
  },
  {
   "cell_type": "code",
   "execution_count": 7,
   "id": "8686e979",
   "metadata": {},
   "outputs": [],
   "source": [
    "# Tokenize the context and remove stopwords\n",
    "doc_clean = [clean(doc, stp_cn) for doc in docs]"
   ]
  },
  {
   "cell_type": "code",
   "execution_count": 9,
   "id": "78485e90",
   "metadata": {},
   "outputs": [
    {
     "data": {
      "text/plain": [
       "'\\u3000 \\u3000 中共中央 总书记 国家 主席 中央军委 主席 中央 全面 深化改革 委员会 主任 习近平 月 21 日 下午 主持 召开 二十 届 中央 全面 深化改革 委员会 第一次 会议 发表 重要讲话 强调 今年 全面 贯彻 党 二十大 精神 开局 年 改革开放 45 周年 党 十八 届 三中全会 召开 10 周年 实现 新 时代 新 征程 目标 任务 全面 深化改革 推进 中国式 现代化 根本 动力 稳 大局 应变 局 开新局 重要 抓手 把准 方向 守正 创新 真抓实干 新 征程 谱写 改革开放 新篇章 \\r\\n \\u3000 \\u3000 中共 中央政治局常委 中央 全面 深化改革 委员会 副 主任 李强 王沪宁 蔡奇 出席会议 \\r\\n \\u3000 \\u3000 会议 审议 强化 企业 科技 创新 主体 地位 意见 加强 改进 国有经济 管理 有力 支持 中国式 现代化 建设 意见 促进 民营 经济 发展壮大 意见 中央 全面 深化改革 委员会 工作 规则 中央 全面 深化改革 委员会 专项 小组 工作 规则 中央 全面 深化改革 委员会 办公室 工作细则 中央 全面 深化改革 委员会 2023 年 工作 要点 \\r\\n \\u3000 \\u3000 会议 指出 强化 企业 科技 创新 主体 地位 深化 科技体制 改革 推动 实现 高水平 科技 自立自强 关键 举措 坚持 系统 观念 围绕 创新 创新 创新 创新 制度 建设 着眼 技术创新 决策 研发 投入 科研 组织 成果 转化 全 链条 整体 部署 政策 资金 项目 平台 人才 关键 创新 资源 系统 布局 一体 推进 科技 创新 产业 创新 体制 机制 创新 推动 形成 企业 主体 产学研 高效 协同 深度 融合 创新 体系 聚焦 国家 战略 产业 发展 重大 需求 加大 企业 创新 支持 力度 积极 鼓励 有效 引导 民营企业 参与 国家 重大 创新 推动 企业 关键 核心 技术创新 重大 原创 技术 突破 中 发挥作用 \\r\\n \\u3000 \\u3000 会议 强调 加强 改进 国有经济 管理 立足 新 时代 新 征程 国有经济 肩负 使命 任务 功能定位 服务 构建 新 发展 格局 推动 高质量 发展 促进 共同富裕 维护 国家 安全 战略 高度 出发 完善 国有经济 安全 责任 质量 结构 资产 企业 管理 深化 国有企业 改革 着力 补短 板 强弱 项 固 底板 扬 优势 构建 顶层 统筹 权责 明确 运行 高效 监管 有力 国有经济 管理体系 \\r\\n \\u3000 \\u3000 会议 指出 支持 民营 经济 发展 党中央 一贯方针 促进 民营 经济 发展壮大 着力 优化 民营 经济 发展 环境 破除 制约 民营企业 公平 参与 市场竞争 制度 障碍 引导 民营企业 高质量 发展 中 找准 定位 企业 改革 发展 合规 经营 转型 升级 不断 提升 发展 质量 充分考虑 民营 经济 特点 完善 政策 执行 方式 加强 政策 协调性 推动 各项 优惠政策 精准 直达 切实 解决 企业 实际困难 构建 亲清 政商 关系 落到实处 引导 促进 民营 经济 人士 健康成长 \\r\\n \\u3000 \\u3000 会议 强调 党 十八 巨大 政治 勇气 全面 深化改革 坚持 目标 引领 突出 问题 导向 敢于 突进 深水 区 敢于 啃 硬骨头 敢于 涉险 滩 敢于 面对 新 矛盾 新 挑战 坚决 破除 方面 体制 机制 弊端 前所未有 力度 打开 崭新 局面 新 时代 10 年 推动 改革 全方位 深层次 根本性 取得 成就 历史性 革命性 开创性 放眼 全世界 没有 国家 政党 政治 气魄 历史 担当 敢于 大刀阔斧 刀刃 自我 革命 没有 国家 政党 短时间 推动 范围 大规模 力度 改革 这是 中国 特色 社会主义 制度 鲜明特征 显著 优势 \\r\\n \\u3000 \\u3000 新 征程 继续 推进 全面 深化改革 坚持 加强 党的领导 把准 改革 方向 明确 目标 任务 科学 谋划 创新 魄力 各项 工作 抓好 抓实 抓好 重大 改革 任务 攻坚克难 统筹 全局 把握 重点 聚焦 全面 建设 社会主义 现代化 国家 中 重大 问题 谋划 推进改革 机构 改革 创造 有利条件 努力 破除 方面 体制 机制 弊端 调整 深层次 利益 格局 攻下 难点 加强 改革 调查 研究 多到 矛盾 问题 集中 地方 部门 深入基层 走进 群众 体察 实情 解剖麻雀 深入研究 具体 问题 善于 综合 方面 情况 总体 思路 全局 工作 动脑筋 下功夫 加大 改革 抓 落实 力度 完善 协同 条块结合 精准 高效 改革 落实 机制 更 气力 抓好 改革 督察 工作 推动 改革 举措 落地 见效 调动 方面 改革 积极性 健全 改革 创新 激励机制 加大 改革 典型 经验交流 推广 加强 舆论 引导 及时 回应 各方 关切 \\r\\n \\u3000 \\u3000 中央 全面 深化改革 委员会 委员 出席会议 中央 国家机关 部门 负责同志 列席会议 \\r\\n'"
      ]
     },
     "execution_count": 9,
     "metadata": {},
     "output_type": "execute_result"
    }
   ],
   "source": [
    "doc_clean[0]"
   ]
  },
  {
   "cell_type": "code",
   "execution_count": 10,
   "id": "41d14e39",
   "metadata": {},
   "outputs": [
    {
     "data": {
      "application/vnd.jupyter.widget-view+json": {
       "model_id": "8236d5d132fb40deb92477906e10ce76",
       "version_major": 2,
       "version_minor": 0
      },
      "text/plain": [
       "Downloading (…)e9125/.gitattributes:   0%|          | 0.00/1.18k [00:00<?, ?B/s]"
      ]
     },
     "metadata": {},
     "output_type": "display_data"
    },
    {
     "data": {
      "application/vnd.jupyter.widget-view+json": {
       "model_id": "af8dde59054a47fe981154e0a81e6523",
       "version_major": 2,
       "version_minor": 0
      },
      "text/plain": [
       "Downloading (…)_Pooling/config.json:   0%|          | 0.00/190 [00:00<?, ?B/s]"
      ]
     },
     "metadata": {},
     "output_type": "display_data"
    },
    {
     "data": {
      "application/vnd.jupyter.widget-view+json": {
       "model_id": "6e0aa5eb31f941b2942234a39da0ae60",
       "version_major": 2,
       "version_minor": 0
      },
      "text/plain": [
       "Downloading (…)7e55de9125/README.md:   0%|          | 0.00/10.6k [00:00<?, ?B/s]"
      ]
     },
     "metadata": {},
     "output_type": "display_data"
    },
    {
     "data": {
      "application/vnd.jupyter.widget-view+json": {
       "model_id": "26b9bbc82b5f49aab41bf82a2abc3e90",
       "version_major": 2,
       "version_minor": 0
      },
      "text/plain": [
       "Downloading (…)55de9125/config.json:   0%|          | 0.00/612 [00:00<?, ?B/s]"
      ]
     },
     "metadata": {},
     "output_type": "display_data"
    },
    {
     "data": {
      "application/vnd.jupyter.widget-view+json": {
       "model_id": "c14b17ec571e4a3f8c002c23503bad79",
       "version_major": 2,
       "version_minor": 0
      },
      "text/plain": [
       "Downloading (…)ce_transformers.json:   0%|          | 0.00/116 [00:00<?, ?B/s]"
      ]
     },
     "metadata": {},
     "output_type": "display_data"
    },
    {
     "data": {
      "application/vnd.jupyter.widget-view+json": {
       "model_id": "ff840845ef9341bc91109369b3fc7969",
       "version_major": 2,
       "version_minor": 0
      },
      "text/plain": [
       "Downloading (…)125/data_config.json:   0%|          | 0.00/39.3k [00:00<?, ?B/s]"
      ]
     },
     "metadata": {},
     "output_type": "display_data"
    },
    {
     "data": {
      "application/vnd.jupyter.widget-view+json": {
       "model_id": "fc9c5e315a444bfa89abf6490ed7fe18",
       "version_major": 2,
       "version_minor": 0
      },
      "text/plain": [
       "Downloading pytorch_model.bin:   0%|          | 0.00/90.9M [00:00<?, ?B/s]"
      ]
     },
     "metadata": {},
     "output_type": "display_data"
    },
    {
     "data": {
      "application/vnd.jupyter.widget-view+json": {
       "model_id": "4780e3352b42498db94ef8d421aeb63b",
       "version_major": 2,
       "version_minor": 0
      },
      "text/plain": [
       "Downloading (…)nce_bert_config.json:   0%|          | 0.00/53.0 [00:00<?, ?B/s]"
      ]
     },
     "metadata": {},
     "output_type": "display_data"
    },
    {
     "data": {
      "application/vnd.jupyter.widget-view+json": {
       "model_id": "70df411df36547a8a27d34c787800361",
       "version_major": 2,
       "version_minor": 0
      },
      "text/plain": [
       "Downloading (…)cial_tokens_map.json:   0%|          | 0.00/112 [00:00<?, ?B/s]"
      ]
     },
     "metadata": {},
     "output_type": "display_data"
    },
    {
     "data": {
      "application/vnd.jupyter.widget-view+json": {
       "model_id": "5bc66b72de89405da64475f30bdfb6cb",
       "version_major": 2,
       "version_minor": 0
      },
      "text/plain": [
       "Downloading (…)e9125/tokenizer.json:   0%|          | 0.00/466k [00:00<?, ?B/s]"
      ]
     },
     "metadata": {},
     "output_type": "display_data"
    },
    {
     "data": {
      "application/vnd.jupyter.widget-view+json": {
       "model_id": "30150d590c614b8d8f40cf6cd58be1a0",
       "version_major": 2,
       "version_minor": 0
      },
      "text/plain": [
       "Downloading (…)okenizer_config.json:   0%|          | 0.00/350 [00:00<?, ?B/s]"
      ]
     },
     "metadata": {},
     "output_type": "display_data"
    },
    {
     "data": {
      "application/vnd.jupyter.widget-view+json": {
       "model_id": "21006c525c9747f48cac859fc4e50ce0",
       "version_major": 2,
       "version_minor": 0
      },
      "text/plain": [
       "Downloading (…)9125/train_script.py:   0%|          | 0.00/13.2k [00:00<?, ?B/s]"
      ]
     },
     "metadata": {},
     "output_type": "display_data"
    },
    {
     "data": {
      "application/vnd.jupyter.widget-view+json": {
       "model_id": "4173c19069714ae9a504339a60fe7156",
       "version_major": 2,
       "version_minor": 0
      },
      "text/plain": [
       "Downloading (…)7e55de9125/vocab.txt:   0%|          | 0.00/232k [00:00<?, ?B/s]"
      ]
     },
     "metadata": {},
     "output_type": "display_data"
    },
    {
     "data": {
      "application/vnd.jupyter.widget-view+json": {
       "model_id": "efd2b07729e34deaaa4236d3b48a8b97",
       "version_major": 2,
       "version_minor": 0
      },
      "text/plain": [
       "Downloading (…)5de9125/modules.json:   0%|          | 0.00/349 [00:00<?, ?B/s]"
      ]
     },
     "metadata": {},
     "output_type": "display_data"
    }
   ],
   "source": [
    "topic_model = BERTopic()\n",
    "topics, probs = topic_model.fit_transform(doc_clean)"
   ]
  },
  {
   "cell_type": "code",
   "execution_count": 11,
   "id": "d9dcf99e",
   "metadata": {},
   "outputs": [
    {
     "data": {
      "text/html": [
       "<div>\n",
       "<style scoped>\n",
       "    .dataframe tbody tr th:only-of-type {\n",
       "        vertical-align: middle;\n",
       "    }\n",
       "\n",
       "    .dataframe tbody tr th {\n",
       "        vertical-align: top;\n",
       "    }\n",
       "\n",
       "    .dataframe thead th {\n",
       "        text-align: right;\n",
       "    }\n",
       "</style>\n",
       "<table border=\"1\" class=\"dataframe\">\n",
       "  <thead>\n",
       "    <tr style=\"text-align: right;\">\n",
       "      <th></th>\n",
       "      <th>Topic</th>\n",
       "      <th>Count</th>\n",
       "      <th>Name</th>\n",
       "      <th>Representation</th>\n",
       "      <th>Representative_Docs</th>\n",
       "    </tr>\n",
       "  </thead>\n",
       "  <tbody>\n",
       "    <tr>\n",
       "      <th>0</th>\n",
       "      <td>-1</td>\n",
       "      <td>4</td>\n",
       "      <td>-1_496_28_600_2013</td>\n",
       "      <td>[496, 28, 600, 2013, 2000, 2015, 2025, 24, , ]</td>\n",
       "      <td>[李克强 主持 召开 国务院 常务会议 \\r\\n 部署 促进 消费品 标准 质量 提升   ...</td>\n",
       "    </tr>\n",
       "    <tr>\n",
       "      <th>1</th>\n",
       "      <td>0</td>\n",
       "      <td>269</td>\n",
       "      <td>0_10_20_15_12</td>\n",
       "      <td>[10, 20, 15, 12, 11, 30, 100, 13, 2025, 50]</td>\n",
       "      <td>[李克强 主持 召开 国务院 常务会议 \\r\\n 决定 推出 进一步 减税 措施   持续 ...</td>\n",
       "    </tr>\n",
       "    <tr>\n",
       "      <th>2</th>\n",
       "      <td>1</td>\n",
       "      <td>226</td>\n",
       "      <td>1_2020_12_30_10</td>\n",
       "      <td>[2020, 12, 30, 10, 2014, 18, 13, 40, 28, 15]</td>\n",
       "      <td>[代表 \\r\\n 现在 代表 国务院 大会 报告 政府 工作 请予 审议 请 全国政协 委员...</td>\n",
       "    </tr>\n",
       "    <tr>\n",
       "      <th>3</th>\n",
       "      <td>2</td>\n",
       "      <td>32</td>\n",
       "      <td>2_11_21_12_10</td>\n",
       "      <td>[11, 21, 12, 10, 2025, 72, 30, 35, 781, 50]</td>\n",
       "      <td>[李克强 主持 召开 国务院 常务会议 \\r\\n 听取 江苏 响水 天嘉宜 化工 有限公司 ...</td>\n",
       "    </tr>\n",
       "  </tbody>\n",
       "</table>\n",
       "</div>"
      ],
      "text/plain": [
       "   Topic  Count                Name  \\\n",
       "0     -1      4  -1_496_28_600_2013   \n",
       "1      0    269       0_10_20_15_12   \n",
       "2      1    226     1_2020_12_30_10   \n",
       "3      2     32       2_11_21_12_10   \n",
       "\n",
       "                                   Representation  \\\n",
       "0  [496, 28, 600, 2013, 2000, 2015, 2025, 24, , ]   \n",
       "1     [10, 20, 15, 12, 11, 30, 100, 13, 2025, 50]   \n",
       "2    [2020, 12, 30, 10, 2014, 18, 13, 40, 28, 15]   \n",
       "3     [11, 21, 12, 10, 2025, 72, 30, 35, 781, 50]   \n",
       "\n",
       "                                 Representative_Docs  \n",
       "0  [李克强 主持 召开 国务院 常务会议 \\r\\n 部署 促进 消费品 标准 质量 提升   ...  \n",
       "1  [李克强 主持 召开 国务院 常务会议 \\r\\n 决定 推出 进一步 减税 措施   持续 ...  \n",
       "2  [代表 \\r\\n 现在 代表 国务院 大会 报告 政府 工作 请予 审议 请 全国政协 委员...  \n",
       "3  [李克强 主持 召开 国务院 常务会议 \\r\\n 听取 江苏 响水 天嘉宜 化工 有限公司 ...  "
      ]
     },
     "execution_count": 11,
     "metadata": {},
     "output_type": "execute_result"
    }
   ],
   "source": [
    "topic_model.get_topic_info()"
   ]
  },
  {
   "cell_type": "code",
   "execution_count": 12,
   "id": "5abe571b",
   "metadata": {},
   "outputs": [
    {
     "data": {
      "text/plain": [
       "[('10', 0.11628864100257934),\n",
       " ('20', 0.08669709046090047),\n",
       " ('15', 0.08324146803212158),\n",
       " ('12', 0.0791573220894692),\n",
       " ('11', 0.07761172366094767),\n",
       " ('30', 0.059709360934257424),\n",
       " ('100', 0.0584958969004118),\n",
       " ('13', 0.05648850879100748),\n",
       " ('2025', 0.05572856295651541),\n",
       " ('50', 0.053949009528471766)]"
      ]
     },
     "execution_count": 12,
     "metadata": {},
     "output_type": "execute_result"
    }
   ],
   "source": [
    "topic_model.get_topic(0)"
   ]
  },
  {
   "cell_type": "code",
   "execution_count": 13,
   "id": "fd8901b6",
   "metadata": {},
   "outputs": [
    {
     "data": {
      "text/html": [
       "<div>\n",
       "<style scoped>\n",
       "    .dataframe tbody tr th:only-of-type {\n",
       "        vertical-align: middle;\n",
       "    }\n",
       "\n",
       "    .dataframe tbody tr th {\n",
       "        vertical-align: top;\n",
       "    }\n",
       "\n",
       "    .dataframe thead th {\n",
       "        text-align: right;\n",
       "    }\n",
       "</style>\n",
       "<table border=\"1\" class=\"dataframe\">\n",
       "  <thead>\n",
       "    <tr style=\"text-align: right;\">\n",
       "      <th></th>\n",
       "      <th>Document</th>\n",
       "      <th>Topic</th>\n",
       "      <th>Name</th>\n",
       "      <th>Representation</th>\n",
       "      <th>Representative_Docs</th>\n",
       "      <th>Top_n_words</th>\n",
       "      <th>Probability</th>\n",
       "      <th>Representative_document</th>\n",
       "    </tr>\n",
       "  </thead>\n",
       "  <tbody>\n",
       "    <tr>\n",
       "      <th>0</th>\n",
       "      <td>中共中央总书记、国家主席、中央军委主席、中央全面深化改革委员会主任习近平4月21日下午主...</td>\n",
       "      <td>1</td>\n",
       "      <td>1_2020_12_30_10</td>\n",
       "      <td>[2020, 12, 30, 10, 2014, 18, 13, 40, 28, 15]</td>\n",
       "      <td>[代表 \\r\\n 现在 代表 国务院 大会 报告 政府 工作 请予 审议 请 全国政协 委员...</td>\n",
       "      <td>2020 - 12 - 30 - 10 - 2014 - 18 - 13 - 40 - 28...</td>\n",
       "      <td>0.801501</td>\n",
       "      <td>False</td>\n",
       "    </tr>\n",
       "    <tr>\n",
       "      <th>1</th>\n",
       "      <td>中共中央政治局4月28日召开会议，分析研究当前经济形势和经济工作。中共中央总书记习近平主...</td>\n",
       "      <td>1</td>\n",
       "      <td>1_2020_12_30_10</td>\n",
       "      <td>[2020, 12, 30, 10, 2014, 18, 13, 40, 28, 15]</td>\n",
       "      <td>[代表 \\r\\n 现在 代表 国务院 大会 报告 政府 工作 请予 审议 请 全国政协 委员...</td>\n",
       "      <td>2020 - 12 - 30 - 10 - 2014 - 18 - 13 - 40 - 28...</td>\n",
       "      <td>0.914712</td>\n",
       "      <td>False</td>\n",
       "    </tr>\n",
       "    <tr>\n",
       "      <th>2</th>\n",
       "      <td>中共中央政治局3月30日召开会议，决定从今年4月开始，在全党自上而下分两批开展学习贯彻习...</td>\n",
       "      <td>1</td>\n",
       "      <td>1_2020_12_30_10</td>\n",
       "      <td>[2020, 12, 30, 10, 2014, 18, 13, 40, 28, 15]</td>\n",
       "      <td>[代表 \\r\\n 现在 代表 国务院 大会 报告 政府 工作 请予 审议 请 全国政协 委员...</td>\n",
       "      <td>2020 - 12 - 30 - 10 - 2014 - 18 - 13 - 40 - 28...</td>\n",
       "      <td>1.000000</td>\n",
       "      <td>False</td>\n",
       "    </tr>\n",
       "    <tr>\n",
       "      <th>3</th>\n",
       "      <td>中共中央政治局4月19日召开会议，决定从今年下半年开始，用一年左右时间，在全党自上而下分...</td>\n",
       "      <td>1</td>\n",
       "      <td>1_2020_12_30_10</td>\n",
       "      <td>[2020, 12, 30, 10, 2014, 18, 13, 40, 28, 15]</td>\n",
       "      <td>[代表 \\r\\n 现在 代表 国务院 大会 报告 政府 工作 请予 审议 请 全国政协 委员...</td>\n",
       "      <td>2020 - 12 - 30 - 10 - 2014 - 18 - 13 - 40 - 28...</td>\n",
       "      <td>1.000000</td>\n",
       "      <td>False</td>\n",
       "    </tr>\n",
       "    <tr>\n",
       "      <th>4</th>\n",
       "      <td>李克强主持召开国务院常务会议\\r\\n听取关于地方和部门推进重大项目落地审计情况汇报 完善奖惩...</td>\n",
       "      <td>0</td>\n",
       "      <td>0_10_20_15_12</td>\n",
       "      <td>[10, 20, 15, 12, 11, 30, 100, 13, 2025, 50]</td>\n",
       "      <td>[李克强 主持 召开 国务院 常务会议 \\r\\n 决定 推出 进一步 减税 措施   持续 ...</td>\n",
       "      <td>10 - 20 - 15 - 12 - 11 - 30 - 100 - 13 - 2025 ...</td>\n",
       "      <td>1.000000</td>\n",
       "      <td>False</td>\n",
       "    </tr>\n",
       "    <tr>\n",
       "      <th>...</th>\n",
       "      <td>...</td>\n",
       "      <td>...</td>\n",
       "      <td>...</td>\n",
       "      <td>...</td>\n",
       "      <td>...</td>\n",
       "      <td>...</td>\n",
       "      <td>...</td>\n",
       "      <td>...</td>\n",
       "    </tr>\n",
       "    <tr>\n",
       "      <th>526</th>\n",
       "      <td>各位代表：\\r\\n　　本届政府履行职责已经一年。现在，我代表国务院，向大会作政府工作报告...</td>\n",
       "      <td>1</td>\n",
       "      <td>1_2020_12_30_10</td>\n",
       "      <td>[2020, 12, 30, 10, 2014, 18, 13, 40, 28, 15]</td>\n",
       "      <td>[代表 \\r\\n 现在 代表 国务院 大会 报告 政府 工作 请予 审议 请 全国政协 委员...</td>\n",
       "      <td>2020 - 12 - 30 - 10 - 2014 - 18 - 13 - 40 - 28...</td>\n",
       "      <td>1.000000</td>\n",
       "      <td>False</td>\n",
       "    </tr>\n",
       "    <tr>\n",
       "      <th>527</th>\n",
       "      <td>秩序的大案要案。加快建立社会信用体系。高度重视安全生产，切实加强监督管理，保护人民生命财产安...</td>\n",
       "      <td>0</td>\n",
       "      <td>0_10_20_15_12</td>\n",
       "      <td>[10, 20, 15, 12, 11, 30, 100, 13, 2025, 50]</td>\n",
       "      <td>[李克强 主持 召开 国务院 常务会议 \\r\\n 决定 推出 进一步 减税 措施   持续 ...</td>\n",
       "      <td>10 - 20 - 15 - 12 - 11 - 30 - 100 - 13 - 2025 ...</td>\n",
       "      <td>0.646641</td>\n",
       "      <td>False</td>\n",
       "    </tr>\n",
       "    <tr>\n",
       "      <th>528</th>\n",
       "      <td>各位代表:\\r\\n　　本届政府１９９８年３月就职，任期即将结束。现在，我代表国务院，向第...</td>\n",
       "      <td>1</td>\n",
       "      <td>1_2020_12_30_10</td>\n",
       "      <td>[2020, 12, 30, 10, 2014, 18, 13, 40, 28, 15]</td>\n",
       "      <td>[代表 \\r\\n 现在 代表 国务院 大会 报告 政府 工作 请予 审议 请 全国政协 委员...</td>\n",
       "      <td>2020 - 12 - 30 - 10 - 2014 - 18 - 13 - 40 - 28...</td>\n",
       "      <td>1.000000</td>\n",
       "      <td>False</td>\n",
       "    </tr>\n",
       "    <tr>\n",
       "      <th>529</th>\n",
       "      <td>是增加对农业和农村的投入。这是解决“三农”问题，促进城乡协调发展的重大举措。五年来，国家财政...</td>\n",
       "      <td>0</td>\n",
       "      <td>0_10_20_15_12</td>\n",
       "      <td>[10, 20, 15, 12, 11, 30, 100, 13, 2025, 50]</td>\n",
       "      <td>[李克强 主持 召开 国务院 常务会议 \\r\\n 决定 推出 进一步 减税 措施   持续 ...</td>\n",
       "      <td>10 - 20 - 15 - 12 - 11 - 30 - 100 - 13 - 2025 ...</td>\n",
       "      <td>1.000000</td>\n",
       "      <td>False</td>\n",
       "    </tr>\n",
       "    <tr>\n",
       "      <th>530</th>\n",
       "      <td>各位代表：\\r\\n　　现在，我代表国务院向大会作政府工作报告，请予审议，并请全国政协各位...</td>\n",
       "      <td>1</td>\n",
       "      <td>1_2020_12_30_10</td>\n",
       "      <td>[2020, 12, 30, 10, 2014, 18, 13, 40, 28, 15]</td>\n",
       "      <td>[代表 \\r\\n 现在 代表 国务院 大会 报告 政府 工作 请予 审议 请 全国政协 委员...</td>\n",
       "      <td>2020 - 12 - 30 - 10 - 2014 - 18 - 13 - 40 - 28...</td>\n",
       "      <td>1.000000</td>\n",
       "      <td>False</td>\n",
       "    </tr>\n",
       "  </tbody>\n",
       "</table>\n",
       "<p>531 rows × 8 columns</p>\n",
       "</div>"
      ],
      "text/plain": [
       "                                              Document  Topic  \\\n",
       "0    　　中共中央总书记、国家主席、中央军委主席、中央全面深化改革委员会主任习近平4月21日下午主...      1   \n",
       "1    　　中共中央政治局4月28日召开会议，分析研究当前经济形势和经济工作。中共中央总书记习近平主...      1   \n",
       "2    　　中共中央政治局3月30日召开会议，决定从今年4月开始，在全党自上而下分两批开展学习贯彻习...      1   \n",
       "3    　　中共中央政治局4月19日召开会议，决定从今年下半年开始，用一年左右时间，在全党自上而下分...      1   \n",
       "4    李克强主持召开国务院常务会议\\r\\n听取关于地方和部门推进重大项目落地审计情况汇报 完善奖惩...      0   \n",
       "..                                                 ...    ...   \n",
       "526  　　各位代表：\\r\\n　　本届政府履行职责已经一年。现在，我代表国务院，向大会作政府工作报告...      1   \n",
       "527  秩序的大案要案。加快建立社会信用体系。高度重视安全生产，切实加强监督管理，保护人民生命财产安...      0   \n",
       "528  　　各位代表:\\r\\n　　本届政府１９９８年３月就职，任期即将结束。现在，我代表国务院，向第...      1   \n",
       "529  是增加对农业和农村的投入。这是解决“三农”问题，促进城乡协调发展的重大举措。五年来，国家财政...      0   \n",
       "530  　　各位代表：\\r\\n　　现在，我代表国务院向大会作政府工作报告，请予审议，并请全国政协各位...      1   \n",
       "\n",
       "                Name                                Representation  \\\n",
       "0    1_2020_12_30_10  [2020, 12, 30, 10, 2014, 18, 13, 40, 28, 15]   \n",
       "1    1_2020_12_30_10  [2020, 12, 30, 10, 2014, 18, 13, 40, 28, 15]   \n",
       "2    1_2020_12_30_10  [2020, 12, 30, 10, 2014, 18, 13, 40, 28, 15]   \n",
       "3    1_2020_12_30_10  [2020, 12, 30, 10, 2014, 18, 13, 40, 28, 15]   \n",
       "4      0_10_20_15_12   [10, 20, 15, 12, 11, 30, 100, 13, 2025, 50]   \n",
       "..               ...                                           ...   \n",
       "526  1_2020_12_30_10  [2020, 12, 30, 10, 2014, 18, 13, 40, 28, 15]   \n",
       "527    0_10_20_15_12   [10, 20, 15, 12, 11, 30, 100, 13, 2025, 50]   \n",
       "528  1_2020_12_30_10  [2020, 12, 30, 10, 2014, 18, 13, 40, 28, 15]   \n",
       "529    0_10_20_15_12   [10, 20, 15, 12, 11, 30, 100, 13, 2025, 50]   \n",
       "530  1_2020_12_30_10  [2020, 12, 30, 10, 2014, 18, 13, 40, 28, 15]   \n",
       "\n",
       "                                   Representative_Docs  \\\n",
       "0    [代表 \\r\\n 现在 代表 国务院 大会 报告 政府 工作 请予 审议 请 全国政协 委员...   \n",
       "1    [代表 \\r\\n 现在 代表 国务院 大会 报告 政府 工作 请予 审议 请 全国政协 委员...   \n",
       "2    [代表 \\r\\n 现在 代表 国务院 大会 报告 政府 工作 请予 审议 请 全国政协 委员...   \n",
       "3    [代表 \\r\\n 现在 代表 国务院 大会 报告 政府 工作 请予 审议 请 全国政协 委员...   \n",
       "4    [李克强 主持 召开 国务院 常务会议 \\r\\n 决定 推出 进一步 减税 措施   持续 ...   \n",
       "..                                                 ...   \n",
       "526  [代表 \\r\\n 现在 代表 国务院 大会 报告 政府 工作 请予 审议 请 全国政协 委员...   \n",
       "527  [李克强 主持 召开 国务院 常务会议 \\r\\n 决定 推出 进一步 减税 措施   持续 ...   \n",
       "528  [代表 \\r\\n 现在 代表 国务院 大会 报告 政府 工作 请予 审议 请 全国政协 委员...   \n",
       "529  [李克强 主持 召开 国务院 常务会议 \\r\\n 决定 推出 进一步 减税 措施   持续 ...   \n",
       "530  [代表 \\r\\n 现在 代表 国务院 大会 报告 政府 工作 请予 审议 请 全国政协 委员...   \n",
       "\n",
       "                                           Top_n_words  Probability  \\\n",
       "0    2020 - 12 - 30 - 10 - 2014 - 18 - 13 - 40 - 28...     0.801501   \n",
       "1    2020 - 12 - 30 - 10 - 2014 - 18 - 13 - 40 - 28...     0.914712   \n",
       "2    2020 - 12 - 30 - 10 - 2014 - 18 - 13 - 40 - 28...     1.000000   \n",
       "3    2020 - 12 - 30 - 10 - 2014 - 18 - 13 - 40 - 28...     1.000000   \n",
       "4    10 - 20 - 15 - 12 - 11 - 30 - 100 - 13 - 2025 ...     1.000000   \n",
       "..                                                 ...          ...   \n",
       "526  2020 - 12 - 30 - 10 - 2014 - 18 - 13 - 40 - 28...     1.000000   \n",
       "527  10 - 20 - 15 - 12 - 11 - 30 - 100 - 13 - 2025 ...     0.646641   \n",
       "528  2020 - 12 - 30 - 10 - 2014 - 18 - 13 - 40 - 28...     1.000000   \n",
       "529  10 - 20 - 15 - 12 - 11 - 30 - 100 - 13 - 2025 ...     1.000000   \n",
       "530  2020 - 12 - 30 - 10 - 2014 - 18 - 13 - 40 - 28...     1.000000   \n",
       "\n",
       "     Representative_document  \n",
       "0                      False  \n",
       "1                      False  \n",
       "2                      False  \n",
       "3                      False  \n",
       "4                      False  \n",
       "..                       ...  \n",
       "526                    False  \n",
       "527                    False  \n",
       "528                    False  \n",
       "529                    False  \n",
       "530                    False  \n",
       "\n",
       "[531 rows x 8 columns]"
      ]
     },
     "execution_count": 13,
     "metadata": {},
     "output_type": "execute_result"
    }
   ],
   "source": [
    "topic_model.get_document_info(docs)"
   ]
  },
  {
   "cell_type": "code",
   "execution_count": 14,
   "id": "dce572eb",
   "metadata": {},
   "outputs": [
    {
     "name": "stderr",
     "output_type": "stream",
     "text": [
      "D:\\Users\\shaodongxu\\AppData\\Roaming\\Python\\Python310\\site-packages\\scipy\\sparse\\linalg\\_eigen\\arpack\\arpack.py:1600: RuntimeWarning: k >= N for N * N square matrix. Attempting to use scipy.linalg.eigh instead.\n",
      "  warnings.warn(\"k >= N for N * N square matrix. \"\n"
     ]
    },
    {
     "data": {
      "text/html": [
       "<pre style=\"white-space:pre;overflow-x:auto;line-height:normal;font-family:Menlo,'DejaVu Sans Mono',consolas,'Courier New',monospace\"><span style=\"color: #800000; text-decoration-color: #800000\">╭─────────────────────────────── </span><span style=\"color: #800000; text-decoration-color: #800000; font-weight: bold\">Traceback </span><span style=\"color: #bf7f7f; text-decoration-color: #bf7f7f; font-weight: bold\">(most recent call last)</span><span style=\"color: #800000; text-decoration-color: #800000\"> ────────────────────────────────╮</span>\n",
       "<span style=\"color: #800000; text-decoration-color: #800000\">│</span> <span style=\"color: #808000; text-decoration-color: #808000\">D:\\temp\\ipykernel_17324\\3693976230.py</span>:<span style=\"color: #0000ff; text-decoration-color: #0000ff\">1</span> in <span style=\"color: #00ff00; text-decoration-color: #00ff00\">&lt;module&gt;</span>                                              <span style=\"color: #800000; text-decoration-color: #800000\">│</span>\n",
       "<span style=\"color: #800000; text-decoration-color: #800000\">│</span>                                                                                                  <span style=\"color: #800000; text-decoration-color: #800000\">│</span>\n",
       "<span style=\"color: #800000; text-decoration-color: #800000\">│</span> <span style=\"color: #800000; text-decoration-color: #800000; font-style: italic\">[Errno 2] No such file or directory: 'D:\\\\temp\\\\ipykernel_17324\\\\3693976230.py'</span>                  <span style=\"color: #800000; text-decoration-color: #800000\">│</span>\n",
       "<span style=\"color: #800000; text-decoration-color: #800000\">│</span>                                                                                                  <span style=\"color: #800000; text-decoration-color: #800000\">│</span>\n",
       "<span style=\"color: #800000; text-decoration-color: #800000\">│</span> <span style=\"color: #808000; text-decoration-color: #808000\">D:\\Users\\shaodongxu\\anaconda3\\lib\\site-packages\\bertopic\\_bertopic.py</span>:<span style=\"color: #0000ff; text-decoration-color: #0000ff\">2193</span> in <span style=\"color: #00ff00; text-decoration-color: #00ff00\">visualize_topics</span>   <span style=\"color: #800000; text-decoration-color: #800000\">│</span>\n",
       "<span style=\"color: #800000; text-decoration-color: #800000\">│</span>                                                                                                  <span style=\"color: #800000; text-decoration-color: #800000\">│</span>\n",
       "<span style=\"color: #800000; text-decoration-color: #800000\">│</span>   <span style=\"color: #7f7f7f; text-decoration-color: #7f7f7f\">2190 </span><span style=\"color: #bfbf7f; text-decoration-color: #bfbf7f\">│   │   </span><span style=\"color: #808000; text-decoration-color: #808000\">```</span>                                                                               <span style=\"color: #800000; text-decoration-color: #800000\">│</span>\n",
       "<span style=\"color: #800000; text-decoration-color: #800000\">│</span>   <span style=\"color: #7f7f7f; text-decoration-color: #7f7f7f\">2191 </span><span style=\"color: #bfbf7f; text-decoration-color: #bfbf7f\">│   │   </span><span style=\"color: #808000; text-decoration-color: #808000\">\"\"\"</span>                                                                               <span style=\"color: #800000; text-decoration-color: #800000\">│</span>\n",
       "<span style=\"color: #800000; text-decoration-color: #800000\">│</span>   <span style=\"color: #7f7f7f; text-decoration-color: #7f7f7f\">2192 │   │   </span>check_is_fitted(<span style=\"color: #00ffff; text-decoration-color: #00ffff\">self</span>)                                                             <span style=\"color: #800000; text-decoration-color: #800000\">│</span>\n",
       "<span style=\"color: #800000; text-decoration-color: #800000\">│</span> <span style=\"color: #800000; text-decoration-color: #800000\">❱ </span>2193 <span style=\"color: #7f7f7f; text-decoration-color: #7f7f7f\">│   │   </span><span style=\"color: #0000ff; text-decoration-color: #0000ff\">return</span> plotting.visualize_topics(<span style=\"color: #00ffff; text-decoration-color: #00ffff\">self</span>,                                            <span style=\"color: #800000; text-decoration-color: #800000\">│</span>\n",
       "<span style=\"color: #800000; text-decoration-color: #800000\">│</span>   <span style=\"color: #7f7f7f; text-decoration-color: #7f7f7f\">2194 │   │   │   │   │   │   │   │   │   │    </span>topics=topics,                                   <span style=\"color: #800000; text-decoration-color: #800000\">│</span>\n",
       "<span style=\"color: #800000; text-decoration-color: #800000\">│</span>   <span style=\"color: #7f7f7f; text-decoration-color: #7f7f7f\">2195 │   │   │   │   │   │   │   │   │   │    </span>top_n_topics=top_n_topics,                       <span style=\"color: #800000; text-decoration-color: #800000\">│</span>\n",
       "<span style=\"color: #800000; text-decoration-color: #800000\">│</span>   <span style=\"color: #7f7f7f; text-decoration-color: #7f7f7f\">2196 │   │   │   │   │   │   │   │   │   │    </span>custom_labels=custom_labels,                     <span style=\"color: #800000; text-decoration-color: #800000\">│</span>\n",
       "<span style=\"color: #800000; text-decoration-color: #800000\">│</span>                                                                                                  <span style=\"color: #800000; text-decoration-color: #800000\">│</span>\n",
       "<span style=\"color: #800000; text-decoration-color: #800000\">│</span> <span style=\"color: #808000; text-decoration-color: #808000\">D:\\Users\\shaodongxu\\anaconda3\\lib\\site-packages\\bertopic\\plotting\\_topics.py</span>:<span style=\"color: #0000ff; text-decoration-color: #0000ff\">79</span> in               <span style=\"color: #800000; text-decoration-color: #800000\">│</span>\n",
       "<span style=\"color: #800000; text-decoration-color: #800000\">│</span> <span style=\"color: #00ff00; text-decoration-color: #00ff00\">visualize_topics</span>                                                                                 <span style=\"color: #800000; text-decoration-color: #800000\">│</span>\n",
       "<span style=\"color: #800000; text-decoration-color: #800000\">│</span>                                                                                                  <span style=\"color: #800000; text-decoration-color: #800000\">│</span>\n",
       "<span style=\"color: #800000; text-decoration-color: #800000\">│</span>   <span style=\"color: #7f7f7f; text-decoration-color: #7f7f7f\"> 76 │   </span>                                                                                       <span style=\"color: #800000; text-decoration-color: #800000\">│</span>\n",
       "<span style=\"color: #800000; text-decoration-color: #800000\">│</span>   <span style=\"color: #7f7f7f; text-decoration-color: #7f7f7f\"> 77 │   </span><span style=\"color: #0000ff; text-decoration-color: #0000ff\">if</span> topic_model.topic_embeddings_ <span style=\"color: #ff00ff; text-decoration-color: #ff00ff\">is</span> <span style=\"color: #ff00ff; text-decoration-color: #ff00ff\">not</span> <span style=\"color: #0000ff; text-decoration-color: #0000ff\">None</span>:                                          <span style=\"color: #800000; text-decoration-color: #800000\">│</span>\n",
       "<span style=\"color: #800000; text-decoration-color: #800000\">│</span>   <span style=\"color: #7f7f7f; text-decoration-color: #7f7f7f\"> 78 │   │   </span>embeddings = topic_model.topic_embeddings_[indices]                                <span style=\"color: #800000; text-decoration-color: #800000\">│</span>\n",
       "<span style=\"color: #800000; text-decoration-color: #800000\">│</span> <span style=\"color: #800000; text-decoration-color: #800000\">❱ </span> 79 <span style=\"color: #7f7f7f; text-decoration-color: #7f7f7f\">│   │   </span>embeddings = UMAP(n_neighbors=<span style=\"color: #0000ff; text-decoration-color: #0000ff\">2</span>, n_components=<span style=\"color: #0000ff; text-decoration-color: #0000ff\">2</span>, metric=<span style=\"color: #808000; text-decoration-color: #808000\">'cosine'</span>, random_state=<span style=\"color: #0000ff; text-decoration-color: #0000ff\">4</span>   <span style=\"color: #800000; text-decoration-color: #800000\">│</span>\n",
       "<span style=\"color: #800000; text-decoration-color: #800000\">│</span>   <span style=\"color: #7f7f7f; text-decoration-color: #7f7f7f\"> 80 │   </span><span style=\"color: #0000ff; text-decoration-color: #0000ff\">else</span>:                                                                                  <span style=\"color: #800000; text-decoration-color: #800000\">│</span>\n",
       "<span style=\"color: #800000; text-decoration-color: #800000\">│</span>   <span style=\"color: #7f7f7f; text-decoration-color: #7f7f7f\"> 81 │   │   </span>embeddings = topic_model.c_tf_idf_.toarray()[indices]                              <span style=\"color: #800000; text-decoration-color: #800000\">│</span>\n",
       "<span style=\"color: #800000; text-decoration-color: #800000\">│</span>   <span style=\"color: #7f7f7f; text-decoration-color: #7f7f7f\"> 82 │   │   </span>embeddings = MinMaxScaler().fit_transform(embeddings)                              <span style=\"color: #800000; text-decoration-color: #800000\">│</span>\n",
       "<span style=\"color: #800000; text-decoration-color: #800000\">│</span>                                                                                                  <span style=\"color: #800000; text-decoration-color: #800000\">│</span>\n",
       "<span style=\"color: #800000; text-decoration-color: #800000\">│</span> <span style=\"color: #808000; text-decoration-color: #808000\">D:\\Users\\shaodongxu\\anaconda3\\lib\\site-packages\\umap\\umap_.py</span>:<span style=\"color: #0000ff; text-decoration-color: #0000ff\">2772</span> in <span style=\"color: #00ff00; text-decoration-color: #00ff00\">fit_transform</span>              <span style=\"color: #800000; text-decoration-color: #800000\">│</span>\n",
       "<span style=\"color: #800000; text-decoration-color: #800000\">│</span>                                                                                                  <span style=\"color: #800000; text-decoration-color: #800000\">│</span>\n",
       "<span style=\"color: #800000; text-decoration-color: #800000\">│</span>   <span style=\"color: #7f7f7f; text-decoration-color: #7f7f7f\">2769 </span><span style=\"color: #bfbf7f; text-decoration-color: #bfbf7f\">│   │   </span><span style=\"color: #808000; text-decoration-color: #808000\">r_emb: array, shape (n_samples)</span>                                                   <span style=\"color: #800000; text-decoration-color: #800000\">│</span>\n",
       "<span style=\"color: #800000; text-decoration-color: #800000\">│</span>   <span style=\"color: #7f7f7f; text-decoration-color: #7f7f7f\">2770 </span><span style=\"color: #bfbf7f; text-decoration-color: #bfbf7f\">│   │   │   </span><span style=\"color: #808000; text-decoration-color: #808000\">Local radii of data points in the embedding (log-transformed).</span>                <span style=\"color: #800000; text-decoration-color: #800000\">│</span>\n",
       "<span style=\"color: #800000; text-decoration-color: #800000\">│</span>   <span style=\"color: #7f7f7f; text-decoration-color: #7f7f7f\">2771 </span><span style=\"color: #bfbf7f; text-decoration-color: #bfbf7f\">│   │   </span><span style=\"color: #808000; text-decoration-color: #808000\">\"\"\"</span>                                                                               <span style=\"color: #800000; text-decoration-color: #800000\">│</span>\n",
       "<span style=\"color: #800000; text-decoration-color: #800000\">│</span> <span style=\"color: #800000; text-decoration-color: #800000\">❱ </span>2772 <span style=\"color: #7f7f7f; text-decoration-color: #7f7f7f\">│   │   </span><span style=\"color: #00ffff; text-decoration-color: #00ffff\">self</span>.fit(X, y)                                                                    <span style=\"color: #800000; text-decoration-color: #800000\">│</span>\n",
       "<span style=\"color: #800000; text-decoration-color: #800000\">│</span>   <span style=\"color: #7f7f7f; text-decoration-color: #7f7f7f\">2773 │   │   </span><span style=\"color: #0000ff; text-decoration-color: #0000ff\">if</span> <span style=\"color: #00ffff; text-decoration-color: #00ffff\">self</span>.transform_mode == <span style=\"color: #808000; text-decoration-color: #808000\">\"embedding\"</span>:                                            <span style=\"color: #800000; text-decoration-color: #800000\">│</span>\n",
       "<span style=\"color: #800000; text-decoration-color: #800000\">│</span>   <span style=\"color: #7f7f7f; text-decoration-color: #7f7f7f\">2774 │   │   │   </span><span style=\"color: #0000ff; text-decoration-color: #0000ff\">if</span> <span style=\"color: #00ffff; text-decoration-color: #00ffff\">self</span>.output_dens:                                                          <span style=\"color: #800000; text-decoration-color: #800000\">│</span>\n",
       "<span style=\"color: #800000; text-decoration-color: #800000\">│</span>   <span style=\"color: #7f7f7f; text-decoration-color: #7f7f7f\">2775 │   │   │   │   </span><span style=\"color: #0000ff; text-decoration-color: #0000ff\">return</span> <span style=\"color: #00ffff; text-decoration-color: #00ffff\">self</span>.embedding_, <span style=\"color: #00ffff; text-decoration-color: #00ffff\">self</span>.rad_orig_, <span style=\"color: #00ffff; text-decoration-color: #00ffff\">self</span>.rad_emb_                     <span style=\"color: #800000; text-decoration-color: #800000\">│</span>\n",
       "<span style=\"color: #800000; text-decoration-color: #800000\">│</span>                                                                                                  <span style=\"color: #800000; text-decoration-color: #800000\">│</span>\n",
       "<span style=\"color: #800000; text-decoration-color: #800000\">│</span> <span style=\"color: #808000; text-decoration-color: #808000\">D:\\Users\\shaodongxu\\anaconda3\\lib\\site-packages\\umap\\umap_.py</span>:<span style=\"color: #0000ff; text-decoration-color: #0000ff\">2684</span> in <span style=\"color: #00ff00; text-decoration-color: #00ff00\">fit</span>                        <span style=\"color: #800000; text-decoration-color: #800000\">│</span>\n",
       "<span style=\"color: #800000; text-decoration-color: #800000\">│</span>                                                                                                  <span style=\"color: #800000; text-decoration-color: #800000\">│</span>\n",
       "<span style=\"color: #800000; text-decoration-color: #800000\">│</span>   <span style=\"color: #7f7f7f; text-decoration-color: #7f7f7f\">2681 │   │   │   </span><span style=\"color: #00ffff; text-decoration-color: #00ffff\">print</span>(ts(), <span style=\"color: #808000; text-decoration-color: #808000\">\"Construct embedding\"</span>)                                            <span style=\"color: #800000; text-decoration-color: #800000\">│</span>\n",
       "<span style=\"color: #800000; text-decoration-color: #800000\">│</span>   <span style=\"color: #7f7f7f; text-decoration-color: #7f7f7f\">2682 │   │   </span>                                                                                  <span style=\"color: #800000; text-decoration-color: #800000\">│</span>\n",
       "<span style=\"color: #800000; text-decoration-color: #800000\">│</span>   <span style=\"color: #7f7f7f; text-decoration-color: #7f7f7f\">2683 │   │   </span><span style=\"color: #0000ff; text-decoration-color: #0000ff\">if</span> <span style=\"color: #00ffff; text-decoration-color: #00ffff\">self</span>.transform_mode == <span style=\"color: #808000; text-decoration-color: #808000\">\"embedding\"</span>:                                            <span style=\"color: #800000; text-decoration-color: #800000\">│</span>\n",
       "<span style=\"color: #800000; text-decoration-color: #800000\">│</span> <span style=\"color: #800000; text-decoration-color: #800000\">❱ </span>2684 <span style=\"color: #7f7f7f; text-decoration-color: #7f7f7f\">│   │   │   </span><span style=\"color: #00ffff; text-decoration-color: #00ffff\">self</span>.embedding_, aux_data = <span style=\"color: #00ffff; text-decoration-color: #00ffff\">self</span>._fit_embed_data(                             <span style=\"color: #800000; text-decoration-color: #800000\">│</span>\n",
       "<span style=\"color: #800000; text-decoration-color: #800000\">│</span>   <span style=\"color: #7f7f7f; text-decoration-color: #7f7f7f\">2685 │   │   │   │   </span><span style=\"color: #00ffff; text-decoration-color: #00ffff\">self</span>._raw_data[index],                                                    <span style=\"color: #800000; text-decoration-color: #800000\">│</span>\n",
       "<span style=\"color: #800000; text-decoration-color: #800000\">│</span>   <span style=\"color: #7f7f7f; text-decoration-color: #7f7f7f\">2686 │   │   │   │   </span><span style=\"color: #00ffff; text-decoration-color: #00ffff\">self</span>.n_epochs,                                                            <span style=\"color: #800000; text-decoration-color: #800000\">│</span>\n",
       "<span style=\"color: #800000; text-decoration-color: #800000\">│</span>   <span style=\"color: #7f7f7f; text-decoration-color: #7f7f7f\">2687 │   │   │   │   </span>init,                                                                     <span style=\"color: #800000; text-decoration-color: #800000\">│</span>\n",
       "<span style=\"color: #800000; text-decoration-color: #800000\">│</span>                                                                                                  <span style=\"color: #800000; text-decoration-color: #800000\">│</span>\n",
       "<span style=\"color: #800000; text-decoration-color: #800000\">│</span> <span style=\"color: #808000; text-decoration-color: #808000\">D:\\Users\\shaodongxu\\anaconda3\\lib\\site-packages\\umap\\umap_.py</span>:<span style=\"color: #0000ff; text-decoration-color: #0000ff\">2717</span> in <span style=\"color: #00ff00; text-decoration-color: #00ff00\">_fit_embed_data</span>            <span style=\"color: #800000; text-decoration-color: #800000\">│</span>\n",
       "<span style=\"color: #800000; text-decoration-color: #800000\">│</span>                                                                                                  <span style=\"color: #800000; text-decoration-color: #800000\">│</span>\n",
       "<span style=\"color: #800000; text-decoration-color: #800000\">│</span>   <span style=\"color: #7f7f7f; text-decoration-color: #7f7f7f\">2714 </span><span style=\"color: #bfbfbf; text-decoration-color: #bfbfbf\">│   │   </span><span style=\"color: #808000; text-decoration-color: #808000\">\"\"\"A method wrapper for simplicial_set_embedding that can be</span>                      <span style=\"color: #800000; text-decoration-color: #800000\">│</span>\n",
       "<span style=\"color: #800000; text-decoration-color: #800000\">│</span>   <span style=\"color: #7f7f7f; text-decoration-color: #7f7f7f\">2715 </span><span style=\"color: #bfbf7f; text-decoration-color: #bfbf7f\">│   │   </span><span style=\"color: #808000; text-decoration-color: #808000\">replaced by subclasses.</span>                                                           <span style=\"color: #800000; text-decoration-color: #800000\">│</span>\n",
       "<span style=\"color: #800000; text-decoration-color: #800000\">│</span>   <span style=\"color: #7f7f7f; text-decoration-color: #7f7f7f\">2716 </span><span style=\"color: #bfbf7f; text-decoration-color: #bfbf7f\">│   │   </span><span style=\"color: #808000; text-decoration-color: #808000\">\"\"\"</span>                                                                               <span style=\"color: #800000; text-decoration-color: #800000\">│</span>\n",
       "<span style=\"color: #800000; text-decoration-color: #800000\">│</span> <span style=\"color: #800000; text-decoration-color: #800000\">❱ </span>2717 <span style=\"color: #7f7f7f; text-decoration-color: #7f7f7f\">│   │   </span><span style=\"color: #0000ff; text-decoration-color: #0000ff\">return</span> simplicial_set_embedding(                                                  <span style=\"color: #800000; text-decoration-color: #800000\">│</span>\n",
       "<span style=\"color: #800000; text-decoration-color: #800000\">│</span>   <span style=\"color: #7f7f7f; text-decoration-color: #7f7f7f\">2718 │   │   │   </span>X,                                                                            <span style=\"color: #800000; text-decoration-color: #800000\">│</span>\n",
       "<span style=\"color: #800000; text-decoration-color: #800000\">│</span>   <span style=\"color: #7f7f7f; text-decoration-color: #7f7f7f\">2719 │   │   │   </span><span style=\"color: #00ffff; text-decoration-color: #00ffff\">self</span>.graph_,                                                                  <span style=\"color: #800000; text-decoration-color: #800000\">│</span>\n",
       "<span style=\"color: #800000; text-decoration-color: #800000\">│</span>   <span style=\"color: #7f7f7f; text-decoration-color: #7f7f7f\">2720 │   │   │   </span><span style=\"color: #00ffff; text-decoration-color: #00ffff\">self</span>.n_components,                                                            <span style=\"color: #800000; text-decoration-color: #800000\">│</span>\n",
       "<span style=\"color: #800000; text-decoration-color: #800000\">│</span>                                                                                                  <span style=\"color: #800000; text-decoration-color: #800000\">│</span>\n",
       "<span style=\"color: #800000; text-decoration-color: #800000\">│</span> <span style=\"color: #808000; text-decoration-color: #808000\">D:\\Users\\shaodongxu\\anaconda3\\lib\\site-packages\\umap\\umap_.py</span>:<span style=\"color: #0000ff; text-decoration-color: #0000ff\">1078</span> in <span style=\"color: #00ff00; text-decoration-color: #00ff00\">simplicial_set_embedding</span>   <span style=\"color: #800000; text-decoration-color: #800000\">│</span>\n",
       "<span style=\"color: #800000; text-decoration-color: #800000\">│</span>                                                                                                  <span style=\"color: #800000; text-decoration-color: #800000\">│</span>\n",
       "<span style=\"color: #800000; text-decoration-color: #800000\">│</span>   <span style=\"color: #7f7f7f; text-decoration-color: #7f7f7f\">1075 │   │   </span>).astype(np.float32)                                                              <span style=\"color: #800000; text-decoration-color: #800000\">│</span>\n",
       "<span style=\"color: #800000; text-decoration-color: #800000\">│</span>   <span style=\"color: #7f7f7f; text-decoration-color: #7f7f7f\">1076 │   </span><span style=\"color: #0000ff; text-decoration-color: #0000ff\">elif</span> <span style=\"color: #00ffff; text-decoration-color: #00ffff\">isinstance</span>(init, <span style=\"color: #00ffff; text-decoration-color: #00ffff\">str</span>) <span style=\"color: #ff00ff; text-decoration-color: #ff00ff\">and</span> init == <span style=\"color: #808000; text-decoration-color: #808000\">\"spectral\"</span>:                                    <span style=\"color: #800000; text-decoration-color: #800000\">│</span>\n",
       "<span style=\"color: #800000; text-decoration-color: #800000\">│</span>   <span style=\"color: #7f7f7f; text-decoration-color: #7f7f7f\">1077 │   │   # We add a little noise to avoid local minima for optimization to come</span>            <span style=\"color: #800000; text-decoration-color: #800000\">│</span>\n",
       "<span style=\"color: #800000; text-decoration-color: #800000\">│</span> <span style=\"color: #800000; text-decoration-color: #800000\">❱ </span>1078 <span style=\"color: #7f7f7f; text-decoration-color: #7f7f7f\">│   │   </span>initialisation = spectral_layout(                                                 <span style=\"color: #800000; text-decoration-color: #800000\">│</span>\n",
       "<span style=\"color: #800000; text-decoration-color: #800000\">│</span>   <span style=\"color: #7f7f7f; text-decoration-color: #7f7f7f\">1079 │   │   │   </span>data,                                                                         <span style=\"color: #800000; text-decoration-color: #800000\">│</span>\n",
       "<span style=\"color: #800000; text-decoration-color: #800000\">│</span>   <span style=\"color: #7f7f7f; text-decoration-color: #7f7f7f\">1080 │   │   │   </span>graph,                                                                        <span style=\"color: #800000; text-decoration-color: #800000\">│</span>\n",
       "<span style=\"color: #800000; text-decoration-color: #800000\">│</span>   <span style=\"color: #7f7f7f; text-decoration-color: #7f7f7f\">1081 │   │   │   </span>n_components,                                                                 <span style=\"color: #800000; text-decoration-color: #800000\">│</span>\n",
       "<span style=\"color: #800000; text-decoration-color: #800000\">│</span>                                                                                                  <span style=\"color: #800000; text-decoration-color: #800000\">│</span>\n",
       "<span style=\"color: #800000; text-decoration-color: #800000\">│</span> <span style=\"color: #808000; text-decoration-color: #808000\">D:\\Users\\shaodongxu\\anaconda3\\lib\\site-packages\\umap\\spectral.py</span>:<span style=\"color: #0000ff; text-decoration-color: #0000ff\">332</span> in <span style=\"color: #00ff00; text-decoration-color: #00ff00\">spectral_layout</span>          <span style=\"color: #800000; text-decoration-color: #800000\">│</span>\n",
       "<span style=\"color: #800000; text-decoration-color: #800000\">│</span>                                                                                                  <span style=\"color: #800000; text-decoration-color: #800000\">│</span>\n",
       "<span style=\"color: #800000; text-decoration-color: #800000\">│</span>   <span style=\"color: #7f7f7f; text-decoration-color: #7f7f7f\">329 │   </span>num_lanczos_vectors = <span style=\"color: #00ffff; text-decoration-color: #00ffff\">max</span>(<span style=\"color: #0000ff; text-decoration-color: #0000ff\">2</span> * k + <span style=\"color: #0000ff; text-decoration-color: #0000ff\">1</span>, <span style=\"color: #00ffff; text-decoration-color: #00ffff\">int</span>(np.sqrt(graph.shape[<span style=\"color: #0000ff; text-decoration-color: #0000ff\">0</span>])))                     <span style=\"color: #800000; text-decoration-color: #800000\">│</span>\n",
       "<span style=\"color: #800000; text-decoration-color: #800000\">│</span>   <span style=\"color: #7f7f7f; text-decoration-color: #7f7f7f\">330 │   </span><span style=\"color: #0000ff; text-decoration-color: #0000ff\">try</span>:                                                                                   <span style=\"color: #800000; text-decoration-color: #800000\">│</span>\n",
       "<span style=\"color: #800000; text-decoration-color: #800000\">│</span>   <span style=\"color: #7f7f7f; text-decoration-color: #7f7f7f\">331 │   │   </span><span style=\"color: #0000ff; text-decoration-color: #0000ff\">if</span> L.shape[<span style=\"color: #0000ff; text-decoration-color: #0000ff\">0</span>] &lt; <span style=\"color: #0000ff; text-decoration-color: #0000ff\">2000000</span>:                                                           <span style=\"color: #800000; text-decoration-color: #800000\">│</span>\n",
       "<span style=\"color: #800000; text-decoration-color: #800000\">│</span> <span style=\"color: #800000; text-decoration-color: #800000\">❱ </span>332 <span style=\"color: #7f7f7f; text-decoration-color: #7f7f7f\">│   │   │   </span>eigenvalues, eigenvectors = scipy.sparse.linalg.eigsh(                         <span style=\"color: #800000; text-decoration-color: #800000\">│</span>\n",
       "<span style=\"color: #800000; text-decoration-color: #800000\">│</span>   <span style=\"color: #7f7f7f; text-decoration-color: #7f7f7f\">333 │   │   │   │   </span>L,                                                                         <span style=\"color: #800000; text-decoration-color: #800000\">│</span>\n",
       "<span style=\"color: #800000; text-decoration-color: #800000\">│</span>   <span style=\"color: #7f7f7f; text-decoration-color: #7f7f7f\">334 │   │   │   │   </span>k,                                                                         <span style=\"color: #800000; text-decoration-color: #800000\">│</span>\n",
       "<span style=\"color: #800000; text-decoration-color: #800000\">│</span>   <span style=\"color: #7f7f7f; text-decoration-color: #7f7f7f\">335 │   │   │   │   </span>which=<span style=\"color: #808000; text-decoration-color: #808000\">\"SM\"</span>,                                                                <span style=\"color: #800000; text-decoration-color: #800000\">│</span>\n",
       "<span style=\"color: #800000; text-decoration-color: #800000\">│</span>                                                                                                  <span style=\"color: #800000; text-decoration-color: #800000\">│</span>\n",
       "<span style=\"color: #800000; text-decoration-color: #800000\">│</span> <span style=\"color: #808000; text-decoration-color: #808000\">D:\\Users\\shaodongxu\\AppData\\Roaming\\Python\\Python310\\site-packages\\scipy\\sparse\\linalg\\_eigen\\ar</span> <span style=\"color: #800000; text-decoration-color: #800000\">│</span>\n",
       "<span style=\"color: #800000; text-decoration-color: #800000\">│</span> <span style=\"color: #808000; text-decoration-color: #808000\">pack\\arpack.py</span>:<span style=\"color: #0000ff; text-decoration-color: #0000ff\">1605</span> in <span style=\"color: #00ff00; text-decoration-color: #00ff00\">eigsh</span>                                                                     <span style=\"color: #800000; text-decoration-color: #800000\">│</span>\n",
       "<span style=\"color: #800000; text-decoration-color: #800000\">│</span>                                                                                                  <span style=\"color: #800000; text-decoration-color: #800000\">│</span>\n",
       "<span style=\"color: #800000; text-decoration-color: #800000\">│</span>   <span style=\"color: #7f7f7f; text-decoration-color: #7f7f7f\">1602 │   │   │   │   │     </span><span style=\"color: #00ffff; text-decoration-color: #00ffff\">RuntimeWarning</span>)                                                     <span style=\"color: #800000; text-decoration-color: #800000\">│</span>\n",
       "<span style=\"color: #800000; text-decoration-color: #800000\">│</span>   <span style=\"color: #7f7f7f; text-decoration-color: #7f7f7f\">1603 │   │   </span>                                                                                  <span style=\"color: #800000; text-decoration-color: #800000\">│</span>\n",
       "<span style=\"color: #800000; text-decoration-color: #800000\">│</span>   <span style=\"color: #7f7f7f; text-decoration-color: #7f7f7f\">1604 │   │   </span><span style=\"color: #0000ff; text-decoration-color: #0000ff\">if</span> issparse(A):                                                                   <span style=\"color: #800000; text-decoration-color: #800000\">│</span>\n",
       "<span style=\"color: #800000; text-decoration-color: #800000\">│</span> <span style=\"color: #800000; text-decoration-color: #800000\">❱ </span>1605 <span style=\"color: #7f7f7f; text-decoration-color: #7f7f7f\">│   │   │   </span><span style=\"color: #0000ff; text-decoration-color: #0000ff\">raise</span> <span style=\"color: #00ffff; text-decoration-color: #00ffff\">TypeError</span>(<span style=\"color: #808000; text-decoration-color: #808000\">\"Cannot use scipy.linalg.eigh for sparse A with \"</span>             <span style=\"color: #800000; text-decoration-color: #800000\">│</span>\n",
       "<span style=\"color: #800000; text-decoration-color: #800000\">│</span>   <span style=\"color: #7f7f7f; text-decoration-color: #7f7f7f\">1606 │   │   │   │   │   │   │   </span><span style=\"color: #808000; text-decoration-color: #808000\">\"k &gt;= N. Use scipy.linalg.eigh(A.toarray()) or\"</span>               <span style=\"color: #800000; text-decoration-color: #800000\">│</span>\n",
       "<span style=\"color: #800000; text-decoration-color: #800000\">│</span>   <span style=\"color: #7f7f7f; text-decoration-color: #7f7f7f\">1607 │   │   │   │   │   │   │   </span><span style=\"color: #808000; text-decoration-color: #808000\">\" reduce k.\"</span>)                                                 <span style=\"color: #800000; text-decoration-color: #800000\">│</span>\n",
       "<span style=\"color: #800000; text-decoration-color: #800000\">│</span>   <span style=\"color: #7f7f7f; text-decoration-color: #7f7f7f\">1608 │   │   </span><span style=\"color: #0000ff; text-decoration-color: #0000ff\">if</span> <span style=\"color: #00ffff; text-decoration-color: #00ffff\">isinstance</span>(A, LinearOperator):                                                 <span style=\"color: #800000; text-decoration-color: #800000\">│</span>\n",
       "<span style=\"color: #800000; text-decoration-color: #800000\">╰──────────────────────────────────────────────────────────────────────────────────────────────────╯</span>\n",
       "<span style=\"color: #ff0000; text-decoration-color: #ff0000; font-weight: bold\">TypeError: </span>Cannot use scipy.linalg.eigh for sparse A with k &gt;= N. Use <span style=\"color: #800080; text-decoration-color: #800080; font-weight: bold\">scipy.linalg.eigh</span><span style=\"font-weight: bold\">(</span><span style=\"color: #800080; text-decoration-color: #800080; font-weight: bold\">A.toarray</span><span style=\"font-weight: bold\">())</span> or reduce k.\n",
       "</pre>\n"
      ],
      "text/plain": [
       "\u001b[31m╭─\u001b[0m\u001b[31m──────────────────────────────\u001b[0m\u001b[31m \u001b[0m\u001b[1;31mTraceback \u001b[0m\u001b[1;2;31m(most recent call last)\u001b[0m\u001b[31m \u001b[0m\u001b[31m───────────────────────────────\u001b[0m\u001b[31m─╮\u001b[0m\n",
       "\u001b[31m│\u001b[0m \u001b[33mD:\\temp\\ipykernel_17324\\3693976230.py\u001b[0m:\u001b[94m1\u001b[0m in \u001b[92m<module>\u001b[0m                                              \u001b[31m│\u001b[0m\n",
       "\u001b[31m│\u001b[0m                                                                                                  \u001b[31m│\u001b[0m\n",
       "\u001b[31m│\u001b[0m \u001b[3;31m[Errno 2] No such file or directory: 'D:\\\\temp\\\\ipykernel_17324\\\\3693976230.py'\u001b[0m                  \u001b[31m│\u001b[0m\n",
       "\u001b[31m│\u001b[0m                                                                                                  \u001b[31m│\u001b[0m\n",
       "\u001b[31m│\u001b[0m \u001b[33mD:\\Users\\shaodongxu\\anaconda3\\lib\\site-packages\\bertopic\\_bertopic.py\u001b[0m:\u001b[94m2193\u001b[0m in \u001b[92mvisualize_topics\u001b[0m   \u001b[31m│\u001b[0m\n",
       "\u001b[31m│\u001b[0m                                                                                                  \u001b[31m│\u001b[0m\n",
       "\u001b[31m│\u001b[0m   \u001b[2m2190 \u001b[0m\u001b[2;33m│   │   \u001b[0m\u001b[33m```\u001b[0m                                                                               \u001b[31m│\u001b[0m\n",
       "\u001b[31m│\u001b[0m   \u001b[2m2191 \u001b[0m\u001b[2;33m│   │   \u001b[0m\u001b[33m\"\"\"\u001b[0m                                                                               \u001b[31m│\u001b[0m\n",
       "\u001b[31m│\u001b[0m   \u001b[2m2192 \u001b[0m\u001b[2m│   │   \u001b[0mcheck_is_fitted(\u001b[96mself\u001b[0m)                                                             \u001b[31m│\u001b[0m\n",
       "\u001b[31m│\u001b[0m \u001b[31m❱ \u001b[0m2193 \u001b[2m│   │   \u001b[0m\u001b[94mreturn\u001b[0m plotting.visualize_topics(\u001b[96mself\u001b[0m,                                            \u001b[31m│\u001b[0m\n",
       "\u001b[31m│\u001b[0m   \u001b[2m2194 \u001b[0m\u001b[2m│   │   │   │   │   │   │   │   │   │    \u001b[0mtopics=topics,                                   \u001b[31m│\u001b[0m\n",
       "\u001b[31m│\u001b[0m   \u001b[2m2195 \u001b[0m\u001b[2m│   │   │   │   │   │   │   │   │   │    \u001b[0mtop_n_topics=top_n_topics,                       \u001b[31m│\u001b[0m\n",
       "\u001b[31m│\u001b[0m   \u001b[2m2196 \u001b[0m\u001b[2m│   │   │   │   │   │   │   │   │   │    \u001b[0mcustom_labels=custom_labels,                     \u001b[31m│\u001b[0m\n",
       "\u001b[31m│\u001b[0m                                                                                                  \u001b[31m│\u001b[0m\n",
       "\u001b[31m│\u001b[0m \u001b[33mD:\\Users\\shaodongxu\\anaconda3\\lib\\site-packages\\bertopic\\plotting\\_topics.py\u001b[0m:\u001b[94m79\u001b[0m in               \u001b[31m│\u001b[0m\n",
       "\u001b[31m│\u001b[0m \u001b[92mvisualize_topics\u001b[0m                                                                                 \u001b[31m│\u001b[0m\n",
       "\u001b[31m│\u001b[0m                                                                                                  \u001b[31m│\u001b[0m\n",
       "\u001b[31m│\u001b[0m   \u001b[2m 76 \u001b[0m\u001b[2m│   \u001b[0m                                                                                       \u001b[31m│\u001b[0m\n",
       "\u001b[31m│\u001b[0m   \u001b[2m 77 \u001b[0m\u001b[2m│   \u001b[0m\u001b[94mif\u001b[0m topic_model.topic_embeddings_ \u001b[95mis\u001b[0m \u001b[95mnot\u001b[0m \u001b[94mNone\u001b[0m:                                          \u001b[31m│\u001b[0m\n",
       "\u001b[31m│\u001b[0m   \u001b[2m 78 \u001b[0m\u001b[2m│   │   \u001b[0membeddings = topic_model.topic_embeddings_[indices]                                \u001b[31m│\u001b[0m\n",
       "\u001b[31m│\u001b[0m \u001b[31m❱ \u001b[0m 79 \u001b[2m│   │   \u001b[0membeddings = UMAP(n_neighbors=\u001b[94m2\u001b[0m, n_components=\u001b[94m2\u001b[0m, metric=\u001b[33m'\u001b[0m\u001b[33mcosine\u001b[0m\u001b[33m'\u001b[0m, random_state=\u001b[94m4\u001b[0m   \u001b[31m│\u001b[0m\n",
       "\u001b[31m│\u001b[0m   \u001b[2m 80 \u001b[0m\u001b[2m│   \u001b[0m\u001b[94melse\u001b[0m:                                                                                  \u001b[31m│\u001b[0m\n",
       "\u001b[31m│\u001b[0m   \u001b[2m 81 \u001b[0m\u001b[2m│   │   \u001b[0membeddings = topic_model.c_tf_idf_.toarray()[indices]                              \u001b[31m│\u001b[0m\n",
       "\u001b[31m│\u001b[0m   \u001b[2m 82 \u001b[0m\u001b[2m│   │   \u001b[0membeddings = MinMaxScaler().fit_transform(embeddings)                              \u001b[31m│\u001b[0m\n",
       "\u001b[31m│\u001b[0m                                                                                                  \u001b[31m│\u001b[0m\n",
       "\u001b[31m│\u001b[0m \u001b[33mD:\\Users\\shaodongxu\\anaconda3\\lib\\site-packages\\umap\\umap_.py\u001b[0m:\u001b[94m2772\u001b[0m in \u001b[92mfit_transform\u001b[0m              \u001b[31m│\u001b[0m\n",
       "\u001b[31m│\u001b[0m                                                                                                  \u001b[31m│\u001b[0m\n",
       "\u001b[31m│\u001b[0m   \u001b[2m2769 \u001b[0m\u001b[2;33m│   │   \u001b[0m\u001b[33mr_emb: array, shape (n_samples)\u001b[0m                                                   \u001b[31m│\u001b[0m\n",
       "\u001b[31m│\u001b[0m   \u001b[2m2770 \u001b[0m\u001b[2;33m│   │   │   \u001b[0m\u001b[33mLocal radii of data points in the embedding (log-transformed).\u001b[0m                \u001b[31m│\u001b[0m\n",
       "\u001b[31m│\u001b[0m   \u001b[2m2771 \u001b[0m\u001b[2;33m│   │   \u001b[0m\u001b[33m\"\"\"\u001b[0m                                                                               \u001b[31m│\u001b[0m\n",
       "\u001b[31m│\u001b[0m \u001b[31m❱ \u001b[0m2772 \u001b[2m│   │   \u001b[0m\u001b[96mself\u001b[0m.fit(X, y)                                                                    \u001b[31m│\u001b[0m\n",
       "\u001b[31m│\u001b[0m   \u001b[2m2773 \u001b[0m\u001b[2m│   │   \u001b[0m\u001b[94mif\u001b[0m \u001b[96mself\u001b[0m.transform_mode == \u001b[33m\"\u001b[0m\u001b[33membedding\u001b[0m\u001b[33m\"\u001b[0m:                                            \u001b[31m│\u001b[0m\n",
       "\u001b[31m│\u001b[0m   \u001b[2m2774 \u001b[0m\u001b[2m│   │   │   \u001b[0m\u001b[94mif\u001b[0m \u001b[96mself\u001b[0m.output_dens:                                                          \u001b[31m│\u001b[0m\n",
       "\u001b[31m│\u001b[0m   \u001b[2m2775 \u001b[0m\u001b[2m│   │   │   │   \u001b[0m\u001b[94mreturn\u001b[0m \u001b[96mself\u001b[0m.embedding_, \u001b[96mself\u001b[0m.rad_orig_, \u001b[96mself\u001b[0m.rad_emb_                     \u001b[31m│\u001b[0m\n",
       "\u001b[31m│\u001b[0m                                                                                                  \u001b[31m│\u001b[0m\n",
       "\u001b[31m│\u001b[0m \u001b[33mD:\\Users\\shaodongxu\\anaconda3\\lib\\site-packages\\umap\\umap_.py\u001b[0m:\u001b[94m2684\u001b[0m in \u001b[92mfit\u001b[0m                        \u001b[31m│\u001b[0m\n",
       "\u001b[31m│\u001b[0m                                                                                                  \u001b[31m│\u001b[0m\n",
       "\u001b[31m│\u001b[0m   \u001b[2m2681 \u001b[0m\u001b[2m│   │   │   \u001b[0m\u001b[96mprint\u001b[0m(ts(), \u001b[33m\"\u001b[0m\u001b[33mConstruct embedding\u001b[0m\u001b[33m\"\u001b[0m)                                            \u001b[31m│\u001b[0m\n",
       "\u001b[31m│\u001b[0m   \u001b[2m2682 \u001b[0m\u001b[2m│   │   \u001b[0m                                                                                  \u001b[31m│\u001b[0m\n",
       "\u001b[31m│\u001b[0m   \u001b[2m2683 \u001b[0m\u001b[2m│   │   \u001b[0m\u001b[94mif\u001b[0m \u001b[96mself\u001b[0m.transform_mode == \u001b[33m\"\u001b[0m\u001b[33membedding\u001b[0m\u001b[33m\"\u001b[0m:                                            \u001b[31m│\u001b[0m\n",
       "\u001b[31m│\u001b[0m \u001b[31m❱ \u001b[0m2684 \u001b[2m│   │   │   \u001b[0m\u001b[96mself\u001b[0m.embedding_, aux_data = \u001b[96mself\u001b[0m._fit_embed_data(                             \u001b[31m│\u001b[0m\n",
       "\u001b[31m│\u001b[0m   \u001b[2m2685 \u001b[0m\u001b[2m│   │   │   │   \u001b[0m\u001b[96mself\u001b[0m._raw_data[index],                                                    \u001b[31m│\u001b[0m\n",
       "\u001b[31m│\u001b[0m   \u001b[2m2686 \u001b[0m\u001b[2m│   │   │   │   \u001b[0m\u001b[96mself\u001b[0m.n_epochs,                                                            \u001b[31m│\u001b[0m\n",
       "\u001b[31m│\u001b[0m   \u001b[2m2687 \u001b[0m\u001b[2m│   │   │   │   \u001b[0minit,                                                                     \u001b[31m│\u001b[0m\n",
       "\u001b[31m│\u001b[0m                                                                                                  \u001b[31m│\u001b[0m\n",
       "\u001b[31m│\u001b[0m \u001b[33mD:\\Users\\shaodongxu\\anaconda3\\lib\\site-packages\\umap\\umap_.py\u001b[0m:\u001b[94m2717\u001b[0m in \u001b[92m_fit_embed_data\u001b[0m            \u001b[31m│\u001b[0m\n",
       "\u001b[31m│\u001b[0m                                                                                                  \u001b[31m│\u001b[0m\n",
       "\u001b[31m│\u001b[0m   \u001b[2m2714 \u001b[0m\u001b[2;90m│   │   \u001b[0m\u001b[33m\"\"\"A method wrapper for simplicial_set_embedding that can be\u001b[0m                      \u001b[31m│\u001b[0m\n",
       "\u001b[31m│\u001b[0m   \u001b[2m2715 \u001b[0m\u001b[2;33m│   │   \u001b[0m\u001b[33mreplaced by subclasses.\u001b[0m                                                           \u001b[31m│\u001b[0m\n",
       "\u001b[31m│\u001b[0m   \u001b[2m2716 \u001b[0m\u001b[2;33m│   │   \u001b[0m\u001b[33m\"\"\"\u001b[0m                                                                               \u001b[31m│\u001b[0m\n",
       "\u001b[31m│\u001b[0m \u001b[31m❱ \u001b[0m2717 \u001b[2m│   │   \u001b[0m\u001b[94mreturn\u001b[0m simplicial_set_embedding(                                                  \u001b[31m│\u001b[0m\n",
       "\u001b[31m│\u001b[0m   \u001b[2m2718 \u001b[0m\u001b[2m│   │   │   \u001b[0mX,                                                                            \u001b[31m│\u001b[0m\n",
       "\u001b[31m│\u001b[0m   \u001b[2m2719 \u001b[0m\u001b[2m│   │   │   \u001b[0m\u001b[96mself\u001b[0m.graph_,                                                                  \u001b[31m│\u001b[0m\n",
       "\u001b[31m│\u001b[0m   \u001b[2m2720 \u001b[0m\u001b[2m│   │   │   \u001b[0m\u001b[96mself\u001b[0m.n_components,                                                            \u001b[31m│\u001b[0m\n",
       "\u001b[31m│\u001b[0m                                                                                                  \u001b[31m│\u001b[0m\n",
       "\u001b[31m│\u001b[0m \u001b[33mD:\\Users\\shaodongxu\\anaconda3\\lib\\site-packages\\umap\\umap_.py\u001b[0m:\u001b[94m1078\u001b[0m in \u001b[92msimplicial_set_embedding\u001b[0m   \u001b[31m│\u001b[0m\n",
       "\u001b[31m│\u001b[0m                                                                                                  \u001b[31m│\u001b[0m\n",
       "\u001b[31m│\u001b[0m   \u001b[2m1075 \u001b[0m\u001b[2m│   │   \u001b[0m).astype(np.float32)                                                              \u001b[31m│\u001b[0m\n",
       "\u001b[31m│\u001b[0m   \u001b[2m1076 \u001b[0m\u001b[2m│   \u001b[0m\u001b[94melif\u001b[0m \u001b[96misinstance\u001b[0m(init, \u001b[96mstr\u001b[0m) \u001b[95mand\u001b[0m init == \u001b[33m\"\u001b[0m\u001b[33mspectral\u001b[0m\u001b[33m\"\u001b[0m:                                    \u001b[31m│\u001b[0m\n",
       "\u001b[31m│\u001b[0m   \u001b[2m1077 \u001b[0m\u001b[2m│   │   \u001b[0m\u001b[2m# We add a little noise to avoid local minima for optimization to come\u001b[0m            \u001b[31m│\u001b[0m\n",
       "\u001b[31m│\u001b[0m \u001b[31m❱ \u001b[0m1078 \u001b[2m│   │   \u001b[0minitialisation = spectral_layout(                                                 \u001b[31m│\u001b[0m\n",
       "\u001b[31m│\u001b[0m   \u001b[2m1079 \u001b[0m\u001b[2m│   │   │   \u001b[0mdata,                                                                         \u001b[31m│\u001b[0m\n",
       "\u001b[31m│\u001b[0m   \u001b[2m1080 \u001b[0m\u001b[2m│   │   │   \u001b[0mgraph,                                                                        \u001b[31m│\u001b[0m\n",
       "\u001b[31m│\u001b[0m   \u001b[2m1081 \u001b[0m\u001b[2m│   │   │   \u001b[0mn_components,                                                                 \u001b[31m│\u001b[0m\n",
       "\u001b[31m│\u001b[0m                                                                                                  \u001b[31m│\u001b[0m\n",
       "\u001b[31m│\u001b[0m \u001b[33mD:\\Users\\shaodongxu\\anaconda3\\lib\\site-packages\\umap\\spectral.py\u001b[0m:\u001b[94m332\u001b[0m in \u001b[92mspectral_layout\u001b[0m          \u001b[31m│\u001b[0m\n",
       "\u001b[31m│\u001b[0m                                                                                                  \u001b[31m│\u001b[0m\n",
       "\u001b[31m│\u001b[0m   \u001b[2m329 \u001b[0m\u001b[2m│   \u001b[0mnum_lanczos_vectors = \u001b[96mmax\u001b[0m(\u001b[94m2\u001b[0m * k + \u001b[94m1\u001b[0m, \u001b[96mint\u001b[0m(np.sqrt(graph.shape[\u001b[94m0\u001b[0m])))                     \u001b[31m│\u001b[0m\n",
       "\u001b[31m│\u001b[0m   \u001b[2m330 \u001b[0m\u001b[2m│   \u001b[0m\u001b[94mtry\u001b[0m:                                                                                   \u001b[31m│\u001b[0m\n",
       "\u001b[31m│\u001b[0m   \u001b[2m331 \u001b[0m\u001b[2m│   │   \u001b[0m\u001b[94mif\u001b[0m L.shape[\u001b[94m0\u001b[0m] < \u001b[94m2000000\u001b[0m:                                                           \u001b[31m│\u001b[0m\n",
       "\u001b[31m│\u001b[0m \u001b[31m❱ \u001b[0m332 \u001b[2m│   │   │   \u001b[0meigenvalues, eigenvectors = scipy.sparse.linalg.eigsh(                         \u001b[31m│\u001b[0m\n",
       "\u001b[31m│\u001b[0m   \u001b[2m333 \u001b[0m\u001b[2m│   │   │   │   \u001b[0mL,                                                                         \u001b[31m│\u001b[0m\n",
       "\u001b[31m│\u001b[0m   \u001b[2m334 \u001b[0m\u001b[2m│   │   │   │   \u001b[0mk,                                                                         \u001b[31m│\u001b[0m\n",
       "\u001b[31m│\u001b[0m   \u001b[2m335 \u001b[0m\u001b[2m│   │   │   │   \u001b[0mwhich=\u001b[33m\"\u001b[0m\u001b[33mSM\u001b[0m\u001b[33m\"\u001b[0m,                                                                \u001b[31m│\u001b[0m\n",
       "\u001b[31m│\u001b[0m                                                                                                  \u001b[31m│\u001b[0m\n",
       "\u001b[31m│\u001b[0m \u001b[33mD:\\Users\\shaodongxu\\AppData\\Roaming\\Python\\Python310\\site-packages\\scipy\\sparse\\linalg\\_eigen\\ar\u001b[0m \u001b[31m│\u001b[0m\n",
       "\u001b[31m│\u001b[0m \u001b[33mpack\\arpack.py\u001b[0m:\u001b[94m1605\u001b[0m in \u001b[92meigsh\u001b[0m                                                                     \u001b[31m│\u001b[0m\n",
       "\u001b[31m│\u001b[0m                                                                                                  \u001b[31m│\u001b[0m\n",
       "\u001b[31m│\u001b[0m   \u001b[2m1602 \u001b[0m\u001b[2m│   │   │   │   │     \u001b[0m\u001b[96mRuntimeWarning\u001b[0m)                                                     \u001b[31m│\u001b[0m\n",
       "\u001b[31m│\u001b[0m   \u001b[2m1603 \u001b[0m\u001b[2m│   │   \u001b[0m                                                                                  \u001b[31m│\u001b[0m\n",
       "\u001b[31m│\u001b[0m   \u001b[2m1604 \u001b[0m\u001b[2m│   │   \u001b[0m\u001b[94mif\u001b[0m issparse(A):                                                                   \u001b[31m│\u001b[0m\n",
       "\u001b[31m│\u001b[0m \u001b[31m❱ \u001b[0m1605 \u001b[2m│   │   │   \u001b[0m\u001b[94mraise\u001b[0m \u001b[96mTypeError\u001b[0m(\u001b[33m\"\u001b[0m\u001b[33mCannot use scipy.linalg.eigh for sparse A with \u001b[0m\u001b[33m\"\u001b[0m             \u001b[31m│\u001b[0m\n",
       "\u001b[31m│\u001b[0m   \u001b[2m1606 \u001b[0m\u001b[2m│   │   │   │   │   │   │   \u001b[0m\u001b[33m\"\u001b[0m\u001b[33mk >= N. Use scipy.linalg.eigh(A.toarray()) or\u001b[0m\u001b[33m\"\u001b[0m               \u001b[31m│\u001b[0m\n",
       "\u001b[31m│\u001b[0m   \u001b[2m1607 \u001b[0m\u001b[2m│   │   │   │   │   │   │   \u001b[0m\u001b[33m\"\u001b[0m\u001b[33m reduce k.\u001b[0m\u001b[33m\"\u001b[0m)                                                 \u001b[31m│\u001b[0m\n",
       "\u001b[31m│\u001b[0m   \u001b[2m1608 \u001b[0m\u001b[2m│   │   \u001b[0m\u001b[94mif\u001b[0m \u001b[96misinstance\u001b[0m(A, LinearOperator):                                                 \u001b[31m│\u001b[0m\n",
       "\u001b[31m╰──────────────────────────────────────────────────────────────────────────────────────────────────╯\u001b[0m\n",
       "\u001b[1;91mTypeError: \u001b[0mCannot use scipy.linalg.eigh for sparse A with k >= N. Use \u001b[1;35mscipy.linalg.eigh\u001b[0m\u001b[1m(\u001b[0m\u001b[1;35mA.toarray\u001b[0m\u001b[1m(\u001b[0m\u001b[1m)\u001b[0m\u001b[1m)\u001b[0m or reduce k.\n"
      ]
     },
     "metadata": {},
     "output_type": "display_data"
    }
   ],
   "source": [
    "topic_model.visualize_topics()"
   ]
  },
  {
   "cell_type": "code",
   "execution_count": null,
   "id": "1d769e81",
   "metadata": {},
   "outputs": [],
   "source": []
  }
 ],
 "metadata": {
  "kernelspec": {
   "display_name": "Python 3 (ipykernel)",
   "language": "python",
   "name": "python3"
  },
  "language_info": {
   "codemirror_mode": {
    "name": "ipython",
    "version": 3
   },
   "file_extension": ".py",
   "mimetype": "text/x-python",
   "name": "python",
   "nbconvert_exporter": "python",
   "pygments_lexer": "ipython3",
   "version": "3.10.9"
  }
 },
 "nbformat": 4,
 "nbformat_minor": 5
}
