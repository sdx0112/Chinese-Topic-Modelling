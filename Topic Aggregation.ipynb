{
 "cells": [
  {
   "cell_type": "markdown",
   "id": "a152fbfa",
   "metadata": {},
   "source": [
    "# Aggregate topic from paragraph level to document level"
   ]
  },
  {
   "cell_type": "code",
   "execution_count": 5,
   "id": "0c37d010",
   "metadata": {},
   "outputs": [],
   "source": [
    "import pandas as pd\n",
    "from config import *\n",
    "import json"
   ]
  },
  {
   "cell_type": "code",
   "execution_count": 72,
   "id": "ed3019e0",
   "metadata": {},
   "outputs": [],
   "source": [
    "df = pd.read_csv(data_path)"
   ]
  },
  {
   "cell_type": "code",
   "execution_count": 73,
   "id": "76448052",
   "metadata": {},
   "outputs": [
    {
     "data": {
      "text/html": [
       "<div>\n",
       "<style scoped>\n",
       "    .dataframe tbody tr th:only-of-type {\n",
       "        vertical-align: middle;\n",
       "    }\n",
       "\n",
       "    .dataframe tbody tr th {\n",
       "        vertical-align: top;\n",
       "    }\n",
       "\n",
       "    .dataframe thead th {\n",
       "        text-align: right;\n",
       "    }\n",
       "</style>\n",
       "<table border=\"1\" class=\"dataframe\">\n",
       "  <thead>\n",
       "    <tr style=\"text-align: right;\">\n",
       "      <th></th>\n",
       "      <th>ID</th>\n",
       "      <th>RAW_CONTENT</th>\n",
       "      <th>MEETING_NAME</th>\n",
       "      <th>TITLE</th>\n",
       "      <th>PUBLISH_DATE</th>\n",
       "    </tr>\n",
       "  </thead>\n",
       "  <tbody>\n",
       "    <tr>\n",
       "      <th>0</th>\n",
       "      <td>m-1608357555-1682084460</td>\n",
       "      <td>中共中央总书记、国家主席、中央军委主席、中央全面深化改革委员会主任习近平4月21日下午主...</td>\n",
       "      <td>中央全面深化改革会议</td>\n",
       "      <td>会议审议通过了关于强化企业科技创新主体地位的意见关于加强和改进国有经济管理有力支持中国式现代...</td>\n",
       "      <td>2023-04-21T21:41:00Z</td>\n",
       "    </tr>\n",
       "    <tr>\n",
       "      <th>1</th>\n",
       "      <td>m-158629831-1682664300</td>\n",
       "      <td>中共中央政治局4月28日召开会议，分析研究当前经济形势和经济工作。中共中央总书记习近平主...</td>\n",
       "      <td>政治局会议</td>\n",
       "      <td>分析研究当前经济形势和经济工作</td>\n",
       "      <td>2023-04-28T14:45:00Z</td>\n",
       "    </tr>\n",
       "    <tr>\n",
       "      <th>2</th>\n",
       "      <td>m-704972677-1680162720</td>\n",
       "      <td>中共中央政治局3月30日召开会议，决定从今年4月开始，在全党自上而下分两批开展学习贯彻习...</td>\n",
       "      <td>政治局会议</td>\n",
       "      <td>决定从2023年4月开始在全党自上而下分两批开展学习贯彻习近平新时代中国特色社会主义思想主题...</td>\n",
       "      <td>2023-03-30T15:52:00Z</td>\n",
       "    </tr>\n",
       "    <tr>\n",
       "      <th>3</th>\n",
       "      <td>m-248496144-1366366560</td>\n",
       "      <td>中共中央政治局4月19日召开会议，决定从今年下半年开始，用一年左右时间，在全党自上而下分...</td>\n",
       "      <td>政治局会议</td>\n",
       "      <td>研究部署在全党深入开展党的群众路线教育实践活动</td>\n",
       "      <td>2013-04-19T18:16:00Z</td>\n",
       "    </tr>\n",
       "    <tr>\n",
       "      <th>4</th>\n",
       "      <td>m-1020277137-1469618520</td>\n",
       "      <td>李克强主持召开国务院常务会议\\n听取关于地方和部门推进重大项目落地审计情况汇报 完善奖惩机制...</td>\n",
       "      <td>国务院常委会</td>\n",
       "      <td>李克强主持召开国务院常务会议通过十三五国家科技创新专项规划 以创新型国家建设引领和支撑升级发...</td>\n",
       "      <td>2016-07-27T19:22:00Z</td>\n",
       "    </tr>\n",
       "  </tbody>\n",
       "</table>\n",
       "</div>"
      ],
      "text/plain": [
       "                        ID                                        RAW_CONTENT  \\\n",
       "0  m-1608357555-1682084460  　　中共中央总书记、国家主席、中央军委主席、中央全面深化改革委员会主任习近平4月21日下午主...   \n",
       "1   m-158629831-1682664300  　　中共中央政治局4月28日召开会议，分析研究当前经济形势和经济工作。中共中央总书记习近平主...   \n",
       "2   m-704972677-1680162720  　　中共中央政治局3月30日召开会议，决定从今年4月开始，在全党自上而下分两批开展学习贯彻习...   \n",
       "3   m-248496144-1366366560  　　中共中央政治局4月19日召开会议，决定从今年下半年开始，用一年左右时间，在全党自上而下分...   \n",
       "4  m-1020277137-1469618520  李克强主持召开国务院常务会议\\n听取关于地方和部门推进重大项目落地审计情况汇报 完善奖惩机制...   \n",
       "\n",
       "  MEETING_NAME                                              TITLE  \\\n",
       "0   中央全面深化改革会议  会议审议通过了关于强化企业科技创新主体地位的意见关于加强和改进国有经济管理有力支持中国式现代...   \n",
       "1        政治局会议                                    分析研究当前经济形势和经济工作   \n",
       "2        政治局会议  决定从2023年4月开始在全党自上而下分两批开展学习贯彻习近平新时代中国特色社会主义思想主题...   \n",
       "3        政治局会议                            研究部署在全党深入开展党的群众路线教育实践活动   \n",
       "4       国务院常委会  李克强主持召开国务院常务会议通过十三五国家科技创新专项规划 以创新型国家建设引领和支撑升级发...   \n",
       "\n",
       "           PUBLISH_DATE  \n",
       "0  2023-04-21T21:41:00Z  \n",
       "1  2023-04-28T14:45:00Z  \n",
       "2  2023-03-30T15:52:00Z  \n",
       "3  2013-04-19T18:16:00Z  \n",
       "4  2016-07-27T19:22:00Z  "
      ]
     },
     "execution_count": 73,
     "metadata": {},
     "output_type": "execute_result"
    }
   ],
   "source": [
    "df.head()"
   ]
  },
  {
   "cell_type": "code",
   "execution_count": 37,
   "id": "b5b83c7c",
   "metadata": {},
   "outputs": [],
   "source": [
    "df_para = pd.read_csv('data/all_para.csv', encoding='utf_8_sig')"
   ]
  },
  {
   "cell_type": "code",
   "execution_count": 38,
   "id": "9a20311a",
   "metadata": {},
   "outputs": [
    {
     "data": {
      "text/html": [
       "<div>\n",
       "<style scoped>\n",
       "    .dataframe tbody tr th:only-of-type {\n",
       "        vertical-align: middle;\n",
       "    }\n",
       "\n",
       "    .dataframe tbody tr th {\n",
       "        vertical-align: top;\n",
       "    }\n",
       "\n",
       "    .dataframe thead th {\n",
       "        text-align: right;\n",
       "    }\n",
       "</style>\n",
       "<table border=\"1\" class=\"dataframe\">\n",
       "  <thead>\n",
       "    <tr style=\"text-align: right;\">\n",
       "      <th></th>\n",
       "      <th>ID</th>\n",
       "      <th>TITLE</th>\n",
       "      <th>CONTENT</th>\n",
       "    </tr>\n",
       "  </thead>\n",
       "  <tbody>\n",
       "    <tr>\n",
       "      <th>0</th>\n",
       "      <td>m-1608357555-1682084460</td>\n",
       "      <td>会议审议通过了关于强化企业科技创新主体地位的意见关于加强和改进国有经济管理有力支持中国式现代...</td>\n",
       "      <td>中共中央总书记、国家主席、中央军委主席、中央全面深化改革委员会主任习近平4月21日下午主持召...</td>\n",
       "    </tr>\n",
       "    <tr>\n",
       "      <th>1</th>\n",
       "      <td>m-1608357555-1682084460</td>\n",
       "      <td>会议审议通过了关于强化企业科技创新主体地位的意见关于加强和改进国有经济管理有力支持中国式现代...</td>\n",
       "      <td>会议审议通过了《关于强化企业科技创新主体地位的意见》、《关于加强和改进国有经济管理有力支持中...</td>\n",
       "    </tr>\n",
       "    <tr>\n",
       "      <th>2</th>\n",
       "      <td>m-1608357555-1682084460</td>\n",
       "      <td>会议审议通过了关于强化企业科技创新主体地位的意见关于加强和改进国有经济管理有力支持中国式现代...</td>\n",
       "      <td>会议指出，强化企业科技创新主体地位，是深化科技体制改革、推动实现高水平科技自立自强的关键举措...</td>\n",
       "    </tr>\n",
       "    <tr>\n",
       "      <th>3</th>\n",
       "      <td>m-1608357555-1682084460</td>\n",
       "      <td>会议审议通过了关于强化企业科技创新主体地位的意见关于加强和改进国有经济管理有力支持中国式现代...</td>\n",
       "      <td>会议强调，加强和改进国有经济管理，要立足新时代新征程国有经济肩负的使命任务和功能定位，从服务...</td>\n",
       "    </tr>\n",
       "    <tr>\n",
       "      <th>4</th>\n",
       "      <td>m-1608357555-1682084460</td>\n",
       "      <td>会议审议通过了关于强化企业科技创新主体地位的意见关于加强和改进国有经济管理有力支持中国式现代...</td>\n",
       "      <td>会议指出，支持民营经济发展是党中央的一贯方针。促进民营经济发展壮大，要着力优化民营经济发展环...</td>\n",
       "    </tr>\n",
       "  </tbody>\n",
       "</table>\n",
       "</div>"
      ],
      "text/plain": [
       "                        ID                                              TITLE  \\\n",
       "0  m-1608357555-1682084460  会议审议通过了关于强化企业科技创新主体地位的意见关于加强和改进国有经济管理有力支持中国式现代...   \n",
       "1  m-1608357555-1682084460  会议审议通过了关于强化企业科技创新主体地位的意见关于加强和改进国有经济管理有力支持中国式现代...   \n",
       "2  m-1608357555-1682084460  会议审议通过了关于强化企业科技创新主体地位的意见关于加强和改进国有经济管理有力支持中国式现代...   \n",
       "3  m-1608357555-1682084460  会议审议通过了关于强化企业科技创新主体地位的意见关于加强和改进国有经济管理有力支持中国式现代...   \n",
       "4  m-1608357555-1682084460  会议审议通过了关于强化企业科技创新主体地位的意见关于加强和改进国有经济管理有力支持中国式现代...   \n",
       "\n",
       "                                             CONTENT  \n",
       "0  中共中央总书记、国家主席、中央军委主席、中央全面深化改革委员会主任习近平4月21日下午主持召...  \n",
       "1  会议审议通过了《关于强化企业科技创新主体地位的意见》、《关于加强和改进国有经济管理有力支持中...  \n",
       "2  会议指出，强化企业科技创新主体地位，是深化科技体制改革、推动实现高水平科技自立自强的关键举措...  \n",
       "3  会议强调，加强和改进国有经济管理，要立足新时代新征程国有经济肩负的使命任务和功能定位，从服务...  \n",
       "4  会议指出，支持民营经济发展是党中央的一贯方针。促进民营经济发展壮大，要着力优化民营经济发展环...  "
      ]
     },
     "execution_count": 38,
     "metadata": {},
     "output_type": "execute_result"
    }
   ],
   "source": [
    "df_para.head()"
   ]
  },
  {
   "cell_type": "code",
   "execution_count": 39,
   "id": "46aedec9",
   "metadata": {},
   "outputs": [
    {
     "data": {
      "text/plain": [
       "(3540, 3)"
      ]
     },
     "execution_count": 39,
     "metadata": {},
     "output_type": "execute_result"
    }
   ],
   "source": [
    "df_para.shape"
   ]
  },
  {
   "cell_type": "code",
   "execution_count": 28,
   "id": "2218152c",
   "metadata": {},
   "outputs": [],
   "source": [
    "with open('data/generated_predictions_all.txt', encoding='utf_8_sig') as fh:\n",
    "    data = fh.read()"
   ]
  },
  {
   "cell_type": "code",
   "execution_count": 29,
   "id": "7650887d",
   "metadata": {},
   "outputs": [],
   "source": [
    "data = data.replace('\\n','').replace('\"','')"
   ]
  },
  {
   "cell_type": "code",
   "execution_count": 44,
   "id": "03edbf82",
   "metadata": {},
   "outputs": [],
   "source": [
    "data_list = data.split('}{')"
   ]
  },
  {
   "cell_type": "code",
   "execution_count": 45,
   "id": "d4da6d85",
   "metadata": {},
   "outputs": [],
   "source": [
    "data_list = [x.split(': ')[-1].replace('}','') for x in data_list]"
   ]
  },
  {
   "cell_type": "code",
   "execution_count": 46,
   "id": "c831151d",
   "metadata": {},
   "outputs": [
    {
     "data": {
      "text/plain": [
       "3540"
      ]
     },
     "execution_count": 46,
     "metadata": {},
     "output_type": "execute_result"
    }
   ],
   "source": [
    "len(data_list)"
   ]
  },
  {
   "cell_type": "code",
   "execution_count": 49,
   "id": "750362e4",
   "metadata": {},
   "outputs": [],
   "source": [
    "df_para['TOPIC'] = data_list"
   ]
  },
  {
   "cell_type": "code",
   "execution_count": 52,
   "id": "60d43502",
   "metadata": {},
   "outputs": [
    {
     "data": {
      "text/html": [
       "<div>\n",
       "<style scoped>\n",
       "    .dataframe tbody tr th:only-of-type {\n",
       "        vertical-align: middle;\n",
       "    }\n",
       "\n",
       "    .dataframe tbody tr th {\n",
       "        vertical-align: top;\n",
       "    }\n",
       "\n",
       "    .dataframe thead th {\n",
       "        text-align: right;\n",
       "    }\n",
       "</style>\n",
       "<table border=\"1\" class=\"dataframe\">\n",
       "  <thead>\n",
       "    <tr style=\"text-align: right;\">\n",
       "      <th></th>\n",
       "      <th>ID</th>\n",
       "      <th>TITLE</th>\n",
       "      <th>CONTENT</th>\n",
       "      <th>TOPIC</th>\n",
       "    </tr>\n",
       "  </thead>\n",
       "  <tbody>\n",
       "    <tr>\n",
       "      <th>0</th>\n",
       "      <td>m-1608357555-1682084460</td>\n",
       "      <td>会议审议通过了关于强化企业科技创新主体地位的意见关于加强和改进国有经济管理有力支持中国式现代...</td>\n",
       "      <td>中共中央总书记、国家主席、中央军委主席、中央全面深化改革委员会主任习近平4月21日下午主持召...</td>\n",
       "      <td>宏观</td>\n",
       "    </tr>\n",
       "    <tr>\n",
       "      <th>1</th>\n",
       "      <td>m-1608357555-1682084460</td>\n",
       "      <td>会议审议通过了关于强化企业科技创新主体地位的意见关于加强和改进国有经济管理有力支持中国式现代...</td>\n",
       "      <td>会议审议通过了《关于强化企业科技创新主体地位的意见》、《关于加强和改进国有经济管理有力支持中...</td>\n",
       "      <td>企业发展</td>\n",
       "    </tr>\n",
       "    <tr>\n",
       "      <th>2</th>\n",
       "      <td>m-1608357555-1682084460</td>\n",
       "      <td>会议审议通过了关于强化企业科技创新主体地位的意见关于加强和改进国有经济管理有力支持中国式现代...</td>\n",
       "      <td>会议指出，强化企业科技创新主体地位，是深化科技体制改革、推动实现高水平科技自立自强的关键举措...</td>\n",
       "      <td>科技</td>\n",
       "    </tr>\n",
       "    <tr>\n",
       "      <th>3</th>\n",
       "      <td>m-1608357555-1682084460</td>\n",
       "      <td>会议审议通过了关于强化企业科技创新主体地位的意见关于加强和改进国有经济管理有力支持中国式现代...</td>\n",
       "      <td>会议强调，加强和改进国有经济管理，要立足新时代新征程国有经济肩负的使命任务和功能定位，从服务...</td>\n",
       "      <td>企业发展</td>\n",
       "    </tr>\n",
       "    <tr>\n",
       "      <th>4</th>\n",
       "      <td>m-1608357555-1682084460</td>\n",
       "      <td>会议审议通过了关于强化企业科技创新主体地位的意见关于加强和改进国有经济管理有力支持中国式现代...</td>\n",
       "      <td>会议指出，支持民营经济发展是党中央的一贯方针。促进民营经济发展壮大，要着力优化民营经济发展环...</td>\n",
       "      <td>企业</td>\n",
       "    </tr>\n",
       "  </tbody>\n",
       "</table>\n",
       "</div>"
      ],
      "text/plain": [
       "                        ID                                              TITLE  \\\n",
       "0  m-1608357555-1682084460  会议审议通过了关于强化企业科技创新主体地位的意见关于加强和改进国有经济管理有力支持中国式现代...   \n",
       "1  m-1608357555-1682084460  会议审议通过了关于强化企业科技创新主体地位的意见关于加强和改进国有经济管理有力支持中国式现代...   \n",
       "2  m-1608357555-1682084460  会议审议通过了关于强化企业科技创新主体地位的意见关于加强和改进国有经济管理有力支持中国式现代...   \n",
       "3  m-1608357555-1682084460  会议审议通过了关于强化企业科技创新主体地位的意见关于加强和改进国有经济管理有力支持中国式现代...   \n",
       "4  m-1608357555-1682084460  会议审议通过了关于强化企业科技创新主体地位的意见关于加强和改进国有经济管理有力支持中国式现代...   \n",
       "\n",
       "                                             CONTENT TOPIC  \n",
       "0  中共中央总书记、国家主席、中央军委主席、中央全面深化改革委员会主任习近平4月21日下午主持召...    宏观  \n",
       "1  会议审议通过了《关于强化企业科技创新主体地位的意见》、《关于加强和改进国有经济管理有力支持中...  企业发展  \n",
       "2  会议指出，强化企业科技创新主体地位，是深化科技体制改革、推动实现高水平科技自立自强的关键举措...    科技  \n",
       "3  会议强调，加强和改进国有经济管理，要立足新时代新征程国有经济肩负的使命任务和功能定位，从服务...  企业发展  \n",
       "4  会议指出，支持民营经济发展是党中央的一贯方针。促进民营经济发展壮大，要着力优化民营经济发展环...    企业  "
      ]
     },
     "execution_count": 52,
     "metadata": {},
     "output_type": "execute_result"
    }
   ],
   "source": [
    "df_para.head()"
   ]
  },
  {
   "cell_type": "code",
   "execution_count": 54,
   "id": "1ec8537d",
   "metadata": {},
   "outputs": [
    {
     "data": {
      "text/plain": [
       "(3540, 4)"
      ]
     },
     "execution_count": 54,
     "metadata": {},
     "output_type": "execute_result"
    }
   ],
   "source": [
    "df_para.shape"
   ]
  },
  {
   "cell_type": "code",
   "execution_count": 53,
   "id": "53e8c0ac",
   "metadata": {},
   "outputs": [],
   "source": [
    "df_para.to_csv('data/para_topic.csv', encoding='utf_8_sig', index = False) "
   ]
  },
  {
   "cell_type": "code",
   "execution_count": 55,
   "id": "404089b5",
   "metadata": {},
   "outputs": [],
   "source": [
    "with open('data/generated_predictions_title.txt', encoding='utf_8_sig') as fh:\n",
    "    data_title = fh.read()"
   ]
  },
  {
   "cell_type": "code",
   "execution_count": 56,
   "id": "a9facd3b",
   "metadata": {},
   "outputs": [],
   "source": [
    "data_title = data_title.replace('\\n','').replace('\"','')\n",
    "data_title_list = data_title.split('}{')\n",
    "data_title_list = [x.split(': ')[-1].replace('}','') for x in data_title_list]"
   ]
  },
  {
   "cell_type": "code",
   "execution_count": 58,
   "id": "743511b1",
   "metadata": {},
   "outputs": [],
   "source": [
    "titles = df_para['TITLE'].unique().tolist()"
   ]
  },
  {
   "cell_type": "code",
   "execution_count": 59,
   "id": "01cd8da1",
   "metadata": {},
   "outputs": [],
   "source": [
    "df_title_topics = pd.DataFrame({'TITLE':titles, 'TITLE_TOPIC':data_title_list})"
   ]
  },
  {
   "cell_type": "code",
   "execution_count": 60,
   "id": "40b23585",
   "metadata": {},
   "outputs": [],
   "source": [
    "df_title_topics.to_csv('data/title_topic.csv', encoding='utf_8_sig', index = False)"
   ]
  },
  {
   "cell_type": "code",
   "execution_count": 76,
   "id": "5998cd0f",
   "metadata": {},
   "outputs": [],
   "source": [
    "df_id_topics = pd.read_csv('data/id_topic_3.csv', encoding='utf_8_sig')"
   ]
  },
  {
   "cell_type": "code",
   "execution_count": 77,
   "id": "33873a13",
   "metadata": {},
   "outputs": [
    {
     "data": {
      "text/html": [
       "<div>\n",
       "<style scoped>\n",
       "    .dataframe tbody tr th:only-of-type {\n",
       "        vertical-align: middle;\n",
       "    }\n",
       "\n",
       "    .dataframe tbody tr th {\n",
       "        vertical-align: top;\n",
       "    }\n",
       "\n",
       "    .dataframe thead th {\n",
       "        text-align: right;\n",
       "    }\n",
       "</style>\n",
       "<table border=\"1\" class=\"dataframe\">\n",
       "  <thead>\n",
       "    <tr style=\"text-align: right;\">\n",
       "      <th></th>\n",
       "      <th>ID</th>\n",
       "      <th>TOPICS_ALL</th>\n",
       "    </tr>\n",
       "  </thead>\n",
       "  <tbody>\n",
       "    <tr>\n",
       "      <th>0</th>\n",
       "      <td>m-1000427248-1491996300</td>\n",
       "      <td>医药健康 地方财政</td>\n",
       "    </tr>\n",
       "    <tr>\n",
       "      <th>1</th>\n",
       "      <td>m-100312451-1512726120</td>\n",
       "      <td>宏观 区域发展 企业发展</td>\n",
       "    </tr>\n",
       "    <tr>\n",
       "      <th>2</th>\n",
       "      <td>m-1004580380-1548847920</td>\n",
       "      <td>物资储备 基建</td>\n",
       "    </tr>\n",
       "    <tr>\n",
       "      <th>3</th>\n",
       "      <td>m-1007869694-1527075000</td>\n",
       "      <td>区域发展 教育</td>\n",
       "    </tr>\n",
       "    <tr>\n",
       "      <th>4</th>\n",
       "      <td>m-1008064059-1671635580</td>\n",
       "      <td>宏观 民生扶贫</td>\n",
       "    </tr>\n",
       "  </tbody>\n",
       "</table>\n",
       "</div>"
      ],
      "text/plain": [
       "                        ID    TOPICS_ALL\n",
       "0  m-1000427248-1491996300     医药健康 地方财政\n",
       "1   m-100312451-1512726120  宏观 区域发展 企业发展\n",
       "2  m-1004580380-1548847920       物资储备 基建\n",
       "3  m-1007869694-1527075000       区域发展 教育\n",
       "4  m-1008064059-1671635580       宏观 民生扶贫"
      ]
     },
     "execution_count": 77,
     "metadata": {},
     "output_type": "execute_result"
    }
   ],
   "source": [
    "df_id_topics.head()"
   ]
  },
  {
   "cell_type": "code",
   "execution_count": 78,
   "id": "e03e65b0",
   "metadata": {},
   "outputs": [],
   "source": [
    "df_output = df.merge(df_id_topics)"
   ]
  },
  {
   "cell_type": "code",
   "execution_count": 79,
   "id": "31f1ff12",
   "metadata": {},
   "outputs": [
    {
     "data": {
      "text/html": [
       "<div>\n",
       "<style scoped>\n",
       "    .dataframe tbody tr th:only-of-type {\n",
       "        vertical-align: middle;\n",
       "    }\n",
       "\n",
       "    .dataframe tbody tr th {\n",
       "        vertical-align: top;\n",
       "    }\n",
       "\n",
       "    .dataframe thead th {\n",
       "        text-align: right;\n",
       "    }\n",
       "</style>\n",
       "<table border=\"1\" class=\"dataframe\">\n",
       "  <thead>\n",
       "    <tr style=\"text-align: right;\">\n",
       "      <th></th>\n",
       "      <th>ID</th>\n",
       "      <th>RAW_CONTENT</th>\n",
       "      <th>MEETING_NAME</th>\n",
       "      <th>TITLE</th>\n",
       "      <th>PUBLISH_DATE</th>\n",
       "      <th>TOPICS_ALL</th>\n",
       "    </tr>\n",
       "  </thead>\n",
       "  <tbody>\n",
       "    <tr>\n",
       "      <th>0</th>\n",
       "      <td>m-1608357555-1682084460</td>\n",
       "      <td>中共中央总书记、国家主席、中央军委主席、中央全面深化改革委员会主任习近平4月21日下午主...</td>\n",
       "      <td>中央全面深化改革会议</td>\n",
       "      <td>会议审议通过了关于强化企业科技创新主体地位的意见关于加强和改进国有经济管理有力支持中国式现代...</td>\n",
       "      <td>2023-04-21T21:41:00Z</td>\n",
       "      <td>宏观 企业发展</td>\n",
       "    </tr>\n",
       "    <tr>\n",
       "      <th>1</th>\n",
       "      <td>m-158629831-1682664300</td>\n",
       "      <td>中共中央政治局4月28日召开会议，分析研究当前经济形势和经济工作。中共中央总书记习近平主...</td>\n",
       "      <td>政治局会议</td>\n",
       "      <td>分析研究当前经济形势和经济工作</td>\n",
       "      <td>2023-04-28T14:45:00Z</td>\n",
       "      <td>企业发展 就业</td>\n",
       "    </tr>\n",
       "    <tr>\n",
       "      <th>2</th>\n",
       "      <td>m-704972677-1680162720</td>\n",
       "      <td>中共中央政治局3月30日召开会议，决定从今年4月开始，在全党自上而下分两批开展学习贯彻习...</td>\n",
       "      <td>政治局会议</td>\n",
       "      <td>决定从2023年4月开始在全党自上而下分两批开展学习贯彻习近平新时代中国特色社会主义思想主题...</td>\n",
       "      <td>2023-03-30T15:52:00Z</td>\n",
       "      <td>宏观 企业发展 教育</td>\n",
       "    </tr>\n",
       "    <tr>\n",
       "      <th>3</th>\n",
       "      <td>m-248496144-1366366560</td>\n",
       "      <td>中共中央政治局4月19日召开会议，决定从今年下半年开始，用一年左右时间，在全党自上而下分...</td>\n",
       "      <td>政治局会议</td>\n",
       "      <td>研究部署在全党深入开展党的群众路线教育实践活动</td>\n",
       "      <td>2013-04-19T18:16:00Z</td>\n",
       "      <td>教育 民生扶贫</td>\n",
       "    </tr>\n",
       "    <tr>\n",
       "      <th>4</th>\n",
       "      <td>m-1020277137-1469618520</td>\n",
       "      <td>李克强主持召开国务院常务会议\\n听取关于地方和部门推进重大项目落地审计情况汇报 完善奖惩机制...</td>\n",
       "      <td>国务院常委会</td>\n",
       "      <td>李克强主持召开国务院常务会议通过十三五国家科技创新专项规划 以创新型国家建设引领和支撑升级发...</td>\n",
       "      <td>2016-07-27T19:22:00Z</td>\n",
       "      <td>能源 宏观 科技</td>\n",
       "    </tr>\n",
       "  </tbody>\n",
       "</table>\n",
       "</div>"
      ],
      "text/plain": [
       "                        ID                                        RAW_CONTENT  \\\n",
       "0  m-1608357555-1682084460  　　中共中央总书记、国家主席、中央军委主席、中央全面深化改革委员会主任习近平4月21日下午主...   \n",
       "1   m-158629831-1682664300  　　中共中央政治局4月28日召开会议，分析研究当前经济形势和经济工作。中共中央总书记习近平主...   \n",
       "2   m-704972677-1680162720  　　中共中央政治局3月30日召开会议，决定从今年4月开始，在全党自上而下分两批开展学习贯彻习...   \n",
       "3   m-248496144-1366366560  　　中共中央政治局4月19日召开会议，决定从今年下半年开始，用一年左右时间，在全党自上而下分...   \n",
       "4  m-1020277137-1469618520  李克强主持召开国务院常务会议\\n听取关于地方和部门推进重大项目落地审计情况汇报 完善奖惩机制...   \n",
       "\n",
       "  MEETING_NAME                                              TITLE  \\\n",
       "0   中央全面深化改革会议  会议审议通过了关于强化企业科技创新主体地位的意见关于加强和改进国有经济管理有力支持中国式现代...   \n",
       "1        政治局会议                                    分析研究当前经济形势和经济工作   \n",
       "2        政治局会议  决定从2023年4月开始在全党自上而下分两批开展学习贯彻习近平新时代中国特色社会主义思想主题...   \n",
       "3        政治局会议                            研究部署在全党深入开展党的群众路线教育实践活动   \n",
       "4       国务院常委会  李克强主持召开国务院常务会议通过十三五国家科技创新专项规划 以创新型国家建设引领和支撑升级发...   \n",
       "\n",
       "           PUBLISH_DATE  TOPICS_ALL  \n",
       "0  2023-04-21T21:41:00Z     宏观 企业发展  \n",
       "1  2023-04-28T14:45:00Z     企业发展 就业  \n",
       "2  2023-03-30T15:52:00Z  宏观 企业发展 教育  \n",
       "3  2013-04-19T18:16:00Z     教育 民生扶贫  \n",
       "4  2016-07-27T19:22:00Z    能源 宏观 科技  "
      ]
     },
     "execution_count": 79,
     "metadata": {},
     "output_type": "execute_result"
    }
   ],
   "source": [
    "df_output.head()"
   ]
  },
  {
   "cell_type": "code",
   "execution_count": 80,
   "id": "8beca3d0",
   "metadata": {},
   "outputs": [],
   "source": [
    "df_output.to_csv('data/id_topics_all.csv', index = False, encoding='utf_8_sig')"
   ]
  },
  {
   "cell_type": "code",
   "execution_count": null,
   "id": "d6013fd5",
   "metadata": {},
   "outputs": [],
   "source": []
  }
 ],
 "metadata": {
  "kernelspec": {
   "display_name": "Python 3 (ipykernel)",
   "language": "python",
   "name": "python3"
  },
  "language_info": {
   "codemirror_mode": {
    "name": "ipython",
    "version": 3
   },
   "file_extension": ".py",
   "mimetype": "text/x-python",
   "name": "python",
   "nbconvert_exporter": "python",
   "pygments_lexer": "ipython3",
   "version": "3.10.9"
  }
 },
 "nbformat": 4,
 "nbformat_minor": 5
}
