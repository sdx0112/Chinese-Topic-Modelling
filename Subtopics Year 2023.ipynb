{
 "cells": [
  {
   "cell_type": "markdown",
   "id": "a8648220",
   "metadata": {},
   "source": [
    "# Find subtopics or key messages for emerging topics in Year 2023"
   ]
  },
  {
   "cell_type": "code",
   "execution_count": 1,
   "id": "2fd4c667",
   "metadata": {},
   "outputs": [],
   "source": [
    "import pandas as pd"
   ]
  },
  {
   "cell_type": "code",
   "execution_count": 25,
   "id": "7be40ebc",
   "metadata": {},
   "outputs": [],
   "source": [
    "topic = '企业发展'"
   ]
  },
  {
   "cell_type": "code",
   "execution_count": 2,
   "id": "471ffd70",
   "metadata": {},
   "outputs": [],
   "source": [
    "df = pd.read_csv('data/id_topics_all.csv', encoding='utf_8_sig')"
   ]
  },
  {
   "cell_type": "code",
   "execution_count": 3,
   "id": "748f77d7",
   "metadata": {},
   "outputs": [],
   "source": [
    "df['Year'] = df.apply({lambda row: row['PUBLISH_DATE'][:4]}, axis = 1)"
   ]
  },
  {
   "cell_type": "code",
   "execution_count": 4,
   "id": "06d1093d",
   "metadata": {},
   "outputs": [],
   "source": [
    "id_2023 = df[df['Year'] == '2023']['ID'].tolist()"
   ]
  },
  {
   "cell_type": "code",
   "execution_count": 6,
   "id": "e46cac8f",
   "metadata": {},
   "outputs": [],
   "source": [
    "df_para = pd.read_csv('data/para_topic.csv', encoding='utf_8_sig')"
   ]
  },
  {
   "cell_type": "code",
   "execution_count": 24,
   "id": "e43b29e5",
   "metadata": {},
   "outputs": [
    {
     "data": {
      "text/html": [
       "<div>\n",
       "<style scoped>\n",
       "    .dataframe tbody tr th:only-of-type {\n",
       "        vertical-align: middle;\n",
       "    }\n",
       "\n",
       "    .dataframe tbody tr th {\n",
       "        vertical-align: top;\n",
       "    }\n",
       "\n",
       "    .dataframe thead th {\n",
       "        text-align: right;\n",
       "    }\n",
       "</style>\n",
       "<table border=\"1\" class=\"dataframe\">\n",
       "  <thead>\n",
       "    <tr style=\"text-align: right;\">\n",
       "      <th></th>\n",
       "      <th>Unnamed: 0</th>\n",
       "      <th>ID</th>\n",
       "      <th>TITLE</th>\n",
       "      <th>CONTENT</th>\n",
       "      <th>TOPIC</th>\n",
       "    </tr>\n",
       "  </thead>\n",
       "  <tbody>\n",
       "    <tr>\n",
       "      <th>0</th>\n",
       "      <td>0</td>\n",
       "      <td>m-1608357555-1682084460</td>\n",
       "      <td>会议审议通过了关于强化企业科技创新主体地位的意见关于加强和改进国有经济管理有力支持中国式现代...</td>\n",
       "      <td>中共中央总书记、国家主席、中央军委主席、中央全面深化改革委员会主任习近平4月21日下午主持召...</td>\n",
       "      <td>宏观</td>\n",
       "    </tr>\n",
       "    <tr>\n",
       "      <th>1</th>\n",
       "      <td>1</td>\n",
       "      <td>m-1608357555-1682084460</td>\n",
       "      <td>会议审议通过了关于强化企业科技创新主体地位的意见关于加强和改进国有经济管理有力支持中国式现代...</td>\n",
       "      <td>会议审议通过了《关于强化企业科技创新主体地位的意见》、《关于加强和改进国有经济管理有力支持中...</td>\n",
       "      <td>企业发展</td>\n",
       "    </tr>\n",
       "    <tr>\n",
       "      <th>2</th>\n",
       "      <td>2</td>\n",
       "      <td>m-1608357555-1682084460</td>\n",
       "      <td>会议审议通过了关于强化企业科技创新主体地位的意见关于加强和改进国有经济管理有力支持中国式现代...</td>\n",
       "      <td>会议指出，强化企业科技创新主体地位，是深化科技体制改革、推动实现高水平科技自立自强的关键举措...</td>\n",
       "      <td>科技</td>\n",
       "    </tr>\n",
       "    <tr>\n",
       "      <th>3</th>\n",
       "      <td>3</td>\n",
       "      <td>m-1608357555-1682084460</td>\n",
       "      <td>会议审议通过了关于强化企业科技创新主体地位的意见关于加强和改进国有经济管理有力支持中国式现代...</td>\n",
       "      <td>会议强调，加强和改进国有经济管理，要立足新时代新征程国有经济肩负的使命任务和功能定位，从服务...</td>\n",
       "      <td>企业发展</td>\n",
       "    </tr>\n",
       "    <tr>\n",
       "      <th>4</th>\n",
       "      <td>4</td>\n",
       "      <td>m-1608357555-1682084460</td>\n",
       "      <td>会议审议通过了关于强化企业科技创新主体地位的意见关于加强和改进国有经济管理有力支持中国式现代...</td>\n",
       "      <td>会议指出，支持民营经济发展是党中央的一贯方针。促进民营经济发展壮大，要着力优化民营经济发展环...</td>\n",
       "      <td>企业</td>\n",
       "    </tr>\n",
       "  </tbody>\n",
       "</table>\n",
       "</div>"
      ],
      "text/plain": [
       "   Unnamed: 0                       ID  \\\n",
       "0           0  m-1608357555-1682084460   \n",
       "1           1  m-1608357555-1682084460   \n",
       "2           2  m-1608357555-1682084460   \n",
       "3           3  m-1608357555-1682084460   \n",
       "4           4  m-1608357555-1682084460   \n",
       "\n",
       "                                               TITLE  \\\n",
       "0  会议审议通过了关于强化企业科技创新主体地位的意见关于加强和改进国有经济管理有力支持中国式现代...   \n",
       "1  会议审议通过了关于强化企业科技创新主体地位的意见关于加强和改进国有经济管理有力支持中国式现代...   \n",
       "2  会议审议通过了关于强化企业科技创新主体地位的意见关于加强和改进国有经济管理有力支持中国式现代...   \n",
       "3  会议审议通过了关于强化企业科技创新主体地位的意见关于加强和改进国有经济管理有力支持中国式现代...   \n",
       "4  会议审议通过了关于强化企业科技创新主体地位的意见关于加强和改进国有经济管理有力支持中国式现代...   \n",
       "\n",
       "                                             CONTENT TOPIC  \n",
       "0  中共中央总书记、国家主席、中央军委主席、中央全面深化改革委员会主任习近平4月21日下午主持召...    宏观  \n",
       "1  会议审议通过了《关于强化企业科技创新主体地位的意见》、《关于加强和改进国有经济管理有力支持中...  企业发展  \n",
       "2  会议指出，强化企业科技创新主体地位，是深化科技体制改革、推动实现高水平科技自立自强的关键举措...    科技  \n",
       "3  会议强调，加强和改进国有经济管理，要立足新时代新征程国有经济肩负的使命任务和功能定位，从服务...  企业发展  \n",
       "4  会议指出，支持民营经济发展是党中央的一贯方针。促进民营经济发展壮大，要着力优化民营经济发展环...    企业  "
      ]
     },
     "execution_count": 24,
     "metadata": {},
     "output_type": "execute_result"
    }
   ],
   "source": [
    "df_para.head()"
   ]
  },
  {
   "cell_type": "code",
   "execution_count": 26,
   "id": "949386d9",
   "metadata": {},
   "outputs": [],
   "source": [
    "df_para_2023 = df_para[df_para['ID'].isin(id_2023)]"
   ]
  },
  {
   "cell_type": "code",
   "execution_count": 27,
   "id": "b1c91477",
   "metadata": {},
   "outputs": [],
   "source": [
    "df_para_2023 = df_para_2023[df_para_2023['TOPIC'].str.contains(topic)]"
   ]
  },
  {
   "cell_type": "code",
   "execution_count": 28,
   "id": "882379b2",
   "metadata": {},
   "outputs": [
    {
     "data": {
      "text/plain": [
       "(20, 5)"
      ]
     },
     "execution_count": 28,
     "metadata": {},
     "output_type": "execute_result"
    }
   ],
   "source": [
    "df_para_2023.shape"
   ]
  },
  {
   "cell_type": "code",
   "execution_count": 29,
   "id": "d542b5b5",
   "metadata": {},
   "outputs": [
    {
     "data": {
      "text/html": [
       "<div>\n",
       "<style scoped>\n",
       "    .dataframe tbody tr th:only-of-type {\n",
       "        vertical-align: middle;\n",
       "    }\n",
       "\n",
       "    .dataframe tbody tr th {\n",
       "        vertical-align: top;\n",
       "    }\n",
       "\n",
       "    .dataframe thead th {\n",
       "        text-align: right;\n",
       "    }\n",
       "</style>\n",
       "<table border=\"1\" class=\"dataframe\">\n",
       "  <thead>\n",
       "    <tr style=\"text-align: right;\">\n",
       "      <th></th>\n",
       "      <th>Unnamed: 0</th>\n",
       "      <th>ID</th>\n",
       "      <th>TITLE</th>\n",
       "      <th>CONTENT</th>\n",
       "      <th>TOPIC</th>\n",
       "    </tr>\n",
       "  </thead>\n",
       "  <tbody>\n",
       "    <tr>\n",
       "      <th>1</th>\n",
       "      <td>1</td>\n",
       "      <td>m-1608357555-1682084460</td>\n",
       "      <td>会议审议通过了关于强化企业科技创新主体地位的意见关于加强和改进国有经济管理有力支持中国式现代...</td>\n",
       "      <td>会议审议通过了《关于强化企业科技创新主体地位的意见》、《关于加强和改进国有经济管理有力支持中...</td>\n",
       "      <td>企业发展</td>\n",
       "    </tr>\n",
       "    <tr>\n",
       "      <th>3</th>\n",
       "      <td>3</td>\n",
       "      <td>m-1608357555-1682084460</td>\n",
       "      <td>会议审议通过了关于强化企业科技创新主体地位的意见关于加强和改进国有经济管理有力支持中国式现代...</td>\n",
       "      <td>会议强调，加强和改进国有经济管理，要立足新时代新征程国有经济肩负的使命任务和功能定位，从服务...</td>\n",
       "      <td>企业发展</td>\n",
       "    </tr>\n",
       "    <tr>\n",
       "      <th>5</th>\n",
       "      <td>5</td>\n",
       "      <td>m-1608357555-1682084460</td>\n",
       "      <td>会议审议通过了关于强化企业科技创新主体地位的意见关于加强和改进国有经济管理有力支持中国式现代...</td>\n",
       "      <td>会议强调，党的十八大以来，我们以巨大的政治勇气全面深化改革，坚持目标引领，突出问题导向，敢于...</td>\n",
       "      <td>企业发展</td>\n",
       "    </tr>\n",
       "    <tr>\n",
       "      <th>6</th>\n",
       "      <td>6</td>\n",
       "      <td>m-1608357555-1682084460</td>\n",
       "      <td>会议审议通过了关于强化企业科技创新主体地位的意见关于加强和改进国有经济管理有力支持中国式现代...</td>\n",
       "      <td>新征程上继续推进全面深化改革，要坚持和加强党的领导，把准改革方向，明确目标任务，以科学的谋划...</td>\n",
       "      <td>企业发展</td>\n",
       "    </tr>\n",
       "    <tr>\n",
       "      <th>9</th>\n",
       "      <td>9</td>\n",
       "      <td>m-158629831-1682664300</td>\n",
       "      <td>分析研究当前经济形势和经济工作</td>\n",
       "      <td>会议强调，要深入开展学习贯彻习近平新时代中国特色社会主义思想主题教育，认真落实中央经济工作会...</td>\n",
       "      <td>企业发展</td>\n",
       "    </tr>\n",
       "  </tbody>\n",
       "</table>\n",
       "</div>"
      ],
      "text/plain": [
       "   Unnamed: 0                       ID  \\\n",
       "1           1  m-1608357555-1682084460   \n",
       "3           3  m-1608357555-1682084460   \n",
       "5           5  m-1608357555-1682084460   \n",
       "6           6  m-1608357555-1682084460   \n",
       "9           9   m-158629831-1682664300   \n",
       "\n",
       "                                               TITLE  \\\n",
       "1  会议审议通过了关于强化企业科技创新主体地位的意见关于加强和改进国有经济管理有力支持中国式现代...   \n",
       "3  会议审议通过了关于强化企业科技创新主体地位的意见关于加强和改进国有经济管理有力支持中国式现代...   \n",
       "5  会议审议通过了关于强化企业科技创新主体地位的意见关于加强和改进国有经济管理有力支持中国式现代...   \n",
       "6  会议审议通过了关于强化企业科技创新主体地位的意见关于加强和改进国有经济管理有力支持中国式现代...   \n",
       "9                                    分析研究当前经济形势和经济工作   \n",
       "\n",
       "                                             CONTENT TOPIC  \n",
       "1  会议审议通过了《关于强化企业科技创新主体地位的意见》、《关于加强和改进国有经济管理有力支持中...  企业发展  \n",
       "3  会议强调，加强和改进国有经济管理，要立足新时代新征程国有经济肩负的使命任务和功能定位，从服务...  企业发展  \n",
       "5  会议强调，党的十八大以来，我们以巨大的政治勇气全面深化改革，坚持目标引领，突出问题导向，敢于...  企业发展  \n",
       "6  新征程上继续推进全面深化改革，要坚持和加强党的领导，把准改革方向，明确目标任务，以科学的谋划...  企业发展  \n",
       "9  会议强调，要深入开展学习贯彻习近平新时代中国特色社会主义思想主题教育，认真落实中央经济工作会...  企业发展  "
      ]
     },
     "execution_count": 29,
     "metadata": {},
     "output_type": "execute_result"
    }
   ],
   "source": [
    "df_para_2023.head()"
   ]
  },
  {
   "cell_type": "code",
   "execution_count": 30,
   "id": "754d7e96",
   "metadata": {},
   "outputs": [],
   "source": [
    "txts = df_para_2023['CONTENT'].tolist()"
   ]
  },
  {
   "cell_type": "code",
   "execution_count": 41,
   "id": "46f4a43c",
   "metadata": {},
   "outputs": [
    {
     "data": {
      "text/plain": [
       "['会议审议通过了《关于强化企业科技创新主体地位的意见》、《关于加强和改进国有经济管理有力支持中国式现代化建设的意见》、《关于促进民营经济发展壮大的意见》和《中央全面深化改革委员会工作规则》、《中央全面深化改革委员会专项小组工作规则》、《中央全面深化改革委员会办公室工作细则》、《中央全面深化改革委员会2023年工作要点》。',\n",
       " '会议强调，加强和改进国有经济管理，要立足新时代新征程国有经济肩负的使命任务和功能定位，从服务构建新发展格局、推动高质量发展、促进共同富裕、维护国家安全的战略高度出发，完善国有经济安全责任、质量结构、资产和企业管理，深化国有企业改革，着力补短板、强弱项、固底板、扬优势，构建顶层统筹、权责明确、运行高效、监管有力的国有经济管理体系。',\n",
       " '会议强调，党的十八大以来，我们以巨大的政治勇气全面深化改革，坚持目标引领，突出问题导向，敢于突进深水区，敢于啃硬骨头，敢于涉险滩，敢于面对新矛盾新挑战，坚决破除各方面体制机制弊端，以前所未有的力度打开了崭新局面。新时代10年，我们推动的改革是全方位、深层次、根本性的，取得的成就是历史性、革命性、开创性的。放眼全世界，没有哪个国家和政党，能有这样的政治气魄和历史担当，敢于大刀阔斧、刀刃向内、自我革命，也没有哪个国家和政党，能在这么短时间内推动这么大范围、这么大规模、这么大力度的改革，这是中国特色社会主义制度的鲜明特征和显著优势。']"
      ]
     },
     "execution_count": 41,
     "metadata": {},
     "output_type": "execute_result"
    }
   ],
   "source": [
    "txts[:3]"
   ]
  },
  {
   "cell_type": "code",
   "execution_count": 48,
   "id": "33f65517",
   "metadata": {},
   "outputs": [],
   "source": [
    "f = open(\"data/para_2023.txt\", \"w\")\n",
    "f.write('\\n'.join(txts))\n",
    "f.close()"
   ]
  },
  {
   "cell_type": "markdown",
   "id": "c0df25cd",
   "metadata": {},
   "source": [
    "## Use LDA to identify subtopics and keywords"
   ]
  },
  {
   "cell_type": "code",
   "execution_count": 32,
   "id": "22a23308",
   "metadata": {},
   "outputs": [],
   "source": [
    "from config import *\n",
    "import jieba\n",
    "from gensim import corpora\n",
    "from gensim.models.ldamodel import LdaModel"
   ]
  },
  {
   "cell_type": "code",
   "execution_count": 33,
   "id": "d5e2bb41",
   "metadata": {},
   "outputs": [],
   "source": [
    "def clean(doc, stopwords):\n",
    "    words = [word for word in jieba.cut(doc) if word not in stopwords]\n",
    "    return \" \".join(words)"
   ]
  },
  {
   "cell_type": "code",
   "execution_count": 34,
   "id": "c971a1fa",
   "metadata": {},
   "outputs": [],
   "source": [
    "# Read Chinese stopwords\n",
    "fp = open(stopwords_cn, \"r\", encoding=\"utf-8\")\n",
    "stp_cn = fp.readlines()\n",
    "fp.close()\n",
    "for i in range(len(stp_cn)):\n",
    "    stp_cn[i] = stp_cn[i].rstrip(\"\\n\")"
   ]
  },
  {
   "cell_type": "code",
   "execution_count": 35,
   "id": "85caca92",
   "metadata": {},
   "outputs": [
    {
     "name": "stderr",
     "output_type": "stream",
     "text": [
      "Building prefix dict from the default dictionary ...\n",
      "Dumping model to file cache C:\\Users\\Harold\\AppData\\Local\\Temp\\jieba.cache\n",
      "Loading model cost 0.727 seconds.\n",
      "Prefix dict has been built successfully.\n"
     ]
    }
   ],
   "source": [
    "# Tokenize the context and remove stopwords\n",
    "doc_clean = [clean(doc, stp_cn).split() for doc in txts]"
   ]
  },
  {
   "cell_type": "code",
   "execution_count": 36,
   "id": "8b92b96f",
   "metadata": {},
   "outputs": [],
   "source": [
    "# Preparing Document-Term Matrix\n",
    "dictionary = corpora.Dictionary(doc_clean)\n",
    "doc_term_matrix = [dictionary.doc2bow(doc) for doc in doc_clean]"
   ]
  },
  {
   "cell_type": "code",
   "execution_count": 37,
   "id": "c38fad45",
   "metadata": {},
   "outputs": [],
   "source": [
    "# Creating the LDA model\n",
    "ldamodel = LdaModel(doc_term_matrix, num_topics=5, id2word=dictionary, passes=50)"
   ]
  },
  {
   "cell_type": "code",
   "execution_count": 38,
   "id": "18fad646",
   "metadata": {},
   "outputs": [
    {
     "name": "stdout",
     "output_type": "stream",
     "text": [
      "(0, '0.022*\"发展\" + 0.022*\"机构\" + 0.016*\"国有经济\" + 0.016*\"新\" + 0.016*\"改革\" + 0.014*\"深化\" + 0.012*\"坚持\" + 0.012*\"构建\" + 0.012*\"全面\" + 0.011*\"会议\"')\n",
      "(1, '0.049*\"改革\" + 0.027*\"企业\" + 0.018*\"问题\" + 0.014*\"加强\" + 0.014*\"工作\" + 0.014*\"方面\" + 0.014*\"创新\" + 0.014*\"抓好\" + 0.009*\"破除\" + 0.009*\"机制\"')\n",
      "(2, '0.030*\"干部\" + 0.024*\"敢于\" + 0.023*\"制度\" + 0.023*\"领导\" + 0.021*\"事项\" + 0.021*\"报告\" + 0.021*\"个人\" + 0.019*\"党\" + 0.014*\"新\" + 0.012*\"监督\"')\n",
      "(3, '0.034*\"全面\" + 0.028*\"工作\" + 0.028*\"深化改革\" + 0.028*\"中央\" + 0.023*\"持续\" + 0.023*\"委员会\" + 0.017*\"会议\" + 0.017*\"推动\" + 0.017*\"发展\" + 0.017*\"新\"')\n",
      "(4, '0.017*\"加强\" + 0.017*\"问题\" + 0.017*\"创新\" + 0.017*\"党\" + 0.017*\"教育\" + 0.017*\"主题\" + 0.017*\"理论\" + 0.017*\"防止\" + 0.009*\"解决\" + 0.009*\"坚持\"')\n"
     ]
    }
   ],
   "source": [
    "# Print the topics\n",
    "topics = ldamodel.print_topics(num_words=10)\n",
    "for topic in topics:\n",
    "    print(topic)"
   ]
  },
  {
   "cell_type": "markdown",
   "id": "d2e0d247",
   "metadata": {},
   "source": [
    "## Use summarizer to extract key message"
   ]
  },
  {
   "cell_type": "code",
   "execution_count": 40,
   "id": "56a93a03",
   "metadata": {},
   "outputs": [],
   "source": [
    "from snownlp import SnowNLP"
   ]
  },
  {
   "cell_type": "code",
   "execution_count": 42,
   "id": "f427d49b",
   "metadata": {},
   "outputs": [],
   "source": [
    "def extract_key_messages(paragraph, num):\n",
    "    # Use SnowNLP for extractive summarization\n",
    "    s = SnowNLP(paragraph)\n",
    "    key_messages = s.summary(num)  # Specify the number of key messages to extract    \n",
    "    return key_messages"
   ]
  },
  {
   "cell_type": "code",
   "execution_count": 45,
   "id": "9607d882",
   "metadata": {},
   "outputs": [],
   "source": [
    "key_messages = extract_key_messages(' '.join(txts),5)"
   ]
  },
  {
   "cell_type": "code",
   "execution_count": 46,
   "id": "2b9a4f59",
   "metadata": {},
   "outputs": [
    {
     "name": "stdout",
     "output_type": "stream",
     "text": [
      "全面深化党和国家机构改革\n",
      "以习近平同志为核心的党中央把深化党和国家机构改革作为推进国家治理体系和治理能力现代化的重要任务\n",
      "新征程上继续推进全面深化改革\n",
      "新征程上继续推进全面深化改革\n",
      "会议审议通过了《关于强化企业科技创新主体地位的意见》、《关于加强和改进国有经济管理有力支持中国式现代化建设的意见》、《关于促进民营经济发展壮大的意见》和《中央全面深化改革委员会工作规则》、《中央全面深化改革委员会专项小组工作规则》、《中央全面深化改革委员会办公室工作细则》、《中央全面深化改革委员会2023年工作要点》\n"
     ]
    }
   ],
   "source": [
    "for message in key_messages:\n",
    "    print(message)"
   ]
  },
  {
   "cell_type": "code",
   "execution_count": null,
   "id": "4ac189d2",
   "metadata": {},
   "outputs": [],
   "source": []
  }
 ],
 "metadata": {
  "kernelspec": {
   "display_name": "Python 3 (ipykernel)",
   "language": "python",
   "name": "python3"
  },
  "language_info": {
   "codemirror_mode": {
    "name": "ipython",
    "version": 3
   },
   "file_extension": ".py",
   "mimetype": "text/x-python",
   "name": "python",
   "nbconvert_exporter": "python",
   "pygments_lexer": "ipython3",
   "version": "3.10.9"
  }
 },
 "nbformat": 4,
 "nbformat_minor": 5
}
