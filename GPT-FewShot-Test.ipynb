{
 "cells": [
  {
   "cell_type": "markdown",
   "id": "95690757",
   "metadata": {},
   "source": [
    "# Use small manually-labeled set as examples and try few-shot of GPT model."
   ]
  },
  {
   "cell_type": "code",
   "execution_count": 1,
   "id": "48766f42",
   "metadata": {},
   "outputs": [],
   "source": [
    "from langchain.prompts.few_shot import FewShotPromptTemplate\n",
    "from langchain.prompts.prompt import PromptTemplate\n",
    "import pandas as pd\n",
    "from langchain import PromptTemplate, OpenAI, LLMChain"
   ]
  },
  {
   "cell_type": "code",
   "execution_count": 41,
   "id": "c993ce3e",
   "metadata": {},
   "outputs": [],
   "source": [
    "import re\n",
    "from sklearn.metrics import accuracy_score\n",
    "import time"
   ]
  },
  {
   "cell_type": "code",
   "execution_count": 3,
   "id": "a4155760",
   "metadata": {},
   "outputs": [
    {
     "data": {
      "text/plain": [
       "True"
      ]
     },
     "execution_count": 3,
     "metadata": {},
     "output_type": "execute_result"
    }
   ],
   "source": [
    "from config import *\n",
    "from dotenv import load_dotenv\n",
    "load_dotenv()"
   ]
  },
  {
   "cell_type": "code",
   "execution_count": 4,
   "id": "708d5ee6",
   "metadata": {},
   "outputs": [],
   "source": [
    "sample_label_path = 'data/labelled_sample.csv'"
   ]
  },
  {
   "cell_type": "code",
   "execution_count": 5,
   "id": "78efcf05",
   "metadata": {},
   "outputs": [],
   "source": [
    "df_sample = pd.read_csv(sample_label_path, encoding=\"GBK\")"
   ]
  },
  {
   "cell_type": "code",
   "execution_count": 6,
   "id": "9a0b170e",
   "metadata": {},
   "outputs": [
    {
     "data": {
      "text/html": [
       "<div>\n",
       "<style scoped>\n",
       "    .dataframe tbody tr th:only-of-type {\n",
       "        vertical-align: middle;\n",
       "    }\n",
       "\n",
       "    .dataframe tbody tr th {\n",
       "        vertical-align: top;\n",
       "    }\n",
       "\n",
       "    .dataframe thead th {\n",
       "        text-align: right;\n",
       "    }\n",
       "</style>\n",
       "<table border=\"1\" class=\"dataframe\">\n",
       "  <thead>\n",
       "    <tr style=\"text-align: right;\">\n",
       "      <th></th>\n",
       "      <th>CONTENT</th>\n",
       "      <th>TOPIC</th>\n",
       "    </tr>\n",
       "  </thead>\n",
       "  <tbody>\n",
       "    <tr>\n",
       "      <th>0</th>\n",
       "      <td>推进基础设施建设和区域协调发展。京津冀协同发展、长江经济带建设取得重要进展。新建铁路投产里程...</td>\n",
       "      <td>基建</td>\n",
       "    </tr>\n",
       "    <tr>\n",
       "      <th>1</th>\n",
       "      <td>七是加快建立多主体供应、多渠道保障、租购并举的住房制度。要发展住房租赁市场特别是长期租赁，保...</td>\n",
       "      <td>房地产</td>\n",
       "    </tr>\n",
       "    <tr>\n",
       "      <th>2</th>\n",
       "      <td>会议认为，坚持标准引领，建设制造强国，是结构性改革尤其是供给侧结构性改革的重要内容，有利于改...</td>\n",
       "      <td>制造业</td>\n",
       "    </tr>\n",
       "    <tr>\n",
       "      <th>3</th>\n",
       "      <td>会议指出，党的十八大以来，党中央部署推进科技评价体系改革，聚焦“四个面向”的科技成果评价导向...</td>\n",
       "      <td>科技</td>\n",
       "    </tr>\n",
       "    <tr>\n",
       "      <th>4</th>\n",
       "      <td>会议强调，完善促进消费体制机制，要顺应居民消费新趋势，从供需两端发力，积极培育重点消费领域细...</td>\n",
       "      <td>零售消费</td>\n",
       "    </tr>\n",
       "  </tbody>\n",
       "</table>\n",
       "</div>"
      ],
      "text/plain": [
       "                                             CONTENT TOPIC\n",
       "0  推进基础设施建设和区域协调发展。京津冀协同发展、长江经济带建设取得重要进展。新建铁路投产里程...    基建\n",
       "1  七是加快建立多主体供应、多渠道保障、租购并举的住房制度。要发展住房租赁市场特别是长期租赁，保...   房地产\n",
       "2  会议认为，坚持标准引领，建设制造强国，是结构性改革尤其是供给侧结构性改革的重要内容，有利于改...   制造业\n",
       "3  会议指出，党的十八大以来，党中央部署推进科技评价体系改革，聚焦“四个面向”的科技成果评价导向...    科技\n",
       "4  会议强调，完善促进消费体制机制，要顺应居民消费新趋势，从供需两端发力，积极培育重点消费领域细...  零售消费"
      ]
     },
     "execution_count": 6,
     "metadata": {},
     "output_type": "execute_result"
    }
   ],
   "source": [
    "df_sample.head()"
   ]
  },
  {
   "cell_type": "code",
   "execution_count": 7,
   "id": "18dfb003",
   "metadata": {},
   "outputs": [
    {
     "data": {
      "text/plain": [
       "(24, 2)"
      ]
     },
     "execution_count": 7,
     "metadata": {},
     "output_type": "execute_result"
    }
   ],
   "source": [
    "df_sample.shape"
   ]
  },
  {
   "cell_type": "code",
   "execution_count": 8,
   "id": "9f6aa7b8",
   "metadata": {},
   "outputs": [],
   "source": [
    "examples = [{'content':row['CONTENT'],'topic':row['TOPIC']} for index, row in df_sample.iterrows()]"
   ]
  },
  {
   "cell_type": "code",
   "execution_count": 9,
   "id": "c3089007",
   "metadata": {},
   "outputs": [
    {
     "data": {
      "text/plain": [
       "[{'content': '推进基础设施建设和区域协调发展。京津冀协同发展、长江经济带建设取得重要进展。新建铁路投产里程8427公里，高速铁路运营里程达1.6万公里，占世界的60%以上。高速公路通车里程达11.2万公里，水路、民航、管道建设进一步加强。农网改造稳步进行。宽带用户超过7.8亿户。经过多年努力，南水北调中线一期工程正式通水，惠及沿线亿万群众。',\n",
       "  'topic': '基建'},\n",
       " {'content': '七是加快建立多主体供应、多渠道保障、租购并举的住房制度。要发展住房租赁市场特别是长期租赁，保护租赁利益相关方合法权益，支持专业化、机构化住房租赁企业发展。完善促进房地产市场平稳健康发展的长效机制，保持房地产市场调控政策连续性和稳定性，分清中央和地方事权，实行差别化调控。',\n",
       "  'topic': '房地产'},\n",
       " {'content': '会议认为，坚持标准引领，建设制造强国，是结构性改革尤其是供给侧结构性改革的重要内容，有利于改善供给、扩大需求，促进产品产业迈向中高端。会议通过了《装备制造业标准化和质量提升规划》，要求对接《中国制造2025》，瞄准国际先进水平，实施工业基础和智能制造、绿色制造标准化和质量提升工程，加快关键技术标准研制，推动在机器人、先进轨道交通装备、农业机械、高性能医疗器械等重点领域标准化实现新突破，并适应创新进展和市场需求及时更新标准，力争到2020年使重点领域国际标准转化率从目前的70%以上提高到90%以上。要弘扬工匠精神，追求精益求精，生产更多有创意、品质优、受群众欢迎的产品，坚决淘汰不达标产品，提振消费者对“中国制造”的信心，支撑制造业提质增效、提升国际竞争力。',\n",
       "  'topic': '制造业'}]"
      ]
     },
     "execution_count": 9,
     "metadata": {},
     "output_type": "execute_result"
    }
   ],
   "source": [
    "examples[:3]"
   ]
  },
  {
   "cell_type": "code",
   "execution_count": 10,
   "id": "1e2af7c5",
   "metadata": {},
   "outputs": [],
   "source": [
    "pre_fix_template=\"\"\"你需要给一段文字打上话题标签。我会给你话题列表和文字内容。话题必须从给定的话题列表里选出，而且只能给一个话题。\n",
    "话题列表是：{topic_list}。\n",
    "你的回答的格式必须是：回答-话题\n",
    "请给出这段文字的话题。你的回答仅包括话题。你给出的话题必须是话题列表里面的一个，而且只能给一个话题。\"\"\".format(topic_list = ','.join(topics_pdf))"
   ]
  },
  {
   "cell_type": "code",
   "execution_count": 11,
   "id": "dd99d2dc",
   "metadata": {},
   "outputs": [
    {
     "name": "stdout",
     "output_type": "stream",
     "text": [
      "你需要给一段文字打上话题标签。我会给你话题列表和文字内容。话题必须从给定的话题列表里选出，而且只能给一个话题。\n",
      "话题列表是：基建,房地产,制造业,科技,零售消费,绿色发展,医药健康,教育,交通运输,出口贸易,农业农村,文化旅游,就业,民生扶贫,能源,物资储备,宏观,区域发展,企业发展,新冠疫情,地方财政,税务,国际关系,金融。\n",
      "你的回答的格式必须是：回答-话题\n",
      "请给出这段文字的话题。你的回答仅包括话题。你给出的话题必须是话题列表里面的一个，而且只能给一个话题。\n"
     ]
    }
   ],
   "source": [
    "print(pre_fix_template)"
   ]
  },
  {
   "cell_type": "code",
   "execution_count": 12,
   "id": "bca775cb",
   "metadata": {},
   "outputs": [],
   "source": [
    "example_prompt = PromptTemplate(input_variables=[\"content\", \"topic\"], template=\"文字内容： {content}\\n回答-话题：{topic}\")"
   ]
  },
  {
   "cell_type": "code",
   "execution_count": 37,
   "id": "3693d8c0",
   "metadata": {},
   "outputs": [
    {
     "name": "stdout",
     "output_type": "stream",
     "text": [
      "你需要给一段文字打上话题标签。我会给你话题列表和文字内容。话题必须从给定的话题列表里选出，而且只能给一个话题。\n",
      "话题列表是：基建,房地产,制造业,科技,零售消费,绿色发展,医药健康,教育,交通运输,出口贸易,农业农村,文化旅游,就业,民生扶贫,能源,物资储备,宏观,区域发展,企业发展,新冠疫情,地方财政,税务,国际关系,金融。\n",
      "你的回答的格式必须是：回答-话题\n",
      "请给出这段文字的话题。你的回答仅包括话题。你给出的话题必须是话题列表里面的一个，而且只能给一个话题。\n",
      "\n",
      "文字内容： 推进基础设施建设和区域协调发展。京津冀协同发展、长江经济带建设取得重要进展。新建铁路投产里程8427公里，高速铁路运营里程达1.6万公里，占世界的60%以上。高速公路通车里程达11.2万公里，水路、民航、管道建设进一步加强。农网改造稳步进行。宽带用户超过7.8亿户。经过多年努力，南水北调中线一期工程正式通水，惠及沿线亿万群众。\n",
      "回答-话题：基建\n",
      "\n",
      "文字内容： 七是加快建立多主体供应、多渠道保障、租购并举的住房制度。要发展住房租赁市场特别是长期租赁，保护租赁利益相关方合法权益，支持专业化、机构化住房租赁企业发展。完善促进房地产市场平稳健康发展的长效机制，保持房地产市场调控政策连续性和稳定性，分清中央和地方事权，实行差别化调控。\n",
      "回答-话题：房地产\n",
      "\n",
      "文字内容： 会议认为，坚持标准引领，建设制造强国，是结构性改革尤其是供给侧结构性改革的重要内容，有利于改善供给、扩大需求，促进产品产业迈向中高端。会议通过了《装备制造业标准化和质量提升规划》，要求对接《中国制造2025》，瞄准国际先进水平，实施工业基础和智能制造、绿色制造标准化和质量提升工程，加快关键技术标准研制，推动在机器人、先进轨道交通装备、农业机械、高性能医疗器械等重点领域标准化实现新突破，并适应创新进展和市场需求及时更新标准，力争到2020年使重点领域国际标准转化率从目前的70%以上提高到90%以上。要弘扬工匠精神，追求精益求精，生产更多有创意、品质优、受群众欢迎的产品，坚决淘汰不达标产品，提振消费者对“中国制造”的信心，支撑制造业提质增效、提升国际竞争力。\n",
      "回答-话题：制造业\n",
      "\n",
      "文字内容： 会议指出，党的十八大以来，党中央部署推进科技评价体系改革，聚焦“四个面向”的科技成果评价导向逐步确立，激励创新的环境正在形成，带动我国科技创新能力明显提升。同时，分类的科技成果评价体系尚未建立，指标单一化、标准定量化、结果功利化问题还不同程度存在。\n",
      "回答-话题：科技\n",
      "\n",
      "文字内容： 会议强调，完善促进消费体制机制，要顺应居民消费新趋势，从供需两端发力，积极培育重点消费领域细分市场，营造安全放心消费环境，提升居民消费能力，引导形成合理消费预期，切实增强消费对经济发展的基础性作用。\n",
      "回答-话题：零售消费\n",
      "\n",
      "文字内容： 国务院总理李克强9月2日主持召开国务院常务会议，要求坚持稳健的货币政策灵活适度，着眼服务实体经济明确金融控股公司准入规范；听取大气重污染成因与治理攻关项目研究成果汇报，部署加强大气污染科学防治、促进绿色发展；核准海南昌江核电二期工程和浙江三澳核电一期工程。\n",
      "回答-话题：绿色发展\n",
      "\n",
      "文字内容： 会议指出，医疗服务价格是人民群众最关心最直接最现实的利益问题。近几年，党中央部署推动一系列改革，通过取消药品加成、带量集中招采和加强成本控制，把药品耗材价格降下来了，老百姓负担减轻了，也为调整医疗服务价格创造了条件。\n",
      "回答-话题：医药健康\n",
      "\n",
      "文字内容： 会议指出，义务教育最突出的问题之一是中小学生负担太重，短视化、功利化问题没有根本解决。特别是校外培训机构无序发展，“校内减负、校外增负”现象突出。减轻学生负担，根本之策在于全面提高学校教学质量，做到应教尽教，强化学校教育的主阵地作用。要深化教育教学改革，提升课堂教学质量，优化教学方式，全面压减作业总量，降低考试压力。要鼓励支持学校开展各种课后育人活动，满足学生的多样化需求。要加强教师队伍建设，优化教师资源配置，提高教育教学水平，依法保障教师权益和待遇。\n",
      "回答-话题：教育\n",
      "\n",
      "文字内容： 会议认为，发展通用航空业，有利于完善综合交通体系，培育新增长点，带动扩大就业和服务业升级。为此，一要加快在偏远地区和地面交通不便、自然灾害多发地区和人口密集、地面交通拥堵严重的城市建设通用机场，在农产品主产区、重点国有林区等发展通用航空，满足抢险救灾、应急救援、医疗救护、工农林业发展等需要。合理确定通用机场标准，鼓励企业和个人参与建设。二要加快通用飞机、导航通信等核心装备研发应用，培育具有国际竞争力的通用航空企业。扩大通用航空在资源勘查、环境监测、运输服务等领域的应用。三要稳步扩大低空空域开放，简化通用航空飞行任务审批备案。强化安全监管，确保飞行和空防安全。\n",
      "回答-话题：交通运输\n",
      "\n",
      "文字内容： 为进一步扩大开放、保持进出口稳定增长，会议确定：一是推进更高水平贸易便利化，今年将进口和出口整体通关时间、进出口监管证件再压减1/3并降低通关费用。削减进出口环节审批，今年11月1日前对需在口岸验核的监管证件原则上全部实现联网、在通关环节比对核查。推进海关、边检、海事一次性联合检查和铁路运输货物无纸化通关。推行进口矿产品等大宗资源性商品“先验放后检测”。开通农副产品快速通关“绿色通道”。清理规范涉企收费，今年底前公示口岸政府性收费目录清单，清单外一律不得收费。二是进一步降低进出口企业成本，完善出口退税政策，加快出口退税进度，降低出口查验率，扩大出口信用保险覆盖面，鼓励金融机构增加出口信用保险保单融资和出口退税账户质押融资、加大对外贸企业尤其是中小微企业信贷投放。鼓励和支持企业开拓多元化市场。扩大国内企业需要的原材料进口。\n",
      "回答-话题：出口贸易\n",
      "\n",
      "文字内容： 会议指出，建立村务监督委员会，是健全基层民主管理机制的探索性实践，对于从源头上遏制村民群众身边的不正之风和腐败问题、促进农村和谐稳定具有重要作用。要不断总结经验，完善制度设计，进一步规范监督主体、内容、权限和程序，完善村党组织领导的村民自治机制，切实保障村民群众合法权益和村集体利益，提升乡村治理水平。\n",
      "回答-话题：农业农村\n",
      "\n",
      "文字内容： 丰富人民群众精神文化生活。培育和践行社会主义核心价值观。深化群众性精神文明创建。发展新闻出版、广播影视、文学艺术、哲学社会科学和档案等事业，加强智库建设。扎实推进媒体深度融合。提升国际传播效能。加强和创新互联网内容建设。弘扬中华优秀传统文化，加强文物和文化遗产保护传承。实施文化惠民工程，公共图书馆、博物馆、美术馆、文化馆站向社会免费开放。深入推进全民阅读。支持文化产业发展。加强国家科普能力建设。体育健儿勇创佳绩，全民健身广泛开展。\n",
      "回答-话题：文化旅游\n",
      "\n",
      "文字内容： 加强就业和社会保障。完善就业促进政策，推出创业引领计划，高校毕业生就业稳中有升。统一城乡居民基本养老保险制度，企业退休人员基本养老金水平又提高10%。新开工保障性安居工程740万套，基本建成511万套。全面建立临时救助制度，城乡低保标准分别提高9.97%和14.1%，残疾军人、烈属和老复员军人等优抚对象抚恤和生活补助标准提高20%以上。\n",
      "回答-话题：就业\n",
      "\n",
      "文字内容： 会议强调，党中央提出建立中央统筹、省负总责、市县落实、合力攻坚的脱贫攻坚责任制要求以来，有关地方迅速行动，自上而下层层签订脱贫攻坚责任书，明确目标任务和工作责任，抓实各项工作任务，取得积极成效。下一步，要针对发现问题完善相关制度机制，强化领导责任制，创新精准识别帮扶机制，健全扶贫考核评价体系，推动脱贫攻坚责任制扎实落地、切实发挥作用。\n",
      "回答-话题：民生扶贫\n",
      "\n",
      "文字内容： 会议指出，积极稳妥推进核电项目建设，是扩大有效投资、增强能源支撑、减少温室气体排放的重要举措。会议核准了已列入国家规划、具备建设条件、采用“华龙一号”三代核电技术的海南昌江核电二期工程和民营资本首次参股投资的浙江三澳核电一期工程。两个项目有效总投资超过700亿元，将带动大量就业。会议要求加强核能短板领域攻关，坚持安全第一、质量至上，压实企业安全主体责任，强化工程建设和运行监管，确保万无一失。\n",
      "回答-话题：能源\n",
      "\n",
      "文字内容： 习近平强调，要健全统一的应急物资保障体系，把应急物资保障作为国家应急管理体系建设的重要内容，按照集中管理、统一调拨、平时服务、灾时应急、采储结合、节约高效的原则，尽快健全相关工作机制和应急预案。要优化重要应急物资产能保障和区域布局，做到关键时刻调得出、用得上。对短期可能出现的物资供应短缺，建立集中生产调度机制，统一组织原材料供应、安排定点生产、规范质量标准，确保应急物资保障有序有力。要健全国家储备体系，科学调整储备的品类、规模、结构，提升储备效能。要建立国家统一的应急物资采购供应体系，对应急救援物资实行集中管理、统一调拨、统一配送，推动应急物资供应保障网更加高效安全可控。\n",
      "回答-话题：物资储备\n",
      "\n",
      "文字内容： 新华社北京3月21日电 国务院总理李克强3月21日主持召开国务院常务会议，确定实施大规模增值税留抵退税的政策安排，为稳定宏观经济大盘提供强力支撑；部署综合施策稳定市场预期，保持资本市场平稳健康发展。\n",
      "回答-话题：宏观\n",
      "\n",
      "文字内容： 会议指出，建设主体功能区是我国经济发展和生态环境保护的大战略。完善主体功能区战略和制度，要发挥主体功能区作为国土空间开发保护基础制度作用，推动主体功能区战略格局在市县层面精准落地，健全不同主体功能区差异化协同发展长效机制，加快体制改革和法治建设，为优化国土空间开发保护格局、创新国家空间发展模式夯实基础。\n",
      "回答-话题：区域发展\n",
      "\n",
      "文字内容： 会议强调，推进中央党政机关和事业单位经营性国有资产集中统一监管试点，要坚持政企分开、政资分开、所有权与经营权分离，理顺中央党政机关和事业单位同所办企业关系，搭建国有资本运作平台，优化国有资本布局结构，提高国有资本配置和监管效率，有效防止国有资产流失，实现企业健康发展和经营性国有资产保值增值。\n",
      "回答-话题：企业发展\n",
      "\n",
      "文字内容： 当前我国新冠疫情防控已进入“乙类乙管”常态化防控阶段，要在对疫情防控工作进行全面科学总结的基础上，更加科学、精准、高效做好防控工作，围绕保健康、防重症，重点做好老年人、儿童、患基础性疾病群体的疫情防控和医疗救治，提升疫情监测水平，推进疫苗迭代升级和新药研制，切实保障群众就医用药需求，守护好人民生命安全和身体健康。\n",
      "回答-话题：新冠疫情\n",
      "\n",
      "文字内容： 积极的财政政策要加力增效。今年拟安排财政赤字1.62万亿元，比去年增加2700亿元，赤字率从去年的2.1%提高到2.3%。其中，中央财政赤字1.12万亿元，增加1700亿元；地方财政赤字5000亿元，增加1000亿元。处理好债务管理与稳增长的关系，创新和完善地方政府举债融资机制。适当发行专项债券。保障符合条件的在建项目后续融资，防范和化解风险隐患。优化财政支出结构，大力盘活存量资金，提高使用效率。继续实行结构性减税和普遍性降费，进一步减轻企业特别是小微企业负担。\n",
      "回答-话题：地方财政\n",
      "\n",
      "文字内容： 推进财税体制改革。重点是逐步推行增值税由生产型改为消费型，将设备投资纳入增值税抵扣范围，促进企业技术进步，提高自主发展能力。今年在东北地区部分行业先行试点。抓紧制定配套措施，认真落实出口退税机制改革方案。\n",
      "回答-话题：税务\n",
      "\n",
      "文字内容： 我们要坚定奉行独立自主的和平外交政策，坚定不移走和平发展道路，坚持在和平共处五项原则基础上同各国发展友好合作，坚定奉行互利共赢的开放战略，始终做世界和平的建设者、全球发展的贡献者、国际秩序的维护者。中国愿同国际社会一道落实全球发展倡议、全球安全倡议，弘扬全人类共同价值，携手推动构建人类命运共同体，维护世界和平和地区稳定。\n",
      "回答-话题：国际关系\n",
      "\n",
      "文字内容： 会议指出，日前国际货币基金组织决定将人民币纳入特别提款权货币篮子，这是国际社会对中国改革开放成就的认可，中国政府表示欢迎。这有利于助推人民币逐步国际化进程，促进我国在更深层次和更广领域参与全球经济治理，实现合作共赢。要以此为契机，进一步深化金融改革开放，完善宏观审慎管理，坚持有管理的浮动汇率制度，保持人民币汇率在合理均衡水平上的基本稳定，妥善化解风险，完善配套制度，有序实现人民币资本项目可兑换。\n",
      "回答-话题：金融\n",
      "\n",
      "文字内容： 丰富人民群众精神文化生活。培育和践行社会主义核心价值观。深化群众性精神文明创建。发展新闻出版、广播影视、文学艺术、哲学社会科学和档案等事业，加强智库建设。扎实推进媒体深度融合。提升国际传播效能。加强和创新互联网内容建设。弘扬中华优秀传统文化，加强文物和文化遗产保护传承。实施文化惠民工程，公共图书馆、博物馆、美术馆、文化馆站向社会免费开放。深入推进全民阅读。支持文化产业发展。加强国家科普能力建设。体育健儿勇创佳绩，全民健身广泛开展。\n"
     ]
    }
   ],
   "source": [
    "prompt = FewShotPromptTemplate(\n",
    "    examples=examples, \n",
    "    example_prompt=example_prompt, \n",
    "    prefix=pre_fix_template,\n",
    "    suffix=\"文字内容： {content}\", \n",
    "    input_variables=['content']\n",
    ")\n",
    "\n",
    "print(prompt.format(content=examples[11]['content']))"
   ]
  },
  {
   "cell_type": "code",
   "execution_count": 17,
   "id": "5f42bc91",
   "metadata": {},
   "outputs": [
    {
     "name": "stderr",
     "output_type": "stream",
     "text": [
      "D:\\Users\\shaodongxu\\anaconda3\\lib\\site-packages\\langchain\\llms\\openai.py:189: UserWarning: You are trying to use a chat model. This way of initializing it is no longer supported. Instead, please use: `from langchain.chat_models import ChatOpenAI`\n",
      "  warnings.warn(\n",
      "D:\\Users\\shaodongxu\\anaconda3\\lib\\site-packages\\langchain\\llms\\openai.py:769: UserWarning: You are trying to use a chat model. This way of initializing it is no longer supported. Instead, please use: `from langchain.chat_models import ChatOpenAI`\n",
      "  warnings.warn(\n"
     ]
    }
   ],
   "source": [
    "llm = OpenAI(temperature = 0, openai_api_key = OPENAI_API_KEY, model_name = 'gpt-4')"
   ]
  },
  {
   "cell_type": "code",
   "execution_count": 38,
   "id": "07d8ae0f",
   "metadata": {},
   "outputs": [],
   "source": [
    "llm_chain = LLMChain(\n",
    "    llm = llm,\n",
    "    prompt = prompt\n",
    ")"
   ]
  },
  {
   "cell_type": "code",
   "execution_count": 45,
   "id": "f643d63f",
   "metadata": {},
   "outputs": [],
   "source": [
    "df_sample_test = pd.read_csv('data/labelled_test.csv', encoding=\"GBK\")"
   ]
  },
  {
   "cell_type": "code",
   "execution_count": 46,
   "id": "b9eb01b3",
   "metadata": {},
   "outputs": [
    {
     "data": {
      "text/html": [
       "<div>\n",
       "<style scoped>\n",
       "    .dataframe tbody tr th:only-of-type {\n",
       "        vertical-align: middle;\n",
       "    }\n",
       "\n",
       "    .dataframe tbody tr th {\n",
       "        vertical-align: top;\n",
       "    }\n",
       "\n",
       "    .dataframe thead th {\n",
       "        text-align: right;\n",
       "    }\n",
       "</style>\n",
       "<table border=\"1\" class=\"dataframe\">\n",
       "  <thead>\n",
       "    <tr style=\"text-align: right;\">\n",
       "      <th></th>\n",
       "      <th>CONTENT</th>\n",
       "      <th>TOPIC</th>\n",
       "    </tr>\n",
       "  </thead>\n",
       "  <tbody>\n",
       "    <tr>\n",
       "      <th>0</th>\n",
       "      <td>重大水利工程是“两新一重”建设的重要内容。会议围绕防洪减灾、水资源优化配置、水生态保护修复等...</td>\n",
       "      <td>基建</td>\n",
       "    </tr>\n",
       "    <tr>\n",
       "      <th>1</th>\n",
       "      <td>会议强调，要有效管控重点风险，守住不发生系统性风险底线。要坚持房子是用来住的、不是用来炒的定...</td>\n",
       "      <td>房地产</td>\n",
       "    </tr>\n",
       "    <tr>\n",
       "      <th>2</th>\n",
       "      <td>国务院总理李克强8月24日主持召开国务院常务会议，部署促进消费品标准和质量提升，增加“中国制...</td>\n",
       "      <td>制造业</td>\n",
       "    </tr>\n",
       "    <tr>\n",
       "      <th>3</th>\n",
       "      <td>实施创新驱动发展战略。着力打通科技成果转化通道，扩大中关村国家自主创新示范区试点政策实施范围...</td>\n",
       "      <td>科技</td>\n",
       "    </tr>\n",
       "    <tr>\n",
       "      <th>4</th>\n",
       "      <td>加快培育消费增长点。鼓励大众消费，控制“三公”消费。促进养老家政健康消费，壮大信息消费，提升...</td>\n",
       "      <td>零售消费</td>\n",
       "    </tr>\n",
       "  </tbody>\n",
       "</table>\n",
       "</div>"
      ],
      "text/plain": [
       "                                             CONTENT TOPIC\n",
       "0  重大水利工程是“两新一重”建设的重要内容。会议围绕防洪减灾、水资源优化配置、水生态保护修复等...    基建\n",
       "1  会议强调，要有效管控重点风险，守住不发生系统性风险底线。要坚持房子是用来住的、不是用来炒的定...   房地产\n",
       "2  国务院总理李克强8月24日主持召开国务院常务会议，部署促进消费品标准和质量提升，增加“中国制...   制造业\n",
       "3  实施创新驱动发展战略。着力打通科技成果转化通道，扩大中关村国家自主创新示范区试点政策实施范围...    科技\n",
       "4  加快培育消费增长点。鼓励大众消费，控制“三公”消费。促进养老家政健康消费，壮大信息消费，提升...  零售消费"
      ]
     },
     "execution_count": 46,
     "metadata": {},
     "output_type": "execute_result"
    }
   ],
   "source": [
    "df_sample_test.head()"
   ]
  },
  {
   "cell_type": "code",
   "execution_count": 47,
   "id": "3ebe0110",
   "metadata": {},
   "outputs": [
    {
     "data": {
      "text/plain": [
       "(24, 2)"
      ]
     },
     "execution_count": 47,
     "metadata": {},
     "output_type": "execute_result"
    }
   ],
   "source": [
    "df_sample_test.shape"
   ]
  },
  {
   "cell_type": "code",
   "execution_count": 48,
   "id": "1e8055b6",
   "metadata": {},
   "outputs": [
    {
     "data": {
      "text/plain": [
       "'会议指出，探索建立涉农资金统筹整合长效机制，是推进农业供给侧结构性改革的重要途径。要加强财政支农政策顶层设计，优化财政支农投入供给，推进行业内资金整合与行业间资金统筹相互衔接配合，理顺涉农资金管理体系，创新涉农资金使用管理机制，改革和完善农村投融资体制，切实提高国家支农政策效果和支农资金使用效益。'"
      ]
     },
     "execution_count": 48,
     "metadata": {},
     "output_type": "execute_result"
    }
   ],
   "source": [
    "df_sample_test['CONTENT'][10]"
   ]
  },
  {
   "cell_type": "code",
   "execution_count": 49,
   "id": "3e17cc87",
   "metadata": {},
   "outputs": [
    {
     "name": "stdout",
     "output_type": "stream",
     "text": [
      "0\n",
      "1\n",
      "2\n",
      "3\n",
      "4\n",
      "5\n",
      "6\n",
      "7\n",
      "8\n",
      "9\n",
      "10\n",
      "11\n",
      "12\n",
      "13\n",
      "14\n",
      "15\n",
      "16\n",
      "17\n",
      "18\n",
      "19\n",
      "20\n",
      "21\n",
      "22\n",
      "23\n"
     ]
    }
   ],
   "source": [
    "pred = []\n",
    "for index, row in df_sample_test.iterrows():\n",
    "    pred.append(llm_chain.predict(content=row['CONTENT']).split('话题：')[-1])\n",
    "    time.sleep(65)\n",
    "    print(index)"
   ]
  },
  {
   "cell_type": "code",
   "execution_count": 51,
   "id": "01ca5ec6",
   "metadata": {},
   "outputs": [
    {
     "data": {
      "text/plain": [
       "0.7916666666666666"
      ]
     },
     "execution_count": 51,
     "metadata": {},
     "output_type": "execute_result"
    }
   ],
   "source": [
    "accuracy_score(df_sample_test['TOPIC'],pred)"
   ]
  },
  {
   "cell_type": "code",
   "execution_count": 62,
   "id": "e37d993f",
   "metadata": {},
   "outputs": [
    {
     "data": {
      "text/plain": [
       "19.0"
      ]
     },
     "execution_count": 62,
     "metadata": {},
     "output_type": "execute_result"
    }
   ],
   "source": [
    "0.7916666666666666 * 24"
   ]
  },
  {
   "cell_type": "code",
   "execution_count": 53,
   "id": "95e789d2",
   "metadata": {},
   "outputs": [],
   "source": [
    "df_sample_test['TOPIC_FEW'] = pred"
   ]
  },
  {
   "cell_type": "code",
   "execution_count": 54,
   "id": "d95a8a5d",
   "metadata": {},
   "outputs": [
    {
     "data": {
      "text/plain": [
       "金融      3\n",
       "企业发展    2\n",
       "民生扶贫    2\n",
       "基建      1\n",
       "军民融合    1\n",
       "区域发展    1\n",
       "宏观      1\n",
       "物资储备    1\n",
       "能源      1\n",
       "文化旅游    1\n",
       "农业农村    1\n",
       "出口贸易    1\n",
       "交通运输    1\n",
       "教育      1\n",
       "医药健康    1\n",
       "绿色发展    1\n",
       "零售消费    1\n",
       "科技      1\n",
       "制造业     1\n",
       "国际关系    1\n",
       "Name: TOPIC_FEW, dtype: int64"
      ]
     },
     "execution_count": 54,
     "metadata": {},
     "output_type": "execute_result"
    }
   ],
   "source": [
    "df_sample_test['TOPIC_FEW'].value_counts()"
   ]
  },
  {
   "cell_type": "markdown",
   "id": "77515d81",
   "metadata": {},
   "source": [
    "## Zero-shot"
   ]
  },
  {
   "cell_type": "code",
   "execution_count": 55,
   "id": "5f81c595",
   "metadata": {},
   "outputs": [],
   "source": [
    "zero_prompt = pre_fix_template + \"\\n文字内容：{content}\""
   ]
  },
  {
   "cell_type": "code",
   "execution_count": 56,
   "id": "fbbdd928",
   "metadata": {},
   "outputs": [
    {
     "name": "stdout",
     "output_type": "stream",
     "text": [
      "你需要给一段文字打上话题标签。我会给你话题列表和文字内容。话题必须从给定的话题列表里选出，而且只能给一个话题。\n",
      "话题列表是：基建,房地产,制造业,科技,零售消费,绿色发展,医药健康,教育,交通运输,出口贸易,农业农村,文化旅游,就业,民生扶贫,能源,物资储备,宏观,区域发展,企业发展,新冠疫情,地方财政,税务,国际关系,金融。\n",
      "你的回答的格式必须是：回答-话题\n",
      "请给出这段文字的话题。你的回答仅包括话题。你给出的话题必须是话题列表里面的一个，而且只能给一个话题。\n",
      "文字内容：{content}\n"
     ]
    }
   ],
   "source": [
    "print(zero_prompt)"
   ]
  },
  {
   "cell_type": "code",
   "execution_count": 57,
   "id": "b35cf133",
   "metadata": {},
   "outputs": [],
   "source": [
    "llm_chain_zero = LLMChain(\n",
    "    llm = llm,\n",
    "    prompt = PromptTemplate.from_template(zero_prompt)\n",
    ")"
   ]
  },
  {
   "cell_type": "code",
   "execution_count": 58,
   "id": "f28cd03a",
   "metadata": {},
   "outputs": [
    {
     "data": {
      "text/plain": [
       "'回答-农业农村'"
      ]
     },
     "execution_count": 58,
     "metadata": {},
     "output_type": "execute_result"
    }
   ],
   "source": [
    "llm_chain_zero.predict(content = df_sample_test['CONTENT'][10])"
   ]
  },
  {
   "cell_type": "code",
   "execution_count": 59,
   "id": "ece307ca",
   "metadata": {},
   "outputs": [],
   "source": [
    "df_sample_test['PRED_ZERO'] = df_sample_test.apply({lambda row: llm_chain_zero.predict(content=row['CONTENT']).split('-')[-1]},\n",
    "                                             axis = 1)"
   ]
  },
  {
   "cell_type": "code",
   "execution_count": 60,
   "id": "13f4939a",
   "metadata": {},
   "outputs": [
    {
     "data": {
      "text/plain": [
       "民生扶贫    3\n",
       "交通运输    2\n",
       "基建      1\n",
       "文化旅游    1\n",
       "国际关系    1\n",
       "税务      1\n",
       "地方财政    1\n",
       "企业发展    1\n",
       "区域发展    1\n",
       "宏观      1\n",
       "能源      1\n",
       "农业农村    1\n",
       "房地产     1\n",
       "出口贸易    1\n",
       "教育      1\n",
       "医药健康    1\n",
       "绿色发展    1\n",
       "零售消费    1\n",
       "科技      1\n",
       "制造业     1\n",
       "金融      1\n",
       "Name: PRED_ZERO, dtype: int64"
      ]
     },
     "execution_count": 60,
     "metadata": {},
     "output_type": "execute_result"
    }
   ],
   "source": [
    "df_sample_test['PRED_ZERO'].value_counts()"
   ]
  },
  {
   "cell_type": "code",
   "execution_count": 61,
   "id": "133205b2",
   "metadata": {},
   "outputs": [
    {
     "data": {
      "text/plain": [
       "0.875"
      ]
     },
     "execution_count": 61,
     "metadata": {},
     "output_type": "execute_result"
    }
   ],
   "source": [
    "accuracy_score(df_sample_test['TOPIC'],df_sample_test['PRED_ZERO'])"
   ]
  },
  {
   "cell_type": "code",
   "execution_count": 63,
   "id": "e8f32b0c",
   "metadata": {},
   "outputs": [
    {
     "data": {
      "text/plain": [
       "21.0"
      ]
     },
     "execution_count": 63,
     "metadata": {},
     "output_type": "execute_result"
    }
   ],
   "source": [
    "0.875 *24"
   ]
  },
  {
   "cell_type": "code",
   "execution_count": null,
   "id": "d8063c77",
   "metadata": {},
   "outputs": [],
   "source": []
  }
 ],
 "metadata": {
  "kernelspec": {
   "display_name": "Python 3 (ipykernel)",
   "language": "python",
   "name": "python3"
  },
  "language_info": {
   "codemirror_mode": {
    "name": "ipython",
    "version": 3
   },
   "file_extension": ".py",
   "mimetype": "text/x-python",
   "name": "python",
   "nbconvert_exporter": "python",
   "pygments_lexer": "ipython3",
   "version": "3.10.9"
  }
 },
 "nbformat": 4,
 "nbformat_minor": 5
}
