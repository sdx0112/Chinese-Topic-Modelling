{
 "cells": [
  {
   "cell_type": "code",
   "execution_count": 1,
   "id": "48daf757",
   "metadata": {},
   "outputs": [],
   "source": [
    "import pandas as pd"
   ]
  },
  {
   "cell_type": "code",
   "execution_count": 2,
   "id": "fa72a605",
   "metadata": {},
   "outputs": [],
   "source": [
    "data_path = 'data/meeting notes.csv'\n",
    "df = pd.read_csv(data_path)"
   ]
  },
  {
   "cell_type": "code",
   "execution_count": 3,
   "id": "7591223b",
   "metadata": {},
   "outputs": [
    {
     "data": {
      "text/html": [
       "<div>\n",
       "<style scoped>\n",
       "    .dataframe tbody tr th:only-of-type {\n",
       "        vertical-align: middle;\n",
       "    }\n",
       "\n",
       "    .dataframe tbody tr th {\n",
       "        vertical-align: top;\n",
       "    }\n",
       "\n",
       "    .dataframe thead th {\n",
       "        text-align: right;\n",
       "    }\n",
       "</style>\n",
       "<table border=\"1\" class=\"dataframe\">\n",
       "  <thead>\n",
       "    <tr style=\"text-align: right;\">\n",
       "      <th></th>\n",
       "      <th>ID</th>\n",
       "      <th>RAW_CONTENT</th>\n",
       "      <th>MEETING_NAME</th>\n",
       "      <th>TITLE</th>\n",
       "      <th>PUBLISH_DATE</th>\n",
       "    </tr>\n",
       "  </thead>\n",
       "  <tbody>\n",
       "    <tr>\n",
       "      <th>0</th>\n",
       "      <td>m-1608357555-1682084460</td>\n",
       "      <td>中共中央总书记、国家主席、中央军委主席、中央全面深化改革委员会主任习近平4月21日下午主...</td>\n",
       "      <td>中央全面深化改革会议</td>\n",
       "      <td>会议审议通过了关于强化企业科技创新主体地位的意见关于加强和改进国有经济管理有力支持中国式现代...</td>\n",
       "      <td>2023-04-21T21:41:00Z</td>\n",
       "    </tr>\n",
       "    <tr>\n",
       "      <th>1</th>\n",
       "      <td>m-158629831-1682664300</td>\n",
       "      <td>中共中央政治局4月28日召开会议，分析研究当前经济形势和经济工作。中共中央总书记习近平主...</td>\n",
       "      <td>政治局会议</td>\n",
       "      <td>分析研究当前经济形势和经济工作</td>\n",
       "      <td>2023-04-28T14:45:00Z</td>\n",
       "    </tr>\n",
       "    <tr>\n",
       "      <th>2</th>\n",
       "      <td>m-704972677-1680162720</td>\n",
       "      <td>中共中央政治局3月30日召开会议，决定从今年4月开始，在全党自上而下分两批开展学习贯彻习...</td>\n",
       "      <td>政治局会议</td>\n",
       "      <td>决定从2023年4月开始在全党自上而下分两批开展学习贯彻习近平新时代中国特色社会主义思想主题...</td>\n",
       "      <td>2023-03-30T15:52:00Z</td>\n",
       "    </tr>\n",
       "    <tr>\n",
       "      <th>3</th>\n",
       "      <td>m-248496144-1366366560</td>\n",
       "      <td>中共中央政治局4月19日召开会议，决定从今年下半年开始，用一年左右时间，在全党自上而下分...</td>\n",
       "      <td>政治局会议</td>\n",
       "      <td>研究部署在全党深入开展党的群众路线教育实践活动</td>\n",
       "      <td>2013-04-19T18:16:00Z</td>\n",
       "    </tr>\n",
       "    <tr>\n",
       "      <th>4</th>\n",
       "      <td>m-1020277137-1469618520</td>\n",
       "      <td>李克强主持召开国务院常务会议\\n听取关于地方和部门推进重大项目落地审计情况汇报 完善奖惩机制...</td>\n",
       "      <td>国务院常委会</td>\n",
       "      <td>李克强主持召开国务院常务会议通过十三五国家科技创新专项规划 以创新型国家建设引领和支撑升级发...</td>\n",
       "      <td>2016-07-27T19:22:00Z</td>\n",
       "    </tr>\n",
       "  </tbody>\n",
       "</table>\n",
       "</div>"
      ],
      "text/plain": [
       "                        ID                                        RAW_CONTENT  \\\n",
       "0  m-1608357555-1682084460  　　中共中央总书记、国家主席、中央军委主席、中央全面深化改革委员会主任习近平4月21日下午主...   \n",
       "1   m-158629831-1682664300  　　中共中央政治局4月28日召开会议，分析研究当前经济形势和经济工作。中共中央总书记习近平主...   \n",
       "2   m-704972677-1680162720  　　中共中央政治局3月30日召开会议，决定从今年4月开始，在全党自上而下分两批开展学习贯彻习...   \n",
       "3   m-248496144-1366366560  　　中共中央政治局4月19日召开会议，决定从今年下半年开始，用一年左右时间，在全党自上而下分...   \n",
       "4  m-1020277137-1469618520  李克强主持召开国务院常务会议\\n听取关于地方和部门推进重大项目落地审计情况汇报 完善奖惩机制...   \n",
       "\n",
       "  MEETING_NAME                                              TITLE  \\\n",
       "0   中央全面深化改革会议  会议审议通过了关于强化企业科技创新主体地位的意见关于加强和改进国有经济管理有力支持中国式现代...   \n",
       "1        政治局会议                                    分析研究当前经济形势和经济工作   \n",
       "2        政治局会议  决定从2023年4月开始在全党自上而下分两批开展学习贯彻习近平新时代中国特色社会主义思想主题...   \n",
       "3        政治局会议                            研究部署在全党深入开展党的群众路线教育实践活动   \n",
       "4       国务院常委会  李克强主持召开国务院常务会议通过十三五国家科技创新专项规划 以创新型国家建设引领和支撑升级发...   \n",
       "\n",
       "           PUBLISH_DATE  \n",
       "0  2023-04-21T21:41:00Z  \n",
       "1  2023-04-28T14:45:00Z  \n",
       "2  2023-03-30T15:52:00Z  \n",
       "3  2013-04-19T18:16:00Z  \n",
       "4  2016-07-27T19:22:00Z  "
      ]
     },
     "execution_count": 3,
     "metadata": {},
     "output_type": "execute_result"
    }
   ],
   "source": [
    "df.head()"
   ]
  },
  {
   "cell_type": "code",
   "execution_count": 4,
   "id": "21aa96ed",
   "metadata": {},
   "outputs": [
    {
     "data": {
      "text/plain": [
       "(531, 5)"
      ]
     },
     "execution_count": 4,
     "metadata": {},
     "output_type": "execute_result"
    }
   ],
   "source": [
    "df.shape"
   ]
  },
  {
   "cell_type": "code",
   "execution_count": 5,
   "id": "3f1899f6",
   "metadata": {},
   "outputs": [
    {
     "data": {
      "text/plain": [
       "国务院常委会        280\n",
       "政治局会议         120\n",
       "中央全面深化改革会议     68\n",
       "历年政府工作报告       52\n",
       "中央经济工作会议       11\n",
       "Name: MEETING_NAME, dtype: int64"
      ]
     },
     "execution_count": 5,
     "metadata": {},
     "output_type": "execute_result"
    }
   ],
   "source": [
    "df['MEETING_NAME'].value_counts()"
   ]
  },
  {
   "cell_type": "code",
   "execution_count": 9,
   "id": "163fb02b",
   "metadata": {},
   "outputs": [],
   "source": [
    "# Extract Year from Date\n",
    "df['Year'] = df.apply(lambda row: row['PUBLISH_DATE'][:4], axis=1)"
   ]
  },
  {
   "cell_type": "code",
   "execution_count": 10,
   "id": "9ed137c7",
   "metadata": {},
   "outputs": [
    {
     "data": {
      "text/plain": [
       "2016    69\n",
       "2020    65\n",
       "2019    63\n",
       "2018    60\n",
       "2021    59\n",
       "2017    58\n",
       "2022    50\n",
       "2015    32\n",
       "2014    21\n",
       "2013    15\n",
       "2023     9\n",
       "2012     5\n",
       "2011     3\n",
       "2010     3\n",
       "2009     3\n",
       "2008     3\n",
       "2006     3\n",
       "2003     3\n",
       "2007     2\n",
       "2005     2\n",
       "2004     2\n",
       "2002     1\n",
       "Name: Year, dtype: int64"
      ]
     },
     "execution_count": 10,
     "metadata": {},
     "output_type": "execute_result"
    }
   ],
   "source": [
    "df['Year'].value_counts()"
   ]
  },
  {
   "cell_type": "code",
   "execution_count": null,
   "id": "2fa5fb5d",
   "metadata": {},
   "outputs": [],
   "source": []
  }
 ],
 "metadata": {
  "kernelspec": {
   "display_name": "Python 3 (ipykernel)",
   "language": "python",
   "name": "python3"
  },
  "language_info": {
   "codemirror_mode": {
    "name": "ipython",
    "version": 3
   },
   "file_extension": ".py",
   "mimetype": "text/x-python",
   "name": "python",
   "nbconvert_exporter": "python",
   "pygments_lexer": "ipython3",
   "version": "3.10.9"
  }
 },
 "nbformat": 4,
 "nbformat_minor": 5
}
