{
 "cells": [
  {
   "cell_type": "markdown",
   "id": "202e07c3",
   "metadata": {},
   "source": [
    "# Data Exploration"
   ]
  },
  {
   "cell_type": "code",
   "execution_count": 23,
   "id": "48daf757",
   "metadata": {},
   "outputs": [],
   "source": [
    "import pandas as pd\n",
    "import plotly.express as px\n",
    "import plotly.graph_objects as go\n",
    "import ydata_profiling"
   ]
  },
  {
   "cell_type": "code",
   "execution_count": 2,
   "id": "fa72a605",
   "metadata": {},
   "outputs": [],
   "source": [
    "# Load data\n",
    "data_path = 'data/meeting notes.csv'\n",
    "df = pd.read_csv(data_path)"
   ]
  },
  {
   "cell_type": "code",
   "execution_count": 3,
   "id": "7591223b",
   "metadata": {},
   "outputs": [
    {
     "data": {
      "text/html": [
       "<div>\n",
       "<style scoped>\n",
       "    .dataframe tbody tr th:only-of-type {\n",
       "        vertical-align: middle;\n",
       "    }\n",
       "\n",
       "    .dataframe tbody tr th {\n",
       "        vertical-align: top;\n",
       "    }\n",
       "\n",
       "    .dataframe thead th {\n",
       "        text-align: right;\n",
       "    }\n",
       "</style>\n",
       "<table border=\"1\" class=\"dataframe\">\n",
       "  <thead>\n",
       "    <tr style=\"text-align: right;\">\n",
       "      <th></th>\n",
       "      <th>ID</th>\n",
       "      <th>RAW_CONTENT</th>\n",
       "      <th>MEETING_NAME</th>\n",
       "      <th>TITLE</th>\n",
       "      <th>PUBLISH_DATE</th>\n",
       "    </tr>\n",
       "  </thead>\n",
       "  <tbody>\n",
       "    <tr>\n",
       "      <th>0</th>\n",
       "      <td>m-1608357555-1682084460</td>\n",
       "      <td>中共中央总书记、国家主席、中央军委主席、中央全面深化改革委员会主任习近平4月21日下午主...</td>\n",
       "      <td>中央全面深化改革会议</td>\n",
       "      <td>会议审议通过了关于强化企业科技创新主体地位的意见关于加强和改进国有经济管理有力支持中国式现代...</td>\n",
       "      <td>2023-04-21T21:41:00Z</td>\n",
       "    </tr>\n",
       "    <tr>\n",
       "      <th>1</th>\n",
       "      <td>m-158629831-1682664300</td>\n",
       "      <td>中共中央政治局4月28日召开会议，分析研究当前经济形势和经济工作。中共中央总书记习近平主...</td>\n",
       "      <td>政治局会议</td>\n",
       "      <td>分析研究当前经济形势和经济工作</td>\n",
       "      <td>2023-04-28T14:45:00Z</td>\n",
       "    </tr>\n",
       "    <tr>\n",
       "      <th>2</th>\n",
       "      <td>m-704972677-1680162720</td>\n",
       "      <td>中共中央政治局3月30日召开会议，决定从今年4月开始，在全党自上而下分两批开展学习贯彻习...</td>\n",
       "      <td>政治局会议</td>\n",
       "      <td>决定从2023年4月开始在全党自上而下分两批开展学习贯彻习近平新时代中国特色社会主义思想主题...</td>\n",
       "      <td>2023-03-30T15:52:00Z</td>\n",
       "    </tr>\n",
       "    <tr>\n",
       "      <th>3</th>\n",
       "      <td>m-248496144-1366366560</td>\n",
       "      <td>中共中央政治局4月19日召开会议，决定从今年下半年开始，用一年左右时间，在全党自上而下分...</td>\n",
       "      <td>政治局会议</td>\n",
       "      <td>研究部署在全党深入开展党的群众路线教育实践活动</td>\n",
       "      <td>2013-04-19T18:16:00Z</td>\n",
       "    </tr>\n",
       "    <tr>\n",
       "      <th>4</th>\n",
       "      <td>m-1020277137-1469618520</td>\n",
       "      <td>李克强主持召开国务院常务会议\\n听取关于地方和部门推进重大项目落地审计情况汇报 完善奖惩机制...</td>\n",
       "      <td>国务院常委会</td>\n",
       "      <td>李克强主持召开国务院常务会议通过十三五国家科技创新专项规划 以创新型国家建设引领和支撑升级发...</td>\n",
       "      <td>2016-07-27T19:22:00Z</td>\n",
       "    </tr>\n",
       "  </tbody>\n",
       "</table>\n",
       "</div>"
      ],
      "text/plain": [
       "                        ID                                        RAW_CONTENT  \\\n",
       "0  m-1608357555-1682084460  　　中共中央总书记、国家主席、中央军委主席、中央全面深化改革委员会主任习近平4月21日下午主...   \n",
       "1   m-158629831-1682664300  　　中共中央政治局4月28日召开会议，分析研究当前经济形势和经济工作。中共中央总书记习近平主...   \n",
       "2   m-704972677-1680162720  　　中共中央政治局3月30日召开会议，决定从今年4月开始，在全党自上而下分两批开展学习贯彻习...   \n",
       "3   m-248496144-1366366560  　　中共中央政治局4月19日召开会议，决定从今年下半年开始，用一年左右时间，在全党自上而下分...   \n",
       "4  m-1020277137-1469618520  李克强主持召开国务院常务会议\\n听取关于地方和部门推进重大项目落地审计情况汇报 完善奖惩机制...   \n",
       "\n",
       "  MEETING_NAME                                              TITLE  \\\n",
       "0   中央全面深化改革会议  会议审议通过了关于强化企业科技创新主体地位的意见关于加强和改进国有经济管理有力支持中国式现代...   \n",
       "1        政治局会议                                    分析研究当前经济形势和经济工作   \n",
       "2        政治局会议  决定从2023年4月开始在全党自上而下分两批开展学习贯彻习近平新时代中国特色社会主义思想主题...   \n",
       "3        政治局会议                            研究部署在全党深入开展党的群众路线教育实践活动   \n",
       "4       国务院常委会  李克强主持召开国务院常务会议通过十三五国家科技创新专项规划 以创新型国家建设引领和支撑升级发...   \n",
       "\n",
       "           PUBLISH_DATE  \n",
       "0  2023-04-21T21:41:00Z  \n",
       "1  2023-04-28T14:45:00Z  \n",
       "2  2023-03-30T15:52:00Z  \n",
       "3  2013-04-19T18:16:00Z  \n",
       "4  2016-07-27T19:22:00Z  "
      ]
     },
     "execution_count": 3,
     "metadata": {},
     "output_type": "execute_result"
    }
   ],
   "source": [
    "df.head()"
   ]
  },
  {
   "cell_type": "code",
   "execution_count": 4,
   "id": "21aa96ed",
   "metadata": {},
   "outputs": [
    {
     "data": {
      "text/plain": [
       "(531, 5)"
      ]
     },
     "execution_count": 4,
     "metadata": {},
     "output_type": "execute_result"
    }
   ],
   "source": [
    "df.shape"
   ]
  },
  {
   "cell_type": "code",
   "execution_count": 5,
   "id": "20f01ad4",
   "metadata": {},
   "outputs": [
    {
     "data": {
      "text/plain": [
       "(531, 496)"
      ]
     },
     "execution_count": 5,
     "metadata": {},
     "output_type": "execute_result"
    }
   ],
   "source": [
    "# Count unique notes and unique meetings\n",
    "df['ID'].nunique(), df['TITLE'].nunique()"
   ]
  },
  {
   "cell_type": "code",
   "execution_count": 5,
   "id": "3f1899f6",
   "metadata": {},
   "outputs": [
    {
     "data": {
      "text/plain": [
       "国务院常委会        280\n",
       "政治局会议         120\n",
       "中央全面深化改革会议     68\n",
       "历年政府工作报告       52\n",
       "中央经济工作会议       11\n",
       "Name: MEETING_NAME, dtype: int64"
      ]
     },
     "execution_count": 5,
     "metadata": {},
     "output_type": "execute_result"
    }
   ],
   "source": [
    "df['MEETING_NAME'].value_counts()"
   ]
  },
  {
   "cell_type": "code",
   "execution_count": 8,
   "id": "163fb02b",
   "metadata": {},
   "outputs": [],
   "source": [
    "# Extract Year from Date\n",
    "df['Year'] = df.apply(lambda row: row['PUBLISH_DATE'][:4], axis=1)"
   ]
  },
  {
   "cell_type": "code",
   "execution_count": 9,
   "id": "9ed137c7",
   "metadata": {},
   "outputs": [
    {
     "data": {
      "text/plain": [
       "2016    69\n",
       "2020    65\n",
       "2019    63\n",
       "2018    60\n",
       "2021    59\n",
       "2017    58\n",
       "2022    50\n",
       "2015    32\n",
       "2014    21\n",
       "2013    15\n",
       "2023     9\n",
       "2012     5\n",
       "2011     3\n",
       "2010     3\n",
       "2009     3\n",
       "2008     3\n",
       "2006     3\n",
       "2003     3\n",
       "2007     2\n",
       "2005     2\n",
       "2004     2\n",
       "2002     1\n",
       "Name: Year, dtype: int64"
      ]
     },
     "execution_count": 9,
     "metadata": {},
     "output_type": "execute_result"
    }
   ],
   "source": [
    "df['Year'].value_counts()"
   ]
  },
  {
   "cell_type": "code",
   "execution_count": 14,
   "id": "6f63248b",
   "metadata": {},
   "outputs": [
    {
     "data": {
      "application/vnd.jupyter.widget-view+json": {
       "model_id": "cd9e48b1f2a04b8da085dbac28b9a5dd",
       "version_major": 2,
       "version_minor": 0
      },
      "text/plain": [
       "Summarize dataset:   0%|          | 0/5 [00:00<?, ?it/s]"
      ]
     },
     "metadata": {},
     "output_type": "display_data"
    },
    {
     "data": {
      "application/vnd.jupyter.widget-view+json": {
       "model_id": "0da8212cfc93464b8f49350050bfbee4",
       "version_major": 2,
       "version_minor": 0
      },
      "text/plain": [
       "Generate report structure:   0%|          | 0/1 [00:00<?, ?it/s]"
      ]
     },
     "metadata": {},
     "output_type": "display_data"
    },
    {
     "name": "stderr",
     "output_type": "stream",
     "text": [
      "F:\\anaconda3\\lib\\site-packages\\ydata_profiling\\visualisation\\utils.py:73: UserWarning:\n",
      "\n",
      "Glyph 22269 (\\N{CJK UNIFIED IDEOGRAPH-56FD}) missing from current font.\n",
      "\n",
      "F:\\anaconda3\\lib\\site-packages\\ydata_profiling\\visualisation\\utils.py:73: UserWarning:\n",
      "\n",
      "Glyph 21153 (\\N{CJK UNIFIED IDEOGRAPH-52A1}) missing from current font.\n",
      "\n",
      "F:\\anaconda3\\lib\\site-packages\\ydata_profiling\\visualisation\\utils.py:73: UserWarning:\n",
      "\n",
      "Glyph 38498 (\\N{CJK UNIFIED IDEOGRAPH-9662}) missing from current font.\n",
      "\n",
      "F:\\anaconda3\\lib\\site-packages\\ydata_profiling\\visualisation\\utils.py:73: UserWarning:\n",
      "\n",
      "Glyph 24120 (\\N{CJK UNIFIED IDEOGRAPH-5E38}) missing from current font.\n",
      "\n",
      "F:\\anaconda3\\lib\\site-packages\\ydata_profiling\\visualisation\\utils.py:73: UserWarning:\n",
      "\n",
      "Glyph 22996 (\\N{CJK UNIFIED IDEOGRAPH-59D4}) missing from current font.\n",
      "\n",
      "F:\\anaconda3\\lib\\site-packages\\ydata_profiling\\visualisation\\utils.py:73: UserWarning:\n",
      "\n",
      "Glyph 20250 (\\N{CJK UNIFIED IDEOGRAPH-4F1A}) missing from current font.\n",
      "\n",
      "F:\\anaconda3\\lib\\site-packages\\ydata_profiling\\visualisation\\utils.py:73: UserWarning:\n",
      "\n",
      "Glyph 25919 (\\N{CJK UNIFIED IDEOGRAPH-653F}) missing from current font.\n",
      "\n",
      "F:\\anaconda3\\lib\\site-packages\\ydata_profiling\\visualisation\\utils.py:73: UserWarning:\n",
      "\n",
      "Glyph 27835 (\\N{CJK UNIFIED IDEOGRAPH-6CBB}) missing from current font.\n",
      "\n",
      "F:\\anaconda3\\lib\\site-packages\\ydata_profiling\\visualisation\\utils.py:73: UserWarning:\n",
      "\n",
      "Glyph 23616 (\\N{CJK UNIFIED IDEOGRAPH-5C40}) missing from current font.\n",
      "\n",
      "F:\\anaconda3\\lib\\site-packages\\ydata_profiling\\visualisation\\utils.py:73: UserWarning:\n",
      "\n",
      "Glyph 35758 (\\N{CJK UNIFIED IDEOGRAPH-8BAE}) missing from current font.\n",
      "\n",
      "F:\\anaconda3\\lib\\site-packages\\ydata_profiling\\visualisation\\utils.py:73: UserWarning:\n",
      "\n",
      "Glyph 20013 (\\N{CJK UNIFIED IDEOGRAPH-4E2D}) missing from current font.\n",
      "\n",
      "F:\\anaconda3\\lib\\site-packages\\ydata_profiling\\visualisation\\utils.py:73: UserWarning:\n",
      "\n",
      "Glyph 22830 (\\N{CJK UNIFIED IDEOGRAPH-592E}) missing from current font.\n",
      "\n",
      "F:\\anaconda3\\lib\\site-packages\\ydata_profiling\\visualisation\\utils.py:73: UserWarning:\n",
      "\n",
      "Glyph 20840 (\\N{CJK UNIFIED IDEOGRAPH-5168}) missing from current font.\n",
      "\n",
      "F:\\anaconda3\\lib\\site-packages\\ydata_profiling\\visualisation\\utils.py:73: UserWarning:\n",
      "\n",
      "Glyph 38754 (\\N{CJK UNIFIED IDEOGRAPH-9762}) missing from current font.\n",
      "\n",
      "F:\\anaconda3\\lib\\site-packages\\ydata_profiling\\visualisation\\utils.py:73: UserWarning:\n",
      "\n",
      "Glyph 28145 (\\N{CJK UNIFIED IDEOGRAPH-6DF1}) missing from current font.\n",
      "\n",
      "F:\\anaconda3\\lib\\site-packages\\ydata_profiling\\visualisation\\utils.py:73: UserWarning:\n",
      "\n",
      "Glyph 21270 (\\N{CJK UNIFIED IDEOGRAPH-5316}) missing from current font.\n",
      "\n",
      "F:\\anaconda3\\lib\\site-packages\\ydata_profiling\\visualisation\\utils.py:73: UserWarning:\n",
      "\n",
      "Glyph 25913 (\\N{CJK UNIFIED IDEOGRAPH-6539}) missing from current font.\n",
      "\n",
      "F:\\anaconda3\\lib\\site-packages\\ydata_profiling\\visualisation\\utils.py:73: UserWarning:\n",
      "\n",
      "Glyph 38761 (\\N{CJK UNIFIED IDEOGRAPH-9769}) missing from current font.\n",
      "\n",
      "F:\\anaconda3\\lib\\site-packages\\ydata_profiling\\visualisation\\utils.py:73: UserWarning:\n",
      "\n",
      "Glyph 21382 (\\N{CJK UNIFIED IDEOGRAPH-5386}) missing from current font.\n",
      "\n",
      "F:\\anaconda3\\lib\\site-packages\\ydata_profiling\\visualisation\\utils.py:73: UserWarning:\n",
      "\n",
      "Glyph 24180 (\\N{CJK UNIFIED IDEOGRAPH-5E74}) missing from current font.\n",
      "\n",
      "F:\\anaconda3\\lib\\site-packages\\ydata_profiling\\visualisation\\utils.py:73: UserWarning:\n",
      "\n",
      "Glyph 24220 (\\N{CJK UNIFIED IDEOGRAPH-5E9C}) missing from current font.\n",
      "\n",
      "F:\\anaconda3\\lib\\site-packages\\ydata_profiling\\visualisation\\utils.py:73: UserWarning:\n",
      "\n",
      "Glyph 24037 (\\N{CJK UNIFIED IDEOGRAPH-5DE5}) missing from current font.\n",
      "\n",
      "F:\\anaconda3\\lib\\site-packages\\ydata_profiling\\visualisation\\utils.py:73: UserWarning:\n",
      "\n",
      "Glyph 20316 (\\N{CJK UNIFIED IDEOGRAPH-4F5C}) missing from current font.\n",
      "\n",
      "F:\\anaconda3\\lib\\site-packages\\ydata_profiling\\visualisation\\utils.py:73: UserWarning:\n",
      "\n",
      "Glyph 25253 (\\N{CJK UNIFIED IDEOGRAPH-62A5}) missing from current font.\n",
      "\n",
      "F:\\anaconda3\\lib\\site-packages\\ydata_profiling\\visualisation\\utils.py:73: UserWarning:\n",
      "\n",
      "Glyph 21578 (\\N{CJK UNIFIED IDEOGRAPH-544A}) missing from current font.\n",
      "\n",
      "F:\\anaconda3\\lib\\site-packages\\ydata_profiling\\visualisation\\utils.py:73: UserWarning:\n",
      "\n",
      "Glyph 32463 (\\N{CJK UNIFIED IDEOGRAPH-7ECF}) missing from current font.\n",
      "\n",
      "F:\\anaconda3\\lib\\site-packages\\ydata_profiling\\visualisation\\utils.py:73: UserWarning:\n",
      "\n",
      "Glyph 27982 (\\N{CJK UNIFIED IDEOGRAPH-6D4E}) missing from current font.\n",
      "\n"
     ]
    },
    {
     "data": {
      "application/vnd.jupyter.widget-view+json": {
       "model_id": "125bef6ab09a48cf8e02c500dbc3219d",
       "version_major": 2,
       "version_minor": 0
      },
      "text/plain": [
       "Render HTML:   0%|          | 0/1 [00:00<?, ?it/s]"
      ]
     },
     "metadata": {},
     "output_type": "display_data"
    },
    {
     "data": {
      "application/vnd.jupyter.widget-view+json": {
       "model_id": "365749d4962944d9bf17ef6af4eea3dc",
       "version_major": 2,
       "version_minor": 0
      },
      "text/plain": [
       "Export report to file:   0%|          | 0/1 [00:00<?, ?it/s]"
      ]
     },
     "metadata": {},
     "output_type": "display_data"
    }
   ],
   "source": [
    "profile = ydata_profiling.ProfileReport(df)\n",
    "profile.to_file(\"report.html\")"
   ]
  },
  {
   "cell_type": "code",
   "execution_count": 19,
   "id": "c6a37663",
   "metadata": {},
   "outputs": [],
   "source": [
    "# Find duplicated rows based on 'RAW_CONTENT'\n",
    "duplicated_rows = df[df.duplicated(subset='RAW_CONTENT', keep=False)]"
   ]
  },
  {
   "cell_type": "code",
   "execution_count": 20,
   "id": "279ba806",
   "metadata": {},
   "outputs": [
    {
     "data": {
      "text/html": [
       "<div>\n",
       "<style scoped>\n",
       "    .dataframe tbody tr th:only-of-type {\n",
       "        vertical-align: middle;\n",
       "    }\n",
       "\n",
       "    .dataframe tbody tr th {\n",
       "        vertical-align: top;\n",
       "    }\n",
       "\n",
       "    .dataframe thead th {\n",
       "        text-align: right;\n",
       "    }\n",
       "</style>\n",
       "<table border=\"1\" class=\"dataframe\">\n",
       "  <thead>\n",
       "    <tr style=\"text-align: right;\">\n",
       "      <th></th>\n",
       "      <th>ID</th>\n",
       "      <th>RAW_CONTENT</th>\n",
       "      <th>MEETING_NAME</th>\n",
       "      <th>TITLE</th>\n",
       "      <th>PUBLISH_DATE</th>\n",
       "      <th>Year</th>\n",
       "    </tr>\n",
       "  </thead>\n",
       "  <tbody>\n",
       "    <tr>\n",
       "      <th>3</th>\n",
       "      <td>m-248496144-1366366560</td>\n",
       "      <td>中共中央政治局4月19日召开会议，决定从今年下半年开始，用一年左右时间，在全党自上而下分...</td>\n",
       "      <td>政治局会议</td>\n",
       "      <td>研究部署在全党深入开展党的群众路线教育实践活动</td>\n",
       "      <td>2013-04-19T18:16:00Z</td>\n",
       "      <td>2013</td>\n",
       "    </tr>\n",
       "    <tr>\n",
       "      <th>185</th>\n",
       "      <td>m-259356661-1366366560</td>\n",
       "      <td>中共中央政治局4月19日召开会议，决定从今年下半年开始，用一年左右时间，在全党自上而下分...</td>\n",
       "      <td>政治局会议</td>\n",
       "      <td>研究部署在全党深入开展党的群众路线教育实践活动工</td>\n",
       "      <td>2013-04-19T18:16:00Z</td>\n",
       "      <td>2013</td>\n",
       "    </tr>\n",
       "  </tbody>\n",
       "</table>\n",
       "</div>"
      ],
      "text/plain": [
       "                         ID  \\\n",
       "3    m-248496144-1366366560   \n",
       "185  m-259356661-1366366560   \n",
       "\n",
       "                                           RAW_CONTENT MEETING_NAME  \\\n",
       "3    　　中共中央政治局4月19日召开会议，决定从今年下半年开始，用一年左右时间，在全党自上而下分...        政治局会议   \n",
       "185  　　中共中央政治局4月19日召开会议，决定从今年下半年开始，用一年左右时间，在全党自上而下分...        政治局会议   \n",
       "\n",
       "                        TITLE          PUBLISH_DATE  Year  \n",
       "3     研究部署在全党深入开展党的群众路线教育实践活动  2013-04-19T18:16:00Z  2013  \n",
       "185  研究部署在全党深入开展党的群众路线教育实践活动工  2013-04-19T18:16:00Z  2013  "
      ]
     },
     "execution_count": 20,
     "metadata": {},
     "output_type": "execute_result"
    }
   ],
   "source": [
    "duplicated_rows"
   ]
  },
  {
   "cell_type": "code",
   "execution_count": 21,
   "id": "05392b67",
   "metadata": {},
   "outputs": [
    {
     "data": {
      "text/plain": [
       "3       研究部署在全党深入开展党的群众路线教育实践活动\n",
       "185    研究部署在全党深入开展党的群众路线教育实践活动工\n",
       "Name: TITLE, dtype: object"
      ]
     },
     "execution_count": 21,
     "metadata": {},
     "output_type": "execute_result"
    }
   ],
   "source": [
    "duplicated_rows['TITLE']"
   ]
  },
  {
   "cell_type": "code",
   "execution_count": 15,
   "id": "2d9482a9",
   "metadata": {},
   "outputs": [],
   "source": [
    "df2 = df.drop_duplicates(subset = 'RAW_CONTENT')"
   ]
  },
  {
   "cell_type": "code",
   "execution_count": 16,
   "id": "c6cf094e",
   "metadata": {},
   "outputs": [
    {
     "data": {
      "text/plain": [
       "(530, 6)"
      ]
     },
     "execution_count": 16,
     "metadata": {},
     "output_type": "execute_result"
    }
   ],
   "source": [
    "df2.shape"
   ]
  },
  {
   "cell_type": "code",
   "execution_count": 24,
   "id": "8e12f906",
   "metadata": {},
   "outputs": [
    {
     "data": {
      "application/vnd.plotly.v1+json": {
       "config": {
        "plotlyServerURL": "https://plot.ly"
       },
       "data": [
        {
         "type": "histogram",
         "x": [
          "2023",
          "2023",
          "2023",
          "2013",
          "2016",
          "2016",
          "2017",
          "2016",
          "2022",
          "2022",
          "2022",
          "2022",
          "2021",
          "2021",
          "2021",
          "2021",
          "2021",
          "2021",
          "2020",
          "2020",
          "2020",
          "2020",
          "2020",
          "2020",
          "2019",
          "2019",
          "2019",
          "2019",
          "2019",
          "2019",
          "2018",
          "2018",
          "2018",
          "2018",
          "2018",
          "2018",
          "2017",
          "2017",
          "2017",
          "2017",
          "2017",
          "2017",
          "2017",
          "2017",
          "2016",
          "2016",
          "2016",
          "2016",
          "2016",
          "2016",
          "2016",
          "2016",
          "2016",
          "2016",
          "2016",
          "2016",
          "2015",
          "2015",
          "2015",
          "2015",
          "2015",
          "2015",
          "2015",
          "2015",
          "2015",
          "2015",
          "2015",
          "2014",
          "2014",
          "2014",
          "2014",
          "2014",
          "2014",
          "2014",
          "2014",
          "2022",
          "2022",
          "2022",
          "2022",
          "2022",
          "2022",
          "2022",
          "2022",
          "2022",
          "2022",
          "2021",
          "2021",
          "2021",
          "2021",
          "2021",
          "2021",
          "2021",
          "2021",
          "2021",
          "2021",
          "2020",
          "2020",
          "2020",
          "2020",
          "2020",
          "2020",
          "2020",
          "2020",
          "2020",
          "2020",
          "2020",
          "2020",
          "2019",
          "2019",
          "2019",
          "2019",
          "2019",
          "2019",
          "2019",
          "2019",
          "2019",
          "2019",
          "2019",
          "2019",
          "2018",
          "2018",
          "2018",
          "2018",
          "2018",
          "2018",
          "2018",
          "2018",
          "2018",
          "2018",
          "2018",
          "2016",
          "2018",
          "2017",
          "2017",
          "2017",
          "2017",
          "2017",
          "2017",
          "2016",
          "2017",
          "2017",
          "2017",
          "2017",
          "2017",
          "2017",
          "2016",
          "2016",
          "2016",
          "2016",
          "2016",
          "2016",
          "2016",
          "2016",
          "2016",
          "2016",
          "2015",
          "2015",
          "2015",
          "2015",
          "2015",
          "2015",
          "2015",
          "2015",
          "2015",
          "2015",
          "2015",
          "2015",
          "2015",
          "2014",
          "2014",
          "2014",
          "2014",
          "2014",
          "2014",
          "2014",
          "2014",
          "2014",
          "2014",
          "2013",
          "2013",
          "2013",
          "2013",
          "2013",
          "2013",
          "2013",
          "2013",
          "2013",
          "2013",
          "2013",
          "2012",
          "2012",
          "2022",
          "2021",
          "2020",
          "2019",
          "2018",
          "2017",
          "2016",
          "2015",
          "2014",
          "2013",
          "2012",
          "2023",
          "2023",
          "2022",
          "2022",
          "2022",
          "2022",
          "2022",
          "2022",
          "2022",
          "2022",
          "2022",
          "2022",
          "2022",
          "2022",
          "2022",
          "2022",
          "2022",
          "2022",
          "2022",
          "2022",
          "2022",
          "2022",
          "2022",
          "2022",
          "2022",
          "2022",
          "2022",
          "2022",
          "2022",
          "2022",
          "2022",
          "2022",
          "2022",
          "2022",
          "2022",
          "2021",
          "2021",
          "2021",
          "2021",
          "2021",
          "2021",
          "2021",
          "2021",
          "2021",
          "2021",
          "2021",
          "2021",
          "2021",
          "2021",
          "2021",
          "2021",
          "2021",
          "2021",
          "2021",
          "2021",
          "2021",
          "2021",
          "2021",
          "2021",
          "2021",
          "2021",
          "2021",
          "2021",
          "2021",
          "2021",
          "2021",
          "2021",
          "2021",
          "2021",
          "2021",
          "2021",
          "2021",
          "2021",
          "2021",
          "2021",
          "2020",
          "2020",
          "2020",
          "2020",
          "2020",
          "2020",
          "2020",
          "2020",
          "2020",
          "2020",
          "2020",
          "2020",
          "2020",
          "2020",
          "2020",
          "2020",
          "2020",
          "2020",
          "2020",
          "2020",
          "2020",
          "2020",
          "2020",
          "2020",
          "2020",
          "2020",
          "2020",
          "2020",
          "2020",
          "2020",
          "2020",
          "2020",
          "2020",
          "2020",
          "2020",
          "2020",
          "2020",
          "2020",
          "2020",
          "2020",
          "2020",
          "2020",
          "2020",
          "2020",
          "2019",
          "2019",
          "2019",
          "2019",
          "2019",
          "2019",
          "2019",
          "2019",
          "2019",
          "2019",
          "2019",
          "2019",
          "2019",
          "2019",
          "2019",
          "2019",
          "2019",
          "2019",
          "2019",
          "2019",
          "2019",
          "2019",
          "2019",
          "2019",
          "2019",
          "2019",
          "2019",
          "2019",
          "2019",
          "2019",
          "2019",
          "2019",
          "2019",
          "2019",
          "2019",
          "2019",
          "2019",
          "2019",
          "2019",
          "2019",
          "2018",
          "2018",
          "2018",
          "2018",
          "2018",
          "2018",
          "2018",
          "2018",
          "2018",
          "2018",
          "2018",
          "2018",
          "2018",
          "2018",
          "2018",
          "2018",
          "2018",
          "2018",
          "2018",
          "2018",
          "2018",
          "2018",
          "2018",
          "2018",
          "2018",
          "2018",
          "2018",
          "2018",
          "2018",
          "2018",
          "2018",
          "2018",
          "2018",
          "2018",
          "2018",
          "2018",
          "2018",
          "2018",
          "2017",
          "2017",
          "2017",
          "2017",
          "2017",
          "2017",
          "2017",
          "2017",
          "2017",
          "2017",
          "2017",
          "2017",
          "2017",
          "2017",
          "2017",
          "2017",
          "2017",
          "2017",
          "2017",
          "2017",
          "2017",
          "2017",
          "2017",
          "2017",
          "2017",
          "2017",
          "2017",
          "2017",
          "2017",
          "2017",
          "2017",
          "2017",
          "2017",
          "2017",
          "2016",
          "2016",
          "2016",
          "2016",
          "2016",
          "2016",
          "2016",
          "2016",
          "2016",
          "2016",
          "2016",
          "2016",
          "2016",
          "2016",
          "2016",
          "2016",
          "2016",
          "2016",
          "2016",
          "2016",
          "2016",
          "2016",
          "2016",
          "2016",
          "2016",
          "2016",
          "2016",
          "2016",
          "2016",
          "2016",
          "2016",
          "2016",
          "2016",
          "2016",
          "2016",
          "2016",
          "2016",
          "2016",
          "2015",
          "2015",
          "2015",
          "2015",
          "2015",
          "2023",
          "2023",
          "2019",
          "2023",
          "2023",
          "2022",
          "2022",
          "2021",
          "2021",
          "2020",
          "2020",
          "2019",
          "2019",
          "2019",
          "2018",
          "2018",
          "2018",
          "2017",
          "2017",
          "2016",
          "2016",
          "2016",
          "2015",
          "2015",
          "2014",
          "2014",
          "2013",
          "2013",
          "2012",
          "2012",
          "2011",
          "2011",
          "2011",
          "2010",
          "2010",
          "2010",
          "2009",
          "2009",
          "2009",
          "2008",
          "2008",
          "2008",
          "2007",
          "2007",
          "2006",
          "2006",
          "2006",
          "2005",
          "2005",
          "2004",
          "2004",
          "2003",
          "2003",
          "2003",
          "2002"
         ]
        }
       ],
       "layout": {
        "template": {
         "data": {
          "bar": [
           {
            "error_x": {
             "color": "#2a3f5f"
            },
            "error_y": {
             "color": "#2a3f5f"
            },
            "marker": {
             "line": {
              "color": "#E5ECF6",
              "width": 0.5
             },
             "pattern": {
              "fillmode": "overlay",
              "size": 10,
              "solidity": 0.2
             }
            },
            "type": "bar"
           }
          ],
          "barpolar": [
           {
            "marker": {
             "line": {
              "color": "#E5ECF6",
              "width": 0.5
             },
             "pattern": {
              "fillmode": "overlay",
              "size": 10,
              "solidity": 0.2
             }
            },
            "type": "barpolar"
           }
          ],
          "carpet": [
           {
            "aaxis": {
             "endlinecolor": "#2a3f5f",
             "gridcolor": "white",
             "linecolor": "white",
             "minorgridcolor": "white",
             "startlinecolor": "#2a3f5f"
            },
            "baxis": {
             "endlinecolor": "#2a3f5f",
             "gridcolor": "white",
             "linecolor": "white",
             "minorgridcolor": "white",
             "startlinecolor": "#2a3f5f"
            },
            "type": "carpet"
           }
          ],
          "choropleth": [
           {
            "colorbar": {
             "outlinewidth": 0,
             "ticks": ""
            },
            "type": "choropleth"
           }
          ],
          "contour": [
           {
            "colorbar": {
             "outlinewidth": 0,
             "ticks": ""
            },
            "colorscale": [
             [
              0,
              "#0d0887"
             ],
             [
              0.1111111111111111,
              "#46039f"
             ],
             [
              0.2222222222222222,
              "#7201a8"
             ],
             [
              0.3333333333333333,
              "#9c179e"
             ],
             [
              0.4444444444444444,
              "#bd3786"
             ],
             [
              0.5555555555555556,
              "#d8576b"
             ],
             [
              0.6666666666666666,
              "#ed7953"
             ],
             [
              0.7777777777777778,
              "#fb9f3a"
             ],
             [
              0.8888888888888888,
              "#fdca26"
             ],
             [
              1,
              "#f0f921"
             ]
            ],
            "type": "contour"
           }
          ],
          "contourcarpet": [
           {
            "colorbar": {
             "outlinewidth": 0,
             "ticks": ""
            },
            "type": "contourcarpet"
           }
          ],
          "heatmap": [
           {
            "colorbar": {
             "outlinewidth": 0,
             "ticks": ""
            },
            "colorscale": [
             [
              0,
              "#0d0887"
             ],
             [
              0.1111111111111111,
              "#46039f"
             ],
             [
              0.2222222222222222,
              "#7201a8"
             ],
             [
              0.3333333333333333,
              "#9c179e"
             ],
             [
              0.4444444444444444,
              "#bd3786"
             ],
             [
              0.5555555555555556,
              "#d8576b"
             ],
             [
              0.6666666666666666,
              "#ed7953"
             ],
             [
              0.7777777777777778,
              "#fb9f3a"
             ],
             [
              0.8888888888888888,
              "#fdca26"
             ],
             [
              1,
              "#f0f921"
             ]
            ],
            "type": "heatmap"
           }
          ],
          "heatmapgl": [
           {
            "colorbar": {
             "outlinewidth": 0,
             "ticks": ""
            },
            "colorscale": [
             [
              0,
              "#0d0887"
             ],
             [
              0.1111111111111111,
              "#46039f"
             ],
             [
              0.2222222222222222,
              "#7201a8"
             ],
             [
              0.3333333333333333,
              "#9c179e"
             ],
             [
              0.4444444444444444,
              "#bd3786"
             ],
             [
              0.5555555555555556,
              "#d8576b"
             ],
             [
              0.6666666666666666,
              "#ed7953"
             ],
             [
              0.7777777777777778,
              "#fb9f3a"
             ],
             [
              0.8888888888888888,
              "#fdca26"
             ],
             [
              1,
              "#f0f921"
             ]
            ],
            "type": "heatmapgl"
           }
          ],
          "histogram": [
           {
            "marker": {
             "pattern": {
              "fillmode": "overlay",
              "size": 10,
              "solidity": 0.2
             }
            },
            "type": "histogram"
           }
          ],
          "histogram2d": [
           {
            "colorbar": {
             "outlinewidth": 0,
             "ticks": ""
            },
            "colorscale": [
             [
              0,
              "#0d0887"
             ],
             [
              0.1111111111111111,
              "#46039f"
             ],
             [
              0.2222222222222222,
              "#7201a8"
             ],
             [
              0.3333333333333333,
              "#9c179e"
             ],
             [
              0.4444444444444444,
              "#bd3786"
             ],
             [
              0.5555555555555556,
              "#d8576b"
             ],
             [
              0.6666666666666666,
              "#ed7953"
             ],
             [
              0.7777777777777778,
              "#fb9f3a"
             ],
             [
              0.8888888888888888,
              "#fdca26"
             ],
             [
              1,
              "#f0f921"
             ]
            ],
            "type": "histogram2d"
           }
          ],
          "histogram2dcontour": [
           {
            "colorbar": {
             "outlinewidth": 0,
             "ticks": ""
            },
            "colorscale": [
             [
              0,
              "#0d0887"
             ],
             [
              0.1111111111111111,
              "#46039f"
             ],
             [
              0.2222222222222222,
              "#7201a8"
             ],
             [
              0.3333333333333333,
              "#9c179e"
             ],
             [
              0.4444444444444444,
              "#bd3786"
             ],
             [
              0.5555555555555556,
              "#d8576b"
             ],
             [
              0.6666666666666666,
              "#ed7953"
             ],
             [
              0.7777777777777778,
              "#fb9f3a"
             ],
             [
              0.8888888888888888,
              "#fdca26"
             ],
             [
              1,
              "#f0f921"
             ]
            ],
            "type": "histogram2dcontour"
           }
          ],
          "mesh3d": [
           {
            "colorbar": {
             "outlinewidth": 0,
             "ticks": ""
            },
            "type": "mesh3d"
           }
          ],
          "parcoords": [
           {
            "line": {
             "colorbar": {
              "outlinewidth": 0,
              "ticks": ""
             }
            },
            "type": "parcoords"
           }
          ],
          "pie": [
           {
            "automargin": true,
            "type": "pie"
           }
          ],
          "scatter": [
           {
            "fillpattern": {
             "fillmode": "overlay",
             "size": 10,
             "solidity": 0.2
            },
            "type": "scatter"
           }
          ],
          "scatter3d": [
           {
            "line": {
             "colorbar": {
              "outlinewidth": 0,
              "ticks": ""
             }
            },
            "marker": {
             "colorbar": {
              "outlinewidth": 0,
              "ticks": ""
             }
            },
            "type": "scatter3d"
           }
          ],
          "scattercarpet": [
           {
            "marker": {
             "colorbar": {
              "outlinewidth": 0,
              "ticks": ""
             }
            },
            "type": "scattercarpet"
           }
          ],
          "scattergeo": [
           {
            "marker": {
             "colorbar": {
              "outlinewidth": 0,
              "ticks": ""
             }
            },
            "type": "scattergeo"
           }
          ],
          "scattergl": [
           {
            "marker": {
             "colorbar": {
              "outlinewidth": 0,
              "ticks": ""
             }
            },
            "type": "scattergl"
           }
          ],
          "scattermapbox": [
           {
            "marker": {
             "colorbar": {
              "outlinewidth": 0,
              "ticks": ""
             }
            },
            "type": "scattermapbox"
           }
          ],
          "scatterpolar": [
           {
            "marker": {
             "colorbar": {
              "outlinewidth": 0,
              "ticks": ""
             }
            },
            "type": "scatterpolar"
           }
          ],
          "scatterpolargl": [
           {
            "marker": {
             "colorbar": {
              "outlinewidth": 0,
              "ticks": ""
             }
            },
            "type": "scatterpolargl"
           }
          ],
          "scatterternary": [
           {
            "marker": {
             "colorbar": {
              "outlinewidth": 0,
              "ticks": ""
             }
            },
            "type": "scatterternary"
           }
          ],
          "surface": [
           {
            "colorbar": {
             "outlinewidth": 0,
             "ticks": ""
            },
            "colorscale": [
             [
              0,
              "#0d0887"
             ],
             [
              0.1111111111111111,
              "#46039f"
             ],
             [
              0.2222222222222222,
              "#7201a8"
             ],
             [
              0.3333333333333333,
              "#9c179e"
             ],
             [
              0.4444444444444444,
              "#bd3786"
             ],
             [
              0.5555555555555556,
              "#d8576b"
             ],
             [
              0.6666666666666666,
              "#ed7953"
             ],
             [
              0.7777777777777778,
              "#fb9f3a"
             ],
             [
              0.8888888888888888,
              "#fdca26"
             ],
             [
              1,
              "#f0f921"
             ]
            ],
            "type": "surface"
           }
          ],
          "table": [
           {
            "cells": {
             "fill": {
              "color": "#EBF0F8"
             },
             "line": {
              "color": "white"
             }
            },
            "header": {
             "fill": {
              "color": "#C8D4E3"
             },
             "line": {
              "color": "white"
             }
            },
            "type": "table"
           }
          ]
         },
         "layout": {
          "annotationdefaults": {
           "arrowcolor": "#2a3f5f",
           "arrowhead": 0,
           "arrowwidth": 1
          },
          "autotypenumbers": "strict",
          "coloraxis": {
           "colorbar": {
            "outlinewidth": 0,
            "ticks": ""
           }
          },
          "colorscale": {
           "diverging": [
            [
             0,
             "#8e0152"
            ],
            [
             0.1,
             "#c51b7d"
            ],
            [
             0.2,
             "#de77ae"
            ],
            [
             0.3,
             "#f1b6da"
            ],
            [
             0.4,
             "#fde0ef"
            ],
            [
             0.5,
             "#f7f7f7"
            ],
            [
             0.6,
             "#e6f5d0"
            ],
            [
             0.7,
             "#b8e186"
            ],
            [
             0.8,
             "#7fbc41"
            ],
            [
             0.9,
             "#4d9221"
            ],
            [
             1,
             "#276419"
            ]
           ],
           "sequential": [
            [
             0,
             "#0d0887"
            ],
            [
             0.1111111111111111,
             "#46039f"
            ],
            [
             0.2222222222222222,
             "#7201a8"
            ],
            [
             0.3333333333333333,
             "#9c179e"
            ],
            [
             0.4444444444444444,
             "#bd3786"
            ],
            [
             0.5555555555555556,
             "#d8576b"
            ],
            [
             0.6666666666666666,
             "#ed7953"
            ],
            [
             0.7777777777777778,
             "#fb9f3a"
            ],
            [
             0.8888888888888888,
             "#fdca26"
            ],
            [
             1,
             "#f0f921"
            ]
           ],
           "sequentialminus": [
            [
             0,
             "#0d0887"
            ],
            [
             0.1111111111111111,
             "#46039f"
            ],
            [
             0.2222222222222222,
             "#7201a8"
            ],
            [
             0.3333333333333333,
             "#9c179e"
            ],
            [
             0.4444444444444444,
             "#bd3786"
            ],
            [
             0.5555555555555556,
             "#d8576b"
            ],
            [
             0.6666666666666666,
             "#ed7953"
            ],
            [
             0.7777777777777778,
             "#fb9f3a"
            ],
            [
             0.8888888888888888,
             "#fdca26"
            ],
            [
             1,
             "#f0f921"
            ]
           ]
          },
          "colorway": [
           "#636efa",
           "#EF553B",
           "#00cc96",
           "#ab63fa",
           "#FFA15A",
           "#19d3f3",
           "#FF6692",
           "#B6E880",
           "#FF97FF",
           "#FECB52"
          ],
          "font": {
           "color": "#2a3f5f"
          },
          "geo": {
           "bgcolor": "white",
           "lakecolor": "white",
           "landcolor": "#E5ECF6",
           "showlakes": true,
           "showland": true,
           "subunitcolor": "white"
          },
          "hoverlabel": {
           "align": "left"
          },
          "hovermode": "closest",
          "mapbox": {
           "style": "light"
          },
          "paper_bgcolor": "white",
          "plot_bgcolor": "#E5ECF6",
          "polar": {
           "angularaxis": {
            "gridcolor": "white",
            "linecolor": "white",
            "ticks": ""
           },
           "bgcolor": "#E5ECF6",
           "radialaxis": {
            "gridcolor": "white",
            "linecolor": "white",
            "ticks": ""
           }
          },
          "scene": {
           "xaxis": {
            "backgroundcolor": "#E5ECF6",
            "gridcolor": "white",
            "gridwidth": 2,
            "linecolor": "white",
            "showbackground": true,
            "ticks": "",
            "zerolinecolor": "white"
           },
           "yaxis": {
            "backgroundcolor": "#E5ECF6",
            "gridcolor": "white",
            "gridwidth": 2,
            "linecolor": "white",
            "showbackground": true,
            "ticks": "",
            "zerolinecolor": "white"
           },
           "zaxis": {
            "backgroundcolor": "#E5ECF6",
            "gridcolor": "white",
            "gridwidth": 2,
            "linecolor": "white",
            "showbackground": true,
            "ticks": "",
            "zerolinecolor": "white"
           }
          },
          "shapedefaults": {
           "line": {
            "color": "#2a3f5f"
           }
          },
          "ternary": {
           "aaxis": {
            "gridcolor": "white",
            "linecolor": "white",
            "ticks": ""
           },
           "baxis": {
            "gridcolor": "white",
            "linecolor": "white",
            "ticks": ""
           },
           "bgcolor": "#E5ECF6",
           "caxis": {
            "gridcolor": "white",
            "linecolor": "white",
            "ticks": ""
           }
          },
          "title": {
           "x": 0.05
          },
          "xaxis": {
           "automargin": true,
           "gridcolor": "white",
           "linecolor": "white",
           "ticks": "",
           "title": {
            "standoff": 15
           },
           "zerolinecolor": "white",
           "zerolinewidth": 2
          },
          "yaxis": {
           "automargin": true,
           "gridcolor": "white",
           "linecolor": "white",
           "ticks": "",
           "title": {
            "standoff": 15
           },
           "zerolinecolor": "white",
           "zerolinewidth": 2
          }
         }
        },
        "xaxis": {
         "categoryarray": [
          "2002",
          "2003",
          "2004",
          "2005",
          "2006",
          "2007",
          "2008",
          "2009",
          "2010",
          "2011",
          "2012",
          "2013",
          "2014",
          "2015",
          "2016",
          "2017",
          "2018",
          "2019",
          "2020",
          "2021",
          "2022",
          "2023"
         ],
         "categoryorder": "array"
        }
       }
      },
      "text/html": [
       "<div>                            <div id=\"45d031ff-b373-49cd-8e6b-0d63ce5e7b08\" class=\"plotly-graph-div\" style=\"height:525px; width:100%;\"></div>            <script type=\"text/javascript\">                require([\"plotly\"], function(Plotly) {                    window.PLOTLYENV=window.PLOTLYENV || {};                                    if (document.getElementById(\"45d031ff-b373-49cd-8e6b-0d63ce5e7b08\")) {                    Plotly.newPlot(                        \"45d031ff-b373-49cd-8e6b-0d63ce5e7b08\",                        [{\"x\":[\"2023\",\"2023\",\"2023\",\"2013\",\"2016\",\"2016\",\"2017\",\"2016\",\"2022\",\"2022\",\"2022\",\"2022\",\"2021\",\"2021\",\"2021\",\"2021\",\"2021\",\"2021\",\"2020\",\"2020\",\"2020\",\"2020\",\"2020\",\"2020\",\"2019\",\"2019\",\"2019\",\"2019\",\"2019\",\"2019\",\"2018\",\"2018\",\"2018\",\"2018\",\"2018\",\"2018\",\"2017\",\"2017\",\"2017\",\"2017\",\"2017\",\"2017\",\"2017\",\"2017\",\"2016\",\"2016\",\"2016\",\"2016\",\"2016\",\"2016\",\"2016\",\"2016\",\"2016\",\"2016\",\"2016\",\"2016\",\"2015\",\"2015\",\"2015\",\"2015\",\"2015\",\"2015\",\"2015\",\"2015\",\"2015\",\"2015\",\"2015\",\"2014\",\"2014\",\"2014\",\"2014\",\"2014\",\"2014\",\"2014\",\"2014\",\"2022\",\"2022\",\"2022\",\"2022\",\"2022\",\"2022\",\"2022\",\"2022\",\"2022\",\"2022\",\"2021\",\"2021\",\"2021\",\"2021\",\"2021\",\"2021\",\"2021\",\"2021\",\"2021\",\"2021\",\"2020\",\"2020\",\"2020\",\"2020\",\"2020\",\"2020\",\"2020\",\"2020\",\"2020\",\"2020\",\"2020\",\"2020\",\"2019\",\"2019\",\"2019\",\"2019\",\"2019\",\"2019\",\"2019\",\"2019\",\"2019\",\"2019\",\"2019\",\"2019\",\"2018\",\"2018\",\"2018\",\"2018\",\"2018\",\"2018\",\"2018\",\"2018\",\"2018\",\"2018\",\"2018\",\"2016\",\"2018\",\"2017\",\"2017\",\"2017\",\"2017\",\"2017\",\"2017\",\"2016\",\"2017\",\"2017\",\"2017\",\"2017\",\"2017\",\"2017\",\"2016\",\"2016\",\"2016\",\"2016\",\"2016\",\"2016\",\"2016\",\"2016\",\"2016\",\"2016\",\"2015\",\"2015\",\"2015\",\"2015\",\"2015\",\"2015\",\"2015\",\"2015\",\"2015\",\"2015\",\"2015\",\"2015\",\"2015\",\"2014\",\"2014\",\"2014\",\"2014\",\"2014\",\"2014\",\"2014\",\"2014\",\"2014\",\"2014\",\"2013\",\"2013\",\"2013\",\"2013\",\"2013\",\"2013\",\"2013\",\"2013\",\"2013\",\"2013\",\"2013\",\"2012\",\"2012\",\"2022\",\"2021\",\"2020\",\"2019\",\"2018\",\"2017\",\"2016\",\"2015\",\"2014\",\"2013\",\"2012\",\"2023\",\"2023\",\"2022\",\"2022\",\"2022\",\"2022\",\"2022\",\"2022\",\"2022\",\"2022\",\"2022\",\"2022\",\"2022\",\"2022\",\"2022\",\"2022\",\"2022\",\"2022\",\"2022\",\"2022\",\"2022\",\"2022\",\"2022\",\"2022\",\"2022\",\"2022\",\"2022\",\"2022\",\"2022\",\"2022\",\"2022\",\"2022\",\"2022\",\"2022\",\"2022\",\"2021\",\"2021\",\"2021\",\"2021\",\"2021\",\"2021\",\"2021\",\"2021\",\"2021\",\"2021\",\"2021\",\"2021\",\"2021\",\"2021\",\"2021\",\"2021\",\"2021\",\"2021\",\"2021\",\"2021\",\"2021\",\"2021\",\"2021\",\"2021\",\"2021\",\"2021\",\"2021\",\"2021\",\"2021\",\"2021\",\"2021\",\"2021\",\"2021\",\"2021\",\"2021\",\"2021\",\"2021\",\"2021\",\"2021\",\"2021\",\"2020\",\"2020\",\"2020\",\"2020\",\"2020\",\"2020\",\"2020\",\"2020\",\"2020\",\"2020\",\"2020\",\"2020\",\"2020\",\"2020\",\"2020\",\"2020\",\"2020\",\"2020\",\"2020\",\"2020\",\"2020\",\"2020\",\"2020\",\"2020\",\"2020\",\"2020\",\"2020\",\"2020\",\"2020\",\"2020\",\"2020\",\"2020\",\"2020\",\"2020\",\"2020\",\"2020\",\"2020\",\"2020\",\"2020\",\"2020\",\"2020\",\"2020\",\"2020\",\"2020\",\"2019\",\"2019\",\"2019\",\"2019\",\"2019\",\"2019\",\"2019\",\"2019\",\"2019\",\"2019\",\"2019\",\"2019\",\"2019\",\"2019\",\"2019\",\"2019\",\"2019\",\"2019\",\"2019\",\"2019\",\"2019\",\"2019\",\"2019\",\"2019\",\"2019\",\"2019\",\"2019\",\"2019\",\"2019\",\"2019\",\"2019\",\"2019\",\"2019\",\"2019\",\"2019\",\"2019\",\"2019\",\"2019\",\"2019\",\"2019\",\"2018\",\"2018\",\"2018\",\"2018\",\"2018\",\"2018\",\"2018\",\"2018\",\"2018\",\"2018\",\"2018\",\"2018\",\"2018\",\"2018\",\"2018\",\"2018\",\"2018\",\"2018\",\"2018\",\"2018\",\"2018\",\"2018\",\"2018\",\"2018\",\"2018\",\"2018\",\"2018\",\"2018\",\"2018\",\"2018\",\"2018\",\"2018\",\"2018\",\"2018\",\"2018\",\"2018\",\"2018\",\"2018\",\"2017\",\"2017\",\"2017\",\"2017\",\"2017\",\"2017\",\"2017\",\"2017\",\"2017\",\"2017\",\"2017\",\"2017\",\"2017\",\"2017\",\"2017\",\"2017\",\"2017\",\"2017\",\"2017\",\"2017\",\"2017\",\"2017\",\"2017\",\"2017\",\"2017\",\"2017\",\"2017\",\"2017\",\"2017\",\"2017\",\"2017\",\"2017\",\"2017\",\"2017\",\"2016\",\"2016\",\"2016\",\"2016\",\"2016\",\"2016\",\"2016\",\"2016\",\"2016\",\"2016\",\"2016\",\"2016\",\"2016\",\"2016\",\"2016\",\"2016\",\"2016\",\"2016\",\"2016\",\"2016\",\"2016\",\"2016\",\"2016\",\"2016\",\"2016\",\"2016\",\"2016\",\"2016\",\"2016\",\"2016\",\"2016\",\"2016\",\"2016\",\"2016\",\"2016\",\"2016\",\"2016\",\"2016\",\"2015\",\"2015\",\"2015\",\"2015\",\"2015\",\"2023\",\"2023\",\"2019\",\"2023\",\"2023\",\"2022\",\"2022\",\"2021\",\"2021\",\"2020\",\"2020\",\"2019\",\"2019\",\"2019\",\"2018\",\"2018\",\"2018\",\"2017\",\"2017\",\"2016\",\"2016\",\"2016\",\"2015\",\"2015\",\"2014\",\"2014\",\"2013\",\"2013\",\"2012\",\"2012\",\"2011\",\"2011\",\"2011\",\"2010\",\"2010\",\"2010\",\"2009\",\"2009\",\"2009\",\"2008\",\"2008\",\"2008\",\"2007\",\"2007\",\"2006\",\"2006\",\"2006\",\"2005\",\"2005\",\"2004\",\"2004\",\"2003\",\"2003\",\"2003\",\"2002\"],\"type\":\"histogram\"}],                        {\"template\":{\"data\":{\"histogram2dcontour\":[{\"type\":\"histogram2dcontour\",\"colorbar\":{\"outlinewidth\":0,\"ticks\":\"\"},\"colorscale\":[[0.0,\"#0d0887\"],[0.1111111111111111,\"#46039f\"],[0.2222222222222222,\"#7201a8\"],[0.3333333333333333,\"#9c179e\"],[0.4444444444444444,\"#bd3786\"],[0.5555555555555556,\"#d8576b\"],[0.6666666666666666,\"#ed7953\"],[0.7777777777777778,\"#fb9f3a\"],[0.8888888888888888,\"#fdca26\"],[1.0,\"#f0f921\"]]}],\"choropleth\":[{\"type\":\"choropleth\",\"colorbar\":{\"outlinewidth\":0,\"ticks\":\"\"}}],\"histogram2d\":[{\"type\":\"histogram2d\",\"colorbar\":{\"outlinewidth\":0,\"ticks\":\"\"},\"colorscale\":[[0.0,\"#0d0887\"],[0.1111111111111111,\"#46039f\"],[0.2222222222222222,\"#7201a8\"],[0.3333333333333333,\"#9c179e\"],[0.4444444444444444,\"#bd3786\"],[0.5555555555555556,\"#d8576b\"],[0.6666666666666666,\"#ed7953\"],[0.7777777777777778,\"#fb9f3a\"],[0.8888888888888888,\"#fdca26\"],[1.0,\"#f0f921\"]]}],\"heatmap\":[{\"type\":\"heatmap\",\"colorbar\":{\"outlinewidth\":0,\"ticks\":\"\"},\"colorscale\":[[0.0,\"#0d0887\"],[0.1111111111111111,\"#46039f\"],[0.2222222222222222,\"#7201a8\"],[0.3333333333333333,\"#9c179e\"],[0.4444444444444444,\"#bd3786\"],[0.5555555555555556,\"#d8576b\"],[0.6666666666666666,\"#ed7953\"],[0.7777777777777778,\"#fb9f3a\"],[0.8888888888888888,\"#fdca26\"],[1.0,\"#f0f921\"]]}],\"heatmapgl\":[{\"type\":\"heatmapgl\",\"colorbar\":{\"outlinewidth\":0,\"ticks\":\"\"},\"colorscale\":[[0.0,\"#0d0887\"],[0.1111111111111111,\"#46039f\"],[0.2222222222222222,\"#7201a8\"],[0.3333333333333333,\"#9c179e\"],[0.4444444444444444,\"#bd3786\"],[0.5555555555555556,\"#d8576b\"],[0.6666666666666666,\"#ed7953\"],[0.7777777777777778,\"#fb9f3a\"],[0.8888888888888888,\"#fdca26\"],[1.0,\"#f0f921\"]]}],\"contourcarpet\":[{\"type\":\"contourcarpet\",\"colorbar\":{\"outlinewidth\":0,\"ticks\":\"\"}}],\"contour\":[{\"type\":\"contour\",\"colorbar\":{\"outlinewidth\":0,\"ticks\":\"\"},\"colorscale\":[[0.0,\"#0d0887\"],[0.1111111111111111,\"#46039f\"],[0.2222222222222222,\"#7201a8\"],[0.3333333333333333,\"#9c179e\"],[0.4444444444444444,\"#bd3786\"],[0.5555555555555556,\"#d8576b\"],[0.6666666666666666,\"#ed7953\"],[0.7777777777777778,\"#fb9f3a\"],[0.8888888888888888,\"#fdca26\"],[1.0,\"#f0f921\"]]}],\"surface\":[{\"type\":\"surface\",\"colorbar\":{\"outlinewidth\":0,\"ticks\":\"\"},\"colorscale\":[[0.0,\"#0d0887\"],[0.1111111111111111,\"#46039f\"],[0.2222222222222222,\"#7201a8\"],[0.3333333333333333,\"#9c179e\"],[0.4444444444444444,\"#bd3786\"],[0.5555555555555556,\"#d8576b\"],[0.6666666666666666,\"#ed7953\"],[0.7777777777777778,\"#fb9f3a\"],[0.8888888888888888,\"#fdca26\"],[1.0,\"#f0f921\"]]}],\"mesh3d\":[{\"type\":\"mesh3d\",\"colorbar\":{\"outlinewidth\":0,\"ticks\":\"\"}}],\"scatter\":[{\"fillpattern\":{\"fillmode\":\"overlay\",\"size\":10,\"solidity\":0.2},\"type\":\"scatter\"}],\"parcoords\":[{\"type\":\"parcoords\",\"line\":{\"colorbar\":{\"outlinewidth\":0,\"ticks\":\"\"}}}],\"scatterpolargl\":[{\"type\":\"scatterpolargl\",\"marker\":{\"colorbar\":{\"outlinewidth\":0,\"ticks\":\"\"}}}],\"bar\":[{\"error_x\":{\"color\":\"#2a3f5f\"},\"error_y\":{\"color\":\"#2a3f5f\"},\"marker\":{\"line\":{\"color\":\"#E5ECF6\",\"width\":0.5},\"pattern\":{\"fillmode\":\"overlay\",\"size\":10,\"solidity\":0.2}},\"type\":\"bar\"}],\"scattergeo\":[{\"type\":\"scattergeo\",\"marker\":{\"colorbar\":{\"outlinewidth\":0,\"ticks\":\"\"}}}],\"scatterpolar\":[{\"type\":\"scatterpolar\",\"marker\":{\"colorbar\":{\"outlinewidth\":0,\"ticks\":\"\"}}}],\"histogram\":[{\"marker\":{\"pattern\":{\"fillmode\":\"overlay\",\"size\":10,\"solidity\":0.2}},\"type\":\"histogram\"}],\"scattergl\":[{\"type\":\"scattergl\",\"marker\":{\"colorbar\":{\"outlinewidth\":0,\"ticks\":\"\"}}}],\"scatter3d\":[{\"type\":\"scatter3d\",\"line\":{\"colorbar\":{\"outlinewidth\":0,\"ticks\":\"\"}},\"marker\":{\"colorbar\":{\"outlinewidth\":0,\"ticks\":\"\"}}}],\"scattermapbox\":[{\"type\":\"scattermapbox\",\"marker\":{\"colorbar\":{\"outlinewidth\":0,\"ticks\":\"\"}}}],\"scatterternary\":[{\"type\":\"scatterternary\",\"marker\":{\"colorbar\":{\"outlinewidth\":0,\"ticks\":\"\"}}}],\"scattercarpet\":[{\"type\":\"scattercarpet\",\"marker\":{\"colorbar\":{\"outlinewidth\":0,\"ticks\":\"\"}}}],\"carpet\":[{\"aaxis\":{\"endlinecolor\":\"#2a3f5f\",\"gridcolor\":\"white\",\"linecolor\":\"white\",\"minorgridcolor\":\"white\",\"startlinecolor\":\"#2a3f5f\"},\"baxis\":{\"endlinecolor\":\"#2a3f5f\",\"gridcolor\":\"white\",\"linecolor\":\"white\",\"minorgridcolor\":\"white\",\"startlinecolor\":\"#2a3f5f\"},\"type\":\"carpet\"}],\"table\":[{\"cells\":{\"fill\":{\"color\":\"#EBF0F8\"},\"line\":{\"color\":\"white\"}},\"header\":{\"fill\":{\"color\":\"#C8D4E3\"},\"line\":{\"color\":\"white\"}},\"type\":\"table\"}],\"barpolar\":[{\"marker\":{\"line\":{\"color\":\"#E5ECF6\",\"width\":0.5},\"pattern\":{\"fillmode\":\"overlay\",\"size\":10,\"solidity\":0.2}},\"type\":\"barpolar\"}],\"pie\":[{\"automargin\":true,\"type\":\"pie\"}]},\"layout\":{\"autotypenumbers\":\"strict\",\"colorway\":[\"#636efa\",\"#EF553B\",\"#00cc96\",\"#ab63fa\",\"#FFA15A\",\"#19d3f3\",\"#FF6692\",\"#B6E880\",\"#FF97FF\",\"#FECB52\"],\"font\":{\"color\":\"#2a3f5f\"},\"hovermode\":\"closest\",\"hoverlabel\":{\"align\":\"left\"},\"paper_bgcolor\":\"white\",\"plot_bgcolor\":\"#E5ECF6\",\"polar\":{\"bgcolor\":\"#E5ECF6\",\"angularaxis\":{\"gridcolor\":\"white\",\"linecolor\":\"white\",\"ticks\":\"\"},\"radialaxis\":{\"gridcolor\":\"white\",\"linecolor\":\"white\",\"ticks\":\"\"}},\"ternary\":{\"bgcolor\":\"#E5ECF6\",\"aaxis\":{\"gridcolor\":\"white\",\"linecolor\":\"white\",\"ticks\":\"\"},\"baxis\":{\"gridcolor\":\"white\",\"linecolor\":\"white\",\"ticks\":\"\"},\"caxis\":{\"gridcolor\":\"white\",\"linecolor\":\"white\",\"ticks\":\"\"}},\"coloraxis\":{\"colorbar\":{\"outlinewidth\":0,\"ticks\":\"\"}},\"colorscale\":{\"sequential\":[[0.0,\"#0d0887\"],[0.1111111111111111,\"#46039f\"],[0.2222222222222222,\"#7201a8\"],[0.3333333333333333,\"#9c179e\"],[0.4444444444444444,\"#bd3786\"],[0.5555555555555556,\"#d8576b\"],[0.6666666666666666,\"#ed7953\"],[0.7777777777777778,\"#fb9f3a\"],[0.8888888888888888,\"#fdca26\"],[1.0,\"#f0f921\"]],\"sequentialminus\":[[0.0,\"#0d0887\"],[0.1111111111111111,\"#46039f\"],[0.2222222222222222,\"#7201a8\"],[0.3333333333333333,\"#9c179e\"],[0.4444444444444444,\"#bd3786\"],[0.5555555555555556,\"#d8576b\"],[0.6666666666666666,\"#ed7953\"],[0.7777777777777778,\"#fb9f3a\"],[0.8888888888888888,\"#fdca26\"],[1.0,\"#f0f921\"]],\"diverging\":[[0,\"#8e0152\"],[0.1,\"#c51b7d\"],[0.2,\"#de77ae\"],[0.3,\"#f1b6da\"],[0.4,\"#fde0ef\"],[0.5,\"#f7f7f7\"],[0.6,\"#e6f5d0\"],[0.7,\"#b8e186\"],[0.8,\"#7fbc41\"],[0.9,\"#4d9221\"],[1,\"#276419\"]]},\"xaxis\":{\"gridcolor\":\"white\",\"linecolor\":\"white\",\"ticks\":\"\",\"title\":{\"standoff\":15},\"zerolinecolor\":\"white\",\"automargin\":true,\"zerolinewidth\":2},\"yaxis\":{\"gridcolor\":\"white\",\"linecolor\":\"white\",\"ticks\":\"\",\"title\":{\"standoff\":15},\"zerolinecolor\":\"white\",\"automargin\":true,\"zerolinewidth\":2},\"scene\":{\"xaxis\":{\"backgroundcolor\":\"#E5ECF6\",\"gridcolor\":\"white\",\"linecolor\":\"white\",\"showbackground\":true,\"ticks\":\"\",\"zerolinecolor\":\"white\",\"gridwidth\":2},\"yaxis\":{\"backgroundcolor\":\"#E5ECF6\",\"gridcolor\":\"white\",\"linecolor\":\"white\",\"showbackground\":true,\"ticks\":\"\",\"zerolinecolor\":\"white\",\"gridwidth\":2},\"zaxis\":{\"backgroundcolor\":\"#E5ECF6\",\"gridcolor\":\"white\",\"linecolor\":\"white\",\"showbackground\":true,\"ticks\":\"\",\"zerolinecolor\":\"white\",\"gridwidth\":2}},\"shapedefaults\":{\"line\":{\"color\":\"#2a3f5f\"}},\"annotationdefaults\":{\"arrowcolor\":\"#2a3f5f\",\"arrowhead\":0,\"arrowwidth\":1},\"geo\":{\"bgcolor\":\"white\",\"landcolor\":\"#E5ECF6\",\"subunitcolor\":\"white\",\"showland\":true,\"showlakes\":true,\"lakecolor\":\"white\"},\"title\":{\"x\":0.05},\"mapbox\":{\"style\":\"light\"}}},\"xaxis\":{\"categoryorder\":\"array\",\"categoryarray\":[\"2002\",\"2003\",\"2004\",\"2005\",\"2006\",\"2007\",\"2008\",\"2009\",\"2010\",\"2011\",\"2012\",\"2013\",\"2014\",\"2015\",\"2016\",\"2017\",\"2018\",\"2019\",\"2020\",\"2021\",\"2022\",\"2023\"]}},                        {\"responsive\": true}                    ).then(function(){\n",
       "                            \n",
       "var gd = document.getElementById('45d031ff-b373-49cd-8e6b-0d63ce5e7b08');\n",
       "var x = new MutationObserver(function (mutations, observer) {{\n",
       "        var display = window.getComputedStyle(gd).display;\n",
       "        if (!display || display === 'none') {{\n",
       "            console.log([gd, 'removed!']);\n",
       "            Plotly.purge(gd);\n",
       "            observer.disconnect();\n",
       "        }}\n",
       "}});\n",
       "\n",
       "// Listen for the removal of the full notebook cells\n",
       "var notebookContainer = gd.closest('#notebook-container');\n",
       "if (notebookContainer) {{\n",
       "    x.observe(notebookContainer, {childList: true});\n",
       "}}\n",
       "\n",
       "// Listen for the clearing of the current output cell\n",
       "var outputEl = gd.closest('.output');\n",
       "if (outputEl) {{\n",
       "    x.observe(outputEl, {childList: true});\n",
       "}}\n",
       "\n",
       "                        })                };                });            </script>        </div>"
      ]
     },
     "metadata": {},
     "output_type": "display_data"
    }
   ],
   "source": [
    "# Plot the histogram of year\n",
    "fig = go.Figure(data=[go.Histogram(x=df2['Year'])])\n",
    "fig.update_layout(xaxis={'categoryorder': 'array', 'categoryarray': sorted(df2['Year'].unique())})\n",
    "fig.show()"
   ]
  },
  {
   "cell_type": "code",
   "execution_count": 27,
   "id": "6c077aad",
   "metadata": {},
   "outputs": [
    {
     "name": "stderr",
     "output_type": "stream",
     "text": [
      "C:\\Users\\Harold\\AppData\\Local\\Temp\\ipykernel_497612\\2504603588.py:1: SettingWithCopyWarning:\n",
      "\n",
      "\n",
      "A value is trying to be set on a copy of a slice from a DataFrame.\n",
      "Try using .loc[row_indexer,col_indexer] = value instead\n",
      "\n",
      "See the caveats in the documentation: https://pandas.pydata.org/pandas-docs/stable/user_guide/indexing.html#returning-a-view-versus-a-copy\n",
      "\n"
     ]
    }
   ],
   "source": [
    "df2['Month'] = df2.apply(lambda row: row['PUBLISH_DATE'][5:7], axis=1)"
   ]
  },
  {
   "cell_type": "code",
   "execution_count": 28,
   "id": "b9bd958e",
   "metadata": {},
   "outputs": [
    {
     "data": {
      "application/vnd.plotly.v1+json": {
       "config": {
        "plotlyServerURL": "https://plot.ly"
       },
       "data": [
        {
         "type": "histogram",
         "x": [
          "04",
          "04",
          "03",
          "01",
          "01",
          "02",
          "02",
          "03",
          "03"
         ]
        }
       ],
       "layout": {
        "template": {
         "data": {
          "bar": [
           {
            "error_x": {
             "color": "#2a3f5f"
            },
            "error_y": {
             "color": "#2a3f5f"
            },
            "marker": {
             "line": {
              "color": "#E5ECF6",
              "width": 0.5
             },
             "pattern": {
              "fillmode": "overlay",
              "size": 10,
              "solidity": 0.2
             }
            },
            "type": "bar"
           }
          ],
          "barpolar": [
           {
            "marker": {
             "line": {
              "color": "#E5ECF6",
              "width": 0.5
             },
             "pattern": {
              "fillmode": "overlay",
              "size": 10,
              "solidity": 0.2
             }
            },
            "type": "barpolar"
           }
          ],
          "carpet": [
           {
            "aaxis": {
             "endlinecolor": "#2a3f5f",
             "gridcolor": "white",
             "linecolor": "white",
             "minorgridcolor": "white",
             "startlinecolor": "#2a3f5f"
            },
            "baxis": {
             "endlinecolor": "#2a3f5f",
             "gridcolor": "white",
             "linecolor": "white",
             "minorgridcolor": "white",
             "startlinecolor": "#2a3f5f"
            },
            "type": "carpet"
           }
          ],
          "choropleth": [
           {
            "colorbar": {
             "outlinewidth": 0,
             "ticks": ""
            },
            "type": "choropleth"
           }
          ],
          "contour": [
           {
            "colorbar": {
             "outlinewidth": 0,
             "ticks": ""
            },
            "colorscale": [
             [
              0,
              "#0d0887"
             ],
             [
              0.1111111111111111,
              "#46039f"
             ],
             [
              0.2222222222222222,
              "#7201a8"
             ],
             [
              0.3333333333333333,
              "#9c179e"
             ],
             [
              0.4444444444444444,
              "#bd3786"
             ],
             [
              0.5555555555555556,
              "#d8576b"
             ],
             [
              0.6666666666666666,
              "#ed7953"
             ],
             [
              0.7777777777777778,
              "#fb9f3a"
             ],
             [
              0.8888888888888888,
              "#fdca26"
             ],
             [
              1,
              "#f0f921"
             ]
            ],
            "type": "contour"
           }
          ],
          "contourcarpet": [
           {
            "colorbar": {
             "outlinewidth": 0,
             "ticks": ""
            },
            "type": "contourcarpet"
           }
          ],
          "heatmap": [
           {
            "colorbar": {
             "outlinewidth": 0,
             "ticks": ""
            },
            "colorscale": [
             [
              0,
              "#0d0887"
             ],
             [
              0.1111111111111111,
              "#46039f"
             ],
             [
              0.2222222222222222,
              "#7201a8"
             ],
             [
              0.3333333333333333,
              "#9c179e"
             ],
             [
              0.4444444444444444,
              "#bd3786"
             ],
             [
              0.5555555555555556,
              "#d8576b"
             ],
             [
              0.6666666666666666,
              "#ed7953"
             ],
             [
              0.7777777777777778,
              "#fb9f3a"
             ],
             [
              0.8888888888888888,
              "#fdca26"
             ],
             [
              1,
              "#f0f921"
             ]
            ],
            "type": "heatmap"
           }
          ],
          "heatmapgl": [
           {
            "colorbar": {
             "outlinewidth": 0,
             "ticks": ""
            },
            "colorscale": [
             [
              0,
              "#0d0887"
             ],
             [
              0.1111111111111111,
              "#46039f"
             ],
             [
              0.2222222222222222,
              "#7201a8"
             ],
             [
              0.3333333333333333,
              "#9c179e"
             ],
             [
              0.4444444444444444,
              "#bd3786"
             ],
             [
              0.5555555555555556,
              "#d8576b"
             ],
             [
              0.6666666666666666,
              "#ed7953"
             ],
             [
              0.7777777777777778,
              "#fb9f3a"
             ],
             [
              0.8888888888888888,
              "#fdca26"
             ],
             [
              1,
              "#f0f921"
             ]
            ],
            "type": "heatmapgl"
           }
          ],
          "histogram": [
           {
            "marker": {
             "pattern": {
              "fillmode": "overlay",
              "size": 10,
              "solidity": 0.2
             }
            },
            "type": "histogram"
           }
          ],
          "histogram2d": [
           {
            "colorbar": {
             "outlinewidth": 0,
             "ticks": ""
            },
            "colorscale": [
             [
              0,
              "#0d0887"
             ],
             [
              0.1111111111111111,
              "#46039f"
             ],
             [
              0.2222222222222222,
              "#7201a8"
             ],
             [
              0.3333333333333333,
              "#9c179e"
             ],
             [
              0.4444444444444444,
              "#bd3786"
             ],
             [
              0.5555555555555556,
              "#d8576b"
             ],
             [
              0.6666666666666666,
              "#ed7953"
             ],
             [
              0.7777777777777778,
              "#fb9f3a"
             ],
             [
              0.8888888888888888,
              "#fdca26"
             ],
             [
              1,
              "#f0f921"
             ]
            ],
            "type": "histogram2d"
           }
          ],
          "histogram2dcontour": [
           {
            "colorbar": {
             "outlinewidth": 0,
             "ticks": ""
            },
            "colorscale": [
             [
              0,
              "#0d0887"
             ],
             [
              0.1111111111111111,
              "#46039f"
             ],
             [
              0.2222222222222222,
              "#7201a8"
             ],
             [
              0.3333333333333333,
              "#9c179e"
             ],
             [
              0.4444444444444444,
              "#bd3786"
             ],
             [
              0.5555555555555556,
              "#d8576b"
             ],
             [
              0.6666666666666666,
              "#ed7953"
             ],
             [
              0.7777777777777778,
              "#fb9f3a"
             ],
             [
              0.8888888888888888,
              "#fdca26"
             ],
             [
              1,
              "#f0f921"
             ]
            ],
            "type": "histogram2dcontour"
           }
          ],
          "mesh3d": [
           {
            "colorbar": {
             "outlinewidth": 0,
             "ticks": ""
            },
            "type": "mesh3d"
           }
          ],
          "parcoords": [
           {
            "line": {
             "colorbar": {
              "outlinewidth": 0,
              "ticks": ""
             }
            },
            "type": "parcoords"
           }
          ],
          "pie": [
           {
            "automargin": true,
            "type": "pie"
           }
          ],
          "scatter": [
           {
            "fillpattern": {
             "fillmode": "overlay",
             "size": 10,
             "solidity": 0.2
            },
            "type": "scatter"
           }
          ],
          "scatter3d": [
           {
            "line": {
             "colorbar": {
              "outlinewidth": 0,
              "ticks": ""
             }
            },
            "marker": {
             "colorbar": {
              "outlinewidth": 0,
              "ticks": ""
             }
            },
            "type": "scatter3d"
           }
          ],
          "scattercarpet": [
           {
            "marker": {
             "colorbar": {
              "outlinewidth": 0,
              "ticks": ""
             }
            },
            "type": "scattercarpet"
           }
          ],
          "scattergeo": [
           {
            "marker": {
             "colorbar": {
              "outlinewidth": 0,
              "ticks": ""
             }
            },
            "type": "scattergeo"
           }
          ],
          "scattergl": [
           {
            "marker": {
             "colorbar": {
              "outlinewidth": 0,
              "ticks": ""
             }
            },
            "type": "scattergl"
           }
          ],
          "scattermapbox": [
           {
            "marker": {
             "colorbar": {
              "outlinewidth": 0,
              "ticks": ""
             }
            },
            "type": "scattermapbox"
           }
          ],
          "scatterpolar": [
           {
            "marker": {
             "colorbar": {
              "outlinewidth": 0,
              "ticks": ""
             }
            },
            "type": "scatterpolar"
           }
          ],
          "scatterpolargl": [
           {
            "marker": {
             "colorbar": {
              "outlinewidth": 0,
              "ticks": ""
             }
            },
            "type": "scatterpolargl"
           }
          ],
          "scatterternary": [
           {
            "marker": {
             "colorbar": {
              "outlinewidth": 0,
              "ticks": ""
             }
            },
            "type": "scatterternary"
           }
          ],
          "surface": [
           {
            "colorbar": {
             "outlinewidth": 0,
             "ticks": ""
            },
            "colorscale": [
             [
              0,
              "#0d0887"
             ],
             [
              0.1111111111111111,
              "#46039f"
             ],
             [
              0.2222222222222222,
              "#7201a8"
             ],
             [
              0.3333333333333333,
              "#9c179e"
             ],
             [
              0.4444444444444444,
              "#bd3786"
             ],
             [
              0.5555555555555556,
              "#d8576b"
             ],
             [
              0.6666666666666666,
              "#ed7953"
             ],
             [
              0.7777777777777778,
              "#fb9f3a"
             ],
             [
              0.8888888888888888,
              "#fdca26"
             ],
             [
              1,
              "#f0f921"
             ]
            ],
            "type": "surface"
           }
          ],
          "table": [
           {
            "cells": {
             "fill": {
              "color": "#EBF0F8"
             },
             "line": {
              "color": "white"
             }
            },
            "header": {
             "fill": {
              "color": "#C8D4E3"
             },
             "line": {
              "color": "white"
             }
            },
            "type": "table"
           }
          ]
         },
         "layout": {
          "annotationdefaults": {
           "arrowcolor": "#2a3f5f",
           "arrowhead": 0,
           "arrowwidth": 1
          },
          "autotypenumbers": "strict",
          "coloraxis": {
           "colorbar": {
            "outlinewidth": 0,
            "ticks": ""
           }
          },
          "colorscale": {
           "diverging": [
            [
             0,
             "#8e0152"
            ],
            [
             0.1,
             "#c51b7d"
            ],
            [
             0.2,
             "#de77ae"
            ],
            [
             0.3,
             "#f1b6da"
            ],
            [
             0.4,
             "#fde0ef"
            ],
            [
             0.5,
             "#f7f7f7"
            ],
            [
             0.6,
             "#e6f5d0"
            ],
            [
             0.7,
             "#b8e186"
            ],
            [
             0.8,
             "#7fbc41"
            ],
            [
             0.9,
             "#4d9221"
            ],
            [
             1,
             "#276419"
            ]
           ],
           "sequential": [
            [
             0,
             "#0d0887"
            ],
            [
             0.1111111111111111,
             "#46039f"
            ],
            [
             0.2222222222222222,
             "#7201a8"
            ],
            [
             0.3333333333333333,
             "#9c179e"
            ],
            [
             0.4444444444444444,
             "#bd3786"
            ],
            [
             0.5555555555555556,
             "#d8576b"
            ],
            [
             0.6666666666666666,
             "#ed7953"
            ],
            [
             0.7777777777777778,
             "#fb9f3a"
            ],
            [
             0.8888888888888888,
             "#fdca26"
            ],
            [
             1,
             "#f0f921"
            ]
           ],
           "sequentialminus": [
            [
             0,
             "#0d0887"
            ],
            [
             0.1111111111111111,
             "#46039f"
            ],
            [
             0.2222222222222222,
             "#7201a8"
            ],
            [
             0.3333333333333333,
             "#9c179e"
            ],
            [
             0.4444444444444444,
             "#bd3786"
            ],
            [
             0.5555555555555556,
             "#d8576b"
            ],
            [
             0.6666666666666666,
             "#ed7953"
            ],
            [
             0.7777777777777778,
             "#fb9f3a"
            ],
            [
             0.8888888888888888,
             "#fdca26"
            ],
            [
             1,
             "#f0f921"
            ]
           ]
          },
          "colorway": [
           "#636efa",
           "#EF553B",
           "#00cc96",
           "#ab63fa",
           "#FFA15A",
           "#19d3f3",
           "#FF6692",
           "#B6E880",
           "#FF97FF",
           "#FECB52"
          ],
          "font": {
           "color": "#2a3f5f"
          },
          "geo": {
           "bgcolor": "white",
           "lakecolor": "white",
           "landcolor": "#E5ECF6",
           "showlakes": true,
           "showland": true,
           "subunitcolor": "white"
          },
          "hoverlabel": {
           "align": "left"
          },
          "hovermode": "closest",
          "mapbox": {
           "style": "light"
          },
          "paper_bgcolor": "white",
          "plot_bgcolor": "#E5ECF6",
          "polar": {
           "angularaxis": {
            "gridcolor": "white",
            "linecolor": "white",
            "ticks": ""
           },
           "bgcolor": "#E5ECF6",
           "radialaxis": {
            "gridcolor": "white",
            "linecolor": "white",
            "ticks": ""
           }
          },
          "scene": {
           "xaxis": {
            "backgroundcolor": "#E5ECF6",
            "gridcolor": "white",
            "gridwidth": 2,
            "linecolor": "white",
            "showbackground": true,
            "ticks": "",
            "zerolinecolor": "white"
           },
           "yaxis": {
            "backgroundcolor": "#E5ECF6",
            "gridcolor": "white",
            "gridwidth": 2,
            "linecolor": "white",
            "showbackground": true,
            "ticks": "",
            "zerolinecolor": "white"
           },
           "zaxis": {
            "backgroundcolor": "#E5ECF6",
            "gridcolor": "white",
            "gridwidth": 2,
            "linecolor": "white",
            "showbackground": true,
            "ticks": "",
            "zerolinecolor": "white"
           }
          },
          "shapedefaults": {
           "line": {
            "color": "#2a3f5f"
           }
          },
          "ternary": {
           "aaxis": {
            "gridcolor": "white",
            "linecolor": "white",
            "ticks": ""
           },
           "baxis": {
            "gridcolor": "white",
            "linecolor": "white",
            "ticks": ""
           },
           "bgcolor": "#E5ECF6",
           "caxis": {
            "gridcolor": "white",
            "linecolor": "white",
            "ticks": ""
           }
          },
          "title": {
           "x": 0.05
          },
          "xaxis": {
           "automargin": true,
           "gridcolor": "white",
           "linecolor": "white",
           "ticks": "",
           "title": {
            "standoff": 15
           },
           "zerolinecolor": "white",
           "zerolinewidth": 2
          },
          "yaxis": {
           "automargin": true,
           "gridcolor": "white",
           "linecolor": "white",
           "ticks": "",
           "title": {
            "standoff": 15
           },
           "zerolinecolor": "white",
           "zerolinewidth": 2
          }
         }
        },
        "xaxis": {
         "categoryarray": [
          "01",
          "02",
          "03",
          "04"
         ],
         "categoryorder": "array"
        }
       }
      },
      "text/html": [
       "<div>                            <div id=\"3675dd26-ccc9-4c95-a4f3-55dfe6bab0ca\" class=\"plotly-graph-div\" style=\"height:525px; width:100%;\"></div>            <script type=\"text/javascript\">                require([\"plotly\"], function(Plotly) {                    window.PLOTLYENV=window.PLOTLYENV || {};                                    if (document.getElementById(\"3675dd26-ccc9-4c95-a4f3-55dfe6bab0ca\")) {                    Plotly.newPlot(                        \"3675dd26-ccc9-4c95-a4f3-55dfe6bab0ca\",                        [{\"x\":[\"04\",\"04\",\"03\",\"01\",\"01\",\"02\",\"02\",\"03\",\"03\"],\"type\":\"histogram\"}],                        {\"template\":{\"data\":{\"histogram2dcontour\":[{\"type\":\"histogram2dcontour\",\"colorbar\":{\"outlinewidth\":0,\"ticks\":\"\"},\"colorscale\":[[0.0,\"#0d0887\"],[0.1111111111111111,\"#46039f\"],[0.2222222222222222,\"#7201a8\"],[0.3333333333333333,\"#9c179e\"],[0.4444444444444444,\"#bd3786\"],[0.5555555555555556,\"#d8576b\"],[0.6666666666666666,\"#ed7953\"],[0.7777777777777778,\"#fb9f3a\"],[0.8888888888888888,\"#fdca26\"],[1.0,\"#f0f921\"]]}],\"choropleth\":[{\"type\":\"choropleth\",\"colorbar\":{\"outlinewidth\":0,\"ticks\":\"\"}}],\"histogram2d\":[{\"type\":\"histogram2d\",\"colorbar\":{\"outlinewidth\":0,\"ticks\":\"\"},\"colorscale\":[[0.0,\"#0d0887\"],[0.1111111111111111,\"#46039f\"],[0.2222222222222222,\"#7201a8\"],[0.3333333333333333,\"#9c179e\"],[0.4444444444444444,\"#bd3786\"],[0.5555555555555556,\"#d8576b\"],[0.6666666666666666,\"#ed7953\"],[0.7777777777777778,\"#fb9f3a\"],[0.8888888888888888,\"#fdca26\"],[1.0,\"#f0f921\"]]}],\"heatmap\":[{\"type\":\"heatmap\",\"colorbar\":{\"outlinewidth\":0,\"ticks\":\"\"},\"colorscale\":[[0.0,\"#0d0887\"],[0.1111111111111111,\"#46039f\"],[0.2222222222222222,\"#7201a8\"],[0.3333333333333333,\"#9c179e\"],[0.4444444444444444,\"#bd3786\"],[0.5555555555555556,\"#d8576b\"],[0.6666666666666666,\"#ed7953\"],[0.7777777777777778,\"#fb9f3a\"],[0.8888888888888888,\"#fdca26\"],[1.0,\"#f0f921\"]]}],\"heatmapgl\":[{\"type\":\"heatmapgl\",\"colorbar\":{\"outlinewidth\":0,\"ticks\":\"\"},\"colorscale\":[[0.0,\"#0d0887\"],[0.1111111111111111,\"#46039f\"],[0.2222222222222222,\"#7201a8\"],[0.3333333333333333,\"#9c179e\"],[0.4444444444444444,\"#bd3786\"],[0.5555555555555556,\"#d8576b\"],[0.6666666666666666,\"#ed7953\"],[0.7777777777777778,\"#fb9f3a\"],[0.8888888888888888,\"#fdca26\"],[1.0,\"#f0f921\"]]}],\"contourcarpet\":[{\"type\":\"contourcarpet\",\"colorbar\":{\"outlinewidth\":0,\"ticks\":\"\"}}],\"contour\":[{\"type\":\"contour\",\"colorbar\":{\"outlinewidth\":0,\"ticks\":\"\"},\"colorscale\":[[0.0,\"#0d0887\"],[0.1111111111111111,\"#46039f\"],[0.2222222222222222,\"#7201a8\"],[0.3333333333333333,\"#9c179e\"],[0.4444444444444444,\"#bd3786\"],[0.5555555555555556,\"#d8576b\"],[0.6666666666666666,\"#ed7953\"],[0.7777777777777778,\"#fb9f3a\"],[0.8888888888888888,\"#fdca26\"],[1.0,\"#f0f921\"]]}],\"surface\":[{\"type\":\"surface\",\"colorbar\":{\"outlinewidth\":0,\"ticks\":\"\"},\"colorscale\":[[0.0,\"#0d0887\"],[0.1111111111111111,\"#46039f\"],[0.2222222222222222,\"#7201a8\"],[0.3333333333333333,\"#9c179e\"],[0.4444444444444444,\"#bd3786\"],[0.5555555555555556,\"#d8576b\"],[0.6666666666666666,\"#ed7953\"],[0.7777777777777778,\"#fb9f3a\"],[0.8888888888888888,\"#fdca26\"],[1.0,\"#f0f921\"]]}],\"mesh3d\":[{\"type\":\"mesh3d\",\"colorbar\":{\"outlinewidth\":0,\"ticks\":\"\"}}],\"scatter\":[{\"fillpattern\":{\"fillmode\":\"overlay\",\"size\":10,\"solidity\":0.2},\"type\":\"scatter\"}],\"parcoords\":[{\"type\":\"parcoords\",\"line\":{\"colorbar\":{\"outlinewidth\":0,\"ticks\":\"\"}}}],\"scatterpolargl\":[{\"type\":\"scatterpolargl\",\"marker\":{\"colorbar\":{\"outlinewidth\":0,\"ticks\":\"\"}}}],\"bar\":[{\"error_x\":{\"color\":\"#2a3f5f\"},\"error_y\":{\"color\":\"#2a3f5f\"},\"marker\":{\"line\":{\"color\":\"#E5ECF6\",\"width\":0.5},\"pattern\":{\"fillmode\":\"overlay\",\"size\":10,\"solidity\":0.2}},\"type\":\"bar\"}],\"scattergeo\":[{\"type\":\"scattergeo\",\"marker\":{\"colorbar\":{\"outlinewidth\":0,\"ticks\":\"\"}}}],\"scatterpolar\":[{\"type\":\"scatterpolar\",\"marker\":{\"colorbar\":{\"outlinewidth\":0,\"ticks\":\"\"}}}],\"histogram\":[{\"marker\":{\"pattern\":{\"fillmode\":\"overlay\",\"size\":10,\"solidity\":0.2}},\"type\":\"histogram\"}],\"scattergl\":[{\"type\":\"scattergl\",\"marker\":{\"colorbar\":{\"outlinewidth\":0,\"ticks\":\"\"}}}],\"scatter3d\":[{\"type\":\"scatter3d\",\"line\":{\"colorbar\":{\"outlinewidth\":0,\"ticks\":\"\"}},\"marker\":{\"colorbar\":{\"outlinewidth\":0,\"ticks\":\"\"}}}],\"scattermapbox\":[{\"type\":\"scattermapbox\",\"marker\":{\"colorbar\":{\"outlinewidth\":0,\"ticks\":\"\"}}}],\"scatterternary\":[{\"type\":\"scatterternary\",\"marker\":{\"colorbar\":{\"outlinewidth\":0,\"ticks\":\"\"}}}],\"scattercarpet\":[{\"type\":\"scattercarpet\",\"marker\":{\"colorbar\":{\"outlinewidth\":0,\"ticks\":\"\"}}}],\"carpet\":[{\"aaxis\":{\"endlinecolor\":\"#2a3f5f\",\"gridcolor\":\"white\",\"linecolor\":\"white\",\"minorgridcolor\":\"white\",\"startlinecolor\":\"#2a3f5f\"},\"baxis\":{\"endlinecolor\":\"#2a3f5f\",\"gridcolor\":\"white\",\"linecolor\":\"white\",\"minorgridcolor\":\"white\",\"startlinecolor\":\"#2a3f5f\"},\"type\":\"carpet\"}],\"table\":[{\"cells\":{\"fill\":{\"color\":\"#EBF0F8\"},\"line\":{\"color\":\"white\"}},\"header\":{\"fill\":{\"color\":\"#C8D4E3\"},\"line\":{\"color\":\"white\"}},\"type\":\"table\"}],\"barpolar\":[{\"marker\":{\"line\":{\"color\":\"#E5ECF6\",\"width\":0.5},\"pattern\":{\"fillmode\":\"overlay\",\"size\":10,\"solidity\":0.2}},\"type\":\"barpolar\"}],\"pie\":[{\"automargin\":true,\"type\":\"pie\"}]},\"layout\":{\"autotypenumbers\":\"strict\",\"colorway\":[\"#636efa\",\"#EF553B\",\"#00cc96\",\"#ab63fa\",\"#FFA15A\",\"#19d3f3\",\"#FF6692\",\"#B6E880\",\"#FF97FF\",\"#FECB52\"],\"font\":{\"color\":\"#2a3f5f\"},\"hovermode\":\"closest\",\"hoverlabel\":{\"align\":\"left\"},\"paper_bgcolor\":\"white\",\"plot_bgcolor\":\"#E5ECF6\",\"polar\":{\"bgcolor\":\"#E5ECF6\",\"angularaxis\":{\"gridcolor\":\"white\",\"linecolor\":\"white\",\"ticks\":\"\"},\"radialaxis\":{\"gridcolor\":\"white\",\"linecolor\":\"white\",\"ticks\":\"\"}},\"ternary\":{\"bgcolor\":\"#E5ECF6\",\"aaxis\":{\"gridcolor\":\"white\",\"linecolor\":\"white\",\"ticks\":\"\"},\"baxis\":{\"gridcolor\":\"white\",\"linecolor\":\"white\",\"ticks\":\"\"},\"caxis\":{\"gridcolor\":\"white\",\"linecolor\":\"white\",\"ticks\":\"\"}},\"coloraxis\":{\"colorbar\":{\"outlinewidth\":0,\"ticks\":\"\"}},\"colorscale\":{\"sequential\":[[0.0,\"#0d0887\"],[0.1111111111111111,\"#46039f\"],[0.2222222222222222,\"#7201a8\"],[0.3333333333333333,\"#9c179e\"],[0.4444444444444444,\"#bd3786\"],[0.5555555555555556,\"#d8576b\"],[0.6666666666666666,\"#ed7953\"],[0.7777777777777778,\"#fb9f3a\"],[0.8888888888888888,\"#fdca26\"],[1.0,\"#f0f921\"]],\"sequentialminus\":[[0.0,\"#0d0887\"],[0.1111111111111111,\"#46039f\"],[0.2222222222222222,\"#7201a8\"],[0.3333333333333333,\"#9c179e\"],[0.4444444444444444,\"#bd3786\"],[0.5555555555555556,\"#d8576b\"],[0.6666666666666666,\"#ed7953\"],[0.7777777777777778,\"#fb9f3a\"],[0.8888888888888888,\"#fdca26\"],[1.0,\"#f0f921\"]],\"diverging\":[[0,\"#8e0152\"],[0.1,\"#c51b7d\"],[0.2,\"#de77ae\"],[0.3,\"#f1b6da\"],[0.4,\"#fde0ef\"],[0.5,\"#f7f7f7\"],[0.6,\"#e6f5d0\"],[0.7,\"#b8e186\"],[0.8,\"#7fbc41\"],[0.9,\"#4d9221\"],[1,\"#276419\"]]},\"xaxis\":{\"gridcolor\":\"white\",\"linecolor\":\"white\",\"ticks\":\"\",\"title\":{\"standoff\":15},\"zerolinecolor\":\"white\",\"automargin\":true,\"zerolinewidth\":2},\"yaxis\":{\"gridcolor\":\"white\",\"linecolor\":\"white\",\"ticks\":\"\",\"title\":{\"standoff\":15},\"zerolinecolor\":\"white\",\"automargin\":true,\"zerolinewidth\":2},\"scene\":{\"xaxis\":{\"backgroundcolor\":\"#E5ECF6\",\"gridcolor\":\"white\",\"linecolor\":\"white\",\"showbackground\":true,\"ticks\":\"\",\"zerolinecolor\":\"white\",\"gridwidth\":2},\"yaxis\":{\"backgroundcolor\":\"#E5ECF6\",\"gridcolor\":\"white\",\"linecolor\":\"white\",\"showbackground\":true,\"ticks\":\"\",\"zerolinecolor\":\"white\",\"gridwidth\":2},\"zaxis\":{\"backgroundcolor\":\"#E5ECF6\",\"gridcolor\":\"white\",\"linecolor\":\"white\",\"showbackground\":true,\"ticks\":\"\",\"zerolinecolor\":\"white\",\"gridwidth\":2}},\"shapedefaults\":{\"line\":{\"color\":\"#2a3f5f\"}},\"annotationdefaults\":{\"arrowcolor\":\"#2a3f5f\",\"arrowhead\":0,\"arrowwidth\":1},\"geo\":{\"bgcolor\":\"white\",\"landcolor\":\"#E5ECF6\",\"subunitcolor\":\"white\",\"showland\":true,\"showlakes\":true,\"lakecolor\":\"white\"},\"title\":{\"x\":0.05},\"mapbox\":{\"style\":\"light\"}}},\"xaxis\":{\"categoryorder\":\"array\",\"categoryarray\":[\"01\",\"02\",\"03\",\"04\"]}},                        {\"responsive\": true}                    ).then(function(){\n",
       "                            \n",
       "var gd = document.getElementById('3675dd26-ccc9-4c95-a4f3-55dfe6bab0ca');\n",
       "var x = new MutationObserver(function (mutations, observer) {{\n",
       "        var display = window.getComputedStyle(gd).display;\n",
       "        if (!display || display === 'none') {{\n",
       "            console.log([gd, 'removed!']);\n",
       "            Plotly.purge(gd);\n",
       "            observer.disconnect();\n",
       "        }}\n",
       "}});\n",
       "\n",
       "// Listen for the removal of the full notebook cells\n",
       "var notebookContainer = gd.closest('#notebook-container');\n",
       "if (notebookContainer) {{\n",
       "    x.observe(notebookContainer, {childList: true});\n",
       "}}\n",
       "\n",
       "// Listen for the clearing of the current output cell\n",
       "var outputEl = gd.closest('.output');\n",
       "if (outputEl) {{\n",
       "    x.observe(outputEl, {childList: true});\n",
       "}}\n",
       "\n",
       "                        })                };                });            </script>        </div>"
      ]
     },
     "metadata": {},
     "output_type": "display_data"
    }
   ],
   "source": [
    "# Plot the histogram of month of year 2023\n",
    "df_2023 = df2[df2['Year'] == '2023']\n",
    "fig = go.Figure(data=[go.Histogram(x=df_2023['Month'])])\n",
    "fig.update_layout(xaxis={'categoryorder': 'array', 'categoryarray': sorted(df_2023['Month'].unique())})\n",
    "fig.show()"
   ]
  },
  {
   "cell_type": "code",
   "execution_count": 18,
   "id": "45117f60",
   "metadata": {},
   "outputs": [
    {
     "data": {
      "application/vnd.plotly.v1+json": {
       "config": {
        "plotlyServerURL": "https://plot.ly"
       },
       "data": [
        {
         "alignmentgroup": "True",
         "bingroup": "x",
         "hovertemplate": "MEETING_NAME=%{x}<br>count=%{y}<extra></extra>",
         "legendgroup": "",
         "marker": {
          "color": "#636efa",
          "pattern": {
           "shape": ""
          }
         },
         "name": "",
         "offsetgroup": "",
         "orientation": "v",
         "showlegend": false,
         "type": "histogram",
         "x": [
          "中央全面深化改革会议",
          "政治局会议",
          "政治局会议",
          "政治局会议",
          "国务院常委会",
          "国务院常委会",
          "国务院常委会",
          "国务院常委会",
          "中央全面深化改革会议",
          "中央全面深化改革会议",
          "中央全面深化改革会议",
          "中央全面深化改革会议",
          "中央全面深化改革会议",
          "中央全面深化改革会议",
          "中央全面深化改革会议",
          "中央全面深化改革会议",
          "中央全面深化改革会议",
          "中央全面深化改革会议",
          "中央全面深化改革会议",
          "中央全面深化改革会议",
          "中央全面深化改革会议",
          "中央全面深化改革会议",
          "中央全面深化改革会议",
          "中央全面深化改革会议",
          "中央全面深化改革会议",
          "中央全面深化改革会议",
          "中央全面深化改革会议",
          "中央全面深化改革会议",
          "中央全面深化改革会议",
          "中央全面深化改革会议",
          "中央全面深化改革会议",
          "中央全面深化改革会议",
          "中央全面深化改革会议",
          "中央全面深化改革会议",
          "中央全面深化改革会议",
          "中央全面深化改革会议",
          "中央全面深化改革会议",
          "中央全面深化改革会议",
          "中央全面深化改革会议",
          "中央全面深化改革会议",
          "中央全面深化改革会议",
          "中央全面深化改革会议",
          "中央全面深化改革会议",
          "中央全面深化改革会议",
          "中央全面深化改革会议",
          "中央全面深化改革会议",
          "中央全面深化改革会议",
          "中央全面深化改革会议",
          "中央全面深化改革会议",
          "中央全面深化改革会议",
          "中央全面深化改革会议",
          "中央全面深化改革会议",
          "中央全面深化改革会议",
          "中央全面深化改革会议",
          "中央全面深化改革会议",
          "中央全面深化改革会议",
          "中央全面深化改革会议",
          "中央全面深化改革会议",
          "中央全面深化改革会议",
          "中央全面深化改革会议",
          "中央全面深化改革会议",
          "中央全面深化改革会议",
          "中央全面深化改革会议",
          "中央全面深化改革会议",
          "中央全面深化改革会议",
          "中央全面深化改革会议",
          "中央全面深化改革会议",
          "中央全面深化改革会议",
          "中央全面深化改革会议",
          "中央全面深化改革会议",
          "中央全面深化改革会议",
          "中央全面深化改革会议",
          "中央全面深化改革会议",
          "中央全面深化改革会议",
          "中央全面深化改革会议",
          "政治局会议",
          "政治局会议",
          "政治局会议",
          "政治局会议",
          "政治局会议",
          "政治局会议",
          "政治局会议",
          "政治局会议",
          "政治局会议",
          "政治局会议",
          "政治局会议",
          "政治局会议",
          "政治局会议",
          "政治局会议",
          "政治局会议",
          "政治局会议",
          "政治局会议",
          "政治局会议",
          "政治局会议",
          "政治局会议",
          "政治局会议",
          "政治局会议",
          "政治局会议",
          "政治局会议",
          "政治局会议",
          "政治局会议",
          "政治局会议",
          "政治局会议",
          "政治局会议",
          "政治局会议",
          "政治局会议",
          "政治局会议",
          "政治局会议",
          "政治局会议",
          "政治局会议",
          "政治局会议",
          "政治局会议",
          "政治局会议",
          "政治局会议",
          "政治局会议",
          "政治局会议",
          "政治局会议",
          "政治局会议",
          "政治局会议",
          "政治局会议",
          "政治局会议",
          "政治局会议",
          "政治局会议",
          "政治局会议",
          "政治局会议",
          "政治局会议",
          "政治局会议",
          "政治局会议",
          "政治局会议",
          "政治局会议",
          "政治局会议",
          "政治局会议",
          "政治局会议",
          "政治局会议",
          "政治局会议",
          "政治局会议",
          "政治局会议",
          "政治局会议",
          "政治局会议",
          "政治局会议",
          "政治局会议",
          "政治局会议",
          "政治局会议",
          "政治局会议",
          "政治局会议",
          "政治局会议",
          "政治局会议",
          "政治局会议",
          "政治局会议",
          "政治局会议",
          "政治局会议",
          "政治局会议",
          "政治局会议",
          "政治局会议",
          "政治局会议",
          "政治局会议",
          "政治局会议",
          "政治局会议",
          "政治局会议",
          "政治局会议",
          "政治局会议",
          "政治局会议",
          "政治局会议",
          "政治局会议",
          "政治局会议",
          "政治局会议",
          "政治局会议",
          "政治局会议",
          "政治局会议",
          "政治局会议",
          "政治局会议",
          "政治局会议",
          "政治局会议",
          "政治局会议",
          "政治局会议",
          "政治局会议",
          "政治局会议",
          "政治局会议",
          "政治局会议",
          "政治局会议",
          "政治局会议",
          "政治局会议",
          "政治局会议",
          "政治局会议",
          "政治局会议",
          "政治局会议",
          "政治局会议",
          "政治局会议",
          "政治局会议",
          "政治局会议",
          "中央经济工作会议",
          "中央经济工作会议",
          "中央经济工作会议",
          "中央经济工作会议",
          "中央经济工作会议",
          "中央经济工作会议",
          "中央经济工作会议",
          "中央经济工作会议",
          "中央经济工作会议",
          "中央经济工作会议",
          "中央经济工作会议",
          "国务院常委会",
          "国务院常委会",
          "国务院常委会",
          "国务院常委会",
          "国务院常委会",
          "国务院常委会",
          "国务院常委会",
          "国务院常委会",
          "国务院常委会",
          "国务院常委会",
          "国务院常委会",
          "国务院常委会",
          "国务院常委会",
          "国务院常委会",
          "国务院常委会",
          "国务院常委会",
          "国务院常委会",
          "国务院常委会",
          "国务院常委会",
          "国务院常委会",
          "国务院常委会",
          "国务院常委会",
          "国务院常委会",
          "国务院常委会",
          "国务院常委会",
          "国务院常委会",
          "国务院常委会",
          "国务院常委会",
          "国务院常委会",
          "国务院常委会",
          "国务院常委会",
          "国务院常委会",
          "国务院常委会",
          "国务院常委会",
          "国务院常委会",
          "国务院常委会",
          "国务院常委会",
          "国务院常委会",
          "国务院常委会",
          "国务院常委会",
          "国务院常委会",
          "国务院常委会",
          "国务院常委会",
          "国务院常委会",
          "国务院常委会",
          "国务院常委会",
          "国务院常委会",
          "国务院常委会",
          "国务院常委会",
          "国务院常委会",
          "国务院常委会",
          "国务院常委会",
          "国务院常委会",
          "国务院常委会",
          "国务院常委会",
          "国务院常委会",
          "国务院常委会",
          "国务院常委会",
          "国务院常委会",
          "国务院常委会",
          "国务院常委会",
          "国务院常委会",
          "国务院常委会",
          "国务院常委会",
          "国务院常委会",
          "国务院常委会",
          "国务院常委会",
          "国务院常委会",
          "国务院常委会",
          "国务院常委会",
          "国务院常委会",
          "国务院常委会",
          "国务院常委会",
          "国务院常委会",
          "国务院常委会",
          "国务院常委会",
          "国务院常委会",
          "国务院常委会",
          "国务院常委会",
          "国务院常委会",
          "国务院常委会",
          "国务院常委会",
          "国务院常委会",
          "国务院常委会",
          "国务院常委会",
          "国务院常委会",
          "国务院常委会",
          "国务院常委会",
          "国务院常委会",
          "国务院常委会",
          "国务院常委会",
          "国务院常委会",
          "国务院常委会",
          "国务院常委会",
          "国务院常委会",
          "国务院常委会",
          "国务院常委会",
          "国务院常委会",
          "国务院常委会",
          "国务院常委会",
          "国务院常委会",
          "国务院常委会",
          "国务院常委会",
          "国务院常委会",
          "国务院常委会",
          "国务院常委会",
          "国务院常委会",
          "国务院常委会",
          "国务院常委会",
          "国务院常委会",
          "国务院常委会",
          "国务院常委会",
          "国务院常委会",
          "国务院常委会",
          "国务院常委会",
          "国务院常委会",
          "国务院常委会",
          "国务院常委会",
          "国务院常委会",
          "国务院常委会",
          "国务院常委会",
          "国务院常委会",
          "国务院常委会",
          "国务院常委会",
          "国务院常委会",
          "国务院常委会",
          "国务院常委会",
          "国务院常委会",
          "国务院常委会",
          "国务院常委会",
          "国务院常委会",
          "国务院常委会",
          "国务院常委会",
          "国务院常委会",
          "国务院常委会",
          "国务院常委会",
          "国务院常委会",
          "国务院常委会",
          "国务院常委会",
          "国务院常委会",
          "国务院常委会",
          "国务院常委会",
          "国务院常委会",
          "国务院常委会",
          "国务院常委会",
          "国务院常委会",
          "国务院常委会",
          "国务院常委会",
          "国务院常委会",
          "国务院常委会",
          "国务院常委会",
          "国务院常委会",
          "国务院常委会",
          "国务院常委会",
          "国务院常委会",
          "国务院常委会",
          "国务院常委会",
          "国务院常委会",
          "国务院常委会",
          "国务院常委会",
          "国务院常委会",
          "国务院常委会",
          "国务院常委会",
          "国务院常委会",
          "国务院常委会",
          "国务院常委会",
          "国务院常委会",
          "国务院常委会",
          "国务院常委会",
          "国务院常委会",
          "国务院常委会",
          "国务院常委会",
          "国务院常委会",
          "国务院常委会",
          "国务院常委会",
          "国务院常委会",
          "国务院常委会",
          "国务院常委会",
          "国务院常委会",
          "国务院常委会",
          "国务院常委会",
          "国务院常委会",
          "国务院常委会",
          "国务院常委会",
          "国务院常委会",
          "国务院常委会",
          "国务院常委会",
          "国务院常委会",
          "国务院常委会",
          "国务院常委会",
          "国务院常委会",
          "国务院常委会",
          "国务院常委会",
          "国务院常委会",
          "国务院常委会",
          "国务院常委会",
          "国务院常委会",
          "国务院常委会",
          "国务院常委会",
          "国务院常委会",
          "国务院常委会",
          "国务院常委会",
          "国务院常委会",
          "国务院常委会",
          "国务院常委会",
          "国务院常委会",
          "国务院常委会",
          "国务院常委会",
          "国务院常委会",
          "国务院常委会",
          "国务院常委会",
          "国务院常委会",
          "国务院常委会",
          "国务院常委会",
          "国务院常委会",
          "国务院常委会",
          "国务院常委会",
          "国务院常委会",
          "国务院常委会",
          "国务院常委会",
          "国务院常委会",
          "国务院常委会",
          "国务院常委会",
          "国务院常委会",
          "国务院常委会",
          "国务院常委会",
          "国务院常委会",
          "国务院常委会",
          "国务院常委会",
          "国务院常委会",
          "国务院常委会",
          "国务院常委会",
          "国务院常委会",
          "国务院常委会",
          "国务院常委会",
          "国务院常委会",
          "国务院常委会",
          "国务院常委会",
          "国务院常委会",
          "国务院常委会",
          "国务院常委会",
          "国务院常委会",
          "国务院常委会",
          "国务院常委会",
          "国务院常委会",
          "国务院常委会",
          "国务院常委会",
          "国务院常委会",
          "国务院常委会",
          "国务院常委会",
          "国务院常委会",
          "国务院常委会",
          "国务院常委会",
          "国务院常委会",
          "国务院常委会",
          "国务院常委会",
          "国务院常委会",
          "国务院常委会",
          "国务院常委会",
          "国务院常委会",
          "国务院常委会",
          "国务院常委会",
          "国务院常委会",
          "国务院常委会",
          "国务院常委会",
          "国务院常委会",
          "国务院常委会",
          "国务院常委会",
          "国务院常委会",
          "国务院常委会",
          "国务院常委会",
          "国务院常委会",
          "国务院常委会",
          "国务院常委会",
          "政治局会议",
          "国务院常委会",
          "国务院常委会",
          "历年政府工作报告",
          "历年政府工作报告",
          "历年政府工作报告",
          "历年政府工作报告",
          "历年政府工作报告",
          "历年政府工作报告",
          "历年政府工作报告",
          "历年政府工作报告",
          "历年政府工作报告",
          "历年政府工作报告",
          "历年政府工作报告",
          "历年政府工作报告",
          "历年政府工作报告",
          "历年政府工作报告",
          "历年政府工作报告",
          "历年政府工作报告",
          "历年政府工作报告",
          "历年政府工作报告",
          "历年政府工作报告",
          "历年政府工作报告",
          "历年政府工作报告",
          "历年政府工作报告",
          "历年政府工作报告",
          "历年政府工作报告",
          "历年政府工作报告",
          "历年政府工作报告",
          "历年政府工作报告",
          "历年政府工作报告",
          "历年政府工作报告",
          "历年政府工作报告",
          "历年政府工作报告",
          "历年政府工作报告",
          "历年政府工作报告",
          "历年政府工作报告",
          "历年政府工作报告",
          "历年政府工作报告",
          "历年政府工作报告",
          "历年政府工作报告",
          "历年政府工作报告",
          "历年政府工作报告",
          "历年政府工作报告",
          "历年政府工作报告",
          "历年政府工作报告",
          "历年政府工作报告",
          "历年政府工作报告",
          "历年政府工作报告",
          "历年政府工作报告",
          "历年政府工作报告",
          "历年政府工作报告",
          "历年政府工作报告",
          "历年政府工作报告",
          "历年政府工作报告"
         ],
         "xaxis": "x",
         "yaxis": "y"
        }
       ],
       "layout": {
        "barmode": "relative",
        "legend": {
         "tracegroupgap": 0
        },
        "margin": {
         "t": 60
        },
        "template": {
         "data": {
          "bar": [
           {
            "error_x": {
             "color": "#2a3f5f"
            },
            "error_y": {
             "color": "#2a3f5f"
            },
            "marker": {
             "line": {
              "color": "#E5ECF6",
              "width": 0.5
             },
             "pattern": {
              "fillmode": "overlay",
              "size": 10,
              "solidity": 0.2
             }
            },
            "type": "bar"
           }
          ],
          "barpolar": [
           {
            "marker": {
             "line": {
              "color": "#E5ECF6",
              "width": 0.5
             },
             "pattern": {
              "fillmode": "overlay",
              "size": 10,
              "solidity": 0.2
             }
            },
            "type": "barpolar"
           }
          ],
          "carpet": [
           {
            "aaxis": {
             "endlinecolor": "#2a3f5f",
             "gridcolor": "white",
             "linecolor": "white",
             "minorgridcolor": "white",
             "startlinecolor": "#2a3f5f"
            },
            "baxis": {
             "endlinecolor": "#2a3f5f",
             "gridcolor": "white",
             "linecolor": "white",
             "minorgridcolor": "white",
             "startlinecolor": "#2a3f5f"
            },
            "type": "carpet"
           }
          ],
          "choropleth": [
           {
            "colorbar": {
             "outlinewidth": 0,
             "ticks": ""
            },
            "type": "choropleth"
           }
          ],
          "contour": [
           {
            "colorbar": {
             "outlinewidth": 0,
             "ticks": ""
            },
            "colorscale": [
             [
              0,
              "#0d0887"
             ],
             [
              0.1111111111111111,
              "#46039f"
             ],
             [
              0.2222222222222222,
              "#7201a8"
             ],
             [
              0.3333333333333333,
              "#9c179e"
             ],
             [
              0.4444444444444444,
              "#bd3786"
             ],
             [
              0.5555555555555556,
              "#d8576b"
             ],
             [
              0.6666666666666666,
              "#ed7953"
             ],
             [
              0.7777777777777778,
              "#fb9f3a"
             ],
             [
              0.8888888888888888,
              "#fdca26"
             ],
             [
              1,
              "#f0f921"
             ]
            ],
            "type": "contour"
           }
          ],
          "contourcarpet": [
           {
            "colorbar": {
             "outlinewidth": 0,
             "ticks": ""
            },
            "type": "contourcarpet"
           }
          ],
          "heatmap": [
           {
            "colorbar": {
             "outlinewidth": 0,
             "ticks": ""
            },
            "colorscale": [
             [
              0,
              "#0d0887"
             ],
             [
              0.1111111111111111,
              "#46039f"
             ],
             [
              0.2222222222222222,
              "#7201a8"
             ],
             [
              0.3333333333333333,
              "#9c179e"
             ],
             [
              0.4444444444444444,
              "#bd3786"
             ],
             [
              0.5555555555555556,
              "#d8576b"
             ],
             [
              0.6666666666666666,
              "#ed7953"
             ],
             [
              0.7777777777777778,
              "#fb9f3a"
             ],
             [
              0.8888888888888888,
              "#fdca26"
             ],
             [
              1,
              "#f0f921"
             ]
            ],
            "type": "heatmap"
           }
          ],
          "heatmapgl": [
           {
            "colorbar": {
             "outlinewidth": 0,
             "ticks": ""
            },
            "colorscale": [
             [
              0,
              "#0d0887"
             ],
             [
              0.1111111111111111,
              "#46039f"
             ],
             [
              0.2222222222222222,
              "#7201a8"
             ],
             [
              0.3333333333333333,
              "#9c179e"
             ],
             [
              0.4444444444444444,
              "#bd3786"
             ],
             [
              0.5555555555555556,
              "#d8576b"
             ],
             [
              0.6666666666666666,
              "#ed7953"
             ],
             [
              0.7777777777777778,
              "#fb9f3a"
             ],
             [
              0.8888888888888888,
              "#fdca26"
             ],
             [
              1,
              "#f0f921"
             ]
            ],
            "type": "heatmapgl"
           }
          ],
          "histogram": [
           {
            "marker": {
             "pattern": {
              "fillmode": "overlay",
              "size": 10,
              "solidity": 0.2
             }
            },
            "type": "histogram"
           }
          ],
          "histogram2d": [
           {
            "colorbar": {
             "outlinewidth": 0,
             "ticks": ""
            },
            "colorscale": [
             [
              0,
              "#0d0887"
             ],
             [
              0.1111111111111111,
              "#46039f"
             ],
             [
              0.2222222222222222,
              "#7201a8"
             ],
             [
              0.3333333333333333,
              "#9c179e"
             ],
             [
              0.4444444444444444,
              "#bd3786"
             ],
             [
              0.5555555555555556,
              "#d8576b"
             ],
             [
              0.6666666666666666,
              "#ed7953"
             ],
             [
              0.7777777777777778,
              "#fb9f3a"
             ],
             [
              0.8888888888888888,
              "#fdca26"
             ],
             [
              1,
              "#f0f921"
             ]
            ],
            "type": "histogram2d"
           }
          ],
          "histogram2dcontour": [
           {
            "colorbar": {
             "outlinewidth": 0,
             "ticks": ""
            },
            "colorscale": [
             [
              0,
              "#0d0887"
             ],
             [
              0.1111111111111111,
              "#46039f"
             ],
             [
              0.2222222222222222,
              "#7201a8"
             ],
             [
              0.3333333333333333,
              "#9c179e"
             ],
             [
              0.4444444444444444,
              "#bd3786"
             ],
             [
              0.5555555555555556,
              "#d8576b"
             ],
             [
              0.6666666666666666,
              "#ed7953"
             ],
             [
              0.7777777777777778,
              "#fb9f3a"
             ],
             [
              0.8888888888888888,
              "#fdca26"
             ],
             [
              1,
              "#f0f921"
             ]
            ],
            "type": "histogram2dcontour"
           }
          ],
          "mesh3d": [
           {
            "colorbar": {
             "outlinewidth": 0,
             "ticks": ""
            },
            "type": "mesh3d"
           }
          ],
          "parcoords": [
           {
            "line": {
             "colorbar": {
              "outlinewidth": 0,
              "ticks": ""
             }
            },
            "type": "parcoords"
           }
          ],
          "pie": [
           {
            "automargin": true,
            "type": "pie"
           }
          ],
          "scatter": [
           {
            "fillpattern": {
             "fillmode": "overlay",
             "size": 10,
             "solidity": 0.2
            },
            "type": "scatter"
           }
          ],
          "scatter3d": [
           {
            "line": {
             "colorbar": {
              "outlinewidth": 0,
              "ticks": ""
             }
            },
            "marker": {
             "colorbar": {
              "outlinewidth": 0,
              "ticks": ""
             }
            },
            "type": "scatter3d"
           }
          ],
          "scattercarpet": [
           {
            "marker": {
             "colorbar": {
              "outlinewidth": 0,
              "ticks": ""
             }
            },
            "type": "scattercarpet"
           }
          ],
          "scattergeo": [
           {
            "marker": {
             "colorbar": {
              "outlinewidth": 0,
              "ticks": ""
             }
            },
            "type": "scattergeo"
           }
          ],
          "scattergl": [
           {
            "marker": {
             "colorbar": {
              "outlinewidth": 0,
              "ticks": ""
             }
            },
            "type": "scattergl"
           }
          ],
          "scattermapbox": [
           {
            "marker": {
             "colorbar": {
              "outlinewidth": 0,
              "ticks": ""
             }
            },
            "type": "scattermapbox"
           }
          ],
          "scatterpolar": [
           {
            "marker": {
             "colorbar": {
              "outlinewidth": 0,
              "ticks": ""
             }
            },
            "type": "scatterpolar"
           }
          ],
          "scatterpolargl": [
           {
            "marker": {
             "colorbar": {
              "outlinewidth": 0,
              "ticks": ""
             }
            },
            "type": "scatterpolargl"
           }
          ],
          "scatterternary": [
           {
            "marker": {
             "colorbar": {
              "outlinewidth": 0,
              "ticks": ""
             }
            },
            "type": "scatterternary"
           }
          ],
          "surface": [
           {
            "colorbar": {
             "outlinewidth": 0,
             "ticks": ""
            },
            "colorscale": [
             [
              0,
              "#0d0887"
             ],
             [
              0.1111111111111111,
              "#46039f"
             ],
             [
              0.2222222222222222,
              "#7201a8"
             ],
             [
              0.3333333333333333,
              "#9c179e"
             ],
             [
              0.4444444444444444,
              "#bd3786"
             ],
             [
              0.5555555555555556,
              "#d8576b"
             ],
             [
              0.6666666666666666,
              "#ed7953"
             ],
             [
              0.7777777777777778,
              "#fb9f3a"
             ],
             [
              0.8888888888888888,
              "#fdca26"
             ],
             [
              1,
              "#f0f921"
             ]
            ],
            "type": "surface"
           }
          ],
          "table": [
           {
            "cells": {
             "fill": {
              "color": "#EBF0F8"
             },
             "line": {
              "color": "white"
             }
            },
            "header": {
             "fill": {
              "color": "#C8D4E3"
             },
             "line": {
              "color": "white"
             }
            },
            "type": "table"
           }
          ]
         },
         "layout": {
          "annotationdefaults": {
           "arrowcolor": "#2a3f5f",
           "arrowhead": 0,
           "arrowwidth": 1
          },
          "autotypenumbers": "strict",
          "coloraxis": {
           "colorbar": {
            "outlinewidth": 0,
            "ticks": ""
           }
          },
          "colorscale": {
           "diverging": [
            [
             0,
             "#8e0152"
            ],
            [
             0.1,
             "#c51b7d"
            ],
            [
             0.2,
             "#de77ae"
            ],
            [
             0.3,
             "#f1b6da"
            ],
            [
             0.4,
             "#fde0ef"
            ],
            [
             0.5,
             "#f7f7f7"
            ],
            [
             0.6,
             "#e6f5d0"
            ],
            [
             0.7,
             "#b8e186"
            ],
            [
             0.8,
             "#7fbc41"
            ],
            [
             0.9,
             "#4d9221"
            ],
            [
             1,
             "#276419"
            ]
           ],
           "sequential": [
            [
             0,
             "#0d0887"
            ],
            [
             0.1111111111111111,
             "#46039f"
            ],
            [
             0.2222222222222222,
             "#7201a8"
            ],
            [
             0.3333333333333333,
             "#9c179e"
            ],
            [
             0.4444444444444444,
             "#bd3786"
            ],
            [
             0.5555555555555556,
             "#d8576b"
            ],
            [
             0.6666666666666666,
             "#ed7953"
            ],
            [
             0.7777777777777778,
             "#fb9f3a"
            ],
            [
             0.8888888888888888,
             "#fdca26"
            ],
            [
             1,
             "#f0f921"
            ]
           ],
           "sequentialminus": [
            [
             0,
             "#0d0887"
            ],
            [
             0.1111111111111111,
             "#46039f"
            ],
            [
             0.2222222222222222,
             "#7201a8"
            ],
            [
             0.3333333333333333,
             "#9c179e"
            ],
            [
             0.4444444444444444,
             "#bd3786"
            ],
            [
             0.5555555555555556,
             "#d8576b"
            ],
            [
             0.6666666666666666,
             "#ed7953"
            ],
            [
             0.7777777777777778,
             "#fb9f3a"
            ],
            [
             0.8888888888888888,
             "#fdca26"
            ],
            [
             1,
             "#f0f921"
            ]
           ]
          },
          "colorway": [
           "#636efa",
           "#EF553B",
           "#00cc96",
           "#ab63fa",
           "#FFA15A",
           "#19d3f3",
           "#FF6692",
           "#B6E880",
           "#FF97FF",
           "#FECB52"
          ],
          "font": {
           "color": "#2a3f5f"
          },
          "geo": {
           "bgcolor": "white",
           "lakecolor": "white",
           "landcolor": "#E5ECF6",
           "showlakes": true,
           "showland": true,
           "subunitcolor": "white"
          },
          "hoverlabel": {
           "align": "left"
          },
          "hovermode": "closest",
          "mapbox": {
           "style": "light"
          },
          "paper_bgcolor": "white",
          "plot_bgcolor": "#E5ECF6",
          "polar": {
           "angularaxis": {
            "gridcolor": "white",
            "linecolor": "white",
            "ticks": ""
           },
           "bgcolor": "#E5ECF6",
           "radialaxis": {
            "gridcolor": "white",
            "linecolor": "white",
            "ticks": ""
           }
          },
          "scene": {
           "xaxis": {
            "backgroundcolor": "#E5ECF6",
            "gridcolor": "white",
            "gridwidth": 2,
            "linecolor": "white",
            "showbackground": true,
            "ticks": "",
            "zerolinecolor": "white"
           },
           "yaxis": {
            "backgroundcolor": "#E5ECF6",
            "gridcolor": "white",
            "gridwidth": 2,
            "linecolor": "white",
            "showbackground": true,
            "ticks": "",
            "zerolinecolor": "white"
           },
           "zaxis": {
            "backgroundcolor": "#E5ECF6",
            "gridcolor": "white",
            "gridwidth": 2,
            "linecolor": "white",
            "showbackground": true,
            "ticks": "",
            "zerolinecolor": "white"
           }
          },
          "shapedefaults": {
           "line": {
            "color": "#2a3f5f"
           }
          },
          "ternary": {
           "aaxis": {
            "gridcolor": "white",
            "linecolor": "white",
            "ticks": ""
           },
           "baxis": {
            "gridcolor": "white",
            "linecolor": "white",
            "ticks": ""
           },
           "bgcolor": "#E5ECF6",
           "caxis": {
            "gridcolor": "white",
            "linecolor": "white",
            "ticks": ""
           }
          },
          "title": {
           "x": 0.05
          },
          "xaxis": {
           "automargin": true,
           "gridcolor": "white",
           "linecolor": "white",
           "ticks": "",
           "title": {
            "standoff": 15
           },
           "zerolinecolor": "white",
           "zerolinewidth": 2
          },
          "yaxis": {
           "automargin": true,
           "gridcolor": "white",
           "linecolor": "white",
           "ticks": "",
           "title": {
            "standoff": 15
           },
           "zerolinecolor": "white",
           "zerolinewidth": 2
          }
         }
        },
        "xaxis": {
         "anchor": "y",
         "domain": [
          0,
          1
         ],
         "title": {
          "text": "MEETING_NAME"
         }
        },
        "yaxis": {
         "anchor": "x",
         "domain": [
          0,
          1
         ],
         "title": {
          "text": "count"
         }
        }
       }
      },
      "text/html": [
       "<div>                            <div id=\"f6b5b3e2-b196-4486-a740-37b292d374df\" class=\"plotly-graph-div\" style=\"height:525px; width:100%;\"></div>            <script type=\"text/javascript\">                require([\"plotly\"], function(Plotly) {                    window.PLOTLYENV=window.PLOTLYENV || {};                                    if (document.getElementById(\"f6b5b3e2-b196-4486-a740-37b292d374df\")) {                    Plotly.newPlot(                        \"f6b5b3e2-b196-4486-a740-37b292d374df\",                        [{\"alignmentgroup\":\"True\",\"bingroup\":\"x\",\"hovertemplate\":\"MEETING_NAME=%{x}<br>count=%{y}<extra></extra>\",\"legendgroup\":\"\",\"marker\":{\"color\":\"#636efa\",\"pattern\":{\"shape\":\"\"}},\"name\":\"\",\"offsetgroup\":\"\",\"orientation\":\"v\",\"showlegend\":false,\"x\":[\"\\u4e2d\\u592e\\u5168\\u9762\\u6df1\\u5316\\u6539\\u9769\\u4f1a\\u8bae\",\"\\u653f\\u6cbb\\u5c40\\u4f1a\\u8bae\",\"\\u653f\\u6cbb\\u5c40\\u4f1a\\u8bae\",\"\\u653f\\u6cbb\\u5c40\\u4f1a\\u8bae\",\"\\u56fd\\u52a1\\u9662\\u5e38\\u59d4\\u4f1a\",\"\\u56fd\\u52a1\\u9662\\u5e38\\u59d4\\u4f1a\",\"\\u56fd\\u52a1\\u9662\\u5e38\\u59d4\\u4f1a\",\"\\u56fd\\u52a1\\u9662\\u5e38\\u59d4\\u4f1a\",\"\\u4e2d\\u592e\\u5168\\u9762\\u6df1\\u5316\\u6539\\u9769\\u4f1a\\u8bae\",\"\\u4e2d\\u592e\\u5168\\u9762\\u6df1\\u5316\\u6539\\u9769\\u4f1a\\u8bae\",\"\\u4e2d\\u592e\\u5168\\u9762\\u6df1\\u5316\\u6539\\u9769\\u4f1a\\u8bae\",\"\\u4e2d\\u592e\\u5168\\u9762\\u6df1\\u5316\\u6539\\u9769\\u4f1a\\u8bae\",\"\\u4e2d\\u592e\\u5168\\u9762\\u6df1\\u5316\\u6539\\u9769\\u4f1a\\u8bae\",\"\\u4e2d\\u592e\\u5168\\u9762\\u6df1\\u5316\\u6539\\u9769\\u4f1a\\u8bae\",\"\\u4e2d\\u592e\\u5168\\u9762\\u6df1\\u5316\\u6539\\u9769\\u4f1a\\u8bae\",\"\\u4e2d\\u592e\\u5168\\u9762\\u6df1\\u5316\\u6539\\u9769\\u4f1a\\u8bae\",\"\\u4e2d\\u592e\\u5168\\u9762\\u6df1\\u5316\\u6539\\u9769\\u4f1a\\u8bae\",\"\\u4e2d\\u592e\\u5168\\u9762\\u6df1\\u5316\\u6539\\u9769\\u4f1a\\u8bae\",\"\\u4e2d\\u592e\\u5168\\u9762\\u6df1\\u5316\\u6539\\u9769\\u4f1a\\u8bae\",\"\\u4e2d\\u592e\\u5168\\u9762\\u6df1\\u5316\\u6539\\u9769\\u4f1a\\u8bae\",\"\\u4e2d\\u592e\\u5168\\u9762\\u6df1\\u5316\\u6539\\u9769\\u4f1a\\u8bae\",\"\\u4e2d\\u592e\\u5168\\u9762\\u6df1\\u5316\\u6539\\u9769\\u4f1a\\u8bae\",\"\\u4e2d\\u592e\\u5168\\u9762\\u6df1\\u5316\\u6539\\u9769\\u4f1a\\u8bae\",\"\\u4e2d\\u592e\\u5168\\u9762\\u6df1\\u5316\\u6539\\u9769\\u4f1a\\u8bae\",\"\\u4e2d\\u592e\\u5168\\u9762\\u6df1\\u5316\\u6539\\u9769\\u4f1a\\u8bae\",\"\\u4e2d\\u592e\\u5168\\u9762\\u6df1\\u5316\\u6539\\u9769\\u4f1a\\u8bae\",\"\\u4e2d\\u592e\\u5168\\u9762\\u6df1\\u5316\\u6539\\u9769\\u4f1a\\u8bae\",\"\\u4e2d\\u592e\\u5168\\u9762\\u6df1\\u5316\\u6539\\u9769\\u4f1a\\u8bae\",\"\\u4e2d\\u592e\\u5168\\u9762\\u6df1\\u5316\\u6539\\u9769\\u4f1a\\u8bae\",\"\\u4e2d\\u592e\\u5168\\u9762\\u6df1\\u5316\\u6539\\u9769\\u4f1a\\u8bae\",\"\\u4e2d\\u592e\\u5168\\u9762\\u6df1\\u5316\\u6539\\u9769\\u4f1a\\u8bae\",\"\\u4e2d\\u592e\\u5168\\u9762\\u6df1\\u5316\\u6539\\u9769\\u4f1a\\u8bae\",\"\\u4e2d\\u592e\\u5168\\u9762\\u6df1\\u5316\\u6539\\u9769\\u4f1a\\u8bae\",\"\\u4e2d\\u592e\\u5168\\u9762\\u6df1\\u5316\\u6539\\u9769\\u4f1a\\u8bae\",\"\\u4e2d\\u592e\\u5168\\u9762\\u6df1\\u5316\\u6539\\u9769\\u4f1a\\u8bae\",\"\\u4e2d\\u592e\\u5168\\u9762\\u6df1\\u5316\\u6539\\u9769\\u4f1a\\u8bae\",\"\\u4e2d\\u592e\\u5168\\u9762\\u6df1\\u5316\\u6539\\u9769\\u4f1a\\u8bae\",\"\\u4e2d\\u592e\\u5168\\u9762\\u6df1\\u5316\\u6539\\u9769\\u4f1a\\u8bae\",\"\\u4e2d\\u592e\\u5168\\u9762\\u6df1\\u5316\\u6539\\u9769\\u4f1a\\u8bae\",\"\\u4e2d\\u592e\\u5168\\u9762\\u6df1\\u5316\\u6539\\u9769\\u4f1a\\u8bae\",\"\\u4e2d\\u592e\\u5168\\u9762\\u6df1\\u5316\\u6539\\u9769\\u4f1a\\u8bae\",\"\\u4e2d\\u592e\\u5168\\u9762\\u6df1\\u5316\\u6539\\u9769\\u4f1a\\u8bae\",\"\\u4e2d\\u592e\\u5168\\u9762\\u6df1\\u5316\\u6539\\u9769\\u4f1a\\u8bae\",\"\\u4e2d\\u592e\\u5168\\u9762\\u6df1\\u5316\\u6539\\u9769\\u4f1a\\u8bae\",\"\\u4e2d\\u592e\\u5168\\u9762\\u6df1\\u5316\\u6539\\u9769\\u4f1a\\u8bae\",\"\\u4e2d\\u592e\\u5168\\u9762\\u6df1\\u5316\\u6539\\u9769\\u4f1a\\u8bae\",\"\\u4e2d\\u592e\\u5168\\u9762\\u6df1\\u5316\\u6539\\u9769\\u4f1a\\u8bae\",\"\\u4e2d\\u592e\\u5168\\u9762\\u6df1\\u5316\\u6539\\u9769\\u4f1a\\u8bae\",\"\\u4e2d\\u592e\\u5168\\u9762\\u6df1\\u5316\\u6539\\u9769\\u4f1a\\u8bae\",\"\\u4e2d\\u592e\\u5168\\u9762\\u6df1\\u5316\\u6539\\u9769\\u4f1a\\u8bae\",\"\\u4e2d\\u592e\\u5168\\u9762\\u6df1\\u5316\\u6539\\u9769\\u4f1a\\u8bae\",\"\\u4e2d\\u592e\\u5168\\u9762\\u6df1\\u5316\\u6539\\u9769\\u4f1a\\u8bae\",\"\\u4e2d\\u592e\\u5168\\u9762\\u6df1\\u5316\\u6539\\u9769\\u4f1a\\u8bae\",\"\\u4e2d\\u592e\\u5168\\u9762\\u6df1\\u5316\\u6539\\u9769\\u4f1a\\u8bae\",\"\\u4e2d\\u592e\\u5168\\u9762\\u6df1\\u5316\\u6539\\u9769\\u4f1a\\u8bae\",\"\\u4e2d\\u592e\\u5168\\u9762\\u6df1\\u5316\\u6539\\u9769\\u4f1a\\u8bae\",\"\\u4e2d\\u592e\\u5168\\u9762\\u6df1\\u5316\\u6539\\u9769\\u4f1a\\u8bae\",\"\\u4e2d\\u592e\\u5168\\u9762\\u6df1\\u5316\\u6539\\u9769\\u4f1a\\u8bae\",\"\\u4e2d\\u592e\\u5168\\u9762\\u6df1\\u5316\\u6539\\u9769\\u4f1a\\u8bae\",\"\\u4e2d\\u592e\\u5168\\u9762\\u6df1\\u5316\\u6539\\u9769\\u4f1a\\u8bae\",\"\\u4e2d\\u592e\\u5168\\u9762\\u6df1\\u5316\\u6539\\u9769\\u4f1a\\u8bae\",\"\\u4e2d\\u592e\\u5168\\u9762\\u6df1\\u5316\\u6539\\u9769\\u4f1a\\u8bae\",\"\\u4e2d\\u592e\\u5168\\u9762\\u6df1\\u5316\\u6539\\u9769\\u4f1a\\u8bae\",\"\\u4e2d\\u592e\\u5168\\u9762\\u6df1\\u5316\\u6539\\u9769\\u4f1a\\u8bae\",\"\\u4e2d\\u592e\\u5168\\u9762\\u6df1\\u5316\\u6539\\u9769\\u4f1a\\u8bae\",\"\\u4e2d\\u592e\\u5168\\u9762\\u6df1\\u5316\\u6539\\u9769\\u4f1a\\u8bae\",\"\\u4e2d\\u592e\\u5168\\u9762\\u6df1\\u5316\\u6539\\u9769\\u4f1a\\u8bae\",\"\\u4e2d\\u592e\\u5168\\u9762\\u6df1\\u5316\\u6539\\u9769\\u4f1a\\u8bae\",\"\\u4e2d\\u592e\\u5168\\u9762\\u6df1\\u5316\\u6539\\u9769\\u4f1a\\u8bae\",\"\\u4e2d\\u592e\\u5168\\u9762\\u6df1\\u5316\\u6539\\u9769\\u4f1a\\u8bae\",\"\\u4e2d\\u592e\\u5168\\u9762\\u6df1\\u5316\\u6539\\u9769\\u4f1a\\u8bae\",\"\\u4e2d\\u592e\\u5168\\u9762\\u6df1\\u5316\\u6539\\u9769\\u4f1a\\u8bae\",\"\\u4e2d\\u592e\\u5168\\u9762\\u6df1\\u5316\\u6539\\u9769\\u4f1a\\u8bae\",\"\\u4e2d\\u592e\\u5168\\u9762\\u6df1\\u5316\\u6539\\u9769\\u4f1a\\u8bae\",\"\\u4e2d\\u592e\\u5168\\u9762\\u6df1\\u5316\\u6539\\u9769\\u4f1a\\u8bae\",\"\\u653f\\u6cbb\\u5c40\\u4f1a\\u8bae\",\"\\u653f\\u6cbb\\u5c40\\u4f1a\\u8bae\",\"\\u653f\\u6cbb\\u5c40\\u4f1a\\u8bae\",\"\\u653f\\u6cbb\\u5c40\\u4f1a\\u8bae\",\"\\u653f\\u6cbb\\u5c40\\u4f1a\\u8bae\",\"\\u653f\\u6cbb\\u5c40\\u4f1a\\u8bae\",\"\\u653f\\u6cbb\\u5c40\\u4f1a\\u8bae\",\"\\u653f\\u6cbb\\u5c40\\u4f1a\\u8bae\",\"\\u653f\\u6cbb\\u5c40\\u4f1a\\u8bae\",\"\\u653f\\u6cbb\\u5c40\\u4f1a\\u8bae\",\"\\u653f\\u6cbb\\u5c40\\u4f1a\\u8bae\",\"\\u653f\\u6cbb\\u5c40\\u4f1a\\u8bae\",\"\\u653f\\u6cbb\\u5c40\\u4f1a\\u8bae\",\"\\u653f\\u6cbb\\u5c40\\u4f1a\\u8bae\",\"\\u653f\\u6cbb\\u5c40\\u4f1a\\u8bae\",\"\\u653f\\u6cbb\\u5c40\\u4f1a\\u8bae\",\"\\u653f\\u6cbb\\u5c40\\u4f1a\\u8bae\",\"\\u653f\\u6cbb\\u5c40\\u4f1a\\u8bae\",\"\\u653f\\u6cbb\\u5c40\\u4f1a\\u8bae\",\"\\u653f\\u6cbb\\u5c40\\u4f1a\\u8bae\",\"\\u653f\\u6cbb\\u5c40\\u4f1a\\u8bae\",\"\\u653f\\u6cbb\\u5c40\\u4f1a\\u8bae\",\"\\u653f\\u6cbb\\u5c40\\u4f1a\\u8bae\",\"\\u653f\\u6cbb\\u5c40\\u4f1a\\u8bae\",\"\\u653f\\u6cbb\\u5c40\\u4f1a\\u8bae\",\"\\u653f\\u6cbb\\u5c40\\u4f1a\\u8bae\",\"\\u653f\\u6cbb\\u5c40\\u4f1a\\u8bae\",\"\\u653f\\u6cbb\\u5c40\\u4f1a\\u8bae\",\"\\u653f\\u6cbb\\u5c40\\u4f1a\\u8bae\",\"\\u653f\\u6cbb\\u5c40\\u4f1a\\u8bae\",\"\\u653f\\u6cbb\\u5c40\\u4f1a\\u8bae\",\"\\u653f\\u6cbb\\u5c40\\u4f1a\\u8bae\",\"\\u653f\\u6cbb\\u5c40\\u4f1a\\u8bae\",\"\\u653f\\u6cbb\\u5c40\\u4f1a\\u8bae\",\"\\u653f\\u6cbb\\u5c40\\u4f1a\\u8bae\",\"\\u653f\\u6cbb\\u5c40\\u4f1a\\u8bae\",\"\\u653f\\u6cbb\\u5c40\\u4f1a\\u8bae\",\"\\u653f\\u6cbb\\u5c40\\u4f1a\\u8bae\",\"\\u653f\\u6cbb\\u5c40\\u4f1a\\u8bae\",\"\\u653f\\u6cbb\\u5c40\\u4f1a\\u8bae\",\"\\u653f\\u6cbb\\u5c40\\u4f1a\\u8bae\",\"\\u653f\\u6cbb\\u5c40\\u4f1a\\u8bae\",\"\\u653f\\u6cbb\\u5c40\\u4f1a\\u8bae\",\"\\u653f\\u6cbb\\u5c40\\u4f1a\\u8bae\",\"\\u653f\\u6cbb\\u5c40\\u4f1a\\u8bae\",\"\\u653f\\u6cbb\\u5c40\\u4f1a\\u8bae\",\"\\u653f\\u6cbb\\u5c40\\u4f1a\\u8bae\",\"\\u653f\\u6cbb\\u5c40\\u4f1a\\u8bae\",\"\\u653f\\u6cbb\\u5c40\\u4f1a\\u8bae\",\"\\u653f\\u6cbb\\u5c40\\u4f1a\\u8bae\",\"\\u653f\\u6cbb\\u5c40\\u4f1a\\u8bae\",\"\\u653f\\u6cbb\\u5c40\\u4f1a\\u8bae\",\"\\u653f\\u6cbb\\u5c40\\u4f1a\\u8bae\",\"\\u653f\\u6cbb\\u5c40\\u4f1a\\u8bae\",\"\\u653f\\u6cbb\\u5c40\\u4f1a\\u8bae\",\"\\u653f\\u6cbb\\u5c40\\u4f1a\\u8bae\",\"\\u653f\\u6cbb\\u5c40\\u4f1a\\u8bae\",\"\\u653f\\u6cbb\\u5c40\\u4f1a\\u8bae\",\"\\u653f\\u6cbb\\u5c40\\u4f1a\\u8bae\",\"\\u653f\\u6cbb\\u5c40\\u4f1a\\u8bae\",\"\\u653f\\u6cbb\\u5c40\\u4f1a\\u8bae\",\"\\u653f\\u6cbb\\u5c40\\u4f1a\\u8bae\",\"\\u653f\\u6cbb\\u5c40\\u4f1a\\u8bae\",\"\\u653f\\u6cbb\\u5c40\\u4f1a\\u8bae\",\"\\u653f\\u6cbb\\u5c40\\u4f1a\\u8bae\",\"\\u653f\\u6cbb\\u5c40\\u4f1a\\u8bae\",\"\\u653f\\u6cbb\\u5c40\\u4f1a\\u8bae\",\"\\u653f\\u6cbb\\u5c40\\u4f1a\\u8bae\",\"\\u653f\\u6cbb\\u5c40\\u4f1a\\u8bae\",\"\\u653f\\u6cbb\\u5c40\\u4f1a\\u8bae\",\"\\u653f\\u6cbb\\u5c40\\u4f1a\\u8bae\",\"\\u653f\\u6cbb\\u5c40\\u4f1a\\u8bae\",\"\\u653f\\u6cbb\\u5c40\\u4f1a\\u8bae\",\"\\u653f\\u6cbb\\u5c40\\u4f1a\\u8bae\",\"\\u653f\\u6cbb\\u5c40\\u4f1a\\u8bae\",\"\\u653f\\u6cbb\\u5c40\\u4f1a\\u8bae\",\"\\u653f\\u6cbb\\u5c40\\u4f1a\\u8bae\",\"\\u653f\\u6cbb\\u5c40\\u4f1a\\u8bae\",\"\\u653f\\u6cbb\\u5c40\\u4f1a\\u8bae\",\"\\u653f\\u6cbb\\u5c40\\u4f1a\\u8bae\",\"\\u653f\\u6cbb\\u5c40\\u4f1a\\u8bae\",\"\\u653f\\u6cbb\\u5c40\\u4f1a\\u8bae\",\"\\u653f\\u6cbb\\u5c40\\u4f1a\\u8bae\",\"\\u653f\\u6cbb\\u5c40\\u4f1a\\u8bae\",\"\\u653f\\u6cbb\\u5c40\\u4f1a\\u8bae\",\"\\u653f\\u6cbb\\u5c40\\u4f1a\\u8bae\",\"\\u653f\\u6cbb\\u5c40\\u4f1a\\u8bae\",\"\\u653f\\u6cbb\\u5c40\\u4f1a\\u8bae\",\"\\u653f\\u6cbb\\u5c40\\u4f1a\\u8bae\",\"\\u653f\\u6cbb\\u5c40\\u4f1a\\u8bae\",\"\\u653f\\u6cbb\\u5c40\\u4f1a\\u8bae\",\"\\u653f\\u6cbb\\u5c40\\u4f1a\\u8bae\",\"\\u653f\\u6cbb\\u5c40\\u4f1a\\u8bae\",\"\\u653f\\u6cbb\\u5c40\\u4f1a\\u8bae\",\"\\u653f\\u6cbb\\u5c40\\u4f1a\\u8bae\",\"\\u653f\\u6cbb\\u5c40\\u4f1a\\u8bae\",\"\\u653f\\u6cbb\\u5c40\\u4f1a\\u8bae\",\"\\u653f\\u6cbb\\u5c40\\u4f1a\\u8bae\",\"\\u653f\\u6cbb\\u5c40\\u4f1a\\u8bae\",\"\\u653f\\u6cbb\\u5c40\\u4f1a\\u8bae\",\"\\u653f\\u6cbb\\u5c40\\u4f1a\\u8bae\",\"\\u653f\\u6cbb\\u5c40\\u4f1a\\u8bae\",\"\\u653f\\u6cbb\\u5c40\\u4f1a\\u8bae\",\"\\u653f\\u6cbb\\u5c40\\u4f1a\\u8bae\",\"\\u653f\\u6cbb\\u5c40\\u4f1a\\u8bae\",\"\\u653f\\u6cbb\\u5c40\\u4f1a\\u8bae\",\"\\u653f\\u6cbb\\u5c40\\u4f1a\\u8bae\",\"\\u653f\\u6cbb\\u5c40\\u4f1a\\u8bae\",\"\\u653f\\u6cbb\\u5c40\\u4f1a\\u8bae\",\"\\u653f\\u6cbb\\u5c40\\u4f1a\\u8bae\",\"\\u653f\\u6cbb\\u5c40\\u4f1a\\u8bae\",\"\\u653f\\u6cbb\\u5c40\\u4f1a\\u8bae\",\"\\u653f\\u6cbb\\u5c40\\u4f1a\\u8bae\",\"\\u653f\\u6cbb\\u5c40\\u4f1a\\u8bae\",\"\\u653f\\u6cbb\\u5c40\\u4f1a\\u8bae\",\"\\u4e2d\\u592e\\u7ecf\\u6d4e\\u5de5\\u4f5c\\u4f1a\\u8bae\",\"\\u4e2d\\u592e\\u7ecf\\u6d4e\\u5de5\\u4f5c\\u4f1a\\u8bae\",\"\\u4e2d\\u592e\\u7ecf\\u6d4e\\u5de5\\u4f5c\\u4f1a\\u8bae\",\"\\u4e2d\\u592e\\u7ecf\\u6d4e\\u5de5\\u4f5c\\u4f1a\\u8bae\",\"\\u4e2d\\u592e\\u7ecf\\u6d4e\\u5de5\\u4f5c\\u4f1a\\u8bae\",\"\\u4e2d\\u592e\\u7ecf\\u6d4e\\u5de5\\u4f5c\\u4f1a\\u8bae\",\"\\u4e2d\\u592e\\u7ecf\\u6d4e\\u5de5\\u4f5c\\u4f1a\\u8bae\",\"\\u4e2d\\u592e\\u7ecf\\u6d4e\\u5de5\\u4f5c\\u4f1a\\u8bae\",\"\\u4e2d\\u592e\\u7ecf\\u6d4e\\u5de5\\u4f5c\\u4f1a\\u8bae\",\"\\u4e2d\\u592e\\u7ecf\\u6d4e\\u5de5\\u4f5c\\u4f1a\\u8bae\",\"\\u4e2d\\u592e\\u7ecf\\u6d4e\\u5de5\\u4f5c\\u4f1a\\u8bae\",\"\\u56fd\\u52a1\\u9662\\u5e38\\u59d4\\u4f1a\",\"\\u56fd\\u52a1\\u9662\\u5e38\\u59d4\\u4f1a\",\"\\u56fd\\u52a1\\u9662\\u5e38\\u59d4\\u4f1a\",\"\\u56fd\\u52a1\\u9662\\u5e38\\u59d4\\u4f1a\",\"\\u56fd\\u52a1\\u9662\\u5e38\\u59d4\\u4f1a\",\"\\u56fd\\u52a1\\u9662\\u5e38\\u59d4\\u4f1a\",\"\\u56fd\\u52a1\\u9662\\u5e38\\u59d4\\u4f1a\",\"\\u56fd\\u52a1\\u9662\\u5e38\\u59d4\\u4f1a\",\"\\u56fd\\u52a1\\u9662\\u5e38\\u59d4\\u4f1a\",\"\\u56fd\\u52a1\\u9662\\u5e38\\u59d4\\u4f1a\",\"\\u56fd\\u52a1\\u9662\\u5e38\\u59d4\\u4f1a\",\"\\u56fd\\u52a1\\u9662\\u5e38\\u59d4\\u4f1a\",\"\\u56fd\\u52a1\\u9662\\u5e38\\u59d4\\u4f1a\",\"\\u56fd\\u52a1\\u9662\\u5e38\\u59d4\\u4f1a\",\"\\u56fd\\u52a1\\u9662\\u5e38\\u59d4\\u4f1a\",\"\\u56fd\\u52a1\\u9662\\u5e38\\u59d4\\u4f1a\",\"\\u56fd\\u52a1\\u9662\\u5e38\\u59d4\\u4f1a\",\"\\u56fd\\u52a1\\u9662\\u5e38\\u59d4\\u4f1a\",\"\\u56fd\\u52a1\\u9662\\u5e38\\u59d4\\u4f1a\",\"\\u56fd\\u52a1\\u9662\\u5e38\\u59d4\\u4f1a\",\"\\u56fd\\u52a1\\u9662\\u5e38\\u59d4\\u4f1a\",\"\\u56fd\\u52a1\\u9662\\u5e38\\u59d4\\u4f1a\",\"\\u56fd\\u52a1\\u9662\\u5e38\\u59d4\\u4f1a\",\"\\u56fd\\u52a1\\u9662\\u5e38\\u59d4\\u4f1a\",\"\\u56fd\\u52a1\\u9662\\u5e38\\u59d4\\u4f1a\",\"\\u56fd\\u52a1\\u9662\\u5e38\\u59d4\\u4f1a\",\"\\u56fd\\u52a1\\u9662\\u5e38\\u59d4\\u4f1a\",\"\\u56fd\\u52a1\\u9662\\u5e38\\u59d4\\u4f1a\",\"\\u56fd\\u52a1\\u9662\\u5e38\\u59d4\\u4f1a\",\"\\u56fd\\u52a1\\u9662\\u5e38\\u59d4\\u4f1a\",\"\\u56fd\\u52a1\\u9662\\u5e38\\u59d4\\u4f1a\",\"\\u56fd\\u52a1\\u9662\\u5e38\\u59d4\\u4f1a\",\"\\u56fd\\u52a1\\u9662\\u5e38\\u59d4\\u4f1a\",\"\\u56fd\\u52a1\\u9662\\u5e38\\u59d4\\u4f1a\",\"\\u56fd\\u52a1\\u9662\\u5e38\\u59d4\\u4f1a\",\"\\u56fd\\u52a1\\u9662\\u5e38\\u59d4\\u4f1a\",\"\\u56fd\\u52a1\\u9662\\u5e38\\u59d4\\u4f1a\",\"\\u56fd\\u52a1\\u9662\\u5e38\\u59d4\\u4f1a\",\"\\u56fd\\u52a1\\u9662\\u5e38\\u59d4\\u4f1a\",\"\\u56fd\\u52a1\\u9662\\u5e38\\u59d4\\u4f1a\",\"\\u56fd\\u52a1\\u9662\\u5e38\\u59d4\\u4f1a\",\"\\u56fd\\u52a1\\u9662\\u5e38\\u59d4\\u4f1a\",\"\\u56fd\\u52a1\\u9662\\u5e38\\u59d4\\u4f1a\",\"\\u56fd\\u52a1\\u9662\\u5e38\\u59d4\\u4f1a\",\"\\u56fd\\u52a1\\u9662\\u5e38\\u59d4\\u4f1a\",\"\\u56fd\\u52a1\\u9662\\u5e38\\u59d4\\u4f1a\",\"\\u56fd\\u52a1\\u9662\\u5e38\\u59d4\\u4f1a\",\"\\u56fd\\u52a1\\u9662\\u5e38\\u59d4\\u4f1a\",\"\\u56fd\\u52a1\\u9662\\u5e38\\u59d4\\u4f1a\",\"\\u56fd\\u52a1\\u9662\\u5e38\\u59d4\\u4f1a\",\"\\u56fd\\u52a1\\u9662\\u5e38\\u59d4\\u4f1a\",\"\\u56fd\\u52a1\\u9662\\u5e38\\u59d4\\u4f1a\",\"\\u56fd\\u52a1\\u9662\\u5e38\\u59d4\\u4f1a\",\"\\u56fd\\u52a1\\u9662\\u5e38\\u59d4\\u4f1a\",\"\\u56fd\\u52a1\\u9662\\u5e38\\u59d4\\u4f1a\",\"\\u56fd\\u52a1\\u9662\\u5e38\\u59d4\\u4f1a\",\"\\u56fd\\u52a1\\u9662\\u5e38\\u59d4\\u4f1a\",\"\\u56fd\\u52a1\\u9662\\u5e38\\u59d4\\u4f1a\",\"\\u56fd\\u52a1\\u9662\\u5e38\\u59d4\\u4f1a\",\"\\u56fd\\u52a1\\u9662\\u5e38\\u59d4\\u4f1a\",\"\\u56fd\\u52a1\\u9662\\u5e38\\u59d4\\u4f1a\",\"\\u56fd\\u52a1\\u9662\\u5e38\\u59d4\\u4f1a\",\"\\u56fd\\u52a1\\u9662\\u5e38\\u59d4\\u4f1a\",\"\\u56fd\\u52a1\\u9662\\u5e38\\u59d4\\u4f1a\",\"\\u56fd\\u52a1\\u9662\\u5e38\\u59d4\\u4f1a\",\"\\u56fd\\u52a1\\u9662\\u5e38\\u59d4\\u4f1a\",\"\\u56fd\\u52a1\\u9662\\u5e38\\u59d4\\u4f1a\",\"\\u56fd\\u52a1\\u9662\\u5e38\\u59d4\\u4f1a\",\"\\u56fd\\u52a1\\u9662\\u5e38\\u59d4\\u4f1a\",\"\\u56fd\\u52a1\\u9662\\u5e38\\u59d4\\u4f1a\",\"\\u56fd\\u52a1\\u9662\\u5e38\\u59d4\\u4f1a\",\"\\u56fd\\u52a1\\u9662\\u5e38\\u59d4\\u4f1a\",\"\\u56fd\\u52a1\\u9662\\u5e38\\u59d4\\u4f1a\",\"\\u56fd\\u52a1\\u9662\\u5e38\\u59d4\\u4f1a\",\"\\u56fd\\u52a1\\u9662\\u5e38\\u59d4\\u4f1a\",\"\\u56fd\\u52a1\\u9662\\u5e38\\u59d4\\u4f1a\",\"\\u56fd\\u52a1\\u9662\\u5e38\\u59d4\\u4f1a\",\"\\u56fd\\u52a1\\u9662\\u5e38\\u59d4\\u4f1a\",\"\\u56fd\\u52a1\\u9662\\u5e38\\u59d4\\u4f1a\",\"\\u56fd\\u52a1\\u9662\\u5e38\\u59d4\\u4f1a\",\"\\u56fd\\u52a1\\u9662\\u5e38\\u59d4\\u4f1a\",\"\\u56fd\\u52a1\\u9662\\u5e38\\u59d4\\u4f1a\",\"\\u56fd\\u52a1\\u9662\\u5e38\\u59d4\\u4f1a\",\"\\u56fd\\u52a1\\u9662\\u5e38\\u59d4\\u4f1a\",\"\\u56fd\\u52a1\\u9662\\u5e38\\u59d4\\u4f1a\",\"\\u56fd\\u52a1\\u9662\\u5e38\\u59d4\\u4f1a\",\"\\u56fd\\u52a1\\u9662\\u5e38\\u59d4\\u4f1a\",\"\\u56fd\\u52a1\\u9662\\u5e38\\u59d4\\u4f1a\",\"\\u56fd\\u52a1\\u9662\\u5e38\\u59d4\\u4f1a\",\"\\u56fd\\u52a1\\u9662\\u5e38\\u59d4\\u4f1a\",\"\\u56fd\\u52a1\\u9662\\u5e38\\u59d4\\u4f1a\",\"\\u56fd\\u52a1\\u9662\\u5e38\\u59d4\\u4f1a\",\"\\u56fd\\u52a1\\u9662\\u5e38\\u59d4\\u4f1a\",\"\\u56fd\\u52a1\\u9662\\u5e38\\u59d4\\u4f1a\",\"\\u56fd\\u52a1\\u9662\\u5e38\\u59d4\\u4f1a\",\"\\u56fd\\u52a1\\u9662\\u5e38\\u59d4\\u4f1a\",\"\\u56fd\\u52a1\\u9662\\u5e38\\u59d4\\u4f1a\",\"\\u56fd\\u52a1\\u9662\\u5e38\\u59d4\\u4f1a\",\"\\u56fd\\u52a1\\u9662\\u5e38\\u59d4\\u4f1a\",\"\\u56fd\\u52a1\\u9662\\u5e38\\u59d4\\u4f1a\",\"\\u56fd\\u52a1\\u9662\\u5e38\\u59d4\\u4f1a\",\"\\u56fd\\u52a1\\u9662\\u5e38\\u59d4\\u4f1a\",\"\\u56fd\\u52a1\\u9662\\u5e38\\u59d4\\u4f1a\",\"\\u56fd\\u52a1\\u9662\\u5e38\\u59d4\\u4f1a\",\"\\u56fd\\u52a1\\u9662\\u5e38\\u59d4\\u4f1a\",\"\\u56fd\\u52a1\\u9662\\u5e38\\u59d4\\u4f1a\",\"\\u56fd\\u52a1\\u9662\\u5e38\\u59d4\\u4f1a\",\"\\u56fd\\u52a1\\u9662\\u5e38\\u59d4\\u4f1a\",\"\\u56fd\\u52a1\\u9662\\u5e38\\u59d4\\u4f1a\",\"\\u56fd\\u52a1\\u9662\\u5e38\\u59d4\\u4f1a\",\"\\u56fd\\u52a1\\u9662\\u5e38\\u59d4\\u4f1a\",\"\\u56fd\\u52a1\\u9662\\u5e38\\u59d4\\u4f1a\",\"\\u56fd\\u52a1\\u9662\\u5e38\\u59d4\\u4f1a\",\"\\u56fd\\u52a1\\u9662\\u5e38\\u59d4\\u4f1a\",\"\\u56fd\\u52a1\\u9662\\u5e38\\u59d4\\u4f1a\",\"\\u56fd\\u52a1\\u9662\\u5e38\\u59d4\\u4f1a\",\"\\u56fd\\u52a1\\u9662\\u5e38\\u59d4\\u4f1a\",\"\\u56fd\\u52a1\\u9662\\u5e38\\u59d4\\u4f1a\",\"\\u56fd\\u52a1\\u9662\\u5e38\\u59d4\\u4f1a\",\"\\u56fd\\u52a1\\u9662\\u5e38\\u59d4\\u4f1a\",\"\\u56fd\\u52a1\\u9662\\u5e38\\u59d4\\u4f1a\",\"\\u56fd\\u52a1\\u9662\\u5e38\\u59d4\\u4f1a\",\"\\u56fd\\u52a1\\u9662\\u5e38\\u59d4\\u4f1a\",\"\\u56fd\\u52a1\\u9662\\u5e38\\u59d4\\u4f1a\",\"\\u56fd\\u52a1\\u9662\\u5e38\\u59d4\\u4f1a\",\"\\u56fd\\u52a1\\u9662\\u5e38\\u59d4\\u4f1a\",\"\\u56fd\\u52a1\\u9662\\u5e38\\u59d4\\u4f1a\",\"\\u56fd\\u52a1\\u9662\\u5e38\\u59d4\\u4f1a\",\"\\u56fd\\u52a1\\u9662\\u5e38\\u59d4\\u4f1a\",\"\\u56fd\\u52a1\\u9662\\u5e38\\u59d4\\u4f1a\",\"\\u56fd\\u52a1\\u9662\\u5e38\\u59d4\\u4f1a\",\"\\u56fd\\u52a1\\u9662\\u5e38\\u59d4\\u4f1a\",\"\\u56fd\\u52a1\\u9662\\u5e38\\u59d4\\u4f1a\",\"\\u56fd\\u52a1\\u9662\\u5e38\\u59d4\\u4f1a\",\"\\u56fd\\u52a1\\u9662\\u5e38\\u59d4\\u4f1a\",\"\\u56fd\\u52a1\\u9662\\u5e38\\u59d4\\u4f1a\",\"\\u56fd\\u52a1\\u9662\\u5e38\\u59d4\\u4f1a\",\"\\u56fd\\u52a1\\u9662\\u5e38\\u59d4\\u4f1a\",\"\\u56fd\\u52a1\\u9662\\u5e38\\u59d4\\u4f1a\",\"\\u56fd\\u52a1\\u9662\\u5e38\\u59d4\\u4f1a\",\"\\u56fd\\u52a1\\u9662\\u5e38\\u59d4\\u4f1a\",\"\\u56fd\\u52a1\\u9662\\u5e38\\u59d4\\u4f1a\",\"\\u56fd\\u52a1\\u9662\\u5e38\\u59d4\\u4f1a\",\"\\u56fd\\u52a1\\u9662\\u5e38\\u59d4\\u4f1a\",\"\\u56fd\\u52a1\\u9662\\u5e38\\u59d4\\u4f1a\",\"\\u56fd\\u52a1\\u9662\\u5e38\\u59d4\\u4f1a\",\"\\u56fd\\u52a1\\u9662\\u5e38\\u59d4\\u4f1a\",\"\\u56fd\\u52a1\\u9662\\u5e38\\u59d4\\u4f1a\",\"\\u56fd\\u52a1\\u9662\\u5e38\\u59d4\\u4f1a\",\"\\u56fd\\u52a1\\u9662\\u5e38\\u59d4\\u4f1a\",\"\\u56fd\\u52a1\\u9662\\u5e38\\u59d4\\u4f1a\",\"\\u56fd\\u52a1\\u9662\\u5e38\\u59d4\\u4f1a\",\"\\u56fd\\u52a1\\u9662\\u5e38\\u59d4\\u4f1a\",\"\\u56fd\\u52a1\\u9662\\u5e38\\u59d4\\u4f1a\",\"\\u56fd\\u52a1\\u9662\\u5e38\\u59d4\\u4f1a\",\"\\u56fd\\u52a1\\u9662\\u5e38\\u59d4\\u4f1a\",\"\\u56fd\\u52a1\\u9662\\u5e38\\u59d4\\u4f1a\",\"\\u56fd\\u52a1\\u9662\\u5e38\\u59d4\\u4f1a\",\"\\u56fd\\u52a1\\u9662\\u5e38\\u59d4\\u4f1a\",\"\\u56fd\\u52a1\\u9662\\u5e38\\u59d4\\u4f1a\",\"\\u56fd\\u52a1\\u9662\\u5e38\\u59d4\\u4f1a\",\"\\u56fd\\u52a1\\u9662\\u5e38\\u59d4\\u4f1a\",\"\\u56fd\\u52a1\\u9662\\u5e38\\u59d4\\u4f1a\",\"\\u56fd\\u52a1\\u9662\\u5e38\\u59d4\\u4f1a\",\"\\u56fd\\u52a1\\u9662\\u5e38\\u59d4\\u4f1a\",\"\\u56fd\\u52a1\\u9662\\u5e38\\u59d4\\u4f1a\",\"\\u56fd\\u52a1\\u9662\\u5e38\\u59d4\\u4f1a\",\"\\u56fd\\u52a1\\u9662\\u5e38\\u59d4\\u4f1a\",\"\\u56fd\\u52a1\\u9662\\u5e38\\u59d4\\u4f1a\",\"\\u56fd\\u52a1\\u9662\\u5e38\\u59d4\\u4f1a\",\"\\u56fd\\u52a1\\u9662\\u5e38\\u59d4\\u4f1a\",\"\\u56fd\\u52a1\\u9662\\u5e38\\u59d4\\u4f1a\",\"\\u56fd\\u52a1\\u9662\\u5e38\\u59d4\\u4f1a\",\"\\u56fd\\u52a1\\u9662\\u5e38\\u59d4\\u4f1a\",\"\\u56fd\\u52a1\\u9662\\u5e38\\u59d4\\u4f1a\",\"\\u56fd\\u52a1\\u9662\\u5e38\\u59d4\\u4f1a\",\"\\u56fd\\u52a1\\u9662\\u5e38\\u59d4\\u4f1a\",\"\\u56fd\\u52a1\\u9662\\u5e38\\u59d4\\u4f1a\",\"\\u56fd\\u52a1\\u9662\\u5e38\\u59d4\\u4f1a\",\"\\u56fd\\u52a1\\u9662\\u5e38\\u59d4\\u4f1a\",\"\\u56fd\\u52a1\\u9662\\u5e38\\u59d4\\u4f1a\",\"\\u56fd\\u52a1\\u9662\\u5e38\\u59d4\\u4f1a\",\"\\u56fd\\u52a1\\u9662\\u5e38\\u59d4\\u4f1a\",\"\\u56fd\\u52a1\\u9662\\u5e38\\u59d4\\u4f1a\",\"\\u56fd\\u52a1\\u9662\\u5e38\\u59d4\\u4f1a\",\"\\u56fd\\u52a1\\u9662\\u5e38\\u59d4\\u4f1a\",\"\\u56fd\\u52a1\\u9662\\u5e38\\u59d4\\u4f1a\",\"\\u56fd\\u52a1\\u9662\\u5e38\\u59d4\\u4f1a\",\"\\u56fd\\u52a1\\u9662\\u5e38\\u59d4\\u4f1a\",\"\\u56fd\\u52a1\\u9662\\u5e38\\u59d4\\u4f1a\",\"\\u56fd\\u52a1\\u9662\\u5e38\\u59d4\\u4f1a\",\"\\u56fd\\u52a1\\u9662\\u5e38\\u59d4\\u4f1a\",\"\\u56fd\\u52a1\\u9662\\u5e38\\u59d4\\u4f1a\",\"\\u56fd\\u52a1\\u9662\\u5e38\\u59d4\\u4f1a\",\"\\u56fd\\u52a1\\u9662\\u5e38\\u59d4\\u4f1a\",\"\\u56fd\\u52a1\\u9662\\u5e38\\u59d4\\u4f1a\",\"\\u56fd\\u52a1\\u9662\\u5e38\\u59d4\\u4f1a\",\"\\u56fd\\u52a1\\u9662\\u5e38\\u59d4\\u4f1a\",\"\\u56fd\\u52a1\\u9662\\u5e38\\u59d4\\u4f1a\",\"\\u56fd\\u52a1\\u9662\\u5e38\\u59d4\\u4f1a\",\"\\u56fd\\u52a1\\u9662\\u5e38\\u59d4\\u4f1a\",\"\\u56fd\\u52a1\\u9662\\u5e38\\u59d4\\u4f1a\",\"\\u56fd\\u52a1\\u9662\\u5e38\\u59d4\\u4f1a\",\"\\u56fd\\u52a1\\u9662\\u5e38\\u59d4\\u4f1a\",\"\\u56fd\\u52a1\\u9662\\u5e38\\u59d4\\u4f1a\",\"\\u56fd\\u52a1\\u9662\\u5e38\\u59d4\\u4f1a\",\"\\u56fd\\u52a1\\u9662\\u5e38\\u59d4\\u4f1a\",\"\\u56fd\\u52a1\\u9662\\u5e38\\u59d4\\u4f1a\",\"\\u56fd\\u52a1\\u9662\\u5e38\\u59d4\\u4f1a\",\"\\u56fd\\u52a1\\u9662\\u5e38\\u59d4\\u4f1a\",\"\\u56fd\\u52a1\\u9662\\u5e38\\u59d4\\u4f1a\",\"\\u56fd\\u52a1\\u9662\\u5e38\\u59d4\\u4f1a\",\"\\u56fd\\u52a1\\u9662\\u5e38\\u59d4\\u4f1a\",\"\\u56fd\\u52a1\\u9662\\u5e38\\u59d4\\u4f1a\",\"\\u56fd\\u52a1\\u9662\\u5e38\\u59d4\\u4f1a\",\"\\u56fd\\u52a1\\u9662\\u5e38\\u59d4\\u4f1a\",\"\\u56fd\\u52a1\\u9662\\u5e38\\u59d4\\u4f1a\",\"\\u56fd\\u52a1\\u9662\\u5e38\\u59d4\\u4f1a\",\"\\u56fd\\u52a1\\u9662\\u5e38\\u59d4\\u4f1a\",\"\\u56fd\\u52a1\\u9662\\u5e38\\u59d4\\u4f1a\",\"\\u56fd\\u52a1\\u9662\\u5e38\\u59d4\\u4f1a\",\"\\u56fd\\u52a1\\u9662\\u5e38\\u59d4\\u4f1a\",\"\\u56fd\\u52a1\\u9662\\u5e38\\u59d4\\u4f1a\",\"\\u56fd\\u52a1\\u9662\\u5e38\\u59d4\\u4f1a\",\"\\u56fd\\u52a1\\u9662\\u5e38\\u59d4\\u4f1a\",\"\\u56fd\\u52a1\\u9662\\u5e38\\u59d4\\u4f1a\",\"\\u56fd\\u52a1\\u9662\\u5e38\\u59d4\\u4f1a\",\"\\u56fd\\u52a1\\u9662\\u5e38\\u59d4\\u4f1a\",\"\\u56fd\\u52a1\\u9662\\u5e38\\u59d4\\u4f1a\",\"\\u56fd\\u52a1\\u9662\\u5e38\\u59d4\\u4f1a\",\"\\u56fd\\u52a1\\u9662\\u5e38\\u59d4\\u4f1a\",\"\\u56fd\\u52a1\\u9662\\u5e38\\u59d4\\u4f1a\",\"\\u56fd\\u52a1\\u9662\\u5e38\\u59d4\\u4f1a\",\"\\u56fd\\u52a1\\u9662\\u5e38\\u59d4\\u4f1a\",\"\\u56fd\\u52a1\\u9662\\u5e38\\u59d4\\u4f1a\",\"\\u56fd\\u52a1\\u9662\\u5e38\\u59d4\\u4f1a\",\"\\u56fd\\u52a1\\u9662\\u5e38\\u59d4\\u4f1a\",\"\\u56fd\\u52a1\\u9662\\u5e38\\u59d4\\u4f1a\",\"\\u56fd\\u52a1\\u9662\\u5e38\\u59d4\\u4f1a\",\"\\u56fd\\u52a1\\u9662\\u5e38\\u59d4\\u4f1a\",\"\\u56fd\\u52a1\\u9662\\u5e38\\u59d4\\u4f1a\",\"\\u56fd\\u52a1\\u9662\\u5e38\\u59d4\\u4f1a\",\"\\u56fd\\u52a1\\u9662\\u5e38\\u59d4\\u4f1a\",\"\\u56fd\\u52a1\\u9662\\u5e38\\u59d4\\u4f1a\",\"\\u56fd\\u52a1\\u9662\\u5e38\\u59d4\\u4f1a\",\"\\u56fd\\u52a1\\u9662\\u5e38\\u59d4\\u4f1a\",\"\\u56fd\\u52a1\\u9662\\u5e38\\u59d4\\u4f1a\",\"\\u56fd\\u52a1\\u9662\\u5e38\\u59d4\\u4f1a\",\"\\u56fd\\u52a1\\u9662\\u5e38\\u59d4\\u4f1a\",\"\\u56fd\\u52a1\\u9662\\u5e38\\u59d4\\u4f1a\",\"\\u56fd\\u52a1\\u9662\\u5e38\\u59d4\\u4f1a\",\"\\u56fd\\u52a1\\u9662\\u5e38\\u59d4\\u4f1a\",\"\\u56fd\\u52a1\\u9662\\u5e38\\u59d4\\u4f1a\",\"\\u56fd\\u52a1\\u9662\\u5e38\\u59d4\\u4f1a\",\"\\u56fd\\u52a1\\u9662\\u5e38\\u59d4\\u4f1a\",\"\\u56fd\\u52a1\\u9662\\u5e38\\u59d4\\u4f1a\",\"\\u56fd\\u52a1\\u9662\\u5e38\\u59d4\\u4f1a\",\"\\u56fd\\u52a1\\u9662\\u5e38\\u59d4\\u4f1a\",\"\\u56fd\\u52a1\\u9662\\u5e38\\u59d4\\u4f1a\",\"\\u56fd\\u52a1\\u9662\\u5e38\\u59d4\\u4f1a\",\"\\u56fd\\u52a1\\u9662\\u5e38\\u59d4\\u4f1a\",\"\\u56fd\\u52a1\\u9662\\u5e38\\u59d4\\u4f1a\",\"\\u56fd\\u52a1\\u9662\\u5e38\\u59d4\\u4f1a\",\"\\u56fd\\u52a1\\u9662\\u5e38\\u59d4\\u4f1a\",\"\\u56fd\\u52a1\\u9662\\u5e38\\u59d4\\u4f1a\",\"\\u56fd\\u52a1\\u9662\\u5e38\\u59d4\\u4f1a\",\"\\u56fd\\u52a1\\u9662\\u5e38\\u59d4\\u4f1a\",\"\\u56fd\\u52a1\\u9662\\u5e38\\u59d4\\u4f1a\",\"\\u56fd\\u52a1\\u9662\\u5e38\\u59d4\\u4f1a\",\"\\u56fd\\u52a1\\u9662\\u5e38\\u59d4\\u4f1a\",\"\\u56fd\\u52a1\\u9662\\u5e38\\u59d4\\u4f1a\",\"\\u56fd\\u52a1\\u9662\\u5e38\\u59d4\\u4f1a\",\"\\u56fd\\u52a1\\u9662\\u5e38\\u59d4\\u4f1a\",\"\\u56fd\\u52a1\\u9662\\u5e38\\u59d4\\u4f1a\",\"\\u653f\\u6cbb\\u5c40\\u4f1a\\u8bae\",\"\\u56fd\\u52a1\\u9662\\u5e38\\u59d4\\u4f1a\",\"\\u56fd\\u52a1\\u9662\\u5e38\\u59d4\\u4f1a\",\"\\u5386\\u5e74\\u653f\\u5e9c\\u5de5\\u4f5c\\u62a5\\u544a\",\"\\u5386\\u5e74\\u653f\\u5e9c\\u5de5\\u4f5c\\u62a5\\u544a\",\"\\u5386\\u5e74\\u653f\\u5e9c\\u5de5\\u4f5c\\u62a5\\u544a\",\"\\u5386\\u5e74\\u653f\\u5e9c\\u5de5\\u4f5c\\u62a5\\u544a\",\"\\u5386\\u5e74\\u653f\\u5e9c\\u5de5\\u4f5c\\u62a5\\u544a\",\"\\u5386\\u5e74\\u653f\\u5e9c\\u5de5\\u4f5c\\u62a5\\u544a\",\"\\u5386\\u5e74\\u653f\\u5e9c\\u5de5\\u4f5c\\u62a5\\u544a\",\"\\u5386\\u5e74\\u653f\\u5e9c\\u5de5\\u4f5c\\u62a5\\u544a\",\"\\u5386\\u5e74\\u653f\\u5e9c\\u5de5\\u4f5c\\u62a5\\u544a\",\"\\u5386\\u5e74\\u653f\\u5e9c\\u5de5\\u4f5c\\u62a5\\u544a\",\"\\u5386\\u5e74\\u653f\\u5e9c\\u5de5\\u4f5c\\u62a5\\u544a\",\"\\u5386\\u5e74\\u653f\\u5e9c\\u5de5\\u4f5c\\u62a5\\u544a\",\"\\u5386\\u5e74\\u653f\\u5e9c\\u5de5\\u4f5c\\u62a5\\u544a\",\"\\u5386\\u5e74\\u653f\\u5e9c\\u5de5\\u4f5c\\u62a5\\u544a\",\"\\u5386\\u5e74\\u653f\\u5e9c\\u5de5\\u4f5c\\u62a5\\u544a\",\"\\u5386\\u5e74\\u653f\\u5e9c\\u5de5\\u4f5c\\u62a5\\u544a\",\"\\u5386\\u5e74\\u653f\\u5e9c\\u5de5\\u4f5c\\u62a5\\u544a\",\"\\u5386\\u5e74\\u653f\\u5e9c\\u5de5\\u4f5c\\u62a5\\u544a\",\"\\u5386\\u5e74\\u653f\\u5e9c\\u5de5\\u4f5c\\u62a5\\u544a\",\"\\u5386\\u5e74\\u653f\\u5e9c\\u5de5\\u4f5c\\u62a5\\u544a\",\"\\u5386\\u5e74\\u653f\\u5e9c\\u5de5\\u4f5c\\u62a5\\u544a\",\"\\u5386\\u5e74\\u653f\\u5e9c\\u5de5\\u4f5c\\u62a5\\u544a\",\"\\u5386\\u5e74\\u653f\\u5e9c\\u5de5\\u4f5c\\u62a5\\u544a\",\"\\u5386\\u5e74\\u653f\\u5e9c\\u5de5\\u4f5c\\u62a5\\u544a\",\"\\u5386\\u5e74\\u653f\\u5e9c\\u5de5\\u4f5c\\u62a5\\u544a\",\"\\u5386\\u5e74\\u653f\\u5e9c\\u5de5\\u4f5c\\u62a5\\u544a\",\"\\u5386\\u5e74\\u653f\\u5e9c\\u5de5\\u4f5c\\u62a5\\u544a\",\"\\u5386\\u5e74\\u653f\\u5e9c\\u5de5\\u4f5c\\u62a5\\u544a\",\"\\u5386\\u5e74\\u653f\\u5e9c\\u5de5\\u4f5c\\u62a5\\u544a\",\"\\u5386\\u5e74\\u653f\\u5e9c\\u5de5\\u4f5c\\u62a5\\u544a\",\"\\u5386\\u5e74\\u653f\\u5e9c\\u5de5\\u4f5c\\u62a5\\u544a\",\"\\u5386\\u5e74\\u653f\\u5e9c\\u5de5\\u4f5c\\u62a5\\u544a\",\"\\u5386\\u5e74\\u653f\\u5e9c\\u5de5\\u4f5c\\u62a5\\u544a\",\"\\u5386\\u5e74\\u653f\\u5e9c\\u5de5\\u4f5c\\u62a5\\u544a\",\"\\u5386\\u5e74\\u653f\\u5e9c\\u5de5\\u4f5c\\u62a5\\u544a\",\"\\u5386\\u5e74\\u653f\\u5e9c\\u5de5\\u4f5c\\u62a5\\u544a\",\"\\u5386\\u5e74\\u653f\\u5e9c\\u5de5\\u4f5c\\u62a5\\u544a\",\"\\u5386\\u5e74\\u653f\\u5e9c\\u5de5\\u4f5c\\u62a5\\u544a\",\"\\u5386\\u5e74\\u653f\\u5e9c\\u5de5\\u4f5c\\u62a5\\u544a\",\"\\u5386\\u5e74\\u653f\\u5e9c\\u5de5\\u4f5c\\u62a5\\u544a\",\"\\u5386\\u5e74\\u653f\\u5e9c\\u5de5\\u4f5c\\u62a5\\u544a\",\"\\u5386\\u5e74\\u653f\\u5e9c\\u5de5\\u4f5c\\u62a5\\u544a\",\"\\u5386\\u5e74\\u653f\\u5e9c\\u5de5\\u4f5c\\u62a5\\u544a\",\"\\u5386\\u5e74\\u653f\\u5e9c\\u5de5\\u4f5c\\u62a5\\u544a\",\"\\u5386\\u5e74\\u653f\\u5e9c\\u5de5\\u4f5c\\u62a5\\u544a\",\"\\u5386\\u5e74\\u653f\\u5e9c\\u5de5\\u4f5c\\u62a5\\u544a\",\"\\u5386\\u5e74\\u653f\\u5e9c\\u5de5\\u4f5c\\u62a5\\u544a\",\"\\u5386\\u5e74\\u653f\\u5e9c\\u5de5\\u4f5c\\u62a5\\u544a\",\"\\u5386\\u5e74\\u653f\\u5e9c\\u5de5\\u4f5c\\u62a5\\u544a\",\"\\u5386\\u5e74\\u653f\\u5e9c\\u5de5\\u4f5c\\u62a5\\u544a\",\"\\u5386\\u5e74\\u653f\\u5e9c\\u5de5\\u4f5c\\u62a5\\u544a\",\"\\u5386\\u5e74\\u653f\\u5e9c\\u5de5\\u4f5c\\u62a5\\u544a\"],\"xaxis\":\"x\",\"yaxis\":\"y\",\"type\":\"histogram\"}],                        {\"template\":{\"data\":{\"histogram2dcontour\":[{\"type\":\"histogram2dcontour\",\"colorbar\":{\"outlinewidth\":0,\"ticks\":\"\"},\"colorscale\":[[0.0,\"#0d0887\"],[0.1111111111111111,\"#46039f\"],[0.2222222222222222,\"#7201a8\"],[0.3333333333333333,\"#9c179e\"],[0.4444444444444444,\"#bd3786\"],[0.5555555555555556,\"#d8576b\"],[0.6666666666666666,\"#ed7953\"],[0.7777777777777778,\"#fb9f3a\"],[0.8888888888888888,\"#fdca26\"],[1.0,\"#f0f921\"]]}],\"choropleth\":[{\"type\":\"choropleth\",\"colorbar\":{\"outlinewidth\":0,\"ticks\":\"\"}}],\"histogram2d\":[{\"type\":\"histogram2d\",\"colorbar\":{\"outlinewidth\":0,\"ticks\":\"\"},\"colorscale\":[[0.0,\"#0d0887\"],[0.1111111111111111,\"#46039f\"],[0.2222222222222222,\"#7201a8\"],[0.3333333333333333,\"#9c179e\"],[0.4444444444444444,\"#bd3786\"],[0.5555555555555556,\"#d8576b\"],[0.6666666666666666,\"#ed7953\"],[0.7777777777777778,\"#fb9f3a\"],[0.8888888888888888,\"#fdca26\"],[1.0,\"#f0f921\"]]}],\"heatmap\":[{\"type\":\"heatmap\",\"colorbar\":{\"outlinewidth\":0,\"ticks\":\"\"},\"colorscale\":[[0.0,\"#0d0887\"],[0.1111111111111111,\"#46039f\"],[0.2222222222222222,\"#7201a8\"],[0.3333333333333333,\"#9c179e\"],[0.4444444444444444,\"#bd3786\"],[0.5555555555555556,\"#d8576b\"],[0.6666666666666666,\"#ed7953\"],[0.7777777777777778,\"#fb9f3a\"],[0.8888888888888888,\"#fdca26\"],[1.0,\"#f0f921\"]]}],\"heatmapgl\":[{\"type\":\"heatmapgl\",\"colorbar\":{\"outlinewidth\":0,\"ticks\":\"\"},\"colorscale\":[[0.0,\"#0d0887\"],[0.1111111111111111,\"#46039f\"],[0.2222222222222222,\"#7201a8\"],[0.3333333333333333,\"#9c179e\"],[0.4444444444444444,\"#bd3786\"],[0.5555555555555556,\"#d8576b\"],[0.6666666666666666,\"#ed7953\"],[0.7777777777777778,\"#fb9f3a\"],[0.8888888888888888,\"#fdca26\"],[1.0,\"#f0f921\"]]}],\"contourcarpet\":[{\"type\":\"contourcarpet\",\"colorbar\":{\"outlinewidth\":0,\"ticks\":\"\"}}],\"contour\":[{\"type\":\"contour\",\"colorbar\":{\"outlinewidth\":0,\"ticks\":\"\"},\"colorscale\":[[0.0,\"#0d0887\"],[0.1111111111111111,\"#46039f\"],[0.2222222222222222,\"#7201a8\"],[0.3333333333333333,\"#9c179e\"],[0.4444444444444444,\"#bd3786\"],[0.5555555555555556,\"#d8576b\"],[0.6666666666666666,\"#ed7953\"],[0.7777777777777778,\"#fb9f3a\"],[0.8888888888888888,\"#fdca26\"],[1.0,\"#f0f921\"]]}],\"surface\":[{\"type\":\"surface\",\"colorbar\":{\"outlinewidth\":0,\"ticks\":\"\"},\"colorscale\":[[0.0,\"#0d0887\"],[0.1111111111111111,\"#46039f\"],[0.2222222222222222,\"#7201a8\"],[0.3333333333333333,\"#9c179e\"],[0.4444444444444444,\"#bd3786\"],[0.5555555555555556,\"#d8576b\"],[0.6666666666666666,\"#ed7953\"],[0.7777777777777778,\"#fb9f3a\"],[0.8888888888888888,\"#fdca26\"],[1.0,\"#f0f921\"]]}],\"mesh3d\":[{\"type\":\"mesh3d\",\"colorbar\":{\"outlinewidth\":0,\"ticks\":\"\"}}],\"scatter\":[{\"fillpattern\":{\"fillmode\":\"overlay\",\"size\":10,\"solidity\":0.2},\"type\":\"scatter\"}],\"parcoords\":[{\"type\":\"parcoords\",\"line\":{\"colorbar\":{\"outlinewidth\":0,\"ticks\":\"\"}}}],\"scatterpolargl\":[{\"type\":\"scatterpolargl\",\"marker\":{\"colorbar\":{\"outlinewidth\":0,\"ticks\":\"\"}}}],\"bar\":[{\"error_x\":{\"color\":\"#2a3f5f\"},\"error_y\":{\"color\":\"#2a3f5f\"},\"marker\":{\"line\":{\"color\":\"#E5ECF6\",\"width\":0.5},\"pattern\":{\"fillmode\":\"overlay\",\"size\":10,\"solidity\":0.2}},\"type\":\"bar\"}],\"scattergeo\":[{\"type\":\"scattergeo\",\"marker\":{\"colorbar\":{\"outlinewidth\":0,\"ticks\":\"\"}}}],\"scatterpolar\":[{\"type\":\"scatterpolar\",\"marker\":{\"colorbar\":{\"outlinewidth\":0,\"ticks\":\"\"}}}],\"histogram\":[{\"marker\":{\"pattern\":{\"fillmode\":\"overlay\",\"size\":10,\"solidity\":0.2}},\"type\":\"histogram\"}],\"scattergl\":[{\"type\":\"scattergl\",\"marker\":{\"colorbar\":{\"outlinewidth\":0,\"ticks\":\"\"}}}],\"scatter3d\":[{\"type\":\"scatter3d\",\"line\":{\"colorbar\":{\"outlinewidth\":0,\"ticks\":\"\"}},\"marker\":{\"colorbar\":{\"outlinewidth\":0,\"ticks\":\"\"}}}],\"scattermapbox\":[{\"type\":\"scattermapbox\",\"marker\":{\"colorbar\":{\"outlinewidth\":0,\"ticks\":\"\"}}}],\"scatterternary\":[{\"type\":\"scatterternary\",\"marker\":{\"colorbar\":{\"outlinewidth\":0,\"ticks\":\"\"}}}],\"scattercarpet\":[{\"type\":\"scattercarpet\",\"marker\":{\"colorbar\":{\"outlinewidth\":0,\"ticks\":\"\"}}}],\"carpet\":[{\"aaxis\":{\"endlinecolor\":\"#2a3f5f\",\"gridcolor\":\"white\",\"linecolor\":\"white\",\"minorgridcolor\":\"white\",\"startlinecolor\":\"#2a3f5f\"},\"baxis\":{\"endlinecolor\":\"#2a3f5f\",\"gridcolor\":\"white\",\"linecolor\":\"white\",\"minorgridcolor\":\"white\",\"startlinecolor\":\"#2a3f5f\"},\"type\":\"carpet\"}],\"table\":[{\"cells\":{\"fill\":{\"color\":\"#EBF0F8\"},\"line\":{\"color\":\"white\"}},\"header\":{\"fill\":{\"color\":\"#C8D4E3\"},\"line\":{\"color\":\"white\"}},\"type\":\"table\"}],\"barpolar\":[{\"marker\":{\"line\":{\"color\":\"#E5ECF6\",\"width\":0.5},\"pattern\":{\"fillmode\":\"overlay\",\"size\":10,\"solidity\":0.2}},\"type\":\"barpolar\"}],\"pie\":[{\"automargin\":true,\"type\":\"pie\"}]},\"layout\":{\"autotypenumbers\":\"strict\",\"colorway\":[\"#636efa\",\"#EF553B\",\"#00cc96\",\"#ab63fa\",\"#FFA15A\",\"#19d3f3\",\"#FF6692\",\"#B6E880\",\"#FF97FF\",\"#FECB52\"],\"font\":{\"color\":\"#2a3f5f\"},\"hovermode\":\"closest\",\"hoverlabel\":{\"align\":\"left\"},\"paper_bgcolor\":\"white\",\"plot_bgcolor\":\"#E5ECF6\",\"polar\":{\"bgcolor\":\"#E5ECF6\",\"angularaxis\":{\"gridcolor\":\"white\",\"linecolor\":\"white\",\"ticks\":\"\"},\"radialaxis\":{\"gridcolor\":\"white\",\"linecolor\":\"white\",\"ticks\":\"\"}},\"ternary\":{\"bgcolor\":\"#E5ECF6\",\"aaxis\":{\"gridcolor\":\"white\",\"linecolor\":\"white\",\"ticks\":\"\"},\"baxis\":{\"gridcolor\":\"white\",\"linecolor\":\"white\",\"ticks\":\"\"},\"caxis\":{\"gridcolor\":\"white\",\"linecolor\":\"white\",\"ticks\":\"\"}},\"coloraxis\":{\"colorbar\":{\"outlinewidth\":0,\"ticks\":\"\"}},\"colorscale\":{\"sequential\":[[0.0,\"#0d0887\"],[0.1111111111111111,\"#46039f\"],[0.2222222222222222,\"#7201a8\"],[0.3333333333333333,\"#9c179e\"],[0.4444444444444444,\"#bd3786\"],[0.5555555555555556,\"#d8576b\"],[0.6666666666666666,\"#ed7953\"],[0.7777777777777778,\"#fb9f3a\"],[0.8888888888888888,\"#fdca26\"],[1.0,\"#f0f921\"]],\"sequentialminus\":[[0.0,\"#0d0887\"],[0.1111111111111111,\"#46039f\"],[0.2222222222222222,\"#7201a8\"],[0.3333333333333333,\"#9c179e\"],[0.4444444444444444,\"#bd3786\"],[0.5555555555555556,\"#d8576b\"],[0.6666666666666666,\"#ed7953\"],[0.7777777777777778,\"#fb9f3a\"],[0.8888888888888888,\"#fdca26\"],[1.0,\"#f0f921\"]],\"diverging\":[[0,\"#8e0152\"],[0.1,\"#c51b7d\"],[0.2,\"#de77ae\"],[0.3,\"#f1b6da\"],[0.4,\"#fde0ef\"],[0.5,\"#f7f7f7\"],[0.6,\"#e6f5d0\"],[0.7,\"#b8e186\"],[0.8,\"#7fbc41\"],[0.9,\"#4d9221\"],[1,\"#276419\"]]},\"xaxis\":{\"gridcolor\":\"white\",\"linecolor\":\"white\",\"ticks\":\"\",\"title\":{\"standoff\":15},\"zerolinecolor\":\"white\",\"automargin\":true,\"zerolinewidth\":2},\"yaxis\":{\"gridcolor\":\"white\",\"linecolor\":\"white\",\"ticks\":\"\",\"title\":{\"standoff\":15},\"zerolinecolor\":\"white\",\"automargin\":true,\"zerolinewidth\":2},\"scene\":{\"xaxis\":{\"backgroundcolor\":\"#E5ECF6\",\"gridcolor\":\"white\",\"linecolor\":\"white\",\"showbackground\":true,\"ticks\":\"\",\"zerolinecolor\":\"white\",\"gridwidth\":2},\"yaxis\":{\"backgroundcolor\":\"#E5ECF6\",\"gridcolor\":\"white\",\"linecolor\":\"white\",\"showbackground\":true,\"ticks\":\"\",\"zerolinecolor\":\"white\",\"gridwidth\":2},\"zaxis\":{\"backgroundcolor\":\"#E5ECF6\",\"gridcolor\":\"white\",\"linecolor\":\"white\",\"showbackground\":true,\"ticks\":\"\",\"zerolinecolor\":\"white\",\"gridwidth\":2}},\"shapedefaults\":{\"line\":{\"color\":\"#2a3f5f\"}},\"annotationdefaults\":{\"arrowcolor\":\"#2a3f5f\",\"arrowhead\":0,\"arrowwidth\":1},\"geo\":{\"bgcolor\":\"white\",\"landcolor\":\"#E5ECF6\",\"subunitcolor\":\"white\",\"showland\":true,\"showlakes\":true,\"lakecolor\":\"white\"},\"title\":{\"x\":0.05},\"mapbox\":{\"style\":\"light\"}}},\"xaxis\":{\"anchor\":\"y\",\"domain\":[0.0,1.0],\"title\":{\"text\":\"MEETING_NAME\"}},\"yaxis\":{\"anchor\":\"x\",\"domain\":[0.0,1.0],\"title\":{\"text\":\"count\"}},\"legend\":{\"tracegroupgap\":0},\"margin\":{\"t\":60},\"barmode\":\"relative\"},                        {\"responsive\": true}                    ).then(function(){\n",
       "                            \n",
       "var gd = document.getElementById('f6b5b3e2-b196-4486-a740-37b292d374df');\n",
       "var x = new MutationObserver(function (mutations, observer) {{\n",
       "        var display = window.getComputedStyle(gd).display;\n",
       "        if (!display || display === 'none') {{\n",
       "            console.log([gd, 'removed!']);\n",
       "            Plotly.purge(gd);\n",
       "            observer.disconnect();\n",
       "        }}\n",
       "}});\n",
       "\n",
       "// Listen for the removal of the full notebook cells\n",
       "var notebookContainer = gd.closest('#notebook-container');\n",
       "if (notebookContainer) {{\n",
       "    x.observe(notebookContainer, {childList: true});\n",
       "}}\n",
       "\n",
       "// Listen for the clearing of the current output cell\n",
       "var outputEl = gd.closest('.output');\n",
       "if (outputEl) {{\n",
       "    x.observe(outputEl, {childList: true});\n",
       "}}\n",
       "\n",
       "                        })                };                });            </script>        </div>"
      ]
     },
     "metadata": {},
     "output_type": "display_data"
    }
   ],
   "source": [
    "# Plot the histogram of MEETING_NAME\n",
    "fig = px.histogram(df2, x='MEETING_NAME')\n",
    "fig.show()"
   ]
  },
  {
   "cell_type": "code",
   "execution_count": 22,
   "id": "b88cb169",
   "metadata": {},
   "outputs": [],
   "source": [
    "df2.to_csv('data/meeting notes clean.csv', index = False, encoding='utf_8_sig')"
   ]
  },
  {
   "cell_type": "code",
   "execution_count": null,
   "id": "84a2b01f",
   "metadata": {},
   "outputs": [],
   "source": []
  }
 ],
 "metadata": {
  "kernelspec": {
   "display_name": "Python 3 (ipykernel)",
   "language": "python",
   "name": "python3"
  },
  "language_info": {
   "codemirror_mode": {
    "name": "ipython",
    "version": 3
   },
   "file_extension": ".py",
   "mimetype": "text/x-python",
   "name": "python",
   "nbconvert_exporter": "python",
   "pygments_lexer": "ipython3",
   "version": "3.10.9"
  }
 },
 "nbformat": 4,
 "nbformat_minor": 5
}
