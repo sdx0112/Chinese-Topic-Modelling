{
 "cells": [
  {
   "cell_type": "markdown",
   "id": "c810f439",
   "metadata": {},
   "source": [
    "# Find emerging topics for Year 2023"
   ]
  },
  {
   "cell_type": "code",
   "execution_count": 1,
   "id": "b64dc28f",
   "metadata": {},
   "outputs": [],
   "source": [
    "import pandas as pd\n",
    "from collections import Counter"
   ]
  },
  {
   "cell_type": "markdown",
   "id": "e94a1b6a",
   "metadata": {},
   "source": [
    "## Load data with topics"
   ]
  },
  {
   "cell_type": "code",
   "execution_count": 2,
   "id": "75949308",
   "metadata": {},
   "outputs": [],
   "source": [
    "df = pd.read_csv('data/id_topics_all.csv', encoding='utf_8_sig')"
   ]
  },
  {
   "cell_type": "code",
   "execution_count": 3,
   "id": "6867bbce",
   "metadata": {},
   "outputs": [
    {
     "data": {
      "text/html": [
       "<div>\n",
       "<style scoped>\n",
       "    .dataframe tbody tr th:only-of-type {\n",
       "        vertical-align: middle;\n",
       "    }\n",
       "\n",
       "    .dataframe tbody tr th {\n",
       "        vertical-align: top;\n",
       "    }\n",
       "\n",
       "    .dataframe thead th {\n",
       "        text-align: right;\n",
       "    }\n",
       "</style>\n",
       "<table border=\"1\" class=\"dataframe\">\n",
       "  <thead>\n",
       "    <tr style=\"text-align: right;\">\n",
       "      <th></th>\n",
       "      <th>ID</th>\n",
       "      <th>RAW_CONTENT</th>\n",
       "      <th>MEETING_NAME</th>\n",
       "      <th>TITLE</th>\n",
       "      <th>PUBLISH_DATE</th>\n",
       "      <th>Year</th>\n",
       "      <th>TOPICS_ALL</th>\n",
       "    </tr>\n",
       "  </thead>\n",
       "  <tbody>\n",
       "    <tr>\n",
       "      <th>0</th>\n",
       "      <td>m-1608357555-1682084460</td>\n",
       "      <td>中共中央总书记、国家主席、中央军委主席、中央全面深化改革委员会主任习近平4月21日下午主...</td>\n",
       "      <td>中央全面深化改革会议</td>\n",
       "      <td>会议审议通过了关于强化企业科技创新主体地位的意见关于加强和改进国有经济管理有力支持中国式现代...</td>\n",
       "      <td>2023-04-21T21:41:00Z</td>\n",
       "      <td>2023</td>\n",
       "      <td>宏观 企业发展</td>\n",
       "    </tr>\n",
       "    <tr>\n",
       "      <th>1</th>\n",
       "      <td>m-158629831-1682664300</td>\n",
       "      <td>中共中央政治局4月28日召开会议，分析研究当前经济形势和经济工作。中共中央总书记习近平主...</td>\n",
       "      <td>政治局会议</td>\n",
       "      <td>分析研究当前经济形势和经济工作</td>\n",
       "      <td>2023-04-28T14:45:00Z</td>\n",
       "      <td>2023</td>\n",
       "      <td>企业发展 就业</td>\n",
       "    </tr>\n",
       "    <tr>\n",
       "      <th>2</th>\n",
       "      <td>m-704972677-1680162720</td>\n",
       "      <td>中共中央政治局3月30日召开会议，决定从今年4月开始，在全党自上而下分两批开展学习贯彻习...</td>\n",
       "      <td>政治局会议</td>\n",
       "      <td>决定从2023年4月开始在全党自上而下分两批开展学习贯彻习近平新时代中国特色社会主义思想主题...</td>\n",
       "      <td>2023-03-30T15:52:00Z</td>\n",
       "      <td>2023</td>\n",
       "      <td>宏观 企业发展 教育</td>\n",
       "    </tr>\n",
       "    <tr>\n",
       "      <th>3</th>\n",
       "      <td>m-248496144-1366366560</td>\n",
       "      <td>中共中央政治局4月19日召开会议，决定从今年下半年开始，用一年左右时间，在全党自上而下分...</td>\n",
       "      <td>政治局会议</td>\n",
       "      <td>研究部署在全党深入开展党的群众路线教育实践活动</td>\n",
       "      <td>2013-04-19T18:16:00Z</td>\n",
       "      <td>2013</td>\n",
       "      <td>教育 民生扶贫</td>\n",
       "    </tr>\n",
       "    <tr>\n",
       "      <th>4</th>\n",
       "      <td>m-1020277137-1469618520</td>\n",
       "      <td>李克强主持召开国务院常务会议\\n听取关于地方和部门推进重大项目落地审计情况汇报 完善奖惩机制...</td>\n",
       "      <td>国务院常委会</td>\n",
       "      <td>李克强主持召开国务院常务会议通过十三五国家科技创新专项规划 以创新型国家建设引领和支撑升级发...</td>\n",
       "      <td>2016-07-27T19:22:00Z</td>\n",
       "      <td>2016</td>\n",
       "      <td>能源 宏观 科技</td>\n",
       "    </tr>\n",
       "  </tbody>\n",
       "</table>\n",
       "</div>"
      ],
      "text/plain": [
       "                        ID                                        RAW_CONTENT  \\\n",
       "0  m-1608357555-1682084460  　　中共中央总书记、国家主席、中央军委主席、中央全面深化改革委员会主任习近平4月21日下午主...   \n",
       "1   m-158629831-1682664300  　　中共中央政治局4月28日召开会议，分析研究当前经济形势和经济工作。中共中央总书记习近平主...   \n",
       "2   m-704972677-1680162720  　　中共中央政治局3月30日召开会议，决定从今年4月开始，在全党自上而下分两批开展学习贯彻习...   \n",
       "3   m-248496144-1366366560  　　中共中央政治局4月19日召开会议，决定从今年下半年开始，用一年左右时间，在全党自上而下分...   \n",
       "4  m-1020277137-1469618520  李克强主持召开国务院常务会议\\n听取关于地方和部门推进重大项目落地审计情况汇报 完善奖惩机制...   \n",
       "\n",
       "  MEETING_NAME                                              TITLE  \\\n",
       "0   中央全面深化改革会议  会议审议通过了关于强化企业科技创新主体地位的意见关于加强和改进国有经济管理有力支持中国式现代...   \n",
       "1        政治局会议                                    分析研究当前经济形势和经济工作   \n",
       "2        政治局会议  决定从2023年4月开始在全党自上而下分两批开展学习贯彻习近平新时代中国特色社会主义思想主题...   \n",
       "3        政治局会议                            研究部署在全党深入开展党的群众路线教育实践活动   \n",
       "4       国务院常委会  李克强主持召开国务院常务会议通过十三五国家科技创新专项规划 以创新型国家建设引领和支撑升级发...   \n",
       "\n",
       "           PUBLISH_DATE  Year  TOPICS_ALL  \n",
       "0  2023-04-21T21:41:00Z  2023     宏观 企业发展  \n",
       "1  2023-04-28T14:45:00Z  2023     企业发展 就业  \n",
       "2  2023-03-30T15:52:00Z  2023  宏观 企业发展 教育  \n",
       "3  2013-04-19T18:16:00Z  2013     教育 民生扶贫  \n",
       "4  2016-07-27T19:22:00Z  2016    能源 宏观 科技  "
      ]
     },
     "execution_count": 3,
     "metadata": {},
     "output_type": "execute_result"
    }
   ],
   "source": [
    "df.head()"
   ]
  },
  {
   "cell_type": "code",
   "execution_count": 4,
   "id": "bfa9d4a6",
   "metadata": {},
   "outputs": [],
   "source": [
    "df['Year'] = df.apply({lambda row: row['PUBLISH_DATE'][:4]}, axis = 1)"
   ]
  },
  {
   "cell_type": "code",
   "execution_count": 5,
   "id": "cc3fc961",
   "metadata": {},
   "outputs": [
    {
     "data": {
      "text/plain": [
       "2016    69\n",
       "2020    65\n",
       "2019    63\n",
       "2018    60\n",
       "2021    59\n",
       "2017    58\n",
       "2022    50\n",
       "2015    32\n",
       "2014    21\n",
       "2013    14\n",
       "2023     9\n",
       "2012     5\n",
       "2011     3\n",
       "2010     3\n",
       "2009     3\n",
       "2008     3\n",
       "2006     3\n",
       "2003     3\n",
       "2007     2\n",
       "2005     2\n",
       "2004     2\n",
       "2002     1\n",
       "Name: Year, dtype: int64"
      ]
     },
     "execution_count": 5,
     "metadata": {},
     "output_type": "execute_result"
    }
   ],
   "source": [
    "df['Year'].value_counts()"
   ]
  },
  {
   "cell_type": "markdown",
   "id": "1c1d1808",
   "metadata": {},
   "source": [
    "## Count the topics for Year 2022 and Year 2023"
   ]
  },
  {
   "cell_type": "code",
   "execution_count": 6,
   "id": "fbb705d8",
   "metadata": {},
   "outputs": [],
   "source": [
    "def count_topics(df, year):\n",
    "    topics = df[df['Year'] == str(year)]['TOPICS_ALL'].tolist()\n",
    "    topic_list = []\n",
    "    for x in topics:\n",
    "        topic_list.extend(x.split(' '))\n",
    "    return Counter(topic_list)"
   ]
  },
  {
   "cell_type": "code",
   "execution_count": 7,
   "id": "6498e468",
   "metadata": {},
   "outputs": [],
   "source": [
    "topics_2023 = count_topics(df, 2023)\n",
    "topics_2022 = count_topics(df, 2022)"
   ]
  },
  {
   "cell_type": "markdown",
   "id": "3dbe52f8",
   "metadata": {},
   "source": [
    "## Compute the percentage of each topic and sort by the increase"
   ]
  },
  {
   "cell_type": "code",
   "execution_count": 8,
   "id": "bf565fd3",
   "metadata": {},
   "outputs": [],
   "source": [
    "notes_2023 = df[df['Year'] == '2023'].shape[0]"
   ]
  },
  {
   "cell_type": "code",
   "execution_count": 9,
   "id": "3bb7dea2",
   "metadata": {},
   "outputs": [],
   "source": [
    "notes_2022 = df[df['Year'] == '2022'].shape[0]"
   ]
  },
  {
   "cell_type": "code",
   "execution_count": 10,
   "id": "46378c92",
   "metadata": {},
   "outputs": [
    {
     "data": {
      "text/plain": [
       "(50, 9)"
      ]
     },
     "execution_count": 10,
     "metadata": {},
     "output_type": "execute_result"
    }
   ],
   "source": [
    "notes_2022, notes_2023"
   ]
  },
  {
   "cell_type": "code",
   "execution_count": 11,
   "id": "792c06fb",
   "metadata": {},
   "outputs": [],
   "source": [
    "emerging_topics_diff = {topic:freq/notes_2023 - (topics_2022.get(topic, 0)/notes_2022) for topic, freq in topics_2023.items() if freq/notes_2023 > topics_2022.get(topic, 0)/notes_2022}"
   ]
  },
  {
   "cell_type": "code",
   "execution_count": 12,
   "id": "f7a00011",
   "metadata": {},
   "outputs": [],
   "source": [
    "emerging_topics_sorted = dict(sorted(emerging_topics_diff.items(), key=lambda item: item[1], reverse=True))"
   ]
  },
  {
   "cell_type": "code",
   "execution_count": 13,
   "id": "4f855f48",
   "metadata": {},
   "outputs": [
    {
     "data": {
      "text/plain": [
       "{'企业发展': 0.47555555555555556,\n",
       " '就业': 0.15333333333333332,\n",
       " '区域发展': 0.11333333333333331,\n",
       " '出口贸易': 0.1111111111111111,\n",
       " '教育': 0.0711111111111111}"
      ]
     },
     "execution_count": 13,
     "metadata": {},
     "output_type": "execute_result"
    }
   ],
   "source": [
    "emerging_topics_sorted"
   ]
  },
  {
   "cell_type": "code",
   "execution_count": 14,
   "id": "e9972956",
   "metadata": {},
   "outputs": [
    {
     "data": {
      "text/plain": [
       "['企业发展', '就业', '区域发展']"
      ]
     },
     "execution_count": 14,
     "metadata": {},
     "output_type": "execute_result"
    }
   ],
   "source": [
    "sorted(emerging_topics_sorted, key=lambda k: emerging_topics_sorted[k], reverse=True)[:3]"
   ]
  },
  {
   "cell_type": "code",
   "execution_count": null,
   "id": "b17c2668",
   "metadata": {},
   "outputs": [],
   "source": []
  }
 ],
 "metadata": {
  "kernelspec": {
   "display_name": "Python 3 (ipykernel)",
   "language": "python",
   "name": "python3"
  },
  "language_info": {
   "codemirror_mode": {
    "name": "ipython",
    "version": 3
   },
   "file_extension": ".py",
   "mimetype": "text/x-python",
   "name": "python",
   "nbconvert_exporter": "python",
   "pygments_lexer": "ipython3",
   "version": "3.10.9"
  }
 },
 "nbformat": 4,
 "nbformat_minor": 5
}
